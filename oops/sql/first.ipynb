{
 "cells": [
  {
   "cell_type": "code",
   "execution_count": 4,
   "metadata": {},
   "outputs": [],
   "source": [
    "import sqlite3 as sq\n",
    "# db=sq.connect(\"employee.db\")\n",
    "# print(db)\n",
    "# cus=db.cursor()\n",
    "# print(cus)\n",
    "# cus.execute(\"create table employee(id int,name varchar(20))\")\n",
    "# # cus.executemany(\"create table employee(id int,name varchar(20))\")\n",
    "# cus.fetchall()\n",
    "\n",
    "\n"
   ]
  },
  {
   "cell_type": "code",
   "execution_count": 2,
   "metadata": {},
   "outputs": [],
   "source": [
    "import sqlite3 as sq\n",
    "db=sq.connect(\"student.sqlite3\")\n",
    "cur=db.cursor()"
   ]
  },
  {
   "cell_type": "code",
   "execution_count": 3,
   "metadata": {},
   "outputs": [
    {
     "name": "stdout",
     "output_type": "stream",
     "text": [
      "-1 rows affected\n"
     ]
    }
   ],
   "source": [
    "query='''create table student(sid int primarykey,name varchar(20),age int,email varchar(30) unique,phone Bigint unique,address vaerchar(100),marks int)'''\n",
    "cur.execute(query)\n",
    "print(cur.rowcount,\"heading column created\")\n",
    "# db.close()"
   ]
  },
  {
   "cell_type": "code",
   "execution_count": 4,
   "metadata": {},
   "outputs": [
    {
     "name": "stdout",
     "output_type": "stream",
     "text": [
      "1 row created\n"
     ]
    }
   ],
   "source": [
    "def insert_record(sid,name, age, email, phone, address, marks):\n",
    "    query = '''insert into student(sid,name,age,email,phone,address,marks)\n",
    "    values (?,?,?,?,?,?,?)'''\n",
    "    val = [sid, name, age, email, phone, address, marks]\n",
    "    cur.execute (query, val)\n",
    "    print(cur.rowcount,\"row created\")\n",
    "    db.commit()\n",
    "insert_record(int(input(\"enter stid\")),\n",
    "              input(\"enter name\"),\n",
    "              int(input(\"enter age\")),\n",
    "              input(\"enter email\"),\n",
    "              int(input(\"enter phone\")),\n",
    "              input(\"enter address\"),\n",
    "              int(input(\"enter marks\")))"
   ]
  },
  {
   "cell_type": "code",
   "execution_count": 35,
   "metadata": {},
   "outputs": [],
   "source": [
    "def fetch_record():\n",
    "    query='''select * from student'''\n",
    "    cur.execute(query)\n",
    "    details=cur.fetchall()\n",
    "    for i in details:\n",
    "        print(i)\n",
    "fetch_record()"
   ]
  },
  {
   "cell_type": "code",
   "execution_count": 31,
   "metadata": {},
   "outputs": [
    {
     "name": "stdout",
     "output_type": "stream",
     "text": [
      "1 the values are updated\n"
     ]
    }
   ],
   "source": [
    "def update_record(sid,phone,name):\n",
    "    query='''update student set phone=?,name=? where sid=?'''\n",
    "    val =[phone,name,sid]\n",
    "    cur.execute(query,val)\n",
    "    print(cur.rowcount,\"the values are updated\")\n",
    "    db.commit()\n",
    "\n",
    "update_record(int(input(\"enter sid\")),int(input(\"enter phone\")),input(\"enter name\"))"
   ]
  },
  {
   "cell_type": "code",
   "execution_count": 34,
   "metadata": {},
   "outputs": [
    {
     "name": "stdout",
     "output_type": "stream",
     "text": [
      "1 the values are deleted\n"
     ]
    }
   ],
   "source": [
    "def delete_record(sid):\n",
    "    query='''delete  from student where sid=?'''\n",
    "    val=[sid]\n",
    "    cur.execute(query,val)\n",
    "    print(cur.rowcount,\"the values are deleted\")\n",
    "    db.commit()\n",
    "delete_record(int(input(\"enter sid\")))\n"
   ]
  }
 ],
 "metadata": {
  "kernelspec": {
   "display_name": "Python 3",
   "language": "python",
   "name": "python3"
  },
  "language_info": {
   "codemirror_mode": {
    "name": "ipython",
    "version": 3
   },
   "file_extension": ".py",
   "mimetype": "text/x-python",
   "name": "python",
   "nbconvert_exporter": "python",
   "pygments_lexer": "ipython3",
   "version": "3.11.6"
  }
 },
 "nbformat": 4,
 "nbformat_minor": 2
}
