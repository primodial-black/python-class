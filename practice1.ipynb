{
 "cells": [
  {
   "cell_type": "code",
   "execution_count": null,
   "metadata": {},
   "outputs": [],
   "source": [
    "#wap to do sumof the digits in given no and final reslut is prime or not\n",
    "n=134\n",
    "sum=0\n",
    "while n:\n",
    "    lastdigit=n%10\n",
    "    sum+=lastdigit    \n",
    "    n=n//10\n",
    "print(sum)\n",
    "i=1\n",
    "count=0\n",
    "while i<=sum:\n",
    "    if sum%i==0:\n",
    "        count+=1\n",
    "    i+=1\n",
    "if count==2:\n",
    "    print('prime number')\n",
    "else:\n",
    "    print('not a prime number')"
   ]
  },
  {
   "cell_type": "code",
   "execution_count": 11,
   "metadata": {},
   "outputs": [
    {
     "name": "stdout",
     "output_type": "stream",
     "text": [
      "945\n"
     ]
    }
   ],
   "source": [
    "#wap for sum of odd values from 25 to 65\n",
    "m=25\n",
    "n=65\n",
    "sum=0\n",
    "while m<=n:\n",
    "    if m%2!=0:\n",
    "        sum+=m\n",
    "    m+=1\n",
    "print(sum)\n",
    "    "
   ]
  },
  {
   "cell_type": "code",
   "execution_count": 10,
   "metadata": {},
   "outputs": [
    {
     "name": "stdout",
     "output_type": "stream",
     "text": [
      "1 ---> 1\n",
      "2 ---> 2\n",
      "3 ---> 6\n",
      "4 ---> 24\n",
      "5 ---> 120\n",
      "6 ---> 720\n",
      "7 ---> 5040\n",
      "8 ---> 40320\n",
      "9 ---> 362880\n",
      "10 ---> 3628800\n"
     ]
    }
   ],
   "source": [
    "#factorial for1 to n\n",
    "n=1\n",
    "m=10\n",
    "while n<=m:\n",
    "    i=1\n",
    "    p=1\n",
    "    while i<=n:\n",
    "        p*=i\n",
    "        i+=1\n",
    "    print(n,\"--->\",p)\n",
    "    n+=1\n",
    "    "
   ]
  },
  {
   "cell_type": "code",
   "execution_count": 1,
   "metadata": {},
   "outputs": [
    {
     "name": "stdout",
     "output_type": "stream",
     "text": [
      "[0, 1, 2, 3, 5, 8, 13, 21, 34, 55, 89]\n"
     ]
    }
   ],
   "source": [
    "a=0\n",
    "b=1                 #fibonocci in list\n",
    "i=1\n",
    "list1=[a]\n",
    "while i<=10:\n",
    "    c=a+b\n",
    "    list1.append(c)\n",
    "    a,b=b,c\n",
    "    i+=1\n",
    "print(list1)"
   ]
  },
  {
   "cell_type": "code",
   "execution_count": 3,
   "metadata": {},
   "outputs": [
    {
     "name": "stdout",
     "output_type": "stream",
     "text": [
      "[1, 2, 3, 5, 7, 11, 13, 17, 19, 23, 29, 31, 37, 41, 43, 47]\n"
     ]
    }
   ],
   "source": [
    "m=1\n",
    "n=50             #prime  in list\n",
    "list=[]\n",
    "while m<=n:\n",
    "    i=2\n",
    "    count=0\n",
    "    while i<m:\n",
    "        if(m%i==0):\n",
    "            count+=1\n",
    "        i+=1\n",
    "    if count==0:\n",
    "        list.append(m)\n",
    "        \n",
    "    m+=1\n",
    "print(list)"
   ]
  },
  {
   "cell_type": "code",
   "execution_count": null,
   "metadata": {},
   "outputs": [],
   "source": [
    "#32\n",
    "def is_prime(n):\n",
    "    if n <= 1:\n",
    "        return False\n",
    "    for i in range(2, int(n**0.5) + 1):\n",
    "        if n % i == 0:\n",
    "            return False\n",
    "    return True\n",
    "def fibonacci(limit):\n",
    "    sequence = [1, 1]\n",
    "    while sequence[-1] + sequence[-2] <= limit:\n",
    "        sequence.append(sequence[-1] + sequence[-2])\n",
    "    return sequence\n",
    "limit = 100\n",
    "fib_sequence = fibonacci(limit)\n",
    "\n",
    "prime_numbers = []\n",
    "for num in fib_sequence:\n",
    "    if is_prime(num):\n",
    "        prime_numbers.append(num)\n",
    "\n",
    "print(prime_numbers)"
   ]
  },
  {
   "cell_type": "code",
   "execution_count": 9,
   "metadata": {},
   "outputs": [
    {
     "name": "stdout",
     "output_type": "stream",
     "text": [
      "invalid email id\n"
     ]
    }
   ],
   "source": [
    "st='PYSPIde12r@gmail.co.edu'\n",
    "i=0\n",
    "temp=0\n",
    "while i<len(st):\n",
    "    if not('A'<=st[i]<='Z' or 'a'<=st[i]<='z' or '0'<=st[i]<='9' or st in '@.'):\n",
    "        temp+=1\n",
    "    i+=1\n",
    "if temp==0:\n",
    "    if '@' and '.' in st:\n",
    "        start=0\n",
    "        pos=None\n",
    "        count=0\n",
    "        while start<len(st):\n",
    "            if '@'==st[start]:\n",
    "                pos=start\n",
    "                count+=1\n",
    "            start+=1\n",
    "        if count==1:\n",
    "            print(pos)\n",
    "            if '.' in st[pos:]:\n",
    "                count1=0\n",
    "                x=pos\n",
    "                while x<len(st):  \n",
    "                    if '.'==st[x]: \n",
    "                        count1+=1\n",
    "                    x+=1 \n",
    "                if 1<=count1<=2:\n",
    "                    print(\"valid\")\n",
    "                else:\n",
    "                    print(\"invalid email id\")\n",
    "            else:\n",
    "                print(\"invalid email id\")\n",
    "        else:\n",
    "            print(\"invalid email id\")\n",
    "    else:\n",
    "        print(\"invalid\")   \n",
    "else:\n",
    "    print(\"invalid email id\")   \n",
    "                        \n",
    "                    "
   ]
  }
 ],
 "metadata": {
  "kernelspec": {
   "display_name": "Python 3",
   "language": "python",
   "name": "python3"
  },
  "language_info": {
   "codemirror_mode": {
    "name": "ipython",
    "version": 3
   },
   "file_extension": ".py",
   "mimetype": "text/x-python",
   "name": "python",
   "nbconvert_exporter": "python",
   "pygments_lexer": "ipython3",
   "version": "3.10.11"
  },
  "orig_nbformat": 4
 },
 "nbformat": 4,
 "nbformat_minor": 2
}
