{
 "cells": [
  {
   "cell_type": "code",
   "execution_count": null,
   "metadata": {},
   "outputs": [],
   "source": [
    "st=\"hello World123ABC @#$XYZ IJKL\"\n",
    "print(st.title())\n",
    "def u_titlecase(coll):\n",
    "    res=\"\"\n",
    "    if \"a\"<=coll[0]<=\"z\":\n",
    "        res+=chr(ord(coll[0])-32)\n",
    "    elif \"A\"<=coll[0]<=\"Z\":\n",
    "        res+=coll[0]\n",
    "    for i in range(1,len(coll)):\n",
    "        if (\"A\"<=coll[i]<=\"Z\" or \"a\"<=coll[i]<=\"z\") and not(\"A\"<=coll[i-1]<=\"Z\" or \"a\"<=coll[i-1]<=\"z\"):\n",
    "            res+=coll[i].upper()\n",
    "        elif (\"A\"<=coll[i]<=\"Z\"):\n",
    "            res+=coll[i].lower()\n",
    "        else:\n",
    "            res+=coll[i]   \n",
    "    return res\n",
    "\n",
    "print(u_titlecase(st))"
   ]
  },
  {
   "cell_type": "code",
   "execution_count": 44,
   "metadata": {},
   "outputs": [
    {
     "name": "stdout",
     "output_type": "stream",
     "text": [
      "///abc////\n",
      "***abc****\n"
     ]
    }
   ],
   "source": [
    "#center()\n",
    "st=\"abc\"\n",
    "res=st.center(10,\"/\")\n",
    "print(res)\n",
    "def u_center(coll,width,fillchar=\"\"):\n",
    "    res=width-len(coll)\n",
    "    l=res//2\n",
    "    r=res-l\n",
    "    res=fillchar*l+coll+fillchar*r\n",
    "    return res\n",
    "print(u_center(st,10,\"*\"))"
   ]
  },
  {
   "cell_type": "code",
   "execution_count": null,
   "metadata": {},
   "outputs": [],
   "source": [
    "#isupper"
   ]
  },
  {
   "cell_type": "code",
   "execution_count": null,
   "metadata": {},
   "outputs": [],
   "source": [
    "#istitle()\n",
    "st=\"hello World123Abc @#$Xyz\"\n",
    "def u_istitle(coll):\n",
    "    if \"a\"<=coll[0]<=\"z\":\n",
    "        return False\n",
    "    for i in range(len(coll)):\n",
    "        if not(\"A\"<=coll[i]<=\"Z\" or \"a\"<=coll[i]<=\"z\"):\n",
    "            if \"a\"<=coll[i+1]<=\"z\":\n",
    "                return False\n",
    "    return True\n",
    "u_istitle(st)"
   ]
  },
  {
   "cell_type": "code",
   "execution_count": null,
   "metadata": {},
   "outputs": [],
   "source": [
    "st=\"fklnsdjJHDUDN\"\n",
    "#swapcase\n",
    "def swapcase(coll):\n",
    "    res=\"\"\n",
    "    for i in coll:\n",
    "        if \"a\"<=i<=\"z\":\n",
    "            res+=chr(ord(i)-32)\n",
    "        else:\n",
    "            res+=chr(ord(i)+32)\n",
    "    return res\n",
    "swapcase(st)"
   ]
  },
  {
   "cell_type": "code",
   "execution_count": null,
   "metadata": {},
   "outputs": [],
   "source": [
    "#isalpha\n",
    "st=\"HELL2545vOWORLD\"\n",
    "def u_alpha(coll):\n",
    "    for i in coll:\n",
    "        if not(\"A\"<=i<=\"Z\" or \"a\"<=i<=\"z\"):\n",
    "            return False\n",
    "        else:\n",
    "            return True\n",
    "u_alpha(st)"
   ]
  },
  {
   "cell_type": "code",
   "execution_count": null,
   "metadata": {},
   "outputs": [],
   "source": [
    "#upper\n",
    "st=\"dkdsjvndfjnvn\"\n",
    "def upper(coll):\n",
    "    res=\"\"\n",
    "    for i in coll:\n",
    "        if \"a\"<=i<=\"z\":\n",
    "            res+=chr(ord(i)-32)\n",
    "        else:\n",
    "            res+=i\n",
    "    return res\n",
    "upper(st)"
   ]
  },
  {
   "cell_type": "code",
   "execution_count": null,
   "metadata": {},
   "outputs": [],
   "source": [
    "#lower\n",
    "st=\"DSFVSJOEJIDFJVD\"\n",
    "def lower(coll):\n",
    "    res=\"\"\n",
    "    for i in coll:\n",
    "        if \"a\"<=i<=\"z\":\n",
    "            res+=chr(ord(i)+32)\n",
    "        else:\n",
    "            res+=i\n",
    "    return res\n",
    "lower(st)"
   ]
  },
  {
   "cell_type": "code",
   "execution_count": null,
   "metadata": {},
   "outputs": [],
   "source": [
    "#join()\n",
    "s=[\"f\",\"dsf\",\"sfsdf\",\"dfsd\"]\n",
    "def join(coll,sep=\"\"):\n",
    "    for i in coll:\n",
    "        if type(i) != str:\n",
    "            return False\n",
    "    res=\"\"\n",
    "    for i in coll:\n",
    "        res+=i+sep\n",
    "    if sep==\"\":\n",
    "        return res\n",
    "    else:\n",
    "        return res[:-(len(sep)):]\n",
    "    \n",
    "join(s,\"\")"
   ]
  },
  {
   "cell_type": "code",
   "execution_count": null,
   "metadata": {},
   "outputs": [],
   "source": [
    "#\"     \".isspace()\n",
    "st=\"   \"\n",
    "def isspace(coll):\n",
    "    count=0\n",
    "    for i in coll:\n",
    "        if i!=\" \":\n",
    "            count+=1\n",
    "    if count==0:\n",
    "        return True\n",
    "    else:\n",
    "        return False\n",
    "isspace(st)"
   ]
  },
  {
   "cell_type": "code",
   "execution_count": null,
   "metadata": {},
   "outputs": [],
   "source": [
    "#iscount()\n",
    "st=\"helloworld\"\n",
    "#st.count(\"l\")\n",
    "def u_count(coll,ele,start=0,end=None):\n",
    "    if end==None:\n",
    "        end=len(coll)\n",
    "    count=0\n",
    "    for i in range(start,end):\n",
    "        if coll[i]==ele:\n",
    "            count+=1\n",
    "    return count\n",
    "u_count(st,\"o\")\n",
    "    \n"
   ]
  },
  {
   "cell_type": "code",
   "execution_count": null,
   "metadata": {},
   "outputs": [],
   "source": [
    "#find()\n",
    "st=\"helloworld\"\n",
    "def u_find(coll,ele,start=0,end=None):\n",
    "    if end==None:\n",
    "        end=len(coll)\n",
    "    if ele not in coll:\n",
    "        return -1\n",
    "    while start<end:\n",
    "        if ele==coll[start]:\n",
    "            return start\n",
    "        start+=1\n",
    "    return -1\n",
    "u_find(st,\"l\")\n",
    "    "
   ]
  },
  {
   "cell_type": "code",
   "execution_count": 1,
   "metadata": {},
   "outputs": [
    {
     "data": {
      "text/plain": [
       "2"
      ]
     },
     "execution_count": 1,
     "metadata": {},
     "output_type": "execute_result"
    }
   ],
   "source": [
    "#index()\n",
    "st=\"helloworld\"\n",
    "def u_index(coll,ele,start=0,end=None):\n",
    "    if end==None:\n",
    "        end=len(coll)\n",
    "    if ele not in coll[start:end]:\n",
    "        return \"value error\"\n",
    "    while start<end:\n",
    "        if ele==coll[start]:\n",
    "            return start\n",
    "        start+=1\n",
    "u_index(st,\"l\")"
   ]
  },
  {
   "cell_type": "code",
   "execution_count": null,
   "metadata": {},
   "outputs": [],
   "source": [
    "st=\" hello world  welcome to pys \"\n",
    "st.split()"
   ]
  },
  {
   "cell_type": "code",
   "execution_count": 39,
   "metadata": {},
   "outputs": [
    {
     "data": {
      "text/plain": [
       "['hello', 'world', 'welcome', 'to', 'pys']"
      ]
     },
     "execution_count": 39,
     "metadata": {},
     "output_type": "execute_result"
    }
   ],
   "source": [
    "#split()\n",
    "st=\" hello world  welcome to pys \"\n",
    "def split(coll,ele=\" \",maxsplit=2):\n",
    "    l=[]\n",
    "    r=\"\"\n",
    "    for i in range(len(coll)):\n",
    "        if coll[i]!=ele:\n",
    "            r+=coll[i]\n",
    "        else:\n",
    "            if len(r)!=0:\n",
    "                l+=[r]\n",
    "            r=\"\" \n",
    "            # if maxsplit==len(l):\n",
    "            #     l+=[r[i-1:]]\n",
    "    if len(r)!=0:\n",
    "        l+=[r]  \n",
    "    return l\n",
    "split(st,\" \",2)\n",
    "    "
   ]
  },
  {
   "cell_type": "code",
   "execution_count": null,
   "metadata": {},
   "outputs": [],
   "source": [
    "#startswith\n",
    "st=\"haii hello world\"\n",
    "def startswith(coll,sub):\n",
    "        if sub==coll[:len(sub)]:\n",
    "            return True\n",
    "        else:\n",
    "            return False\n",
    "startswith(st,\"haii\")\n",
    "    "
   ]
  },
  {
   "cell_type": "code",
   "execution_count": null,
   "metadata": {},
   "outputs": [],
   "source": [
    "#endswith\n",
    "st=\"helloworld haii\"\n",
    "def endswith(coll,sub,start=0,end=None):\n",
    "    if end==None:\n",
    "        end=len(coll)\n",
    "    st=\"\"\n",
    "    while start<end:\n",
    "        st+=coll[start]\n",
    "    i=len(st)-len(sub)\n",
    "    ref=\"\"\n",
    "    while i<len(res):\n",
    "        ref+=res[i]\n",
    "        i+=1\n",
    "        return (ref==sub)\n",
    "endswith(st,\"world\",0,10)\n",
    "    "
   ]
  },
  {
   "cell_type": "code",
   "execution_count": null,
   "metadata": {},
   "outputs": [],
   "source": [
    "#single letter\n",
    "st=\"sunday is a mass day\"\n",
    "def u_replace(coll,old,new,count=None):\n",
    "    if count==None:\n",
    "        count=len(coll)\n",
    "    co=0\n",
    "    res=\"\"\n",
    "    for i in coll:\n",
    "        if i==old and co<count:\n",
    "            res+=new\n",
    "            co+=1\n",
    "        else:\n",
    "            res+=i\n",
    "    return res,co\n",
    "u_replace(st,\"s\",\"S\",3)\n",
    "        "
   ]
  },
  {
   "cell_type": "code",
   "execution_count": null,
   "metadata": {},
   "outputs": [],
   "source": [
    "st=\"sunday is a mass day sunday is a holiday sun\"\n",
    "def occur_ofsubstr(coll,old,new,occur):\n",
    "    count=0\n",
    "    start=0\n",
    "    while start<len(coll):\n",
    "        if old==coll[start:start+len(old)]:\n",
    "            count+=1\n",
    "            if count==occur:\n",
    "                coll=coll[0:start]+new+coll[start+len(old):]\n",
    "        start+=1\n",
    "    return coll\n",
    "occur_ofsubstr(st,\"sun\",\"mon\",3)\n",
    "    "
   ]
  },
  {
   "cell_type": "code",
   "execution_count": null,
   "metadata": {},
   "outputs": [],
   "source": [
    "st=\"sunday is a mass day sunday is a holiday sun\"\n",
    "new=\"wednes\"\n",
    "res=\"\"\n",
    "start=0\n",
    "sp1=21\n",
    "sp2=24\n",
    "while start<len(st)+len(new)-2:\n",
    "    if start<sp1:\n",
    "        res+=st[start]\n",
    "    elif sp1<=start<sp2:\n",
    "        res+=new\n",
    "        start+=len(new)\n",
    "    elif sp2<=len(st):\n",
    "        res+=st[sp2]\n",
    "        sp2+=1\n",
    "    start+=1\n",
    "    \n",
    "print(res)"
   ]
  },
  {
   "cell_type": "code",
   "execution_count": null,
   "metadata": {},
   "outputs": [],
   "source": [
    "st=\"sunday is a mass day sunday is a holiday sun\"\n",
    "new=\"mon\"\n",
    "res=\"\"\n",
    "start=0\n",
    "sp1=21\n",
    "sp2=24\n",
    "while start<len(st):\n",
    "    if start<sp1:\n",
    "        res+=st[start]\n",
    "    elif sp1==start<sp2:\n",
    "        res+=new\n",
    "        start+=len(new)-1\n",
    "    else:\n",
    "        res+=st[start]\n",
    "    start+=1\n",
    "print(res)"
   ]
  },
  {
   "cell_type": "code",
   "execution_count": null,
   "metadata": {},
   "outputs": [],
   "source": [
    "#removeprefix\n",
    "st=\"hello world\"\n",
    "\n",
    "print(st.removeprefix(\"hel\"))\n",
    "\n",
    "\n",
    "def u_removeprefix(coll,ele):\n",
    "    if ele not in coll[:len(ele)]:\n",
    "        return coll\n",
    "    return coll[len(ele):]\n",
    "u_removeprefix(st,\"hel\")"
   ]
  },
  {
   "cell_type": "code",
   "execution_count": null,
   "metadata": {},
   "outputs": [],
   "source": [
    "#remove prefix without slicing\n",
    "st=\"hello world\"\n",
    "def u_removeprefix(coll,ele):\n",
    "    if ele not in coll[:len(ele):]:\n",
    "        return coll\n",
    "    res=\"\"\n",
    "    i=len(ele)\n",
    "    while i<len(coll):\n",
    "        res+=coll[i]\n",
    "        i+=1\n",
    "    return res\n",
    "u_removeprefix(st,\"hel\")"
   ]
  },
  {
   "cell_type": "code",
   "execution_count": null,
   "metadata": {},
   "outputs": [],
   "source": [
    "#removesufix\n",
    "t=\"hello world\"\n",
    "def u_removesufix(coll,ele):\n",
    "    if ele not in coll[len(coll)-len(ele):]:\n",
    "        return coll\n",
    "    return coll[0:len(coll)-len(ele)]\n",
    "u_removesufix(st,\"rld\")"
   ]
  },
  {
   "cell_type": "code",
   "execution_count": 27,
   "metadata": {},
   "outputs": [
    {
     "data": {
      "text/plain": [
       "'hhhhhhdsvhhhh@@@\\n\\n\\n\\n hello world'"
      ]
     },
     "execution_count": 27,
     "metadata": {},
     "output_type": "execute_result"
    }
   ],
   "source": [
    "#removesufix without slicing\n",
    "st=\"hhhhhhdsvhhhh@@@\\n\\n\\n\\n hello world\"\n",
    "def u_removesufix(coll,ele):\n",
    "    if ele not in coll[len(coll)-len(ele):]:\n",
    "        return coll\n",
    "    res=\"\"\n",
    "    i=0\n",
    "    while i<len(coll)-len(ele):\n",
    "        res+=coll[i]\n",
    "        i+=1\n",
    "    return res\n",
    "u_removesufix(st,\"hds\")"
   ]
  },
  {
   "cell_type": "code",
   "execution_count": 29,
   "metadata": {},
   "outputs": [
    {
     "data": {
      "text/plain": [
       "'hhhhhhdsvhhhh@@@\\n\\n\\n\\n hello world'"
      ]
     },
     "execution_count": 29,
     "metadata": {},
     "output_type": "execute_result"
    }
   ],
   "source": [
    "st=\"hhhhhhdsvhhhh@@@\\n\\n\\n\\n hello world\"\n",
    "st.lstrip(\"hds\")\n"
   ]
  },
  {
   "cell_type": "code",
   "execution_count": 34,
   "metadata": {},
   "outputs": [
    {
     "data": {
      "text/plain": [
       "'hhhhhhdsvhhhh@@@\\n\\n\\n\\n hello world'"
      ]
     },
     "execution_count": 34,
     "metadata": {},
     "output_type": "execute_result"
    }
   ],
   "source": [
    "st=\"hhhhhhdsvhhhh@@@\\n\\n\\n\\n hello world\"\n",
    "def u_lstrip(coll,ele=[\" \",\"\\n\",\"\\f\",\"\\r\",\"\\t\"]):\n",
    "    res=\"\"\n",
    "    for i in range(0,len(coll)):\n",
    "        if coll[i] in ele:\n",
    "            res+=\"\"\n",
    "        else:\n",
    "            res+=coll[i:]\n",
    "            break\n",
    "    return res\n",
    "u_lstrip(st)"
   ]
  },
  {
   "cell_type": "code",
   "execution_count": 3,
   "metadata": {},
   "outputs": [
    {
     "data": {
      "text/plain": [
       "'        hhhhhhdsvhhhh@@@\\n\\n\\n\\n hello world'"
      ]
     },
     "execution_count": 3,
     "metadata": {},
     "output_type": "execute_result"
    }
   ],
   "source": [
    "st=\"        hhhhhhdsvhhhh@@@\\n\\n\\n\\n hello world \\n\\n\\n\\n      \"\n",
    "def u_rstrip(coll,ele=[\" \",\"\\n\",\"\\f\",\"\\r\",\"\\t\"]):\n",
    "    res=\"\"\n",
    "    for i in range(len(coll)-1,-1,-1):\n",
    "        if coll[i] in ele:\n",
    "            res+=\"\"\n",
    "        else:\n",
    "            res+=coll[:i+1]\n",
    "            break\n",
    "    return res\n",
    "u_rstrip(st)"
   ]
  },
  {
   "cell_type": "code",
   "execution_count": 38,
   "metadata": {},
   "outputs": [
    {
     "data": {
      "text/plain": [
       "'hhhhhhdsvhhhh@@@\\n\\n\\n\\n hello world \\n\\n\\n\\n'"
      ]
     },
     "execution_count": 38,
     "metadata": {},
     "output_type": "execute_result"
    }
   ],
   "source": [
    "st=\"        hhhhhhdsvhhhh@@@\\n\\n\\n\\n hello world \\n\\n\\n\\n      \"\n",
    "def u_lstrip(coll,ele=[\" \",\"\\n\",\"\\f\",\"\\r\",\"\\t\"]):\n",
    "    res=\"\"\n",
    "    for i in range(0,len(coll)):\n",
    "        if coll[i] in ele:\n",
    "            res+=\"\"\n",
    "        else:\n",
    "            res+=coll[i:]\n",
    "            break\n",
    "    return res\n",
    "u_lstrip(st)\n",
    "\n",
    "def u_rstrip(coll,ele=[\" \",\"\\n\",\"\\f\",\"\\r\",\"\\t\"]):\n",
    "    res=\"\"\n",
    "    for i in range(len(coll)-1,-1,-1):\n",
    "        if coll[i] in ele:\n",
    "            res+=\"\"\n",
    "        else:\n",
    "            res+=coll[:i+1]\n",
    "            break\n",
    "    return res\n",
    "u_rstrip(st)\n",
    "\n",
    "\n",
    "def u_strip(coll,ele=[\" \",\"\\n\",\"\\f\",\"\\r\",\"\\t\"]):\n",
    "    temp=u_lstrip(coll,ele)\n",
    "    res=u_rstrip(temp,ele)\n",
    "    return res\n",
    "u_strip(st,\" \")"
   ]
  }
 ],
 "metadata": {
  "kernelspec": {
   "display_name": "Python 3",
   "language": "python",
   "name": "python3"
  },
  "language_info": {
   "codemirror_mode": {
    "name": "ipython",
    "version": 3
   },
   "file_extension": ".py",
   "mimetype": "text/x-python",
   "name": "python",
   "nbconvert_exporter": "python",
   "pygments_lexer": "ipython3",
   "version": "3.11.6"
  },
  "orig_nbformat": 4
 },
 "nbformat": 4,
 "nbformat_minor": 2
}
