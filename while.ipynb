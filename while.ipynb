{
 "cells": [
  {
   "cell_type": "code",
   "execution_count": null,
   "metadata": {},
   "outputs": [],
   "source": [
    "#1)WAP to print the \"hello world\" for 5 times by uiing a while loop.\n",
    "a=1\n",
    "while a<=5:\n",
    "    print(\"hello world\")\n",
    "    a+=1"
   ]
  },
  {
   "cell_type": "code",
   "execution_count": null,
   "metadata": {},
   "outputs": [],
   "source": [
    "#2)WAP to print the number from I to 1O by using a while loop.\n",
    "a=1\n",
    "while a<=10:\n",
    "    print(a)\n",
    "    a+=1"
   ]
  },
  {
   "cell_type": "code",
   "execution_count": null,
   "metadata": {},
   "outputs": [],
   "source": [
    "#3)WAP to print the natural number I to nth tames by using a while loop. \n",
    "a=1\n",
    "b=int(input(\"enter nth number\"))\n",
    "while a<=b:\n",
    "    print(a)\n",
    "    a+=1"
   ]
  },
  {
   "cell_type": "code",
   "execution_count": null,
   "metadata": {},
   "outputs": [],
   "source": [
    "#WAP to print the reverse of the natural number nth to O times by using a While loop.\n",
    "start=int(input(\"enter nth numer\"))\n",
    "end=1\n",
    "while start>=end:\n",
    "    print(start)\n",
    "    start-=1\n",
    "    "
   ]
  },
  {
   "cell_type": "code",
   "execution_count": null,
   "metadata": {},
   "outputs": [],
   "source": [
    "#5)WAP to print the whole number until nth time by using a while loop.\n",
    "start=0\n",
    "end=int(input(\"enter nth numer\"))\n",
    "while start<=end:\n",
    "    print(start)\n",
    "    start+=1\n"
   ]
  },
  {
   "cell_type": "code",
   "execution_count": null,
   "metadata": {},
   "outputs": [],
   "source": [
    "#6)WAP to print the reverse of the whole number until nth times by using a While loop.\n",
    "start=int(input(\"enter nth numer\"))\n",
    "end=0\n",
    "while start>=end:\n",
    "    print(start)\n",
    "    start-=1"
   ]
  },
  {
   "cell_type": "code",
   "execution_count": null,
   "metadata": {},
   "outputs": [],
   "source": [
    "#7)WAP to print the even number until nth times by using a while loop.\n",
    "start=1\n",
    "end=int(input(\"enter nth numer\"))\n",
    "while start<=end:\n",
    "    if start%2==0:\n",
    "        print(start)\n",
    "    start+=1\n"
   ]
  },
  {
   "cell_type": "code",
   "execution_count": null,
   "metadata": {},
   "outputs": [],
   "source": [
    "#8)WAP to print reserve the even number until nthtimes by using While loop.\n",
    "start=int(input(\"enter nth numer\"))\n",
    "end=1\n",
    "while start>=end:\n",
    "    if start%2==0:\n",
    "        print(start)\n",
    "    start-=1"
   ]
  },
  {
   "cell_type": "code",
   "execution_count": null,
   "metadata": {},
   "outputs": [],
   "source": [
    "#9)WAP to print the odd number until nth times by using while loop.\n",
    "start=1\n",
    "end=int(input(\"enter nth numer\"))\n",
    "while start<=end:\n",
    "    if start%2!=0:\n",
    "        print(start)\n",
    "    start+=1\n"
   ]
  },
  {
   "cell_type": "code",
   "execution_count": null,
   "metadata": {},
   "outputs": [],
   "source": [
    "#10)WAP to print reverse the odd number until nth times by using a while loop.\n",
    "start=int(input(\"enter nth numer\"))\n",
    "end=1\n",
    "while start>=end:\n",
    "    if start%2!=0:\n",
    "        print(start)\n",
    "    start-=1\n"
   ]
  },
  {
   "cell_type": "code",
   "execution_count": null,
   "metadata": {},
   "outputs": [],
   "source": [
    "#11)WAP to print the nth table 1 to 20, format ---> 5*1=5 to 5*20=100\n",
    "a=5\n",
    "i=1\n",
    "while i<=20:\n",
    "    t=a*i\n",
    "    print(f\"{a} * {i} = {t}\")\n",
    "    i+=1\n",
    "    "
   ]
  },
  {
   "cell_type": "code",
   "execution_count": null,
   "metadata": {},
   "outputs": [],
   "source": [
    "#12)WAP to print the nth table 20 to 1, format --->  5*20=100 to 5*1=5.\n",
    "a=5\n",
    "i=20\n",
    "while i>=1:\n",
    "    t=a*i\n",
    "    print(f\"{a} * {i} = {t}\")\n",
    "    i-=1"
   ]
  },
  {
   "cell_type": "code",
   "execution_count": null,
   "metadata": {},
   "outputs": [],
   "source": [
    "#13)WAP to print the numbers which are divisible by 3 from 25 to 66.\n",
    "a=25\n",
    "b=66\n",
    "while a<=b:\n",
    "    if a%3==0:\n",
    "        print (a,end=\" \")\n",
    "    a+=1"
   ]
  },
  {
   "cell_type": "code",
   "execution_count": null,
   "metadata": {},
   "outputs": [],
   "source": [
    "#14)WAP to print the numbers which are divisible by 3 and 5 from 15 to 76.\n",
    "a=15\n",
    "b=76\n",
    "while a<=b:\n",
    "    if a%3==0 and a%5==0:\n",
    "        print (a,end=\" \")\n",
    "    a+=1"
   ]
  },
  {
   "cell_type": "code",
   "execution_count": null,
   "metadata": {},
   "outputs": [],
   "source": [
    "#15)WAP to print the numbers which are divisible by 5 and 7 from 77 to 22.\n",
    "a=77\n",
    "b=22\n",
    "while a>=b:\n",
    "    if a%5==0 and a%7==0:\n",
    "        print (a,end=\" \")\n",
    "    a-=1"
   ]
  },
  {
   "cell_type": "code",
   "execution_count": null,
   "metadata": {},
   "outputs": [],
   "source": [
    "#16)WAP to print the 'I love you\" if value is divisible by 3, or print \"hate you\" if value is divisible By 5.\n",
    "# to print \"i like you \" if value  divisible  by 3 and 5 from I Io 30.\n",
    "a=1\n",
    "b=30\n",
    "while a<=b:\n",
    "    if a%3==0 and a%5==0:\n",
    "        print(a,\"i like you\")\n",
    "    elif a%5==0:\n",
    "        print(a,\"i hate you\")\n",
    "    elif a%3==0 :\n",
    "        print(a,\"i love you\")\n",
    "    a+=1"
   ]
  },
  {
   "cell_type": "code",
   "execution_count": null,
   "metadata": {},
   "outputs": [],
   "source": [
    "#17)wap to print sum of the 1 to nth natural numbers\n",
    "a=1\n",
    "sum=0\n",
    "b=int(input(\"enter nth number\"))\n",
    "while a<=b:\n",
    "    sum+=a\n",
    "    a+=1\n",
    "print(sum)\n",
    "    "
   ]
  },
  {
   "cell_type": "code",
   "execution_count": null,
   "metadata": {},
   "outputs": [],
   "source": [
    "#18)wap to print sum of the even numbers from 1 to 20\n",
    "a=1\n",
    "sum=0\n",
    "while a<=20:\n",
    "    if(a%2==0):\n",
    "        sum+=a\n",
    "    a+=1\n",
    "print(sum)"
   ]
  },
  {
   "cell_type": "code",
   "execution_count": null,
   "metadata": {},
   "outputs": [],
   "source": [
    "#19)wap to print product of 1 to 6 numbers\n",
    "a=1\n",
    "prod=1\n",
    "b=6\n",
    "while a<=b:\n",
    "    prod*=a\n",
    "    a+=1\n",
    "print(prod)"
   ]
  },
  {
   "cell_type": "code",
   "execution_count": null,
   "metadata": {},
   "outputs": [],
   "source": [
    "#20)wap to count no of odd values from 1 to 30\n",
    "a=1\n",
    "count=0\n",
    "while a<=30:\n",
    "    if a%2!=0:\n",
    "        count+=1\n",
    "    a+=1\n",
    "print(count)"
   ]
  },
  {
   "cell_type": "code",
   "execution_count": null,
   "metadata": {},
   "outputs": [],
   "source": [
    "#21)wap to print factor of given number\n",
    "n=int(input(\"enter a number to get its factors\"))\n",
    "m=1\n",
    "while m<=n:\n",
    "    if n%m==0:\n",
    "        print(m,end=\" \")\n",
    "    m+=1"
   ]
  },
  {
   "cell_type": "code",
   "execution_count": null,
   "metadata": {},
   "outputs": [],
   "source": [
    "#22)wap to print sum of the factors of the given number\n",
    "n=int(input(\"enter a number to get sum of its factors\"))\n",
    "m=1\n",
    "sum=0\n",
    "while m<=n:\n",
    "    if n%m==0:\n",
    "        sum+=m\n",
    "    m+=1\n",
    "print(sum)"
   ]
  },
  {
   "cell_type": "code",
   "execution_count": null,
   "metadata": {},
   "outputs": [],
   "source": [
    "#23)WAP to prod of the factors ot the given number.\n",
    "n=int(input(\"enter a number to get sum of its factors\"))\n",
    "m=1\n",
    "prod=1\n",
    "while m<=n:\n",
    "    if n%m==0:\n",
    "        prod*=m\n",
    "    m+=1\n",
    "print(prod)"
   ]
  },
  {
   "cell_type": "code",
   "execution_count": null,
   "metadata": {},
   "outputs": [],
   "source": [
    "#24)wap to print fibonocci series from 0 to nth\n",
    "a=0\n",
    "b=1\n",
    "d=10\n",
    "i=1\n",
    "print(a)\n",
    "while i<=d:\n",
    "    c=a+b\n",
    "    print(c,end=\" \")\n",
    "    a,b=b,c\n",
    "    i+=1"
   ]
  },
  {
   "cell_type": "code",
   "execution_count": null,
   "metadata": {},
   "outputs": [],
   "source": [
    "#25)wap to find factorial of given number\n",
    "n=5\n",
    "i=1\n",
    "fact=1\n",
    "while i<=n:\n",
    "    fact=fact*i\n",
    "    i+=1\n",
    "print(fact)\n",
    "    "
   ]
  },
  {
   "cell_type": "code",
   "execution_count": null,
   "metadata": {},
   "outputs": [],
   "source": [
    "#26)wap to print factorial numbers in the given range from m to n\n",
    "m=int(input(\"enter starting num\"))\n",
    "n=int(input(\"enter ending num\"))\n",
    "while m<=n:\n",
    "    fact=1\n",
    "    i=1\n",
    "    while i<=m:\n",
    "        fact=fact*i\n",
    "        i+=1\n",
    "    print (f\"factorial of {m} is :{fact}\")\n",
    "    m+=1\n"
   ]
  },
  {
   "cell_type": "code",
   "execution_count": null,
   "metadata": {},
   "outputs": [],
   "source": [
    "#27)wap to check whether the given number is prime or not.\n",
    "n=int(input(\"enter the number\"))\n",
    "i=2\n",
    "count=0\n",
    "while i<n:\n",
    "    if n%i==0:\n",
    "        count+=1\n",
    "    i+=1\n",
    "if count==0:\n",
    "    print(n,\"prime\")\n",
    "else:\n",
    "    print(\" is not a prime\")"
   ]
  },
  {
   "cell_type": "code",
   "execution_count": null,
   "metadata": {},
   "outputs": [],
   "source": [
    "#28)WAP to print the prime numbers in the given range m to n.\n",
    "m=int(input(\"enter the starting number\"))\n",
    "n=int(input(\"enter the ending number\"))\n",
    "while m<=n:\n",
    "    i=2\n",
    "    count=0\n",
    "    while i<m:\n",
    "        if(m%i==0):\n",
    "            count+=1\n",
    "        i+=1\n",
    "    if count==0:\n",
    "        print (m,end=\" \")\n",
    "    m+=1\n",
    "    "
   ]
  },
  {
   "cell_type": "code",
   "execution_count": null,
   "metadata": {},
   "outputs": [],
   "source": [
    "#29)WAP to check whether a given number an armstrong number or not.\n",
    "n=int(input(\"enter the number\"))\n",
    "temp=n\n",
    "count=0\n",
    "while temp:\n",
    "    ld=temp%10\n",
    "    count+=1\n",
    "    temp//=10\n",
    "res=n\n",
    "sum=0\n",
    "while res:\n",
    "    sum+= (res % 10)**count\n",
    "    res//=10\n",
    "if n==sum:\n",
    "    print(n,\" is armstrong\")\n",
    "else:\n",
    "    print(n,\"armweak\")"
   ]
  },
  {
   "cell_type": "code",
   "execution_count": null,
   "metadata": {},
   "outputs": [],
   "source": [
    "#30) WAP to print the armstrong numbers in the given range m to n.\n",
    "m=1\n",
    "n=1000\n",
    "while m<=n:\n",
    "    temp=m\n",
    "    count=0\n",
    "    while temp:\n",
    "        ld=temp%10\n",
    "        count+=1\n",
    "        temp//=10\n",
    "    res=m\n",
    "    sum=0\n",
    "    while res:\n",
    "        sum+= (res % 10)**count\n",
    "        res//=10\n",
    "    if m==sum:\n",
    "        print(m,\" is armstrong\")\n",
    "    m+=1\n",
    "    "
   ]
  },
  {
   "cell_type": "code",
   "execution_count": null,
   "metadata": {},
   "outputs": [],
   "source": [
    "#31)wap to print prime series from 1 to nth.\n",
    "m=1\n",
    "n=int(input(\"enter the ending number\"))\n",
    "while m<=n:\n",
    "    i=2\n",
    "    count=0\n",
    "    while i<m:\n",
    "        if(m%i==0):\n",
    "            count+=1\n",
    "        i+=1\n",
    "    if count==0:\n",
    "        print (m,end=\" \")\n",
    "    m+=1\n"
   ]
  },
  {
   "cell_type": "code",
   "execution_count": 2,
   "metadata": {},
   "outputs": [
    {
     "name": "stdout",
     "output_type": "stream",
     "text": [
      "[1, 2, 3, 5, 13, 89]\n"
     ]
    }
   ],
   "source": [
    "#32)wap to print 1 to 100 prime numbers in fibonocci series\n",
    "a=0\n",
    "b=1\n",
    "i=1\n",
    "list1=[]\n",
    "while i<=n:\n",
    "    c=a+b\n",
    "    list1.append(c)\n",
    "    a,b=b,c\n",
    "    i+=1\n",
    "m=1\n",
    "n=100\n",
    "list=[]\n",
    "while m<=n:\n",
    "    i=2\n",
    "    count=0\n",
    "    while i<m:\n",
    "        if(m%i==0):\n",
    "            count+=1\n",
    "        i+=1\n",
    "    if count==0 and m in list1:\n",
    "            list.append(m)\n",
    "    m+=1\n",
    "print(list)\n"
   ]
  },
  {
   "cell_type": "code",
   "execution_count": 1,
   "metadata": {},
   "outputs": [
    {
     "name": "stdout",
     "output_type": "stream",
     "text": [
      "[1, 2, 3, 5, 7, 11, 13, 17, 19, 23, 29, 31, 37, 41, 43, 47]\n",
      "329\n"
     ]
    }
   ],
   "source": [
    "#33)Write a program Sum Of prime numbers in a given collection.\n",
    "m=1\n",
    "n=50\n",
    "list=[]\n",
    "h=0\n",
    "while m<=n:\n",
    "    i=2\n",
    "    count=0\n",
    "    while i<m:\n",
    "        if(m%i==0):\n",
    "            count+=1\n",
    "        i+=1\n",
    "    if count==0:\n",
    "        list.append(m)\n",
    "    m+=1\n",
    "print(list)\n",
    "sum=0\n",
    "while h<len(list):\n",
    "        sum+=list[h] \n",
    "        h+=1 \n",
    "print(sum)\n",
    "        \n",
    "\n",
    "\n",
    "\n"
   ]
  },
  {
   "cell_type": "code",
   "execution_count": null,
   "metadata": {},
   "outputs": [],
   "source": [
    "#34)wap to check given number is palindrome or not\n",
    "n=1221\n",
    "temp=n\n",
    "s=0\n",
    "while n:\n",
    "    ld=n%10\n",
    "    s=(s*10)+ld\n",
    "    n//=10\n",
    "if s==temp:\n",
    "    print(s,\"palindorme\")"
   ]
  },
  {
   "cell_type": "code",
   "execution_count": 3,
   "metadata": {},
   "outputs": [
    {
     "name": "stdout",
     "output_type": "stream",
     "text": [
      "8\n",
      "deathnot\n",
      "deathnot\n",
      "deathnot\n",
      "deathnot\n",
      "deathnot\n",
      "deathnot\n",
      "deathnot\n",
      "deathnot\n",
      "deathnot\n",
      "deathnot\n"
     ]
    }
   ],
   "source": [
    "#35)WAP to check whether the len of string is even or odd.if it is even print the string 10 times.if it is not peint 5 times.\n",
    "st=\"deathnot\"\n",
    "a=len(st)\n",
    "print(a)\n",
    "if a%2==0:\n",
    "    j=0\n",
    "    while j<10:\n",
    "        print(st)\n",
    "        j+=1    \n",
    "else:\n",
    "    k=0\n",
    "    while k<5:\n",
    "        print(st)\n",
    "        k+=1\n",
    "    \n"
   ]
  },
  {
   "cell_type": "code",
   "execution_count": 8,
   "metadata": {},
   "outputs": [
    {
     "name": "stdout",
     "output_type": "stream",
     "text": [
      "A B C D E F G H I J K L M N O P Q R S T U V W X Y Z "
     ]
    }
   ],
   "source": [
    "#36)WAP to print the uppercAse chÄracter from 'A' to 'Z' by usung a while loop\n",
    "a=\"A\"\n",
    "b=ord(a)\n",
    "while b<=ord(\"Z\"):\n",
    "    print(chr(b),end=\" \")\n",
    "    b+=1"
   ]
  },
  {
   "cell_type": "code",
   "execution_count": 9,
   "metadata": {},
   "outputs": [
    {
     "name": "stdout",
     "output_type": "stream",
     "text": [
      "a b c d e f g h i j k l m n o p q r s t u v w x y z "
     ]
    }
   ],
   "source": [
    "#37)WAP to print the uppercAse chÄracter from 'a' to 'z' by usung a while loop.\n",
    "a=\"a\"\n",
    "b=ord(a)\n",
    "while b<=ord(\"z\"):\n",
    "    print(chr(b),end=\" \")\n",
    "    b+=1"
   ]
  },
  {
   "cell_type": "code",
   "execution_count": 10,
   "metadata": {},
   "outputs": [
    {
     "name": "stdout",
     "output_type": "stream",
     "text": [
      "0 1 2 3 4 5 6 7 8 9 "
     ]
    }
   ],
   "source": [
    "#38)WAP to print the ascii nurnbers character trom \"0\" to \"9\" by usmq a while loop.\n",
    "a=\"0\"\n",
    "b=ord(a)\n",
    "while b<=ord(\"9\"):\n",
    "    print(chr(b),end=\" \")\n",
    "    b+=1"
   ]
  },
  {
   "cell_type": "code",
   "execution_count": 11,
   "metadata": {},
   "outputs": [
    {
     "name": "stdout",
     "output_type": "stream",
     "text": [
      "E F G H I J K L M N O P Q R S T U "
     ]
    }
   ],
   "source": [
    "#39)wap to print the uppercase character fram 'E' to 'U' by using a while loop.\n",
    "a=\"E\"\n",
    "b=ord(a)\n",
    "while b<=ord(\"U\"):\n",
    "    print(chr(b),end=\" \")\n",
    "    b+=1"
   ]
  },
  {
   "cell_type": "code",
   "execution_count": 12,
   "metadata": {},
   "outputs": [
    {
     "name": "stdout",
     "output_type": "stream",
     "text": [
      "Z Y X W V U T S R Q P O N M L K J I H G F E D C B A "
     ]
    }
   ],
   "source": [
    "#40)WAP print the uppercase chancter from 'Z' to 'A' by using while loop.\n",
    "a=\"Z\"\n",
    "b=ord(a)\n",
    "while b>=ord(\"A\"):\n",
    "    print(chr(b),end=\" \")\n",
    "    b-=1"
   ]
  },
  {
   "cell_type": "code",
   "execution_count": 13,
   "metadata": {},
   "outputs": [
    {
     "name": "stdout",
     "output_type": "stream",
     "text": [
      "U T S R Q P O N M L K J I H G "
     ]
    }
   ],
   "source": [
    "#41)WAP to print the uppercase character from 'U' to 'G' by ugrng a Thile loop.\n",
    "a=\"U\"\n",
    "b=ord(a)\n",
    "while b>=ord(\"G\"):\n",
    "    print(chr(b),end=\" \")\n",
    "    b-=1"
   ]
  },
  {
   "cell_type": "code",
   "execution_count": 14,
   "metadata": {},
   "outputs": [
    {
     "name": "stdout",
     "output_type": "stream",
     "text": [
      "i j k l m n o p q r s t u v w x y "
     ]
    }
   ],
   "source": [
    "#42)WAP to print the lowercase character from 'i' to 'y' by using while loop.\n",
    "a=\"i\"\n",
    "b=ord(a)\n",
    "while b<=ord(\"y\"):\n",
    "    print(chr(b),end=\" \")\n",
    "    b+=1"
   ]
  },
  {
   "cell_type": "code",
   "execution_count": 15,
   "metadata": {},
   "outputs": [
    {
     "name": "stdout",
     "output_type": "stream",
     "text": [
      "z y x w v u t s r q p o n m l k j i h g f e d c b a "
     ]
    }
   ],
   "source": [
    "#43)WAP to print the lowercase character from 'z' to 'a' by using while loop.\n",
    "a=\"z\"\n",
    "b=ord(a)\n",
    "while b>=ord(\"a\"):\n",
    "    print(chr(b),end=\" \")\n",
    "    b-=1\n"
   ]
  },
  {
   "cell_type": "code",
   "execution_count": 16,
   "metadata": {},
   "outputs": [
    {
     "name": "stdout",
     "output_type": "stream",
     "text": [
      "p o n m l k j i h g f e d c "
     ]
    }
   ],
   "source": [
    "#44)WAP to print the lowercase character from 'p' to 'c' by using while loop.\n",
    "a=\"p\"\n",
    "b=ord(a)\n",
    "while b>=ord(\"c\"):\n",
    "    print(chr(b),end=\" \")\n",
    "    b-=1"
   ]
  },
  {
   "cell_type": "code",
   "execution_count": 18,
   "metadata": {},
   "outputs": [
    {
     "name": "stdout",
     "output_type": "stream",
     "text": [
      "B D F H J L N P R T V X Z "
     ]
    }
   ],
   "source": [
    "#45)wap to print uppercase charscters based on even ascii values\n",
    "a=\"A\"\n",
    "b=ord(a)\n",
    "while b<=ord(\"Z\"):\n",
    "    if b%2==0:\n",
    "        print(chr(b),end=\" \")\n",
    "    b+=1"
   ]
  },
  {
   "cell_type": "code",
   "execution_count": 3,
   "metadata": {},
   "outputs": [
    {
     "name": "stdout",
     "output_type": "stream",
     "text": [
      "b d f h j l n p r t v x z "
     ]
    }
   ],
   "source": [
    "#46)wap to print the lowercase based on even ascii value\n",
    "a=\"a\"\n",
    "b=ord(a)\n",
    "while b<=ord(\"z\"):\n",
    "    if b%2==0:\n",
    "        print(chr(b),end=\" \")\n",
    "    b+=1"
   ]
  },
  {
   "cell_type": "code",
   "execution_count": 4,
   "metadata": {},
   "outputs": [
    {
     "name": "stdout",
     "output_type": "stream",
     "text": [
      "A C E G I K M O Q S U W Y "
     ]
    }
   ],
   "source": [
    "#47)wap to print the uppercase based on odd ascii value\n",
    "a=\"A\"\n",
    "b=ord(a)\n",
    "while b<=ord(\"Z\"):\n",
    "    if b%2!=0:\n",
    "        print(chr(b),end=\" \")\n",
    "    b+=1"
   ]
  },
  {
   "cell_type": "code",
   "execution_count": 5,
   "metadata": {},
   "outputs": [
    {
     "name": "stdout",
     "output_type": "stream",
     "text": [
      "a c e g i k m o q s u w y "
     ]
    }
   ],
   "source": [
    "#48)wap to print the lowercase based on odd ascii value\n",
    "a=\"a\"\n",
    "b=ord(a)\n",
    "while b<=ord(\"z\"):\n",
    "    if b%2!=0:\n",
    "        print(chr(b),end=\" \")\n",
    "    b+=1"
   ]
  },
  {
   "cell_type": "code",
   "execution_count": 8,
   "metadata": {},
   "outputs": [
    {
     "name": "stdout",
     "output_type": "stream",
     "text": [
      "B D F H J L N P R T V X Z "
     ]
    }
   ],
   "source": [
    "#49)wap to print all the even characters 'A' to 'z'\n",
    "a=ord(\"A\")\n",
    "b=ord(\"Z\")\n",
    "while a<=b:\n",
    "    if a%2==0:\n",
    "        print(chr(a),end=\" \")\n",
    "    a+=1"
   ]
  },
  {
   "cell_type": "code",
   "execution_count": 9,
   "metadata": {},
   "outputs": [
    {
     "name": "stdout",
     "output_type": "stream",
     "text": [
      "b d f h j l n p r t v x z "
     ]
    }
   ],
   "source": [
    "#50)wap to print all the even characters 'a' to 'z'\n",
    "a=ord(\"a\")\n",
    "b=ord(\"z\")\n",
    "while a<=b:\n",
    "    if a%2==0:\n",
    "        print(chr(a),end=\" \")\n",
    "    a+=1"
   ]
  },
  {
   "cell_type": "code",
   "execution_count": 17,
   "metadata": {},
   "outputs": [
    {
     "name": "stdout",
     "output_type": "stream",
     "text": [
      "E 1\n",
      "I 2\n",
      "O 3\n",
      "U 4\n"
     ]
    }
   ],
   "source": [
    "#51)wap to count number of vowels present in 'D' to 'v'\n",
    "a=ord(\"D\")\n",
    "b=ord(\"V\")\n",
    "count=0\n",
    "while a<=b:\n",
    "    if chr(a) in 'AEIOUaeiou':\n",
    "        count+=1\n",
    "        print(chr(a),count)\n",
    "    a+=1\n"
   ]
  },
  {
   "cell_type": "code",
   "execution_count": 18,
   "metadata": {},
   "outputs": [
    {
     "name": "stdout",
     "output_type": "stream",
     "text": [
      "u 1\n",
      "o 2\n",
      "i 3\n",
      "e 4\n"
     ]
    }
   ],
   "source": [
    "#52)wap to count number of vowels present in 'u' to 'e'\n",
    "a=ord(\"u\")\n",
    "b=ord(\"e\")\n",
    "count=0\n",
    "while a>=b:\n",
    "    if chr(a) in 'AEIOUaeiou':\n",
    "        count+=1\n",
    "        print(chr(a),count)\n",
    "    a-=1"
   ]
  },
  {
   "cell_type": "code",
   "execution_count": 23,
   "metadata": {},
   "outputs": [
    {
     "name": "stdout",
     "output_type": "stream",
     "text": [
      "9 36 81 \n",
      "5 10 15 20 25 30 35 40 45 50 55 60 65 70 75 80 85 90 95 100 "
     ]
    }
   ],
   "source": [
    "#53)wap to print the square of the numer in between the range from m to n \n",
    "# which is multiple of 3.wap to print a number from range m to n which is divisible byb 5.\n",
    "m=2\n",
    "n=10\n",
    "while m<=n:\n",
    "    if m%3==0:\n",
    "        print(m**2,end=' ') \n",
    "    m+=1   \n",
    "print() \n",
    "a=2\n",
    "b=100\n",
    "while a<=b:\n",
    "    if a%5==0:\n",
    "        print(a,end=' ') \n",
    "    a+=1 \n",
    "\n",
    "\n",
    "\n",
    "\n"
   ]
  },
  {
   "cell_type": "code",
   "execution_count": 53,
   "metadata": {},
   "outputs": [
    {
     "name": "stdout",
     "output_type": "stream",
     "text": [
      "18\n",
      "9\n"
     ]
    }
   ],
   "source": [
    "#54)Write a program takes an integer number and the sum digits and repeat until \n",
    "# the sum gets a single digit in the end.\n",
    "n=5643\n",
    "\n",
    "while n>9:\n",
    "    sum=0\n",
    "    while n:\n",
    "        ld=n%10\n",
    "        sum+=ld\n",
    "        n//=10\n",
    "    n=sum\n",
    "    print(sum)\n",
    "    "
   ]
  },
  {
   "cell_type": "code",
   "execution_count": 4,
   "metadata": {},
   "outputs": [
    {
     "name": "stdout",
     "output_type": "stream",
     "text": [
      "[0, 1, 2, 3, 4, 5, 6, 7, 8, 9, 10, 11, 12, 13, 14, 15, 16, 17, 18, 19, 20, 21, 22, 23, 24, 25, 26, 27, 28, 29, 30, 31, 32, 33, 34, 35] <class 'str'>\n",
      "\n",
      "14\n"
     ]
    }
   ],
   "source": [
    "#55)wap to count number of 2's in between 0 to n\n",
    "start=0\n",
    "end=35\n",
    "list=[]\n",
    "while start<=end:\n",
    "    list.append(start)\n",
    "    start+=1\n",
    "list=str(list)\n",
    "print(list,type(list))\n",
    "i=0\n",
    "count=0\n",
    "print()\n",
    "while i<len(list):\n",
    "    if \"2\" in list[i]:\n",
    "        count+=1\n",
    "    i+=1\n",
    "print(count)\n",
    "    "
   ]
  },
  {
   "cell_type": "code",
   "execution_count": 89,
   "metadata": {},
   "outputs": [
    {
     "name": "stdout",
     "output_type": "stream",
     "text": [
      "[10, 2, 3, 0, 6]\n",
      "[10, 6, 2, 0, 3]\n",
      "[10, 6, 3, 0, 2]\n",
      "180\n"
     ]
    }
   ],
   "source": [
    "#56)wap to find max product of three numbers from given integer array\n",
    "a=[3,2,10,0,6]\n",
    "i=1\n",
    "while i<len(a):\n",
    "    if a[0]<a[i]:\n",
    "        a[0],a[i]=a[i],a[0]   \n",
    "    i+=1\n",
    "print(a)\n",
    "i=2\n",
    "while i<len(a):\n",
    "    if a[1]<a[i]:\n",
    "        a[1],a[i]=a[i],a[1]   \n",
    "    i+=1\n",
    "print(a)\n",
    "i=3\n",
    "while i<len(a):\n",
    "    if a[2]<a[i]:\n",
    "        a[2],a[i]=a[i],a[2]   \n",
    "    i+=1\n",
    "print(a)\n",
    "print(a[0]*a[1]*a[2])\n",
    "    \n",
    "\n"
   ]
  }
 ],
 "metadata": {
  "kernelspec": {
   "display_name": "Python 3",
   "language": "python",
   "name": "python3"
  },
  "language_info": {
   "codemirror_mode": {
    "name": "ipython",
    "version": 3
   },
   "file_extension": ".py",
   "mimetype": "text/x-python",
   "name": "python",
   "nbconvert_exporter": "python",
   "pygments_lexer": "ipython3",
   "version": "3.10.11"
  },
  "orig_nbformat": 4
 },
 "nbformat": 4,
 "nbformat_minor": 2
}
