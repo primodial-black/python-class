{
 "cells": [
  {
   "cell_type": "code",
   "execution_count": null,
   "metadata": {},
   "outputs": [],
   "source": [
    "#1\n",
    "\n",
    "n=15\n",
    "while n:\n",
    "    print(n)\n",
    "    n-=1"
   ]
  },
  {
   "cell_type": "code",
   "execution_count": null,
   "metadata": {},
   "outputs": [],
   "source": [
    "#2n\n",
    "n=25\n",
    "m=65\n",
    "sum=0\n",
    "while n<=m:\n",
    "    if n%2!=0:\n",
    "        sum+=n\n",
    "    n+=1\n",
    "print(sum)"
   ]
  },
  {
   "cell_type": "code",
   "execution_count": 16,
   "metadata": {},
   "outputs": [
    {
     "name": "stdout",
     "output_type": "stream",
     "text": [
      "prime\n"
     ]
    }
   ],
   "source": [
    "n=7\n",
    "i=2\n",
    "count=0\n",
    "while i<n:\n",
    "    if n%i==0:\n",
    "        count+=1\n",
    "    i+=1\n",
    "if count==0:\n",
    "    print(\"prime\")"
   ]
  },
  {
   "cell_type": "code",
   "execution_count": null,
   "metadata": {},
   "outputs": [],
   "source": [
    "n=62\n",
    "i=1\n",
    "while i<=n:\n",
    "    if n%i==0:\n",
    "        if i%2==0:\n",
    "            print(i)\n",
    "    i+=1\n"
   ]
  },
  {
   "cell_type": "code",
   "execution_count": null,
   "metadata": {},
   "outputs": [],
   "source": [
    "n=145\n",
    "a=n                             \n",
    "sum=0\n",
    "while n:\n",
    "    ld=n%10\n",
    "    i=1\n",
    "    res=1\n",
    "    while i<=ld:\n",
    "        res*=i\n",
    "        i+=1\n",
    "    n=n//10\n",
    "    sum+=res\n",
    "print(sum)\n",
    "if sum==a:\n",
    "    print(sum,\"strong num\")\n",
    "else:\n",
    "    print(sum,\"not a strong num\")"
   ]
  },
  {
   "cell_type": "code",
   "execution_count": null,
   "metadata": {},
   "outputs": [],
   "source": [
    "n=12345\n",
    "sum=0\n",
    "while n:\n",
    "    ld=n%10\n",
    "    sum=(sum*10)+ld\n",
    "    n=n//10\n",
    "print(sum)"
   ]
  },
  {
   "cell_type": "code",
   "execution_count": null,
   "metadata": {},
   "outputs": [],
   "source": [
    "n=12345\n",
    "sum=0\n",
    "i=1\n",
    "while n:\n",
    "    ld=n%10\n",
    "    sum+=ld\n",
    "    n=n//10\n",
    "    \n",
    "print(sum)\n",
    "while i<=sum:\n",
    "    if sum%i==0:\n",
    "        print(i)\n",
    "    i+=1"
   ]
  }
 ],
 "metadata": {
  "kernelspec": {
   "display_name": "Python 3",
   "language": "python",
   "name": "python3"
  },
  "language_info": {
   "codemirror_mode": {
    "name": "ipython",
    "version": 3
   },
   "file_extension": ".py",
   "mimetype": "text/x-python",
   "name": "python",
   "nbconvert_exporter": "python",
   "pygments_lexer": "ipython3",
   "version": "3.10.11"
  },
  "orig_nbformat": 4
 },
 "nbformat": 4,
 "nbformat_minor": 2
}
