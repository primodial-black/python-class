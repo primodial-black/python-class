{
 "cells": [
  {
   "cell_type": "code",
   "execution_count": 2,
   "metadata": {},
   "outputs": [
    {
     "name": "stdout",
     "output_type": "stream",
     "text": [
      " the address is  7308\n"
     ]
    },
    {
     "name": "stdout",
     "output_type": "stream",
     "text": [
      " the name is :  syed \n",
      " the age is :  23\n"
     ]
    }
   ],
   "source": [
    "import time\n",
    "from threading import *\n",
    "\n",
    "def student(name,age):\n",
    "    time.sleep(2)\n",
    "    print(\" the name is : \",name,\"\\n the age is : \",age)\n",
    "t1=Thread(target=student,args=(\"syed\",23))\n",
    "t1.start()\n",
    "print(\" the address is \",current_thread().ident)"
   ]
  },
  {
   "cell_type": "code",
   "execution_count": 5,
   "metadata": {},
   "outputs": [
    {
     "name": "stdout",
     "output_type": "stream",
     "text": [
      "100\n",
      "1\n",
      "101\n",
      "102\n",
      "2\n",
      "103\n",
      "104\n",
      "3\n",
      "105\n",
      "106\n",
      "4\n",
      "107\n",
      "108\n",
      "5\n",
      "109\n",
      "110\n",
      " the address is  7308\n"
     ]
    },
    {
     "name": "stdout",
     "output_type": "stream",
     "text": [
      "6\n",
      "7\n",
      "8\n",
      "9\n",
      "10\n"
     ]
    }
   ],
   "source": [
    "import time\n",
    "from threading import *\n",
    "\n",
    "def display():\n",
    "    for i in range(1,11):\n",
    "        time.sleep(2)\n",
    "        print(i)\n",
    "t1=Thread(target=display)\n",
    "t1.start()\n",
    "\n",
    "def view():\n",
    "    for i in range(100,111):\n",
    "        time.sleep(1)\n",
    "        print(i)\n",
    "\n",
    "view()\n",
    "print(\" the address is \",current_thread().ident)"
   ]
  },
  {
   "cell_type": "code",
   "execution_count": 7,
   "metadata": {},
   "outputs": [
    {
     "name": "stdout",
     "output_type": "stream",
     "text": [
      " the start time :  1570.5998019\n",
      "1\n",
      "100\n",
      "2\n",
      "3\n",
      "101\n",
      "4\n",
      "5\n",
      "102\n",
      "6\n",
      "7\n",
      "103\n",
      "8\n",
      "9\n",
      "104\n",
      "10\n",
      "105\n",
      "106\n",
      "107\n",
      "108\n",
      "109\n",
      "110\n",
      " the start time :  1592.6341765\n",
      " the total time taken by the function 22.034374599999865\n",
      " the address is  7308\n"
     ]
    }
   ],
   "source": [
    "import time\n",
    "from threading import *\n",
    "start=time.perf_counter()\n",
    "print(\" the start time : \",start)\n",
    "def display():\n",
    "    for i in range(1,11):\n",
    "        time.sleep(1)\n",
    "        print(i)\n",
    "t1=Thread(target=display)\n",
    "t1.start()\n",
    "\n",
    "def view():\n",
    "    for i in range(100,111):\n",
    "        time.sleep(2)\n",
    "        print(i)\n",
    "\n",
    "view()\n",
    "end=time.perf_counter()\n",
    "print(\" the start time : \",end)\n",
    "print(\" the total time taken by the function\",end-start)\n",
    "print(\" the address is \",current_thread().ident)"
   ]
  }
 ],
 "metadata": {
  "kernelspec": {
   "display_name": "Python 3",
   "language": "python",
   "name": "python3"
  },
  "language_info": {
   "codemirror_mode": {
    "name": "ipython",
    "version": 3
   },
   "file_extension": ".py",
   "mimetype": "text/x-python",
   "name": "python",
   "nbconvert_exporter": "python",
   "pygments_lexer": "ipython3",
   "version": "3.11.6"
  }
 },
 "nbformat": 4,
 "nbformat_minor": 2
}
