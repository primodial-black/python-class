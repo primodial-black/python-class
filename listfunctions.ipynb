{
 "cells": [
  {
   "cell_type": "code",
   "execution_count": 9,
   "metadata": {},
   "outputs": [
    {
     "name": "stdout",
     "output_type": "stream",
     "text": [
      "2444039479168 ['c', 'b', 'a', 'hello', 3, 2, 1]\n",
      "[1, 2, 3, 'hello', 'a', 'b', 'c']\n"
     ]
    }
   ],
   "source": [
    "#reverse\n",
    "l=[1,2,3,\"hello\",\"a\",\"b\",\"c\"]\n",
    "l.reverse()\n",
    "print(id(l),l)\n",
    "def u_reverse(coll):\n",
    "    j=-1\n",
    "    for i in range(0,(len(coll)//2)):\n",
    "        coll[i],coll[j]=coll[j],coll[i]\n",
    "        j-=1\n",
    "u_reverse(l)\n",
    "print(l)\n",
    "        \n"
   ]
  },
  {
   "cell_type": "code",
   "execution_count": 6,
   "metadata": {},
   "outputs": [
    {
     "name": "stdout",
     "output_type": "stream",
     "text": [
      "2444039403328 [1, 2, 3, 4, 5, 6, 7, 8, 9, 0]\n",
      "2444039403328 [1, 2, 3, 4, 5, 6, 7, 8, 9, 0, 1, 2]\n"
     ]
    }
   ],
   "source": [
    "#extend\n",
    "l=[1,2,3,4,5,6,7,8,9,0]\n",
    "print(id(l),l)\n",
    "def u_extend(coll,ele):\n",
    "    if type(coll) != list:\n",
    "        return -1\n",
    "    if type(ele) not in [list,set,tuple,str,dict]:\n",
    "        return \"the ele value should be in collection datatype\"\n",
    "    for i in ele:\n",
    "        coll+=[i]\n",
    "    return coll\n",
    "res=u_extend(l,[1,2])\n",
    "print(id(res),res)"
   ]
  },
  {
   "cell_type": "code",
   "execution_count": 4,
   "metadata": {},
   "outputs": [
    {
     "name": "stdout",
     "output_type": "stream",
     "text": [
      "2444039506112 [1, 2, 3, 4, 5, 6, 7, 8, 9, 0]\n",
      "2444039506112 [1, 2, 3, 4, 5, 6, 7, 8, 9, 0, 'haii']\n"
     ]
    }
   ],
   "source": [
    "#append\n",
    "l=[1,2,3,4,5,6,7,8,9,0]\n",
    "print(id(l),l)\n",
    "def u_append(coll,ele):\n",
    "    if type(coll) != list:\n",
    "        return -1\n",
    "    coll+=[ele]\n",
    "    return coll\n",
    "res=u_append(l,\"haii\")\n",
    "print(id(res),res)"
   ]
  },
  {
   "cell_type": "code",
   "execution_count": 2,
   "metadata": {},
   "outputs": [
    {
     "name": "stdout",
     "output_type": "stream",
     "text": [
      "2444039660224 [1, 32, 3, 4, 5, 6, 7, 7]\n",
      "2444039660224 [1, 32, 3, 4, 5, 6, 7, 'hello', 7]\n"
     ]
    }
   ],
   "source": [
    "#insert\n",
    "st=[1,32,3,4,5,6,7,7]\n",
    "print(id(st),st)\n",
    "def u_insert(coll,index,ele):\n",
    "    if type(coll) != list and type(index)!=int:\n",
    "        return -1\n",
    "    coll[index:index]=[ele]\n",
    "u_insert(st,-1,\"hello\")\n",
    "print(id(st),st)"
   ]
  },
  {
   "cell_type": "code",
   "execution_count": 1,
   "metadata": {},
   "outputs": [
    {
     "data": {
      "text/plain": [
       "6"
      ]
     },
     "execution_count": 1,
     "metadata": {},
     "output_type": "execute_result"
    }
   ],
   "source": [
    "#index\n",
    "st=[1,32,3,4,5,6,7,7]\n",
    "def u_index(coll,ele,start=0,end=None):\n",
    "    if end==None:\n",
    "        end=len(coll)\n",
    "    if ele not in coll[start:end]:\n",
    "        return \"value error\"\n",
    "    while start<end:\n",
    "        if ele==coll[start]:\n",
    "            return start\n",
    "        start+=1\n",
    "u_index(st,7)"
   ]
  },
  {
   "cell_type": "code",
   "execution_count": 15,
   "metadata": {},
   "outputs": [
    {
     "name": "stdout",
     "output_type": "stream",
     "text": [
      "[10, 20, 30, 'abc', [1, 2, 3]]\n",
      "[10, 20, 30, 'abc', [1, 2, 3]]\n",
      "[10, 20, 30, 'abc', [1, 2, 3, 'h', 'ii'], 12, 3]\n",
      "[10, 20, 30, 'abc', [1, 2, 3, 'h', 'ii']]\n"
     ]
    }
   ],
   "source": [
    "#copy\n",
    "l=[10,20,30,\"abc\",[1,2,3]]\n",
    "def u_copy(coll):\n",
    "    if type(l)!= list:\n",
    "        return -1\n",
    "    res=[]\n",
    "    for i in coll:\n",
    "        res+=[i]\n",
    "    return res\n",
    "x=u_copy(l)\n",
    "print(l)\n",
    "print(x)\n",
    "l+=[12,3]\n",
    "x[-1]+=[\"h\",\"ii\"] # type: ignore\n",
    "\n",
    "print(l)\n",
    "print(x)"
   ]
  },
  {
   "cell_type": "code",
   "execution_count": 36,
   "metadata": {},
   "outputs": [
    {
     "name": "stdout",
     "output_type": "stream",
     "text": [
      "[1, 2, 3, 4, 5, 6, 7, 8, 9, 0]\n",
      "[1, 2, 3, 4, 5, 6, 7, 8, 0]\n"
     ]
    }
   ],
   "source": [
    "#pop\n",
    "d=[1,2,3,4,5,6,7,8,9,0]\n",
    "print(d)\n",
    "def u_pop(coll,index=-1):\n",
    "    if type(coll)!=list:\n",
    "        return -1\n",
    "    del coll[index]\n",
    "u_pop(d,-2)\n",
    "print(d)\n",
    "\n"
   ]
  },
  {
   "cell_type": "code",
   "execution_count": 44,
   "metadata": {},
   "outputs": [
    {
     "name": "stdout",
     "output_type": "stream",
     "text": [
      "[1, 2, 3, 4, 5, 7, 8, 9]\n"
     ]
    }
   ],
   "source": [
    "#remove\n",
    "d=[1,2,3,4,5,6,7,8,9]\n",
    "def u_remove(coll,ele):\n",
    "    if type(coll) != list or ele not in coll:\n",
    "        return -1\n",
    "    for i in range(0,len(coll)):\n",
    "        if ele==coll[i]:\n",
    "            del coll[i]\n",
    "            break\n",
    "u_remove(d,6) \n",
    "print(d)       "
   ]
  },
  {
   "cell_type": "code",
   "execution_count": 43,
   "metadata": {},
   "outputs": [
    {
     "name": "stdout",
     "output_type": "stream",
     "text": [
      "[1, 2, 3, 4, 5, 6, 7, 8]\n",
      "[]\n"
     ]
    }
   ],
   "source": [
    "#clear\n",
    "\n",
    "d=[1,2,3,4,5,6,7,8]\n",
    "print(d)\n",
    "def u_clear(coll):\n",
    "    if type(coll)!=list:\n",
    "        return -1\n",
    "    for i in range(0,len(coll)):\n",
    "        del coll[-1]\n",
    "u_clear(d)\n",
    "print(d)"
   ]
  },
  {
   "cell_type": "code",
   "execution_count": 42,
   "metadata": {},
   "outputs": [
    {
     "name": "stdout",
     "output_type": "stream",
     "text": [
      "[1, 2, 3, 4, 5, 6, 7, 8]\n",
      "[]\n"
     ]
    }
   ],
   "source": [
    "#clear\n",
    "d=[1,2,3,4,5,6,7,8]\n",
    "print(d)\n",
    "def u_clear(coll):\n",
    "    if type(coll)!=list:\n",
    "        return -1\n",
    "    coll[::]=[]\n",
    "u_clear(d)\n",
    "print(d)"
   ]
  },
  {
   "cell_type": "code",
   "execution_count": 46,
   "metadata": {},
   "outputs": [
    {
     "name": "stdout",
     "output_type": "stream",
     "text": [
      "[10, 20, 30, 40, 50, 60]\n"
     ]
    }
   ],
   "source": [
    "l=[30,50,60,40,20,10]\n",
    "l.sort()\n",
    "print(l)"
   ]
  },
  {
   "cell_type": "code",
   "execution_count": 47,
   "metadata": {},
   "outputs": [
    {
     "name": "stdout",
     "output_type": "stream",
     "text": [
      "[30, 50, 60, 40, 20, 10]\n",
      "[10, 20, 30, 40, 50, 60]\n"
     ]
    }
   ],
   "source": [
    "#sort()\n",
    "l=[30,50,60,40,20,10]\n",
    "print(l)\n",
    "def u_sort(coll):\n",
    "    for i in range(0,len(coll)):\n",
    "        for j in range(0,len(coll)-1):\n",
    "            if coll[j]>coll[j+1]:\n",
    "                coll[j],coll[j+1]=coll[j+1],coll[j]\n",
    "u_sort(l)\n",
    "print(l)"
   ]
  }
 ],
 "metadata": {
  "kernelspec": {
   "display_name": "Python 3",
   "language": "python",
   "name": "python3"
  },
  "language_info": {
   "codemirror_mode": {
    "name": "ipython",
    "version": 3
   },
   "file_extension": ".py",
   "mimetype": "text/x-python",
   "name": "python",
   "nbconvert_exporter": "python",
   "pygments_lexer": "ipython3",
   "version": "3.11.6"
  },
  "orig_nbformat": 4
 },
 "nbformat": 4,
 "nbformat_minor": 2
}
