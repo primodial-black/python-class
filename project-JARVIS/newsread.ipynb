{
 "cells": [
  {
   "cell_type": "code",
   "execution_count": 10,
   "metadata": {},
   "outputs": [
    {
     "data": {
      "text/plain": [
       "1"
      ]
     },
     "execution_count": 10,
     "metadata": {},
     "output_type": "execute_result"
    }
   ],
   "source": [
    "from win32com.client import Dispatch\n",
    "\n",
    "speak = Dispatch(\"SAPI.SpVoice\")\n",
    "\n",
    "speak.Speak(\"hello\")"
   ]
  },
  {
   "cell_type": "code",
   "execution_count": 8,
   "metadata": {},
   "outputs": [],
   "source": [
    "def speak(str):\n",
    "    from win32com.client import Dispatch\n",
    "\n",
    "    speak = Dispatch(\"SAPI.SpVoice\")\n",
    "\n",
    "    speak.Speak(str)\n",
    "st=\"HELLO VAASU, MODDA guduu\"\n",
    "if __name__=='__main__':\n",
    "    # speak(\"how are you sayadh\")\n",
    "    speak(st)\n"
   ]
  },
  {
   "cell_type": "code",
   "execution_count": 3,
   "metadata": {},
   "outputs": [
    {
     "name": "stdout",
     "output_type": "stream",
     "text": [
      "1 TITLE : Redeem Codes: Garena Free Fire Max Redeem Codes for December 20: Win freebies and rewards - Times of India - Times of India\n",
      "NEWS : 5G phones with IR blaster under Rs 30,000\n",
      "\n",
      "2 TITLE : Scientists develop single bio-nano system against multiple health problems - Hindustan Times\n",
      "NEWS : PUNE: Scientists of Shri Shiv Chhatrapati College, Junnar, which is affiliated to the Savitribai Phule Pune University (SPPU), have developed a single bio-nano system acting as an antimicrobial, anti… [+3838 chars]\n",
      "\n"
     ]
    }
   ],
   "source": [
    "import requests\n",
    "\n",
    "api_key=\"63b79167f79043a29a1b83f3b5b7f944\"\n",
    "\n",
    "def news():\n",
    "    main_url=\"https://newsapi.org/v2/top-headlines?country=in&apiKey=\"+api_key\n",
    "    news=requests.get(main_url).json()\n",
    "    # print(news)\n",
    "    article=news[\"articles\"]\n",
    "    # print(article)\n",
    "\n",
    "    news_article=[]\n",
    "    for arti in article:\n",
    "        news_article+=[(f\"TITLE : {arti['title']}\\nNEWS : {arti['content']}\\n\")]\n",
    "        # print(news_article)\n",
    "\n",
    "    for i in range(2):\n",
    "        print(i+1,news_article[i])\n",
    "\n",
    "\n",
    "\n",
    "\n",
    "\n",
    "news()"
   ]
  },
  {
   "cell_type": "code",
   "execution_count": 9,
   "metadata": {},
   "outputs": [
    {
     "name": "stdout",
     "output_type": "stream",
     "text": [
      "1 TITLE : Redeem Codes: Garena Free Fire Max Redeem Codes for December 20: Win freebies and rewards - Times of India - Times of India\n",
      " NEWS : 5G phones with IR blaster under Rs 30,000\n",
      "\n",
      "2 TITLE : Scientists develop single bio-nano system against multiple health problems - Hindustan Times\n",
      " NEWS : PUNE: Scientists of Shri Shiv Chhatrapati College, Junnar, which is affiliated to the Savitribai Phule Pune University (SPPU), have developed a single bio-nano system acting as an antimicrobial, anti… [+3838 chars]\n",
      "\n"
     ]
    }
   ],
   "source": [
    "def speak(str):\n",
    "    from win32com.client import Dispatch\n",
    "\n",
    "    speak = Dispatch(\"SAPI.SpVoice\")\n",
    "\n",
    "    speak.Speak(str)\n",
    "# ===================================================================================================================\n",
    "# ===================================================================================================================\n",
    "import requests\n",
    "\n",
    "api_key=\"63b79167f79043a29a1b83f3b5b7f944\"\n",
    "\n",
    "def news():\n",
    "    main_url=\"https://newsapi.org/v2/top-headlines?country=in&apiKey=\"+api_key\n",
    "    news=requests.get(main_url).json()\n",
    "    # print(news)\n",
    "    article=news[\"articles\"]\n",
    "    # print(article)\n",
    "\n",
    "    news_article=[]\n",
    "    for arti in article:\n",
    "        news_article+=[(f\"TITLE : {arti['title']}\\n NEWS : {arti['content']}\\n\")]\n",
    "        # print(news_article)\n",
    "\n",
    "    for i in range(2):\n",
    "        print(i+1,news_article[i])\n",
    "        if __name__=='__main__':\n",
    "            speak(news_article[i])\n",
    "\n",
    "news()\n",
    "# st=\"hello sayadh\"\n",
    "# if __name__=='__main__':\n",
    "#     speak()"
   ]
  },
  {
   "cell_type": "code",
   "execution_count": 19,
   "metadata": {},
   "outputs": [],
   "source": [
    "def speak(str):\n",
    "    from win32com.client import Dispatch\n",
    "\n",
    "    speak = Dispatch(\"SAPI.SpVoice\")\n",
    "\n",
    "    speak.Speak(str)\n",
    "# ===================================================================================================================\n",
    "# ===================================================================================================================\n",
    "import requests\n",
    "\n",
    "api_key=\"63b79167f79043a29a1b83f3b5b7f944\"\n",
    "\n",
    "def news():\n",
    "    main_url=\"https://newsapi.org/v2/top-headlines?country=in&apiKey=\"+api_key\n",
    "    news=requests.get(main_url).json()\n",
    "    # print(news)\n",
    "    article=news[\"articles\"]\n",
    "    # print(article)\n",
    "\n",
    "   \n",
    "    # for arti in article:\n",
    "    #     news_article+=[(f\"TITLE : {arti['title']}\\n\")]\n",
    "        # print(news_article)\n",
    "\n",
    "    # for i in range(2):\n",
    "    #     print(i+1,news_article[i])\n",
    "        # if __name__=='__main__':\n",
    "        #     speak(news_article)\n",
    "\n",
    "news()\n",
    "news_article=\" 'Naruto',an iconic anime, follows the journey of Naruto Uzumaki, a spirited ninja with dreams of becoming the strongest in his village. Filled with action, intricate storytelling, and character development, the series explores themes of friendship, perseverance, and self-discovery. As Naruto faces formidable foes and navigates personal challenges, his indomitable spirit resonates with audiences worldwide. With its captivating narrative, diverse characters, and epic battles, Naruto has left an enduring impact on the anime landscape, earning a dedicated fan base over the years.\"\n",
    "# st=\"hello sayadh\"\n",
    "if __name__=='__main__':\n",
    "    speak(news_article)"
   ]
  }
 ],
 "metadata": {
  "kernelspec": {
   "display_name": "Python 3",
   "language": "python",
   "name": "python3"
  },
  "language_info": {
   "codemirror_mode": {
    "name": "ipython",
    "version": 3
   },
   "file_extension": ".py",
   "mimetype": "text/x-python",
   "name": "python",
   "nbconvert_exporter": "python",
   "pygments_lexer": "ipython3",
   "version": "3.11.6"
  }
 },
 "nbformat": 4,
 "nbformat_minor": 2
}
