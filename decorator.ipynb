{
 "cells": [
  {
   "cell_type": "code",
   "execution_count": 4,
   "metadata": {},
   "outputs": [
    {
     "name": "stdout",
     "output_type": "stream",
     "text": [
      "Testcase 1 ==> input is 2 output is PASSED\n",
      "Testcase 2 ==> input is 3 output is PASSED\n",
      "Testcase 3 ==> input is 5 output is PASSED\n",
      "Testcase 4 ==> input is 7 output is PASSED\n",
      "Testcase 5 ==> input is 11 output is PASSED\n",
      "Testcase 6 ==> input is 14 output is PASSED\n",
      "Testcase 7 ==> input is 16 output is PASSED\n",
      "Testcase 8 ==> input is 19 output is PASSED\n",
      "Testcase 9 ==> input is 24 output is PASSED\n",
      "Testcase 10 ==> input is 22 output is PASSED\n"
     ]
    },
    {
     "data": {
      "text/plain": [
       "10"
      ]
     },
     "execution_count": 4,
     "metadata": {},
     "output_type": "execute_result"
    }
   ],
   "source": [
    "def check_prime(func):\n",
    "    def inner(*args,**kwargs):\n",
    "        d={2:True,3:True,5:True,7:True,11:True,14:False,16:False,19:True,24:False,22:False}\n",
    "        count=1\n",
    "        rating=0\n",
    "        for i in d:\n",
    "            if func(i)==d[i]:\n",
    "                res=f\"Testcase {count} ==> input is {i} output is PASSED\"\n",
    "                print(res)\n",
    "                rating+=1\n",
    "            else:\n",
    "                res=f\"Testcase {count} ==> input is {i} output is FAILED\"\n",
    "                print(res)\n",
    "            count+=1\n",
    "        return rating\n",
    "    return inner\n",
    "\n",
    "@check_prime\n",
    "def prime(n):\n",
    "    for i in range(2,n):\n",
    "        if n%i==0:\n",
    "            return False\n",
    "    return True\n",
    "prime(5)"
   ]
  }
 ],
 "metadata": {
  "kernelspec": {
   "display_name": "Python 3",
   "language": "python",
   "name": "python3"
  },
  "language_info": {
   "codemirror_mode": {
    "name": "ipython",
    "version": 3
   },
   "file_extension": ".py",
   "mimetype": "text/x-python",
   "name": "python",
   "nbconvert_exporter": "python",
   "pygments_lexer": "ipython3",
   "version": "3.11.6"
  }
 },
 "nbformat": 4,
 "nbformat_minor": 2
}
