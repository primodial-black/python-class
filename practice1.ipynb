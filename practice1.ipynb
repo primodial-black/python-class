{
 "cells": [
  {
   "cell_type": "code",
   "execution_count": null,
   "metadata": {},
   "outputs": [],
   "source": [
    "#wap to do sumof the digits in given no and final reslut is prime or not\n",
    "n=134\n",
    "sum=0\n",
    "while n:\n",
    "    lastdigit=n%10\n",
    "    sum+=lastdigit    \n",
    "    n=n//10\n",
    "print(sum)\n",
    "i=1\n",
    "count=0\n",
    "while i<=sum:\n",
    "    if sum%i==0:\n",
    "        count+=1\n",
    "    i+=1\n",
    "if count==2:\n",
    "    print('prime number')\n",
    "else:\n",
    "    print('not a prime number')"
   ]
  },
  {
   "cell_type": "code",
   "execution_count": null,
   "metadata": {},
   "outputs": [],
   "source": [
    "#wap for sum of odd values from 25 to 65\n",
    "m=25\n",
    "n=65\n",
    "sum=0\n",
    "while m<=n:\n",
    "    if m%2!=0:\n",
    "        sum+=m\n",
    "    m+=1\n",
    "print(sum)\n",
    "    "
   ]
  },
  {
   "cell_type": "code",
   "execution_count": null,
   "metadata": {},
   "outputs": [],
   "source": [
    "#factorial for1 to n\n",
    "n=1\n",
    "m=10\n",
    "while n<=m:\n",
    "    i=1\n",
    "    p=1\n",
    "    while i<=n:\n",
    "        p*=i\n",
    "        i+=1\n",
    "    print(n,\"--->\",p)\n",
    "    n+=1\n",
    "    "
   ]
  },
  {
   "cell_type": "code",
   "execution_count": null,
   "metadata": {},
   "outputs": [],
   "source": [
    "a=0\n",
    "b=1                 #fibonocci in list\n",
    "i=1\n",
    "list1=[a]\n",
    "while i<=10:\n",
    "    c=a+b\n",
    "    list1.append(c)\n",
    "    a,b=b,c\n",
    "    i+=1\n",
    "print(list1)"
   ]
  },
  {
   "cell_type": "code",
   "execution_count": null,
   "metadata": {},
   "outputs": [],
   "source": [
    "m=1\n",
    "n=50             #prime  in list\n",
    "list=[]\n",
    "while m<=n:\n",
    "    i=2\n",
    "    count=0\n",
    "    while i<m:\n",
    "        if(m%i==0):\n",
    "            count+=1\n",
    "        i+=1\n",
    "    if count==0:\n",
    "        list.append(m)\n",
    "        \n",
    "    m+=1\n",
    "print(list)"
   ]
  },
  {
   "cell_type": "code",
   "execution_count": null,
   "metadata": {},
   "outputs": [],
   "source": [
    "#32\n",
    "def is_prime(n):\n",
    "    if n <= 1:\n",
    "        return False\n",
    "    for i in range(2, int(n**0.5) + 1):\n",
    "        if n % i == 0:\n",
    "            return False\n",
    "    return True\n",
    "def fibonacci(limit):\n",
    "    sequence = [1, 1]\n",
    "    while sequence[-1] + sequence[-2] <= limit:\n",
    "        sequence.append(sequence[-1] + sequence[-2])\n",
    "    return sequence\n",
    "limit = 100\n",
    "fib_sequence = fibonacci(limit)\n",
    "\n",
    "prime_numbers = []\n",
    "for num in fib_sequence:\n",
    "    if is_prime(num):\n",
    "        prime_numbers.append(num)\n",
    "\n",
    "print(prime_numbers)"
   ]
  },
  {
   "cell_type": "code",
   "execution_count": 1,
   "metadata": {},
   "outputs": [
    {
     "name": "stdout",
     "output_type": "stream",
     "text": [
      "10 position of the @\n",
      "valid email id\n"
     ]
    }
   ],
   "source": [
    "st='PYSPIde12r@gmail.co.edu'\n",
    "i=0\n",
    "temp=0\n",
    "while i<len(st):\n",
    "    if not('A'<=st[i]<='Z' or 'a'<=st[i]<='z' or '0'<=st[i]<='9' or st[i] in '@.'):\n",
    "        temp+=1\n",
    "    i+=1\n",
    "if temp==0:\n",
    "    if '@' and '.' in st:\n",
    "        start=0\n",
    "        pos=None\n",
    "        count=0\n",
    "        while start<len(st):\n",
    "            if '@'==st[start]:\n",
    "                pos=start\n",
    "                count+=1\n",
    "            start+=1\n",
    "        if count==1:\n",
    "            print(pos,\"position of the @\")\n",
    "            if '.' in st[pos:]:\n",
    "                count1=0\n",
    "                x=pos\n",
    "                while x<len(st):    # type: ignore\n",
    "                    if '.'==st[x]:  # type: ignore\n",
    "                        count1+=1\n",
    "                    x+=1  # type: ignore\n",
    "                if 1<=count1<=2:\n",
    "                    print(\"valid email id\")\n",
    "                else:\n",
    "                    print(\"invalid email id\")\n",
    "            else:\n",
    "                print(\"invalid email id\")\n",
    "        else:\n",
    "            print(\"invalid email id\")\n",
    "    else:\n",
    "        print(\"invalid\")   \n",
    "else:\n",
    "    print(\"invalid email id\")   \n",
    "                        \n",
    "                    "
   ]
  },
  {
   "cell_type": "code",
   "execution_count": null,
   "metadata": {},
   "outputs": [],
   "source": [
    "st=\"DEATHNOTE123@\"\n",
    "l1=\"\"\n",
    "i=0\n",
    "while i<len(st):\n",
    "    l1+=st[i].lower() # type: ignore\n",
    "    i+=1\n",
    "print(l1)\n",
    "\n",
    "st=\"deathnote123@!#$%\"\n",
    "l1=\"\"\n",
    "i=0\n",
    "while i<len(st):\n",
    "    l1+=st[i].upper() # type: ignore\n",
    "    i+=1\n",
    "print(l1)"
   ]
  },
  {
   "cell_type": "code",
   "execution_count": null,
   "metadata": {},
   "outputs": [],
   "source": [
    "st=\"death note 123 @!#$%\"\n",
    "l1=\"\"\n",
    "i=0\n",
    "while i<len(st):\n",
    "    l1+=st[i].upper() # type: ignore\n",
    "    if st[i]==\" \":\n",
    "        l1+=\"_\"\n",
    "    i+=1\n",
    "print(l1)"
   ]
  },
  {
   "cell_type": "code",
   "execution_count": null,
   "metadata": {},
   "outputs": [],
   "source": [
    "st=\"death note 123 @!#$%\"\n",
    "l1=\"\"\n",
    "i=1\n",
    "if 'a'<=st[0]<='z':\n",
    "    l1+=st[0].upper()  \n",
    "while i<len(st):\n",
    "    l1+=st[i] # type: ignore\n",
    "    if st[i]==\" \":\n",
    "        l1+=\"_\"\n",
    "    i+=1\n",
    "print(l1) \n"
   ]
  },
  {
   "cell_type": "code",
   "execution_count": null,
   "metadata": {},
   "outputs": [],
   "source": [
    "st=\"ATTACK ON TITANS123@#$%\"\n",
    "st1=\"\"\n",
    "i=0\n",
    "while i<len(st):\n",
    "    if \"A\"<=st[i]<=\"Z\":\n",
    "        st1+=st[i].lower()\n",
    "    elif st[i]==\" \":\n",
    "        st1+='_'\n",
    "    elif 'a'<=st[i]<='z':\n",
    "        st1+=st[i]\n",
    "    i+=1\n",
    "st1=\"__\"+st1+\"__\"\n",
    "print(st1)\n"
   ]
  },
  {
   "cell_type": "code",
   "execution_count": null,
   "metadata": {},
   "outputs": [],
   "source": [
    "st=\"death note light yagami\"\n",
    "l1=\"\"\n",
    "i=1\n",
    "if 'a'<=st[0]<='z':\n",
    "    l1+=st[0].upper()  \n",
    "while i<len(st):\n",
    "    l1+=st[i] # type: ignore\n",
    "    if st[i]==\" \":\n",
    "        l1+=\"_\"\n",
    "        l1+=st[i+1].upper()\n",
    "    \n",
    "    elif l1==\"_\":\n",
    "        l1=\n",
    "    i+=1\n",
    "print(l1) "
   ]
  },
  {
   "cell_type": "code",
   "execution_count": null,
   "metadata": {},
   "outputs": [],
   "source": [
    "def capitalize_words(string):\n",
    "    # Split the string into words\n",
    "    words = string.split()\n",
    "\n",
    "    # Initialize an empty list to store the capitalized words\n",
    "    capitalized_words = []\n",
    "\n",
    "    # Iterate through each word and capitalize the first letter\n",
    "    index = 0\n",
    "    while index < len(words):\n",
    "        word = words[index]\n",
    "        capitalized_word = word[0].upper() + word[1:]\n",
    "        capitalized_words.append(capitalized_word)\n",
    "        index += 1\n",
    "        print(capitalized_word)\n",
    "    # Join the capitalized words back into a single string\n",
    "    capitalized_string = ' '.join(capitalized_words)\n",
    "\n",
    "    return capitalized_string\n",
    "\n",
    "\n",
    "# Example usage\n",
    "input_string = \"hello world, how are you?\"\n",
    "output_string = capitalize_words(input_string)\n",
    "print(output_string)  # Output: Hello World, How Are You?\n"
   ]
  },
  {
   "cell_type": "code",
   "execution_count": 1,
   "metadata": {},
   "outputs": [
    {
     "name": "stdout",
     "output_type": "stream",
     "text": [
      "{'h': 1, 'e': 1, 'l': 3, 'o': 2, 'w': 1, 'r': 1, 'd': 1}\n"
     ]
    }
   ],
   "source": [
    "st=\"helloworld\"\n",
    "s={}\n",
    "i=0\n",
    "while i<len(st):\n",
    "    if st[i] not in s:\n",
    "        s[st[i]]=1\n",
    "    else:\n",
    "        s[st[i]]+=1\n",
    "        \n",
    "    i+=1\n",
    "print(s)\n",
    "          "
   ]
  },
  {
   "cell_type": "code",
   "execution_count": null,
   "metadata": {},
   "outputs": [],
   "source": [
    "st=\"helloworld\"\n",
    "j=0\n",
    "count=0\n",
    "s=\"\"\n",
    "while j<len(st):\n",
    "    i=1\n",
    "    while i<len(st):\n",
    "        print(st[j])\n",
    "        if st[j]==st[i]:\n",
    "            count+=1\n",
    "            if count>1:\n",
    "                s+=st[i]\n",
    "        i+=1\n",
    "    j+=1\n",
    "print(s,count)"
   ]
  },
  {
   "cell_type": "code",
   "execution_count": null,
   "metadata": {},
   "outputs": [],
   "source": [
    "st=\"hello haIi WOrld welcome to py$hon clAsS\"\n",
    "l1=\"\"\n",
    "i=1\n",
    "if 'a'<=st[0]<='z':\n",
    "    l1+=st[0].upper()  \n",
    "while i<len(st):\n",
    "    l1+=st[i] # type: ignore\n",
    "    if st[i]==\" \":\n",
    "        l1+=\"_\"\n",
    "        l1+=st[i+1].upper()"
   ]
  },
  {
   "cell_type": "code",
   "execution_count": null,
   "metadata": {},
   "outputs": [],
   "source": [
    "st=\"hello haIi WOrld we1v3coMe to py$hon clAsS\"\n",
    "print(st.title())"
   ]
  },
  {
   "cell_type": "code",
   "execution_count": 2,
   "metadata": {},
   "outputs": [
    {
     "name": "stdout",
     "output_type": "stream",
     "text": [
      "145\n",
      "strong\n"
     ]
    }
   ],
   "source": [
    "n=145\n",
    "temp=n\n",
    "sum=0\n",
    "while n:\n",
    "    i=1\n",
    "    ld=n%10\n",
    "    res=1\n",
    "    while i<=ld:\n",
    "        res*=i\n",
    "        i+=1\n",
    "    n//=10\n",
    "    sum+=res\n",
    "print(sum)\n",
    "if temp==sum:\n",
    "    print(\"strong\")"
   ]
  },
  {
   "cell_type": "code",
   "execution_count": 6,
   "metadata": {},
   "outputs": [
    {
     "name": "stdout",
     "output_type": "stream",
     "text": [
      "153\n",
      "armstrong\n"
     ]
    }
   ],
   "source": [
    "n=153\n",
    "s=len(str(n))\n",
    "temp=n\n",
    "sum=0\n",
    "while n:\n",
    "    ld=n%10\n",
    "    sum+=ld**s\n",
    "    n//=10\n",
    "if sum==temp:\n",
    "    print(sum)\n",
    "    print(\"armstrong\")"
   ]
  },
  {
   "cell_type": "code",
   "execution_count": 14,
   "metadata": {},
   "outputs": [
    {
     "name": "stdout",
     "output_type": "stream",
     "text": [
      "6\n"
     ]
    }
   ],
   "source": [
    "n=6\n",
    "i=1\n",
    "prod=0\n",
    "while i<n:\n",
    "    if n%i==0:\n",
    "        prod+=i\n",
    "    i+=1\n",
    "print(prod)\n",
    "     "
   ]
  },
  {
   "cell_type": "code",
   "execution_count": 7,
   "metadata": {},
   "outputs": [
    {
     "name": "stdout",
     "output_type": "stream",
     "text": [
      "This He#@Llo H1Ow Ar$(E You\n",
      "This He#@Llo H1Ow Ar$(E You\n"
     ]
    }
   ],
   "source": [
    "#WAP to convert title case in a given string.\n",
    "st=\"ThiS he#@llo h1ow ar$(e you\"\n",
    "print(st.title())\n",
    "i=1\n",
    "res=\"\"\n",
    "res+=st[0].upper()\n",
    "while i<len(st):\n",
    "    if (\"a\"<=st[i]<=\"z\") and not(\"a\"<=st[i-1]<=\"z\" or \"A\"<=st[i-1]<=\"Z\"):\n",
    "        res+=st[i].upper()\n",
    "    elif \"A\"<=st[i]<=\"Z\":\n",
    "        res+=st[i].lower()\n",
    "    else:\n",
    "        res+=st[i]\n",
    "    i+=1\n",
    "print(res)"
   ]
  },
  {
   "cell_type": "code",
   "execution_count": 42,
   "metadata": {},
   "outputs": [
    {
     "name": "stdout",
     "output_type": "stream",
     "text": [
      "4\n",
      "12\n",
      "17\n",
      "23\n",
      "ThiS\n",
      "he#@llo\n",
      "h1ow\n",
      "ar$(e\n",
      "you\n"
     ]
    }
   ],
   "source": [
    "st=\"ThiS he#@llo h1ow ar$(e you\"\n",
    "i=0\n",
    "while i<len(st):\n",
    "    if st[i]==\" \":\n",
    "        print(i)   \n",
    "    i+=1\n",
    "# print(st[:4])\n",
    "# print(st[5:12])\n",
    "# print(st[13:17])\n",
    "# print(st[18:23])\n",
    "# print(st[24:])\n",
    "j=0\n",
    "res=\"\"\n",
    "while j<i:\n",
    "    print(st[j],end=\"\")\n",
    "    j+=1"
   ]
  },
  {
   "cell_type": "code",
   "execution_count": 4,
   "metadata": {},
   "outputs": [
    {
     "name": "stdout",
     "output_type": "stream",
     "text": [
      "hello\n",
      "haii\n",
      "\n",
      "\n",
      "\n",
      "how\n",
      "are\n",
      "you\n",
      "\n"
     ]
    }
   ],
   "source": [
    "st=\"hello haii    how are you \"\n",
    "i=0\n",
    "res=\"\"\n",
    "while i<len(st):\n",
    "    if st[i]!=\" \":\n",
    "        res+=st[i]\n",
    "    else:\n",
    "        print(res)\n",
    "        res=\"\"\n",
    "    i+=1\n",
    "print(res)"
   ]
  },
  {
   "cell_type": "code",
   "execution_count": 3,
   "metadata": {},
   "outputs": [
    {
     "name": "stdout",
     "output_type": "stream",
     "text": [
      "hello\n",
      "haii\n",
      "how\n",
      "are\n",
      "you\n"
     ]
    }
   ],
   "source": [
    "st=\"hello haii    how are you \"\n",
    "i=0\n",
    "res=\"\"\n",
    "while i<len(st):\n",
    "    if st[i]!=\" \":\n",
    "        res+=st[i]\n",
    "    else:\n",
    "        if len(res)!=0:\n",
    "            print(res)\n",
    "        res=\"\"\n",
    "    i+=1\n",
    "if len(res)!=0:\n",
    "    print(res)"
   ]
  },
  {
   "cell_type": "code",
   "execution_count": 18,
   "metadata": {},
   "outputs": [
    {
     "name": "stdout",
     "output_type": "stream",
     "text": [
      "['hello', 'haii', 'how', 'are', 'you']\n"
     ]
    }
   ],
   "source": [
    "st=\" hello    haii how are you\"\n",
    "res=[[\"\"],[]][st[0]==\" \"]\n",
    "i=0\n",
    "while i<len(st):\n",
    "    if st[i]!=\" \":\n",
    "        res[-1]+=st[i]\n",
    "    else:\n",
    "        if len(st)-1!=0 and st[i+1]!=\" \":\n",
    "            res+=[\"\"]\n",
    "    i+=1\n",
    "print(res)"
   ]
  },
  {
   "cell_type": "code",
   "execution_count": 8,
   "metadata": {},
   "outputs": [
    {
     "name": "stdout",
     "output_type": "stream",
     "text": [
      "['hello haii ', ' how are you ', ' good evening ', ' good bye']\n"
     ]
    }
   ],
   "source": [
    "#segregate lines\n",
    "\n",
    "st=\"hello haii \\n how are you \\n good evening \\n good bye\"\n",
    "i=0\n",
    "sp=\"\\n\"\n",
    "res=\"\"\n",
    "l=[]\n",
    "while i<len(st):\n",
    "    if st[i]!=sp:\n",
    "        res+=st[i]\n",
    "    else:\n",
    "        if len(res)!=0:\n",
    "            l+=[res]\n",
    "            res=\"\"\n",
    "    i+=1\n",
    "if len(res)!=0:\n",
    "    l+=[res]\n",
    "print(l)"
   ]
  },
  {
   "cell_type": "code",
   "execution_count": 35,
   "metadata": {},
   "outputs": [
    {
     "name": "stdout",
     "output_type": "stream",
     "text": [
      "['hello', 'haii', 'how', 'are', 'you', 'good', 'evening', 'good', 'bye']\n",
      "haygeb\n",
      "[['hello', 'haii', 'how'], ['are'], ['you'], ['good', 'good'], ['evening'], ['bye']]\n"
     ]
    }
   ],
   "source": [
    "st=\"hello haii how are you good evening good bye\"\n",
    "i=0\n",
    "sp=\" \"\n",
    "res=\"\"\n",
    "l=[]\n",
    "while i<len(st):\n",
    "    if st[i]!=sp:\n",
    "        res+=st[i]\n",
    "    else:\n",
    "        if len(res)!=0:\n",
    "            l+=[res]\n",
    "            res=\"\"\n",
    "    i+=1\n",
    "if len(res)!=0:\n",
    "    l+=[res]\n",
    "print(l)\n",
    "\n",
    "uni=\"\"\n",
    "j=0\n",
    "while j<len(l):\n",
    "    if l[j][0] not in uni:\n",
    "        uni+=l[j][0]\n",
    "    j+=1\n",
    "print(uni)\n",
    "\n",
    "d=[]\n",
    "k=0\n",
    "while k<len(uni):\n",
    "    x=0\n",
    "    d+=[[]]\n",
    "    while x<len(l):\n",
    "        if uni[k]==l[x][0]:\n",
    "            d[-1]+=[l[x]]\n",
    "        x+=1\n",
    "    k+=1\n",
    "print(d)\n"
   ]
  },
  {
   "cell_type": "code",
   "execution_count": null,
   "metadata": {},
   "outputs": [],
   "source": []
  },
  {
   "cell_type": "code",
   "execution_count": 7,
   "metadata": {},
   "outputs": [
    {
     "name": "stdout",
     "output_type": "stream",
     "text": [
      "['hello', 'haii', 'how', 'are', 'you', 'good', 'evening', 'good', 'bye']\n",
      "9\n",
      "[5, 4, 3, 7]\n",
      "[['hello'], ['haii', 'good', 'good'], ['how', 'are', 'you', 'bye'], ['evening']]\n"
     ]
    }
   ],
   "source": [
    "st=\"hello haii how are you good evening good bye\"\n",
    "i=0\n",
    "res=\"\"\n",
    "l=[]\n",
    "while i<len(st):\n",
    "    if st[i]!=\" \":\n",
    "        res+=st[i]\n",
    "    else:\n",
    "        if len(res)!=0:\n",
    "            l+=[res]\n",
    "            res=\"\"\n",
    "    i+=1\n",
    "if len(res)!=0:\n",
    "    l+=[res]\n",
    "print(l)\n",
    "\n",
    "uni=[]\n",
    "j=0\n",
    "print(len(l))\n",
    "while j<len(l):\n",
    "    if len(l[j]) not in uni:\n",
    "        uni+=[len(l[j])]\n",
    "    j+=1\n",
    "print(uni)\n",
    "\n",
    "d=[]\n",
    "k=0\n",
    "while k<len(uni):\n",
    "    x=0\n",
    "    d+=[[]]\n",
    "    while x<len(l):\n",
    "        if uni[k]==len(l[x]):\n",
    "            d[-1]+=[l[x]]\n",
    "        x+=1\n",
    "    k+=1\n",
    "print(d)\n"
   ]
  },
  {
   "cell_type": "code",
   "execution_count": 1,
   "metadata": {},
   "outputs": [
    {
     "name": "stdout",
     "output_type": "stream",
     "text": [
      "['hello', 'haii', 'how', 'are', 'you', 'good', 'evening', 'good', 'bye']\n",
      "haygeb\n",
      "[['hello', 'haii', 'how'], ['are'], ['you'], ['good', 'good'], ['evening'], ['bye']]\n"
     ]
    }
   ],
   "source": [
    "st=\"hello haii how are you good evening good bye\"\n",
    "res=\"\"\n",
    "i=0\n",
    "l=[]\n",
    "while i<len(st):\n",
    "    if st[i]!=\" \":\n",
    "        res+=st[i]\n",
    "    else:\n",
    "        if len(res)!=0:\n",
    "            l+=[res]\n",
    "            res=\"\"\n",
    "    i+=1\n",
    "if len(res)!=0:\n",
    "    l+=[res]\n",
    "print(l)\n",
    "\n",
    "uni=\"\"\n",
    "j=0\n",
    "while j<len(l):\n",
    "    if l[j][0] not in uni:\n",
    "        uni+=l[j][0]\n",
    "    j+=1\n",
    "print(uni)\n",
    "\n",
    "k=0\n",
    "d=[]\n",
    "while k<len(uni):\n",
    "    x=0\n",
    "    d+=[[]]\n",
    "    while x<len(l):\n",
    "        if uni[k]==l[x][0]:\n",
    "            d[-1]+=[l[x]]\n",
    "        x+=1\n",
    "    k+=1\n",
    "print(d)\n",
    "        "
   ]
  },
  {
   "cell_type": "code",
   "execution_count": 9,
   "metadata": {},
   "outputs": [
    {
     "name": "stdout",
     "output_type": "stream",
     "text": [
      "['maths', 'hindi', 'english', 'science']\n",
      "67 hindi\n",
      "99 english\n"
     ]
    }
   ],
   "source": [
    "d={\"maths\":70,\"hindi\":67,\"english\":99,\"science\":80}\n",
    "l=list(d) # type: ignore\n",
    "print(l)\n",
    "\n",
    "min=100\n",
    "mink=\"\"\n",
    "max=0\n",
    "maxk=\"\"\n",
    "i=0\n",
    "while i<len(l):\n",
    "    if max<d[l[i]]: # type: ignore\n",
    "        max=d[l[i]]\n",
    "        maxk=l[i]\n",
    "    if min>d[l[i]]: # type: ignore\n",
    "        min=d[l[i]]\n",
    "        mink=l[i]\n",
    "    i+=1\n",
    "print(min,mink)\n",
    "print(max,maxk)"
   ]
  },
  {
   "cell_type": "code",
   "execution_count": 10,
   "metadata": {},
   "outputs": [
    {
     "name": "stdout",
     "output_type": "stream",
     "text": [
      "hII hELLO hOW aRE yOU\n"
     ]
    }
   ],
   "source": [
    "#WAP to Toggle Characters Case in a String.\n",
    "st=\"hii hello how are you\"\n",
    "i=1\n",
    "res=\"\"\n",
    "res+=st[0].lower()\n",
    "while i<len(st):\n",
    "    if (\"a\"<=st[i]<=\"z\" or \"A\"<=st[i]<=\"Z\") and st[i-1]==\" \":\n",
    "        res+=st[i].lower() \n",
    "    else:\n",
    "        res+=st[i].upper()\n",
    "    i+=1\n",
    "print(res)"
   ]
  },
  {
   "cell_type": "code",
   "execution_count": 27,
   "metadata": {},
   "outputs": [
    {
     "name": "stdout",
     "output_type": "stream",
     "text": [
      "6\n",
      "[1, 2, 3]\n",
      "15\n",
      "[4, 5, 6]\n",
      "24\n",
      "[7, 8, 9]\n"
     ]
    }
   ],
   "source": [
    "l=[[1,2,3],[4,5,6],[7,8,9]]\n",
    "x=0\n",
    "while x<len(l):\n",
    "    sum=0\n",
    "    y=0\n",
    "    while y<len(l[x]):\n",
    "        sum+=l[x][y]\n",
    "        y+=1\n",
    "    print(sum)\n",
    "    print(l[x])\n",
    "    x+=1\n"
   ]
  },
  {
   "cell_type": "code",
   "execution_count": 7,
   "metadata": {},
   "outputs": [
    {
     "name": "stdout",
     "output_type": "stream",
     "text": [
      "28\n",
      "80\n",
      "162\n"
     ]
    }
   ],
   "source": [
    "l=[[1,2,3],[4,5,6],[7,8,9]]\n",
    "i=0\n",
    "while i<len(l[0]):\n",
    "    prod=1\n",
    "    k=0\n",
    "    while k<len(l):\n",
    "        prod*=l[k][i]\n",
    "        k+=1\n",
    "    print(prod)\n",
    "    i+=1\n",
    "        "
   ]
  },
  {
   "cell_type": "code",
   "execution_count": 69,
   "metadata": {},
   "outputs": [
    {
     "name": "stdout",
     "output_type": "stream",
     "text": [
      "abc\n",
      "def\n",
      "ijk\n",
      "lmno\n",
      "\n"
     ]
    }
   ],
   "source": [
    "#wap to count the seq chars in given string ,min seq is 3\n",
    "st=\"abcc gjhugh defjbhh guv ijkbdvdg fhio lmno fhf dhfgdvd\"\n",
    "i=0\n",
    "s=''\n",
    "while i<len(st):\n",
    "    \n",
    "    if i!=len(st) - 1 and ord(st[i])+1==ord(st[i+1]):\n",
    "        if st[i]not in s:\n",
    "            s+=st[i]\n",
    "    elif ord(st[i-1])+1==ord(st[i]):\n",
    "        s+=st[i]\n",
    "    else:\n",
    "        if len(s)>=3 :\n",
    "            print(s)\n",
    "        s=''\n",
    "    i+=1\n",
    "if len(s)>=3 :\n",
    "    s+=st[i]\n",
    "print(s)"
   ]
  },
  {
   "cell_type": "code",
   "execution_count": 55,
   "metadata": {},
   "outputs": [
    {
     "name": "stdout",
     "output_type": "stream",
     "text": [
      "hello\n",
      "hello\n",
      "hello\n",
      "hello\n",
      "hello\n",
      "hello\n",
      "hello\n",
      "hello\n",
      "hello\n",
      "hello1\n"
     ]
    }
   ],
   "source": [
    "i=1\n",
    "n=10\n",
    "while i<n:\n",
    "    print(\"hello\")\n",
    "    i+=1\n",
    "else:\n",
    "    print('hello1')"
   ]
  },
  {
   "cell_type": "code",
   "execution_count": 1,
   "metadata": {},
   "outputs": [
    {
     "name": "stdout",
     "output_type": "stream",
     "text": [
      "9 10\n",
      "8 9\n",
      "7 8\n",
      "5 7\n",
      "4 5\n",
      "3 4\n",
      "2 3\n"
     ]
    }
   ],
   "source": [
    "s=\"23457891345\"\n",
    "n=7\n",
    "g=10\n",
    "while n:\n",
    "    h=0\n",
    "    i=0\n",
    "    while i<len(s):\n",
    "        if int(s[i])>h and int(s[i])<g:\n",
    "            h=int(s[i])\n",
    "        i+=1\n",
    "    print(h,g)\n",
    "    g=h\n",
    "    n-=1\n",
    "        "
   ]
  },
  {
   "cell_type": "code",
   "execution_count": 33,
   "metadata": {},
   "outputs": [
    {
     "name": "stdout",
     "output_type": "stream",
     "text": [
      " 1 \n",
      " 1 2 \n",
      " 1 2 3 \n",
      " 1 2 3 4 \n",
      " 1 2 3 4 5 \n"
     ]
    }
   ],
   "source": [
    "n=5\n",
    "i=1\n",
    "while i<=n:\n",
    "    print(\"\"*(n-i),end=\" \")\n",
    "    j=1\n",
    "    while j<=i:\n",
    "        print(j,end=\" \")\n",
    "        j+=1\n",
    "    print()\n",
    "    i+=1"
   ]
  },
  {
   "cell_type": "code",
   "execution_count": 82,
   "metadata": {},
   "outputs": [
    {
     "name": "stdout",
     "output_type": "stream",
     "text": [
      "1 2 3 4 5 \n",
      "1 2 3 4 \n",
      "1 2 3 \n",
      "1 2 \n",
      "1 \n"
     ]
    }
   ],
   "source": [
    "n=5\n",
    "i=1\n",
    "while i<=n:\n",
    "    #print(\"  \"*(i-1),end=\" \")\n",
    "    j=1\n",
    "    while j<=n-i+1:\n",
    "        print(j,end=\" \")\n",
    "        j+=1\n",
    "    print()\n",
    "    i+=1"
   ]
  },
  {
   "cell_type": "code",
   "execution_count": 59,
   "metadata": {},
   "outputs": [
    {
     "name": "stdout",
     "output_type": "stream",
     "text": [
      "    @ \n",
      "   @ @ \n",
      "  @ @ @ \n",
      " @ @ @ @ \n",
      "@ @ @ @ @ \n"
     ]
    }
   ],
   "source": [
    "n=5\n",
    "i=1\n",
    "while i<=n:\n",
    "    print(\" \"*(n-i),end=\"\")\n",
    "    j=1\n",
    "    while j<=i:\n",
    "        print(\"@\",end=\" \")\n",
    "        j+=1\n",
    "    print()\n",
    "    i+=1"
   ]
  },
  {
   "cell_type": "code",
   "execution_count": 89,
   "metadata": {},
   "outputs": [
    {
     "name": "stdout",
     "output_type": "stream",
     "text": [
      "[a]  [a]  [a]  [a]  \n",
      "[a]  [a]  [a]  \n",
      "[a]  [a]  \n",
      "[a]  \n"
     ]
    }
   ],
   "source": [
    "n=5\n",
    "for i in range(1,n):\n",
    "    #print(\"\"*(n-i),end=\" \")\n",
    "    for j in range(1,n-i+1):\n",
    "        print(\"[a]\",end=\"  \")\n",
    "    print()"
   ]
  },
  {
   "cell_type": "code",
   "execution_count": 6,
   "metadata": {},
   "outputs": [
    {
     "name": "stdout",
     "output_type": "stream",
     "text": [
      "0 1 2 3 4 \n",
      "0 1 2 3 4 \n",
      "0 1 2 3 4 \n",
      "0 1 2 3 4 \n",
      "0 1 2 3 4 \n"
     ]
    }
   ],
   "source": [
    "n=5\n",
    "for i in range(n):\n",
    "    for j in range(n):\n",
    "        print(j,end=' ')\n",
    "    print()\n",
    "        \n",
    "    "
   ]
  },
  {
   "cell_type": "code",
   "execution_count": 11,
   "metadata": {},
   "outputs": [
    {
     "name": "stdout",
     "output_type": "stream",
     "text": [
      "\n",
      "# \n",
      "# # \n",
      "# # # \n",
      "# # # # \n",
      "# # # # # \n"
     ]
    }
   ],
   "source": [
    "n=6\n",
    "for i in range(n):\n",
    "    for j in range(i):\n",
    "        print('#',end=' ')\n",
    "    print()"
   ]
  },
  {
   "cell_type": "code",
   "execution_count": 14,
   "metadata": {},
   "outputs": [
    {
     "name": "stdout",
     "output_type": "stream",
     "text": [
      "@ @ @ @ @ @ @ \n",
      "@ @ @ @ @ @ \n",
      "@ @ @ @ @ \n",
      "@ @ @ @ \n",
      "@ @ @ \n",
      "@ @ \n",
      "@ \n"
     ]
    }
   ],
   "source": [
    "n=7\n",
    "for i in range(n):\n",
    "    for j in range(i,n):\n",
    "        print('@',end=' ')\n",
    "    print()"
   ]
  },
  {
   "cell_type": "code",
   "execution_count": 19,
   "metadata": {},
   "outputs": [
    {
     "name": "stdout",
     "output_type": "stream",
     "text": [
      "last and 1st char should be uppercase\n"
     ]
    }
   ],
   "source": [
    "st='abcdt.shgnh'\n",
    "if not(type(st)==str):\n",
    "    print('value should be a string')\n",
    "elif not(8<=len(st)<=20):\n",
    "    print('pwd length should be min 8 and max 20 chars' )\n",
    "elif not('A'<=st[0]<='Z' and 'A'<=st[-1]<='Z'):\n",
    "    print('last and 1st char should be uppercase')\n",
    "else:\n",
    "    uc,lc,sp,an,ps='','','','',''\n",
    "    for i in s:\n",
    "        if 'A'<=i<='Z':\n",
    "            uc+=i\n",
    "        elif 'a'<=i<='z':\n",
    "            lc+=i \n",
    "        elif '0'<=i<='9':\n",
    "            an+=i    \n",
    "        elif i not in '. { }[]()':\n",
    "            sp+=i\n",
    "        else:\n",
    "            ps+=i\n",
    "    if    "
   ]
  },
  {
   "cell_type": "code",
   "execution_count": 7,
   "metadata": {},
   "outputs": [
    {
     "name": "stdout",
     "output_type": "stream",
     "text": [
      "*  \n",
      "*  *  \n",
      "*  *  *  \n",
      "*  *  *  *  \n",
      "*  *  *  *  *  \n"
     ]
    }
   ],
   "source": [
    "n=5\n",
    "for i in range(n):\n",
    "    for j in range(i+1):\n",
    "        print(\"*\",end=\"  \")\n",
    "    print()\n",
    "    "
   ]
  },
  {
   "cell_type": "code",
   "execution_count": 14,
   "metadata": {},
   "outputs": [
    {
     "ename": "SyntaxError",
     "evalue": "invalid syntax (3264078187.py, line 13)",
     "output_type": "error",
     "traceback": [
      "\u001b[1;36m  Cell \u001b[1;32mIn[14], line 13\u001b[1;36m\u001b[0m\n\u001b[1;33m    w=list(range(,-10,-1)) # type: ignore\u001b[0m\n\u001b[1;37m                 ^\u001b[0m\n\u001b[1;31mSyntaxError\u001b[0m\u001b[1;31m:\u001b[0m invalid syntax\n"
     ]
    }
   ],
   "source": [
    "l=list(range(-10,-1,1)) # type: ignore\n",
    "print(l)\n",
    "\n",
    "e=list(range(-10,-1,2)) # type: ignore    -10<-1\n",
    "print(e)\n",
    "\n",
    "q=list(range(-10,-1,-1)) # type: ignore   for -ve up it should be si>ei\n",
    "print(q)\n",
    "\n",
    "w=list(range(-1,-10,-1)) # type: ignore\n",
    "print(w)\n",
    "\n",
    "w=list(range(,-10,-1)) # type: ignore  si should not be empty\n",
    "print(w)"
   ]
  },
  {
   "cell_type": "code",
   "execution_count": 7,
   "metadata": {},
   "outputs": [
    {
     "name": "stdout",
     "output_type": "stream",
     "text": [
      "[6, 1, 4, 2, 3, 5, 8]\n",
      "[6, 1, 4, 2, 3, 4, 1, 2, 6, 5, 8, 2, 3]\n"
     ]
    }
   ],
   "source": [
    "st=[6,1,4,2,3,4,1,4,2,6,1,2,5,6,8,2,3]\n",
    "uni=[]\n",
    "for i in st:\n",
    "    if i not in uni:\n",
    "        uni+=[i]\n",
    "print(uni)\n",
    "\n",
    "n=3\n",
    "for j in uni:\n",
    "    count=0\n",
    "    for k in range(len(st)-1):\n",
    "        if j==st[k]:\n",
    "            count+=1\n",
    "        if count==n:\n",
    "            del st[k]\n",
    "            break\n",
    "print(st)\n",
    "            "
   ]
  },
  {
   "cell_type": "code",
   "execution_count": 6,
   "metadata": {},
   "outputs": [
    {
     "name": "stdout",
     "output_type": "stream",
     "text": [
      "['hello', 'haii', 'how', 'are', 'you', 'miss', 'gorgeous']\n",
      "haymg\n",
      "[['hello', 'haii', 'how'], ['are'], ['you'], ['miss'], ['gorgeous']]\n"
     ]
    }
   ],
   "source": [
    "st=\"hello haii how are you miss gorgeous\"\n",
    "i=0\n",
    "res=\"\"\n",
    "l=[]\n",
    "while i <len(st):\n",
    "    if st[i]!=\" \":\n",
    "        res+=st[i]\n",
    "    else:\n",
    "        if len(res)!=0:\n",
    "            l+=[res]\n",
    "            res=\"\"\n",
    "    i+=1\n",
    "if len(res)!=0:\n",
    "    l+=[res]\n",
    "print(l)\n",
    "\n",
    "uni=\"\"\n",
    "k=0\n",
    "while k<len(l):\n",
    "    if l[k][0] not in uni:\n",
    "        uni+=l[k][0]\n",
    "    k+=1\n",
    "print(uni)\n",
    "\n",
    "\n",
    "d=[]\n",
    "a=0\n",
    "while a<len(uni):\n",
    "    b=0\n",
    "    d+=[[]]\n",
    "    while b<len(l):\n",
    "        if uni[a]==l[b][0]:\n",
    "            d[-1]+=[l[b]]\n",
    "        b+=1\n",
    "    a+=1\n",
    "print(d)"
   ]
  },
  {
   "cell_type": "code",
   "execution_count": 21,
   "metadata": {},
   "outputs": [
    {
     "name": "stdout",
     "output_type": "stream",
     "text": [
      "['hello', 'haii', 'how', 'are', 'you', 'miss']\n",
      "haym\n",
      "{'h': 'how', 'a': 'are', 'y': 'you', 'm': 'miss'}\n"
     ]
    }
   ],
   "source": [
    "st=\"hello haii how are you miss gorgeous\"\n",
    "l=[]\n",
    "res=\"\"\n",
    "for i in st:\n",
    "    if i!=\" \":\n",
    "        res+=i\n",
    "    else:\n",
    "        if len(res)>0:\n",
    "            l+=[res]\n",
    "            res=\"\"\n",
    "print(l)\n",
    "\n",
    "uni=\"\"\n",
    "for j in range(len(l)):\n",
    "    if l[j][0] not in uni:\n",
    "        uni+=l[j][0]\n",
    "print(uni)\n",
    "\n",
    "d={}\n",
    "for k in range(len(uni)):\n",
    "    for m in range(len(l)):\n",
    "        if uni[k]==l[m][0]:\n",
    "            d[uni[k]]=l[m] \n",
    "        # else:\n",
    "        #     d[uni[k]]=l[m]\n",
    "print(d)\n",
    "    "
   ]
  }
 ],
 "metadata": {
  "kernelspec": {
   "display_name": "Python 3",
   "language": "python",
   "name": "python3"
  },
  "language_info": {
   "codemirror_mode": {
    "name": "ipython",
    "version": 3
   },
   "file_extension": ".py",
   "mimetype": "text/x-python",
   "name": "python",
   "nbconvert_exporter": "python",
   "pygments_lexer": "ipython3",
   "version": "3.10.11"
  },
  "orig_nbformat": 4
 },
 "nbformat": 4,
 "nbformat_minor": 2
}
