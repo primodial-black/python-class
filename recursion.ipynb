{
 "cells": [
  {
   "cell_type": "code",
   "execution_count": 2,
   "metadata": {},
   "outputs": [
    {
     "name": "stdout",
     "output_type": "stream",
     "text": [
      "HaII hELlo 10\n"
     ]
    }
   ],
   "source": [
    "st=\"hAii HelLO\"\n",
    "def swap(st,i=0,res=\"\"):\n",
    "    if i==len(st):\n",
    "        print(res,len(st))\n",
    "        return\n",
    "    if st[i].islower():\n",
    "        res+=st[i].upper()\n",
    "    elif st[i].isupper():\n",
    "        res+=st[i].lower()\n",
    "    else:\n",
    "        res+=st[i]\n",
    "    swap(st,i+1,res)\n",
    "swap(st)\n",
    "\n",
    "\n"
   ]
  },
  {
   "cell_type": "code",
   "execution_count": 4,
   "metadata": {},
   "outputs": [
    {
     "name": "stdout",
     "output_type": "stream",
     "text": [
      "55\n",
      "1\n"
     ]
    }
   ],
   "source": [
    "def sum1(m,n,sum=0):\n",
    "    \n",
    "    sum+=m\n",
    "    if m==n:\n",
    "        print(sum)\n",
    "        print(m)\n",
    "        return\n",
    "   \n",
    "    \n",
    "    sum1(m-1,n,sum)\n",
    "sum1(10,1)"
   ]
  },
  {
   "cell_type": "code",
   "execution_count": 14,
   "metadata": {},
   "outputs": [
    {
     "data": {
      "text/plain": [
       "120"
      ]
     },
     "execution_count": 14,
     "metadata": {},
     "output_type": "execute_result"
    }
   ],
   "source": [
    "#factorial\n",
    "def fact1(n,prod=1):\n",
    "    if n==0:\n",
    "        return prod\n",
    "    prod*=n\n",
    "    return fact1(n-1,prod)\n",
    "fact1(5)\n",
    "\n",
    "\n",
    "\n",
    "def fact(n,m,prod=1):\n",
    "    if n==m+1:\n",
    "        return prod\n",
    "    prod*=n\n",
    "    return fact(n+1,m,prod)\n",
    "fact(1,5)"
   ]
  },
  {
   "cell_type": "code",
   "execution_count": 40,
   "metadata": {},
   "outputs": [
    {
     "data": {
      "text/plain": [
       "'2 is not prime'"
      ]
     },
     "execution_count": 40,
     "metadata": {},
     "output_type": "execute_result"
    }
   ],
   "source": [
    "#prime\n",
    "\n",
    "def prime(n,i=2,count=0):\n",
    "    \n",
    "    for k in range(1,n):\n",
    "        if k%i==0:\n",
    "            count+=1\n",
    "  \n",
    "        if k==i:\n",
    "            return [f\"{k} is not prime\",f\"{k} is prime\"][count==0]\n",
    "        \n",
    "    return prime(n,i+1,count)\n",
    "        \n",
    "prime(100)"
   ]
  },
  {
   "cell_type": "code",
   "execution_count": 2,
   "metadata": {},
   "outputs": [
    {
     "data": {
      "text/plain": [
       "'strong'"
      ]
     },
     "execution_count": 2,
     "metadata": {},
     "output_type": "execute_result"
    }
   ],
   "source": [
    "import math\n",
    "n=\"145\"\n",
    "def strong(n,i=0,sum=0):\n",
    "    if i==len(n):\n",
    "        return [\"not strong\",\"strong\"][int(n)==sum]\n",
    "    sum+=math.factorial(int(n[i]))\n",
    "    return strong(n,i+1,sum)\n",
    "strong(n)"
   ]
  },
  {
   "cell_type": "code",
   "execution_count": 9,
   "metadata": {},
   "outputs": [
    {
     "data": {
      "text/plain": [
       "'strong'"
      ]
     },
     "execution_count": 9,
     "metadata": {},
     "output_type": "execute_result"
    }
   ],
   "source": [
    "\n",
    "n=\"40585\"\n",
    "def strong(n,i=0,sum=0,fact=1,a=1):\n",
    "    if i==len(n):\n",
    "        return [\"not strong\",\"strong\"][int(n)==sum]\n",
    "    while a<=int(n[i]):\n",
    "        fact*=a\n",
    "        a+=1\n",
    "    sum+=fact\n",
    "    # sum+=math.factorial(int(n[i]))\n",
    "    return strong(n,i+1,sum,fact=1,a=1)\n",
    "strong(n)"
   ]
  },
  {
   "cell_type": "code",
   "execution_count": 44,
   "metadata": {},
   "outputs": [
    {
     "data": {
      "text/plain": [
       "'6 is perfect'"
      ]
     },
     "execution_count": 44,
     "metadata": {},
     "output_type": "execute_result"
    }
   ],
   "source": [
    "def perfect(n,i=1,sum=0):\n",
    "    if n==i:\n",
    "        return [f\"{n} is not perfect\",f\"{n} is perfect\"][sum==n]\n",
    "    if n%i==0:\n",
    "        sum+=i\n",
    "    return perfect(n,i+1,sum)\n",
    "perfect(6)"
   ]
  },
  {
   "cell_type": "code",
   "execution_count": 46,
   "metadata": {},
   "outputs": [
    {
     "data": {
      "text/plain": [
       "'153 is arm'"
      ]
     },
     "execution_count": 46,
     "metadata": {},
     "output_type": "execute_result"
    }
   ],
   "source": [
    "n=input()\n",
    "def arm(n,i=0,sum=0):\n",
    "    if i==len(n):\n",
    "        return [f\"{n} is not arm\",f\"{n} is arm\"][sum==int(n)]\n",
    "    sum+=int(n[i])**len(n)\n",
    "    return arm(n,i+1,sum)\n",
    "arm(n)\n"
   ]
  },
  {
   "cell_type": "code",
   "execution_count": 6,
   "metadata": {},
   "outputs": [
    {
     "ename": "KeyboardInterrupt",
     "evalue": "",
     "output_type": "error",
     "traceback": [
      "\u001b[1;31m---------------------------------------------------------------------------\u001b[0m",
      "\u001b[1;31mKeyboardInterrupt\u001b[0m                         Traceback (most recent call last)",
      "\u001b[1;32mc:\\Users\\syeda\\OneDrive\\Documents\\GitHub\\python-class\\recursion.ipynb Cell 9\u001b[0m line \u001b[0;36m1\n\u001b[0;32m      <a href='vscode-notebook-cell:/c%3A/Users/syeda/OneDrive/Documents/GitHub/python-class/recursion.ipynb#X11sZmlsZQ%3D%3D?line=7'>8</a>\u001b[0m         \u001b[39mprint\u001b[39m(fact)\n\u001b[0;32m      <a href='vscode-notebook-cell:/c%3A/Users/syeda/OneDrive/Documents/GitHub/python-class/recursion.ipynb#X11sZmlsZQ%3D%3D?line=8'>9</a>\u001b[0m     \u001b[39mreturn\u001b[39;00m fact(fact,j\u001b[39m+\u001b[39m\u001b[39m1\u001b[39m,end) \u001b[39m# type: ignore\u001b[39;00m\n\u001b[1;32m---> <a href='vscode-notebook-cell:/c%3A/Users/syeda/OneDrive/Documents/GitHub/python-class/recursion.ipynb#X11sZmlsZQ%3D%3D?line=9'>10</a>\u001b[0m fact()\n",
      "\u001b[1;32mc:\\Users\\syeda\\OneDrive\\Documents\\GitHub\\python-class\\recursion.ipynb Cell 9\u001b[0m line \u001b[0;36m6\n\u001b[0;32m      <a href='vscode-notebook-cell:/c%3A/Users/syeda/OneDrive/Documents/GitHub/python-class/recursion.ipynb#X11sZmlsZQ%3D%3D?line=3'>4</a>\u001b[0m \u001b[39mfor\u001b[39;00m i \u001b[39min\u001b[39;00m \u001b[39mrange\u001b[39m(\u001b[39m1\u001b[39m,\u001b[39m11\u001b[39m):\n\u001b[0;32m      <a href='vscode-notebook-cell:/c%3A/Users/syeda/OneDrive/Documents/GitHub/python-class/recursion.ipynb#X11sZmlsZQ%3D%3D?line=4'>5</a>\u001b[0m     \u001b[39mwhile\u001b[39;00m i\u001b[39m<\u001b[39m\u001b[39m=\u001b[39mstart:\n\u001b[1;32m----> <a href='vscode-notebook-cell:/c%3A/Users/syeda/OneDrive/Documents/GitHub/python-class/recursion.ipynb#X11sZmlsZQ%3D%3D?line=5'>6</a>\u001b[0m         fact\u001b[39m*\u001b[39;49m\u001b[39m=\u001b[39;49mstart\n\u001b[0;32m      <a href='vscode-notebook-cell:/c%3A/Users/syeda/OneDrive/Documents/GitHub/python-class/recursion.ipynb#X11sZmlsZQ%3D%3D?line=6'>7</a>\u001b[0m         start\u001b[39m+\u001b[39m\u001b[39m=\u001b[39m\u001b[39m1\u001b[39m\n\u001b[0;32m      <a href='vscode-notebook-cell:/c%3A/Users/syeda/OneDrive/Documents/GitHub/python-class/recursion.ipynb#X11sZmlsZQ%3D%3D?line=7'>8</a>\u001b[0m     \u001b[39mprint\u001b[39m(fact)\n",
      "\u001b[1;31mKeyboardInterrupt\u001b[0m: "
     ]
    }
   ],
   "source": [
    "def fact(fact=1,j=1,start=1,end=10):\n",
    "    if j==end+1:\n",
    "        return\n",
    "    for i in range(1,11):\n",
    "        while i<=start:\n",
    "            fact*=start\n",
    "            start+=1\n",
    "        print(fact)\n",
    "    return fact(fact,j+1,end) # type: ignore\n",
    "fact()\n"
   ]
  },
  {
   "cell_type": "code",
   "execution_count": 1,
   "metadata": {},
   "outputs": [
    {
     "name": "stdout",
     "output_type": "stream",
     "text": [
      "3628800\n",
      "362880\n",
      "40320\n",
      "5040\n",
      "720\n",
      "120\n",
      "24\n",
      "6\n",
      "2\n",
      "1\n"
     ]
    }
   ],
   "source": [
    "n=10\n",
    "def outer(number):\n",
    "    if number==0:\n",
    "         return 1\n",
    "    # a1=number\n",
    "    def inner(num):\n",
    "        if num==1:\n",
    "            return 1\n",
    "        return num*inner(num-1)\n",
    "    a=inner(number)\n",
    "    print(a)\n",
    "    outer(number-1)\n",
    "outer(n)"
   ]
  },
  {
   "cell_type": "code",
   "execution_count": 4,
   "metadata": {},
   "outputs": [],
   "source": [
    "import math\n",
    "def facter(a=1,b=11):\n",
    "    if a==b:\n",
    "        return\n",
    "    # print(math.factorial(a))\n",
    "    def fac(fact=1):\n",
    "        if fact==a:\n",
    "            return fact\n",
    "        fact=fact*fac(fact-1)\n",
    "        print(fact)\n",
    "        \n",
    "    facter(a+1,b)\n",
    "facter()\n",
    "    "
   ]
  },
  {
   "cell_type": "code",
   "execution_count": 14,
   "metadata": {},
   "outputs": [
    {
     "data": {
      "text/plain": [
       "5040"
      ]
     },
     "execution_count": 14,
     "metadata": {},
     "output_type": "execute_result"
    }
   ],
   "source": [
    "def inner(num):\n",
    "        if num==1:\n",
    "                return 1\n",
    "        return num*inner(num-1)\n",
    "inner(7)"
   ]
  },
  {
   "cell_type": "code",
   "execution_count": 5,
   "metadata": {},
   "outputs": [
    {
     "data": {
      "text/plain": [
       "'you are how hello hai'"
      ]
     },
     "execution_count": 5,
     "metadata": {},
     "output_type": "execute_result"
    }
   ],
   "source": [
    "st='hai hello how are you'\n",
    "# o/p:'you are how hello hai'\n",
    "def convert(coll):\n",
    "    res=''\n",
    "    t=''\n",
    "    for i in coll:\n",
    "        if i!=' ':\n",
    "            t+=i\n",
    "        else:\n",
    "            if len(t)!=0:\n",
    "                res=' '+t+res\n",
    "            t=''\n",
    "    if len(t)!=0:\n",
    "        res=t+res\n",
    "    return res\n",
    "convert(st)"
   ]
  },
  {
   "cell_type": "code",
   "execution_count": 18,
   "metadata": {},
   "outputs": [
    {
     "name": "stdout",
     "output_type": "stream",
     "text": [
      "1 2 6 24 120 720 5040 40320 362880 3628800 "
     ]
    }
   ],
   "source": [
    "a=1\n",
    "b=10\n",
    "def factorials(x=1,y=11,fact=1,a=1):\n",
    "    if x==y:\n",
    "        return\n",
    "    while a<=x:\n",
    "        fact*=a\n",
    "        a+=1\n",
    "    print(fact,end=\" \")\n",
    "    return factorials(x+1,y,fact=1,a=1)\n",
    "\n",
    "factorials()\n"
   ]
  },
  {
   "cell_type": "code",
   "execution_count": 20,
   "metadata": {},
   "outputs": [
    {
     "name": "stdout",
     "output_type": "stream",
     "text": [
      "1 1 2 6 24 120 720 5040 40320 362880 3628800 "
     ]
    }
   ],
   "source": [
    "def fac(n,fact=1):\n",
    "    if n==0:\n",
    "        return fact\n",
    "    fact*=n\n",
    "    return fac(n-1,fact)\n",
    "for i in range(0,11):\n",
    "    print(fac(i),end=\" \")"
   ]
  },
  {
   "cell_type": "code",
   "execution_count": 19,
   "metadata": {},
   "outputs": [
    {
     "data": {
      "text/plain": [
       "1100"
      ]
     },
     "execution_count": 19,
     "metadata": {},
     "output_type": "execute_result"
    }
   ],
   "source": [
    "n=12\n",
    "def binary(x):\n",
    "    s=''\n",
    "    while x:\n",
    "        l_d=x%2\n",
    "        # print(l_d)\n",
    "        s+=str(l_d)\n",
    "        x=x//2\n",
    "    return int(s[::-1])\n",
    "binary(n)\n",
    "\n"
   ]
  },
  {
   "cell_type": "code",
   "execution_count": null,
   "metadata": {},
   "outputs": [],
   "source": []
  }
 ],
 "metadata": {
  "kernelspec": {
   "display_name": "Python 3",
   "language": "python",
   "name": "python3"
  },
  "language_info": {
   "codemirror_mode": {
    "name": "ipython",
    "version": 3
   },
   "file_extension": ".py",
   "mimetype": "text/x-python",
   "name": "python",
   "nbconvert_exporter": "python",
   "pygments_lexer": "ipython3",
   "version": "3.11.6"
  }
 },
 "nbformat": 4,
 "nbformat_minor": 2
}
