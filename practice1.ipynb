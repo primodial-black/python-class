{
 "cells": [
  {
   "cell_type": "code",
   "execution_count": 7,
   "metadata": {},
   "outputs": [
    {
     "name": "stdout",
     "output_type": "stream",
     "text": [
      "8\n",
      "not a prime number\n"
     ]
    }
   ],
   "source": [
    "#wap to do sumof the digits in given no and final reslut is prime or not\n",
    "n=134\n",
    "sum=0\n",
    "while n:\n",
    "    lastdigit=n%10\n",
    "    sum+=lastdigit    \n",
    "    n=n//10\n",
    "print(sum)\n",
    "i=1\n",
    "count=0\n",
    "while i<=sum:\n",
    "    if sum%i==0:\n",
    "        count+=1\n",
    "    i+=1\n",
    "if count==2:\n",
    "    print('prime number')\n",
    "else:\n",
    "    print('not a prime number')"
   ]
  },
  {
   "cell_type": "code",
   "execution_count": null,
   "metadata": {},
   "outputs": [],
   "source": [
    "#wap for sum of odd values from 25 to 65\n",
    "m=25\n",
    "n=65\n",
    "sum=0\n",
    "while m<=n:\n",
    "    if m%2!=0:\n",
    "        sum+=m\n",
    "    m+=1\n",
    "print(sum)\n",
    "    "
   ]
  },
  {
   "cell_type": "code",
   "execution_count": null,
   "metadata": {},
   "outputs": [],
   "source": [
    "#factorial for1 to n\n",
    "n=1\n",
    "m=10\n",
    "while n<=m:\n",
    "    i=1\n",
    "    p=1\n",
    "    while i<=n:\n",
    "        p*=i\n",
    "        i+=1\n",
    "    print(n,\"--->\",p)\n",
    "    n+=1\n",
    "    "
   ]
  },
  {
   "cell_type": "code",
   "execution_count": null,
   "metadata": {},
   "outputs": [],
   "source": [
    "a=0\n",
    "b=1                 #fibonocci in list\n",
    "i=1\n",
    "list1=[a]\n",
    "while i<=10:\n",
    "    c=a+b\n",
    "    list1.append(c)\n",
    "    a,b=b,c\n",
    "    i+=1\n",
    "print(list1)"
   ]
  },
  {
   "cell_type": "code",
   "execution_count": null,
   "metadata": {},
   "outputs": [],
   "source": [
    "m=1\n",
    "n=50             #prime  in list\n",
    "list=[]\n",
    "while m<=n:\n",
    "    i=2\n",
    "    count=0\n",
    "    while i<m:\n",
    "        if(m%i==0):\n",
    "            count+=1\n",
    "        i+=1\n",
    "    if count==0:\n",
    "        list.append(m)\n",
    "        \n",
    "    m+=1\n",
    "print(list)"
   ]
  },
  {
   "cell_type": "code",
   "execution_count": null,
   "metadata": {},
   "outputs": [],
   "source": [
    "#32\n",
    "def is_prime(n):\n",
    "    if n <= 1:\n",
    "        return False\n",
    "    for i in range(2, int(n**0.5) + 1):\n",
    "        if n % i == 0:\n",
    "            return False\n",
    "    return True\n",
    "def fibonacci(limit):\n",
    "    sequence = [1, 1]\n",
    "    while sequence[-1] + sequence[-2] <= limit:\n",
    "        sequence.append(sequence[-1] + sequence[-2])\n",
    "    return sequence\n",
    "limit = 100\n",
    "fib_sequence = fibonacci(limit)\n",
    "\n",
    "prime_numbers = []\n",
    "for num in fib_sequence:\n",
    "    if is_prime(num):\n",
    "        prime_numbers.append(num)\n",
    "\n",
    "print(prime_numbers)"
   ]
  },
  {
   "cell_type": "code",
   "execution_count": 1,
   "metadata": {},
   "outputs": [
    {
     "name": "stdout",
     "output_type": "stream",
     "text": [
      "10 position of the @\n",
      "valid email id\n"
     ]
    }
   ],
   "source": [
    "st='PYSPIde12r@gmail.co.edu'\n",
    "i=0\n",
    "temp=0\n",
    "while i<len(st):\n",
    "    if not('A'<=st[i]<='Z' or 'a'<=st[i]<='z' or '0'<=st[i]<='9' or st[i] in '@.'):\n",
    "        temp+=1\n",
    "    i+=1\n",
    "if temp==0:\n",
    "    if '@' and '.' in st:\n",
    "        start=0\n",
    "        pos=None\n",
    "        count=0\n",
    "        while start<len(st):\n",
    "            if '@'==st[start]:\n",
    "                pos=start\n",
    "                count+=1\n",
    "            start+=1\n",
    "        if count==1:\n",
    "            print(pos,\"position of the @\")\n",
    "            if '.' in st[pos:]:\n",
    "                count1=0\n",
    "                x=pos\n",
    "                while x<len(st):    # type: ignore\n",
    "                    if '.'==st[x]:  # type: ignore\n",
    "                        count1+=1\n",
    "                    x+=1  # type: ignore\n",
    "                if 1<=count1<=2:\n",
    "                    print(\"valid email id\")\n",
    "                else:\n",
    "                    print(\"invalid email id\")\n",
    "            else:\n",
    "                print(\"invalid email id\")\n",
    "        else:\n",
    "            print(\"invalid email id\")\n",
    "    else:\n",
    "        print(\"invalid\")   \n",
    "else:\n",
    "    print(\"invalid email id\")   \n",
    "                        \n",
    "                    "
   ]
  },
  {
   "cell_type": "code",
   "execution_count": 6,
   "metadata": {},
   "outputs": [
    {
     "name": "stdout",
     "output_type": "stream",
     "text": [
      "deathnote123@\n",
      "DEATHNOTE123@!#$%\n"
     ]
    }
   ],
   "source": [
    "st=\"DEATHNOTE123@\"\n",
    "l1=\"\"\n",
    "i=0\n",
    "while i<len(st):\n",
    "    l1+=st[i].lower() # type: ignore\n",
    "    i+=1\n",
    "print(l1)\n",
    "\n",
    "st=\"deathnote123@!#$%\"\n",
    "l1=\"\"\n",
    "i=0\n",
    "while i<len(st):\n",
    "    l1+=st[i].upper() # type: ignore\n",
    "    i+=1\n",
    "print(l1)"
   ]
  },
  {
   "cell_type": "code",
   "execution_count": null,
   "metadata": {},
   "outputs": [],
   "source": [
    "st=\"death note 123 @!#$%\"\n",
    "l1=\"\"\n",
    "i=0\n",
    "while i<len(st):\n",
    "    l1+=st[i].upper() # type: ignore\n",
    "    if st[i]==\" \":\n",
    "        l1+=\"_\"\n",
    "    i+=1\n",
    "print(l1)"
   ]
  },
  {
   "cell_type": "code",
   "execution_count": null,
   "metadata": {},
   "outputs": [],
   "source": [
    "st=\"death note 123 @!#$%\"\n",
    "l1=\"\"\n",
    "i=1\n",
    "if 'a'<=st[0]<='z':\n",
    "    l1+=st[0].upper()  \n",
    "while i<len(st):\n",
    "    l1+=st[i] # type: ignore\n",
    "    if st[i]==\" \":\n",
    "        l1+=\"_\"\n",
    "    i+=1\n",
    "print(l1) \n"
   ]
  },
  {
   "cell_type": "code",
   "execution_count": null,
   "metadata": {},
   "outputs": [],
   "source": [
    "st=\"ATTACK ON TITANS123@#$%\"\n",
    "st1=\"\"\n",
    "i=0\n",
    "while i<len(st):\n",
    "    if \"A\"<=st[i]<=\"Z\":\n",
    "        st1+=st[i].lower()\n",
    "    elif st[i]==\" \":\n",
    "        st1+='_'\n",
    "    elif 'a'<=st[i]<='z':\n",
    "        st1+=st[i]\n",
    "    i+=1\n",
    "st1=\"__\"+st1+\"__\"\n",
    "print(st1)\n"
   ]
  },
  {
   "cell_type": "code",
   "execution_count": 4,
   "metadata": {},
   "outputs": [
    {
     "name": "stdout",
     "output_type": "stream",
     "text": [
      "Death _Nnote _Llight _Yyagami\n"
     ]
    }
   ],
   "source": [
    "st=\"death note light yagami\"\n",
    "l1=\"\"\n",
    "i=1\n",
    "if 'a'<=st[0]<='z':\n",
    "    l1+=st[0].upper()  \n",
    "while i<len(st):\n",
    "    l1+=st[i] # type: ignore\n",
    "    if st[i]==\" \":\n",
    "        l1+=\"_\"\n",
    "        l1+=st[i+1].upper()\n",
    "    \n",
    "    elif l1==\"_\":\n",
    "        l1=st[i+1].lower()\n",
    "    i+=1\n",
    "print(l1) "
   ]
  },
  {
   "cell_type": "code",
   "execution_count": 8,
   "metadata": {},
   "outputs": [
    {
     "name": "stdout",
     "output_type": "stream",
     "text": [
      "Hello\n",
      "World,\n",
      "How\n",
      "Are\n",
      "You?\n",
      "Hello World, How Are You?\n"
     ]
    }
   ],
   "source": [
    "def capitalize_words(string):\n",
    "    # Split the string into words\n",
    "    words = string.split()\n",
    "\n",
    "    # Initialize an empty list to store the capitalized words\n",
    "    capitalized_words = []\n",
    "\n",
    "    # Iterate through each word and capitalize the first letter\n",
    "    index = 0\n",
    "    while index < len(words):\n",
    "        word = words[index]\n",
    "        capitalized_word = word[0].upper() + word[1:]\n",
    "        capitalized_words.append(capitalized_word)\n",
    "        index += 1\n",
    "        print(capitalized_word)\n",
    "    # Join the capitalized words back into a single string\n",
    "    capitalized_string = ' '.join(capitalized_words)\n",
    "\n",
    "    return capitalized_string\n",
    "\n",
    "\n",
    "# Example usage\n",
    "input_string = \"hello world, how are you?\"\n",
    "output_string = capitalize_words(input_string)\n",
    "print(output_string)  # Output: Hello World, How Are You?\n"
   ]
  },
  {
   "cell_type": "code",
   "execution_count": 1,
   "metadata": {},
   "outputs": [
    {
     "name": "stdout",
     "output_type": "stream",
     "text": [
      "{'h': 1, 'e': 1, 'l': 3, 'o': 2, 'w': 1, 'r': 1, 'd': 1}\n"
     ]
    }
   ],
   "source": [
    "st=\"helloworld\"\n",
    "s={}\n",
    "i=0\n",
    "while i<len(st):\n",
    "    if st[i] not in s:\n",
    "        s[st[i]]=1\n",
    "    else:\n",
    "        s[st[i]]+=1\n",
    "        \n",
    "    i+=1\n",
    "print(s)\n",
    "          "
   ]
  },
  {
   "cell_type": "code",
   "execution_count": null,
   "metadata": {},
   "outputs": [],
   "source": [
    "st=\"helloworld\"\n",
    "j=0\n",
    "count=0\n",
    "s=\"\"\n",
    "while j<len(st):\n",
    "    i=1\n",
    "    while i<len(st):\n",
    "        print(st[j])\n",
    "        if st[j]==st[i]:\n",
    "            count+=1\n",
    "            if count>1:\n",
    "                s+=st[i]\n",
    "        i+=1\n",
    "    j+=1\n",
    "print(s,count)"
   ]
  },
  {
   "cell_type": "code",
   "execution_count": null,
   "metadata": {},
   "outputs": [],
   "source": [
    "st=\"hello haIi WOrld welcome to py$hon clAsS\"\n",
    "l1=\"\"\n",
    "i=1\n",
    "if 'a'<=st[0]<='z':\n",
    "    l1+=st[0].upper()  \n",
    "while i<len(st):\n",
    "    l1+=st[i] # type: ignore\n",
    "    if st[i]==\" \":\n",
    "        l1+=\"_\"\n",
    "        l1+=st[i+1].upper()"
   ]
  },
  {
   "cell_type": "code",
   "execution_count": null,
   "metadata": {},
   "outputs": [],
   "source": [
    "st=\"hello haIi WOrld we1v3coMe to py$hon clAsS\"\n",
    "print(st.title())"
   ]
  },
  {
   "cell_type": "code",
   "execution_count": 2,
   "metadata": {},
   "outputs": [
    {
     "name": "stdout",
     "output_type": "stream",
     "text": [
      "145\n",
      "strong\n"
     ]
    }
   ],
   "source": [
    "n=145\n",
    "temp=n\n",
    "sum=0\n",
    "while n:\n",
    "    i=1\n",
    "    ld=n%10\n",
    "    res=1\n",
    "    while i<=ld:\n",
    "        res*=i\n",
    "        i+=1\n",
    "    n//=10\n",
    "    sum+=res\n",
    "print(sum)\n",
    "if temp==sum:\n",
    "    print(\"strong\")"
   ]
  },
  {
   "cell_type": "code",
   "execution_count": 6,
   "metadata": {},
   "outputs": [
    {
     "name": "stdout",
     "output_type": "stream",
     "text": [
      "153\n",
      "armstrong\n"
     ]
    }
   ],
   "source": [
    "n=153\n",
    "s=len(str(n))\n",
    "temp=n\n",
    "sum=0\n",
    "while n:\n",
    "    ld=n%10\n",
    "    sum+=ld**s\n",
    "    n//=10\n",
    "if sum==temp:\n",
    "    print(sum)\n",
    "    print(\"armstrong\")"
   ]
  },
  {
   "cell_type": "code",
   "execution_count": 14,
   "metadata": {},
   "outputs": [
    {
     "name": "stdout",
     "output_type": "stream",
     "text": [
      "6\n"
     ]
    }
   ],
   "source": [
    "n=6\n",
    "i=1\n",
    "prod=0\n",
    "while i<n:\n",
    "    if n%i==0:\n",
    "        prod+=i\n",
    "    i+=1\n",
    "print(prod)\n",
    "     "
   ]
  },
  {
   "cell_type": "code",
   "execution_count": 7,
   "metadata": {},
   "outputs": [
    {
     "name": "stdout",
     "output_type": "stream",
     "text": [
      "This He#@Llo H1Ow Ar$(E You\n",
      "This He#@Llo H1Ow Ar$(E You\n"
     ]
    }
   ],
   "source": [
    "#WAP to convert title case in a given string.\n",
    "st=\"ThiS he#@llo h1ow ar$(e you\"\n",
    "print(st.title())\n",
    "i=1\n",
    "res=\"\"\n",
    "res+=st[0].upper()\n",
    "while i<len(st):\n",
    "    if (\"a\"<=st[i]<=\"z\") and not(\"a\"<=st[i-1]<=\"z\" or \"A\"<=st[i-1]<=\"Z\"):\n",
    "        res+=st[i].upper()\n",
    "    elif \"A\"<=st[i]<=\"Z\":\n",
    "        res+=st[i].lower()\n",
    "    else:\n",
    "        res+=st[i]\n",
    "    i+=1\n",
    "print(res)"
   ]
  },
  {
   "cell_type": "code",
   "execution_count": 42,
   "metadata": {},
   "outputs": [
    {
     "name": "stdout",
     "output_type": "stream",
     "text": [
      "4\n",
      "12\n",
      "17\n",
      "23\n",
      "ThiS\n",
      "he#@llo\n",
      "h1ow\n",
      "ar$(e\n",
      "you\n"
     ]
    }
   ],
   "source": [
    "st=\"ThiS he#@llo h1ow ar$(e you\"\n",
    "i=0\n",
    "while i<len(st):\n",
    "    if st[i]==\" \":\n",
    "        print(i)   \n",
    "    i+=1\n",
    "# print(st[:4])\n",
    "# print(st[5:12])\n",
    "# print(st[13:17])\n",
    "# print(st[18:23])\n",
    "# print(st[24:])\n",
    "j=0\n",
    "res=\"\"\n",
    "while j<i:\n",
    "    print(st[j],end=\"\")\n",
    "    j+=1"
   ]
  },
  {
   "cell_type": "code",
   "execution_count": 4,
   "metadata": {},
   "outputs": [
    {
     "name": "stdout",
     "output_type": "stream",
     "text": [
      "hello\n",
      "haii\n",
      "\n",
      "\n",
      "\n",
      "how\n",
      "are\n",
      "you\n",
      "\n"
     ]
    }
   ],
   "source": [
    "st=\"hello haii    how are you \"\n",
    "i=0\n",
    "res=\"\"\n",
    "while i<len(st):\n",
    "    if st[i]!=\" \":\n",
    "        res+=st[i]\n",
    "    else:\n",
    "        print(res)\n",
    "        res=\"\"\n",
    "    i+=1\n",
    "print(res)"
   ]
  },
  {
   "cell_type": "code",
   "execution_count": 3,
   "metadata": {},
   "outputs": [
    {
     "name": "stdout",
     "output_type": "stream",
     "text": [
      "hello\n",
      "haii\n",
      "how\n",
      "are\n",
      "you\n"
     ]
    }
   ],
   "source": [
    "st=\"hello haii    how are you \"\n",
    "i=0\n",
    "res=\"\"\n",
    "while i<len(st):\n",
    "    if st[i]!=\" \":\n",
    "        res+=st[i]\n",
    "    else:\n",
    "        if len(res)!=0:\n",
    "            print(res)\n",
    "        res=\"\"\n",
    "    i+=1\n",
    "if len(res)!=0:\n",
    "    print(res)"
   ]
  },
  {
   "cell_type": "code",
   "execution_count": 18,
   "metadata": {},
   "outputs": [
    {
     "name": "stdout",
     "output_type": "stream",
     "text": [
      "['hello', 'haii', 'how', 'are', 'you']\n"
     ]
    }
   ],
   "source": [
    "st=\" hello    haii how are you\"\n",
    "res=[[\"\"],[]][st[0]==\" \"]\n",
    "i=0\n",
    "while i<len(st):\n",
    "    if st[i]!=\" \":\n",
    "        res[-1]+=st[i]\n",
    "    else:\n",
    "        if len(st)-1!=0 and st[i+1]!=\" \":\n",
    "            res+=[\"\"]\n",
    "    i+=1\n",
    "print(res)"
   ]
  },
  {
   "cell_type": "code",
   "execution_count": 8,
   "metadata": {},
   "outputs": [
    {
     "name": "stdout",
     "output_type": "stream",
     "text": [
      "['hello haii ', ' how are you ', ' good evening ', ' good bye']\n"
     ]
    }
   ],
   "source": [
    "#segregate lines\n",
    "\n",
    "st=\"hello haii \\n how are you \\n good evening \\n good bye\"\n",
    "i=0\n",
    "sp=\"\\n\"\n",
    "res=\"\"\n",
    "l=[]\n",
    "while i<len(st):\n",
    "    if st[i]!=sp:\n",
    "        res+=st[i]\n",
    "    else:\n",
    "        if len(res)!=0:\n",
    "            l+=[res]\n",
    "            res=\"\"\n",
    "    i+=1\n",
    "if len(res)!=0:\n",
    "    l+=[res]\n",
    "print(l)"
   ]
  },
  {
   "cell_type": "code",
   "execution_count": 35,
   "metadata": {},
   "outputs": [
    {
     "name": "stdout",
     "output_type": "stream",
     "text": [
      "['hello', 'haii', 'how', 'are', 'you', 'good', 'evening', 'good', 'bye']\n",
      "haygeb\n",
      "[['hello', 'haii', 'how'], ['are'], ['you'], ['good', 'good'], ['evening'], ['bye']]\n"
     ]
    }
   ],
   "source": [
    "st=\"hello haii how are you good evening good bye\"\n",
    "i=0\n",
    "sp=\" \"\n",
    "res=\"\"\n",
    "l=[]\n",
    "while i<len(st):\n",
    "    if st[i]!=sp:\n",
    "        res+=st[i]\n",
    "    else:\n",
    "        if len(res)!=0:\n",
    "            l+=[res]\n",
    "            res=\"\"\n",
    "    i+=1\n",
    "if len(res)!=0:\n",
    "    l+=[res]\n",
    "print(l)\n",
    "\n",
    "uni=\"\"\n",
    "j=0\n",
    "while j<len(l):\n",
    "    if l[j][0] not in uni:\n",
    "        uni+=l[j][0]\n",
    "    j+=1\n",
    "print(uni)\n",
    "\n",
    "d=[]\n",
    "k=0\n",
    "while k<len(uni):\n",
    "    x=0\n",
    "    d+=[[]]\n",
    "    while x<len(l):\n",
    "        if uni[k]==l[x][0]:\n",
    "            d[-1]+=[l[x]]\n",
    "        x+=1\n",
    "    k+=1\n",
    "print(d)\n"
   ]
  },
  {
   "cell_type": "code",
   "execution_count": null,
   "metadata": {},
   "outputs": [],
   "source": []
  },
  {
   "cell_type": "code",
   "execution_count": 7,
   "metadata": {},
   "outputs": [
    {
     "name": "stdout",
     "output_type": "stream",
     "text": [
      "['hello', 'haii', 'how', 'are', 'you', 'good', 'evening', 'good', 'bye']\n",
      "9\n",
      "[5, 4, 3, 7]\n",
      "[['hello'], ['haii', 'good', 'good'], ['how', 'are', 'you', 'bye'], ['evening']]\n"
     ]
    }
   ],
   "source": [
    "st=\"hello haii how are you good evening good bye\"\n",
    "i=0\n",
    "res=\"\"\n",
    "l=[]\n",
    "while i<len(st):\n",
    "    if st[i]!=\" \":\n",
    "        res+=st[i]\n",
    "    else:\n",
    "        if len(res)!=0:\n",
    "            l+=[res]\n",
    "            res=\"\"\n",
    "    i+=1\n",
    "if len(res)!=0:\n",
    "    l+=[res]\n",
    "print(l)\n",
    "\n",
    "uni=[]\n",
    "j=0\n",
    "print(len(l))\n",
    "while j<len(l):\n",
    "    if len(l[j]) not in uni:\n",
    "        uni+=[len(l[j])]\n",
    "    j+=1\n",
    "print(uni)\n",
    "\n",
    "d=[]\n",
    "k=0\n",
    "while k<len(uni):\n",
    "    x=0\n",
    "    d+=[[]]\n",
    "    while x<len(l):\n",
    "        if uni[k]==len(l[x]):\n",
    "            d[-1]+=[l[x]]\n",
    "        x+=1\n",
    "    k+=1\n",
    "print(d)\n"
   ]
  },
  {
   "cell_type": "code",
   "execution_count": 1,
   "metadata": {},
   "outputs": [
    {
     "name": "stdout",
     "output_type": "stream",
     "text": [
      "['hello', 'haii', 'how', 'are', 'you', 'good', 'evening', 'good', 'bye']\n",
      "haygeb\n",
      "[['hello', 'haii', 'how'], ['are'], ['you'], ['good', 'good'], ['evening'], ['bye']]\n"
     ]
    }
   ],
   "source": [
    "st=\"hello haii how are you good evening good bye\"\n",
    "res=\"\"\n",
    "i=0\n",
    "l=[]\n",
    "while i<len(st):\n",
    "    if st[i]!=\" \":\n",
    "        res+=st[i]\n",
    "    else:\n",
    "        if len(res)!=0:\n",
    "            l+=[res]\n",
    "            res=\"\"\n",
    "    i+=1\n",
    "if len(res)!=0:\n",
    "    l+=[res]\n",
    "print(l)\n",
    "\n",
    "uni=\"\"\n",
    "j=0\n",
    "while j<len(l):\n",
    "    if l[j][0] not in uni:\n",
    "        uni+=l[j][0]\n",
    "    j+=1\n",
    "print(uni)\n",
    "\n",
    "k=0\n",
    "d=[]\n",
    "while k<len(uni):\n",
    "    x=0\n",
    "    d+=[[]]\n",
    "    while x<len(l):\n",
    "        if uni[k]==l[x][0]:\n",
    "            d[-1]+=[l[x]]\n",
    "        x+=1\n",
    "    k+=1\n",
    "print(d)\n",
    "        "
   ]
  },
  {
   "cell_type": "code",
   "execution_count": 9,
   "metadata": {},
   "outputs": [
    {
     "name": "stdout",
     "output_type": "stream",
     "text": [
      "['maths', 'hindi', 'english', 'science']\n",
      "67 hindi\n",
      "99 english\n"
     ]
    }
   ],
   "source": [
    "d={\"maths\":70,\"hindi\":67,\"english\":99,\"science\":80}\n",
    "l=list(d) # type: ignore\n",
    "print(l)\n",
    "\n",
    "min=100\n",
    "mink=\"\"\n",
    "max=0\n",
    "maxk=\"\"\n",
    "i=0\n",
    "while i<len(l):\n",
    "    if max<d[l[i]]: # type: ignore\n",
    "        max=d[l[i]]\n",
    "        maxk=l[i]\n",
    "    if min>d[l[i]]: # type: ignore\n",
    "        min=d[l[i]]\n",
    "        mink=l[i]\n",
    "    i+=1\n",
    "print(min,mink)\n",
    "print(max,maxk)"
   ]
  },
  {
   "cell_type": "code",
   "execution_count": 10,
   "metadata": {},
   "outputs": [
    {
     "name": "stdout",
     "output_type": "stream",
     "text": [
      "hII hELLO hOW aRE yOU\n"
     ]
    }
   ],
   "source": [
    "#WAP to Toggle Characters Case in a String.\n",
    "st=\"hii hello how are you\"\n",
    "i=1\n",
    "res=\"\"\n",
    "res+=st[0].lower()\n",
    "while i<len(st):\n",
    "    if (\"a\"<=st[i]<=\"z\" or \"A\"<=st[i]<=\"Z\") and st[i-1]==\" \":\n",
    "        res+=st[i].lower() \n",
    "    else:\n",
    "        res+=st[i].upper()\n",
    "    i+=1\n",
    "print(res)"
   ]
  },
  {
   "cell_type": "code",
   "execution_count": 27,
   "metadata": {},
   "outputs": [
    {
     "name": "stdout",
     "output_type": "stream",
     "text": [
      "6\n",
      "[1, 2, 3]\n",
      "15\n",
      "[4, 5, 6]\n",
      "24\n",
      "[7, 8, 9]\n"
     ]
    }
   ],
   "source": [
    "l=[[1,2,3],[4,5,6],[7,8,9]]\n",
    "x=0\n",
    "while x<len(l):\n",
    "    sum=0\n",
    "    y=0\n",
    "    while y<len(l[x]):\n",
    "        sum+=l[x][y]\n",
    "        y+=1\n",
    "    print(sum)\n",
    "    print(l[x])\n",
    "    x+=1\n"
   ]
  },
  {
   "cell_type": "code",
   "execution_count": 7,
   "metadata": {},
   "outputs": [
    {
     "name": "stdout",
     "output_type": "stream",
     "text": [
      "28\n",
      "80\n",
      "162\n"
     ]
    }
   ],
   "source": [
    "l=[[1,2,3],[4,5,6],[7,8,9]]\n",
    "i=0\n",
    "while i<len(l[0]):\n",
    "    prod=1\n",
    "    k=0\n",
    "    while k<len(l):\n",
    "        prod*=l[k][i]\n",
    "        k+=1\n",
    "    print(prod)\n",
    "    i+=1\n",
    "        "
   ]
  },
  {
   "cell_type": "code",
   "execution_count": 69,
   "metadata": {},
   "outputs": [
    {
     "name": "stdout",
     "output_type": "stream",
     "text": [
      "abc\n",
      "def\n",
      "ijk\n",
      "lmno\n",
      "\n"
     ]
    }
   ],
   "source": [
    "#wap to count the seq chars in given string ,min seq is 3\n",
    "st=\"abcc gjhugh defjbhh guv ijkbdvdg fhio lmno fhf dhfgdvd\"\n",
    "i=0\n",
    "s=''\n",
    "while i<len(st):\n",
    "    \n",
    "    if i!=len(st) - 1 and ord(st[i])+1==ord(st[i+1]):\n",
    "        if st[i]not in s:\n",
    "            s+=st[i]\n",
    "    elif ord(st[i-1])+1==ord(st[i]):\n",
    "        s+=st[i]\n",
    "    else:\n",
    "        if len(s)>=3 :\n",
    "            print(s)\n",
    "        s=''\n",
    "    i+=1\n",
    "if len(s)>=3 :\n",
    "    s+=st[i]\n",
    "print(s)"
   ]
  },
  {
   "cell_type": "code",
   "execution_count": 55,
   "metadata": {},
   "outputs": [
    {
     "name": "stdout",
     "output_type": "stream",
     "text": [
      "hello\n",
      "hello\n",
      "hello\n",
      "hello\n",
      "hello\n",
      "hello\n",
      "hello\n",
      "hello\n",
      "hello\n",
      "hello1\n"
     ]
    }
   ],
   "source": [
    "i=1\n",
    "n=10\n",
    "while i<n:\n",
    "    print(\"hello\")\n",
    "    i+=1\n",
    "else:\n",
    "    print('hello1')"
   ]
  },
  {
   "cell_type": "code",
   "execution_count": 1,
   "metadata": {},
   "outputs": [
    {
     "name": "stdout",
     "output_type": "stream",
     "text": [
      "9 10\n",
      "8 9\n",
      "7 8\n",
      "5 7\n",
      "4 5\n",
      "3 4\n",
      "2 3\n"
     ]
    }
   ],
   "source": [
    "s=\"23457891345\"\n",
    "n=7\n",
    "g=10\n",
    "while n:\n",
    "    h=0\n",
    "    i=0\n",
    "    while i<len(s):\n",
    "        if int(s[i])>h and int(s[i])<g:\n",
    "            h=int(s[i])\n",
    "        i+=1\n",
    "    print(h,g)\n",
    "    g=h\n",
    "    n-=1\n",
    "        "
   ]
  },
  {
   "cell_type": "code",
   "execution_count": 33,
   "metadata": {},
   "outputs": [
    {
     "name": "stdout",
     "output_type": "stream",
     "text": [
      " 1 \n",
      " 1 2 \n",
      " 1 2 3 \n",
      " 1 2 3 4 \n",
      " 1 2 3 4 5 \n"
     ]
    }
   ],
   "source": [
    "n=5\n",
    "i=1\n",
    "while i<=n:\n",
    "    print(\"\"*(n-i),end=\" \")\n",
    "    j=1\n",
    "    while j<=i:\n",
    "        print(j,end=\" \")\n",
    "        j+=1\n",
    "    print()\n",
    "    i+=1"
   ]
  },
  {
   "cell_type": "code",
   "execution_count": 82,
   "metadata": {},
   "outputs": [
    {
     "name": "stdout",
     "output_type": "stream",
     "text": [
      "1 2 3 4 5 \n",
      "1 2 3 4 \n",
      "1 2 3 \n",
      "1 2 \n",
      "1 \n"
     ]
    }
   ],
   "source": [
    "n=5\n",
    "i=1\n",
    "while i<=n:\n",
    "    #print(\"  \"*(i-1),end=\" \")\n",
    "    j=1\n",
    "    while j<=n-i+1:\n",
    "        print(j,end=\" \")\n",
    "        j+=1\n",
    "    print()\n",
    "    i+=1"
   ]
  },
  {
   "cell_type": "code",
   "execution_count": 59,
   "metadata": {},
   "outputs": [
    {
     "name": "stdout",
     "output_type": "stream",
     "text": [
      "    @ \n",
      "   @ @ \n",
      "  @ @ @ \n",
      " @ @ @ @ \n",
      "@ @ @ @ @ \n"
     ]
    }
   ],
   "source": [
    "n=5\n",
    "i=1\n",
    "while i<=n:\n",
    "    print(\" \"*(n-i),end=\"\")\n",
    "    j=1\n",
    "    while j<=i:\n",
    "        print(\"@\",end=\" \")\n",
    "        j+=1\n",
    "    print()\n",
    "    i+=1"
   ]
  },
  {
   "cell_type": "code",
   "execution_count": 89,
   "metadata": {},
   "outputs": [
    {
     "name": "stdout",
     "output_type": "stream",
     "text": [
      "[a]  [a]  [a]  [a]  \n",
      "[a]  [a]  [a]  \n",
      "[a]  [a]  \n",
      "[a]  \n"
     ]
    }
   ],
   "source": [
    "n=5\n",
    "for i in range(1,n):\n",
    "    #print(\"\"*(n-i),end=\" \")\n",
    "    for j in range(1,n-i+1):\n",
    "        print(\"[a]\",end=\"  \")\n",
    "    print()"
   ]
  },
  {
   "cell_type": "code",
   "execution_count": 6,
   "metadata": {},
   "outputs": [
    {
     "name": "stdout",
     "output_type": "stream",
     "text": [
      "0 1 2 3 4 \n",
      "0 1 2 3 4 \n",
      "0 1 2 3 4 \n",
      "0 1 2 3 4 \n",
      "0 1 2 3 4 \n"
     ]
    }
   ],
   "source": [
    "n=5\n",
    "for i in range(n):\n",
    "    for j in range(n):\n",
    "        print(j,end=' ')\n",
    "    print()\n",
    "        \n",
    "    "
   ]
  },
  {
   "cell_type": "code",
   "execution_count": 11,
   "metadata": {},
   "outputs": [
    {
     "name": "stdout",
     "output_type": "stream",
     "text": [
      "\n",
      "# \n",
      "# # \n",
      "# # # \n",
      "# # # # \n",
      "# # # # # \n"
     ]
    }
   ],
   "source": [
    "n=6\n",
    "for i in range(n):\n",
    "    for j in range(i):\n",
    "        print('#',end=' ')\n",
    "    print()"
   ]
  },
  {
   "cell_type": "code",
   "execution_count": 14,
   "metadata": {},
   "outputs": [
    {
     "name": "stdout",
     "output_type": "stream",
     "text": [
      "@ @ @ @ @ @ @ \n",
      "@ @ @ @ @ @ \n",
      "@ @ @ @ @ \n",
      "@ @ @ @ \n",
      "@ @ @ \n",
      "@ @ \n",
      "@ \n"
     ]
    }
   ],
   "source": [
    "n=7\n",
    "for i in range(n):\n",
    "    for j in range(i,n):\n",
    "        print('@',end=' ')\n",
    "    print()"
   ]
  },
  {
   "cell_type": "code",
   "execution_count": 19,
   "metadata": {},
   "outputs": [
    {
     "name": "stdout",
     "output_type": "stream",
     "text": [
      "last and 1st char should be uppercase\n"
     ]
    }
   ],
   "source": [
    "st='abcdt.shgnh'\n",
    "if not(type(st)==str):\n",
    "    print('value should be a string')\n",
    "elif not(8<=len(st)<=20):\n",
    "    print('pwd length should be min 8 and max 20 chars' )\n",
    "elif not('A'<=st[0]<='Z' and 'A'<=st[-1]<='Z'):\n",
    "    print('last and 1st char should be uppercase')\n",
    "else:\n",
    "    uc,lc,sp,an,ps='','','','',''\n",
    "    for i in s:\n",
    "        if 'A'<=i<='Z':\n",
    "            uc+=i\n",
    "        elif 'a'<=i<='z':\n",
    "            lc+=i \n",
    "        elif '0'<=i<='9':\n",
    "            an+=i    \n",
    "        elif i not in '. { }[]()':\n",
    "            sp+=i\n",
    "        else:\n",
    "            ps+=i\n",
    "  "
   ]
  },
  {
   "cell_type": "code",
   "execution_count": 7,
   "metadata": {},
   "outputs": [
    {
     "name": "stdout",
     "output_type": "stream",
     "text": [
      "*  \n",
      "*  *  \n",
      "*  *  *  \n",
      "*  *  *  *  \n",
      "*  *  *  *  *  \n"
     ]
    }
   ],
   "source": [
    "n=5\n",
    "for i in range(n):\n",
    "    for j in range(i+1):\n",
    "        print(\"*\",end=\"  \")\n",
    "    print()\n",
    "    "
   ]
  },
  {
   "cell_type": "code",
   "execution_count": 14,
   "metadata": {},
   "outputs": [
    {
     "ename": "SyntaxError",
     "evalue": "invalid syntax (3264078187.py, line 13)",
     "output_type": "error",
     "traceback": [
      "\u001b[1;36m  Cell \u001b[1;32mIn[14], line 13\u001b[1;36m\u001b[0m\n\u001b[1;33m    w=list(range(,-10,-1)) # type: ignore\u001b[0m\n\u001b[1;37m                 ^\u001b[0m\n\u001b[1;31mSyntaxError\u001b[0m\u001b[1;31m:\u001b[0m invalid syntax\n"
     ]
    }
   ],
   "source": [
    "l=list(range(-10,-1,1)) # type: ignore\n",
    "print(l)\n",
    "\n",
    "e=list(range(-10,-1,2)) # type: ignore    -10<-1\n",
    "print(e)\n",
    "\n",
    "q=list(range(-10,-1,-1)) # type: ignore   for -ve up it should be si>ei\n",
    "print(q)\n",
    "\n",
    "w=list(range(-1,-10,-1)) # type: ignore\n",
    "print(w)\n",
    "\n",
    "w=list(range(,-10,-1)) # type: ignore  si should not be empty\n",
    "print(w)"
   ]
  },
  {
   "cell_type": "code",
   "execution_count": 7,
   "metadata": {},
   "outputs": [
    {
     "name": "stdout",
     "output_type": "stream",
     "text": [
      "[6, 1, 4, 2, 3, 5, 8]\n",
      "[6, 1, 4, 2, 3, 4, 1, 2, 6, 5, 8, 2, 3]\n"
     ]
    }
   ],
   "source": [
    "st=[6,1,4,2,3,4,1,4,2,6,1,2,5,6,8,2,3]\n",
    "uni=[]\n",
    "for i in st:\n",
    "    if i not in uni:\n",
    "        uni+=[i]\n",
    "print(uni)\n",
    "\n",
    "n=3\n",
    "for j in uni:\n",
    "    count=0\n",
    "    for k in range(len(st)-1):\n",
    "        if j==st[k]:\n",
    "            count+=1\n",
    "        if count==n:\n",
    "            del st[k]\n",
    "            break\n",
    "print(st)\n",
    "            "
   ]
  },
  {
   "cell_type": "code",
   "execution_count": 6,
   "metadata": {},
   "outputs": [
    {
     "name": "stdout",
     "output_type": "stream",
     "text": [
      "['hello', 'haii', 'how', 'are', 'you', 'miss', 'gorgeous']\n",
      "haymg\n",
      "[['hello', 'haii', 'how'], ['are'], ['you'], ['miss'], ['gorgeous']]\n"
     ]
    }
   ],
   "source": [
    "st=\"hello haii how are you miss gorgeous\"\n",
    "i=0\n",
    "res=\"\"\n",
    "l=[]\n",
    "while i <len(st):\n",
    "    if st[i]!=\" \":\n",
    "        res+=st[i]\n",
    "    else:\n",
    "        if len(res)!=0:\n",
    "            l+=[res]\n",
    "            res=\"\"\n",
    "    i+=1\n",
    "if len(res)!=0:\n",
    "    l+=[res]\n",
    "print(l)\n",
    "\n",
    "uni=\"\"\n",
    "k=0\n",
    "while k<len(l):\n",
    "    if l[k][0] not in uni:\n",
    "        uni+=l[k][0]\n",
    "    k+=1\n",
    "print(uni)\n",
    "\n",
    "\n",
    "d=[]\n",
    "a=0\n",
    "while a<len(uni):\n",
    "    b=0\n",
    "    d+=[[]]\n",
    "    while b<len(l):\n",
    "        if uni[a]==l[b][0]:\n",
    "            d[-1]+=[l[b]]\n",
    "        b+=1\n",
    "    a+=1\n",
    "print(d)"
   ]
  },
  {
   "cell_type": "code",
   "execution_count": 21,
   "metadata": {},
   "outputs": [
    {
     "name": "stdout",
     "output_type": "stream",
     "text": [
      "['hello', 'haii', 'how', 'are', 'you', 'miss']\n",
      "haym\n",
      "{'h': 'how', 'a': 'are', 'y': 'you', 'm': 'miss'}\n"
     ]
    }
   ],
   "source": [
    "st=\"hello haii how are you miss gorgeous\"\n",
    "l=[]\n",
    "res=\"\"\n",
    "for i in st:\n",
    "    if i!=\" \":\n",
    "        res+=i\n",
    "    else:\n",
    "        if len(res)>0:\n",
    "            l+=[res]\n",
    "            res=\"\"\n",
    "print(l)\n",
    "\n",
    "uni=\"\"\n",
    "for j in range(len(l)):\n",
    "    if l[j][0] not in uni:\n",
    "        uni+=l[j][0]\n",
    "print(uni)\n",
    "\n",
    "d={}\n",
    "for k in range(len(uni)):\n",
    "    for m in range(len(l)):\n",
    "        if uni[k]==l[m][0]:\n",
    "            d[uni[k]]=l[m] \n",
    "        # else:\n",
    "        #     d[uni[k]]=l[m]\n",
    "print(d)\n",
    "    "
   ]
  },
  {
   "cell_type": "code",
   "execution_count": 14,
   "metadata": {},
   "outputs": [
    {
     "name": "stdout",
     "output_type": "stream",
     "text": [
      "a\n"
     ]
    }
   ],
   "source": [
    "st=\"abeaicaidao\"\n",
    "l=len(st) \n",
    "def freq(str,n):\n",
    "    d={}\n",
    "    for i in st:\n",
    "        if i not in d:\n",
    "            d[i]=1\n",
    "        else:\n",
    "            d[i]+=1\n",
    "    max=0\n",
    "    ch=None\n",
    "    for j in d:\n",
    "        if max<d[j]:\n",
    "            max=d[j]\n",
    "            ch=j    \n",
    "    print(ch)\n",
    "freq(st,l)\n",
    "   \n",
    "\n",
    "\n",
    "  \n"
   ]
  },
  {
   "cell_type": "code",
   "execution_count": 8,
   "metadata": {},
   "outputs": [
    {
     "name": "stdout",
     "output_type": "stream",
     "text": [
      "19\n"
     ]
    }
   ],
   "source": [
    "w=55\n",
    "h=1.70\n",
    "mi=round((w)/(h**2))\n",
    "print(mi)"
   ]
  },
  {
   "cell_type": "code",
   "execution_count": 1,
   "metadata": {},
   "outputs": [
    {
     "data": {
      "text/plain": [
       "['10', '20', '30', '40']"
      ]
     },
     "execution_count": 1,
     "metadata": {},
     "output_type": "execute_result"
    }
   ],
   "source": [
    "st=\"10 20 30 40\"\n",
    "st.split()"
   ]
  },
  {
   "cell_type": "code",
   "execution_count": 6,
   "metadata": {},
   "outputs": [
    {
     "name": "stdout",
     "output_type": "stream",
     "text": [
      "SAVE\n",
      "tHE\n",
      "cHANGES\n",
      "iN\n",
      "tHE\n",
      "eDITOR\n"
     ]
    }
   ],
   "source": [
    "st=\"saveTheChangesInTheEditor\"\n",
    "l=''\n",
    "s=''\n",
    "res=''\n",
    "for i in st:\n",
    "    if i.islower():\n",
    "        s+=i.upper()\n",
    "    elif i.isupper():\n",
    "        res=i.lower()\n",
    "        l+=s+\"\\n\"\n",
    "        s=res\n",
    "l+=s\n",
    "print(l)"
   ]
  },
  {
   "cell_type": "code",
   "execution_count": 7,
   "metadata": {},
   "outputs": [
    {
     "name": "stdout",
     "output_type": "stream",
     "text": [
      "15\n",
      "[5, 2, 3, 4, 1]\n"
     ]
    }
   ],
   "source": [
    "s=[1,2,3,4,5]\n",
    "print(sum(s))\n",
    "s=s[-1:]+s[1:-1]+s[:1]\n",
    "print(s)"
   ]
  },
  {
   "cell_type": "code",
   "execution_count": 11,
   "metadata": {},
   "outputs": [
    {
     "name": "stdout",
     "output_type": "stream",
     "text": [
      "720\n"
     ]
    }
   ],
   "source": [
    "n=6\n",
    "res=n\n",
    "temp=n\n",
    "sum=0\n",
    "s=0\n",
    "while n:\n",
    "    ld=n%10\n",
    "    sum=(sum*10)+ld\n",
    "    n//=10\n",
    "if sum==temp:\n",
    "    fact=1\n",
    "    j=1\n",
    "    while j<=sum:\n",
    "        fact*=j\n",
    "        j+=1\n",
    "    print(fact)\n",
    "else:\n",
    "    i=1\n",
    "    sum1=0\n",
    "    while i<res:\n",
    "        if res%i==0:\n",
    "            sum1+=i\n",
    "        i+=1\n",
    "        if sum1==res:\n",
    "            print(sum1)\n",
    "        else:\n",
    "            if res%3==0:\n",
    "                print(\"given number is divisible\")\n",
    "        \n",
    "\n",
    "    \n",
    "\n",
    "\n",
    "\n",
    "\n",
    "\n"
   ]
  },
  {
   "cell_type": "code",
   "execution_count": 7,
   "metadata": {},
   "outputs": [
    {
     "name": "stdout",
     "output_type": "stream",
     "text": [
      "[24, '23.4', '25.3', '37', 28, '26.36', '69']\n",
      "[24, '23.4', '25.3', '37', 28, '26.36', '69']\n",
      "[24, '23.4', '25.3', '37', 28, '26.36', '69']\n"
     ]
    }
   ],
   "source": [
    "st=\"12/23.4/25.3/37/14/26.36/69\"\n",
    "l=[]\n",
    "for i in st.split(\"/\"):\n",
    "    if eval(i)%2==0:\n",
    "        l+=[int(i)*2]\n",
    "    else:\n",
    "        l+=[i]\n",
    "print(l)\n",
    "\n",
    "\n",
    "print([int(i)*2 if eval(i)%2==0 else i for i in st.split(\"/\")  ])\n",
    "\n",
    "\n",
    "var= lambda :[int(i)*2 if eval(i)%2==0 else i for i in st.split(\"/\")  ]\n",
    "print(var())\n"
   ]
  },
  {
   "cell_type": "code",
   "execution_count": 5,
   "metadata": {},
   "outputs": [
    {
     "name": "stdout",
     "output_type": "stream",
     "text": [
      "<class 'list'> ['klkmsd', 'dknkld', 'klfdsl', 'alknkl', 'adjldf', 'kfnsdiojd']\n",
      "alknkl adjldf kfnsdiojd klkmsd dknkld klfdsl "
     ]
    }
   ],
   "source": [
    "le=19\n",
    "st=\"klkmsd dknkld klfdsl alknkl adjldf kfnsdiojd\"\n",
    "step=3\n",
    "def fun(le,st,step):\n",
    "    l=st.split()\n",
    "    print(type(l),l)\n",
    "    for i in range(0,len(l)):\n",
    "        print(l[i-step],end=\" \")\n",
    "fun(le,st,step)\n"
   ]
  },
  {
   "cell_type": "code",
   "execution_count": 2,
   "metadata": {},
   "outputs": [
    {
     "name": "stdout",
     "output_type": "stream",
     "text": [
      "5\n",
      "0\n"
     ]
    }
   ],
   "source": [
    "a=\"xxaacz\"\n",
    "b=\"aaxcz\"\n",
    "def string_match(a, b):\n",
    "  # Figure which string is shorter.\n",
    "  shorter = min(len(a), len(b)) # type: ignore\n",
    "  # print(shorter)\n",
    "  count = 0\n",
    "  \n",
    "  # Loop i over every substring starting spot.\n",
    "  # Use length-1 here, so can use char str[i+1] in the loop\n",
    "  for i in range(shorter-1):\n",
    "    a_sub = a[i:i+2]\n",
    "    b_sub = b[i:i+2]\n",
    "    if a_sub == b_sub:\n",
    "      count = count + 1\n",
    "\n",
    "  return count\n",
    "print(string_match(a,b))"
   ]
  },
  {
   "cell_type": "code",
   "execution_count": 8,
   "metadata": {},
   "outputs": [
    {
     "name": "stdout",
     "output_type": "stream",
     "text": [
      "The original string is : abababa\n",
      "Extracted frequency dictionary : {'a': 4, 'ab': 3, 'aba': 2, 'abab': 1, 'ababa': 1, 'ababab': 1, 'abababa': 1, 'b': 3, 'ba': 3, 'bab': 1, 'baba': 1, 'babab': 1, 'bababa': 1}\n"
     ]
    }
   ],
   "source": [
    "# Python3 code to demonstrate working of\n",
    "# All substrings Frequency in String\n",
    "# Using loop + list comprehension\n",
    "\n",
    "# initializing string\n",
    "test_str = \"abababa\"\n",
    "\n",
    "# printing original string\n",
    "print(\"The original string is : \" + str(test_str))\n",
    "\n",
    "# list comprehension to extract substrings\n",
    "temp = [test_str[idx: j] for idx in range(len(test_str)) for j in range(idx + 1, len(test_str) + 1)]\n",
    "\n",
    "# loop to extract final result of frequencies\n",
    "d=dict()\n",
    "for i in temp:\n",
    "\td[i]=test_str.count(i)\n",
    "# printing result\n",
    "print(\"Extracted frequency dictionary : \" + str(d))\n"
   ]
  },
  {
   "cell_type": "code",
   "execution_count": 2,
   "metadata": {},
   "outputs": [
    {
     "name": "stdout",
     "output_type": "stream",
     "text": [
      "1\n"
     ]
    }
   ],
   "source": [
    "def bulbSwitch(n):\n",
    "    bulbs = [0]*n\n",
    "    for i in range(1, n+1):\n",
    "        for j in range(i-1, n, i):\n",
    "            bulbs[j] = 1 - bulbs[j]\n",
    "    return sum(bulbs) # type: ignore\n",
    "print(bulbSwitch(3))  # Output: 1\n"
   ]
  },
  {
   "cell_type": "code",
   "execution_count": 2,
   "metadata": {},
   "outputs": [
    {
     "data": {
      "text/plain": [
       "'prime number'"
      ]
     },
     "execution_count": 2,
     "metadata": {},
     "output_type": "execute_result"
    }
   ],
   "source": [
    "n=11\n",
    "st=str(n)\n",
    "def spy(st,a=0,b=1,sum=0,mul=1):\n",
    "    for i in st:\n",
    "        sum+=int(i)\n",
    "        mul*=int(i)\n",
    "    if sum==mul:\n",
    "        print(a)\n",
    "        print(b)\n",
    "        for j in range(0,int(st)):\n",
    "            c=a+b\n",
    "            print(c,end=\"\")\n",
    "            a,b=b,c\n",
    "    else:\n",
    "        for k in range(2,int(st)):\n",
    "            if int(st)%k==0:\n",
    "                print(\"not prime\")\n",
    "        return \"prime number\"\n",
    "spy(st)"
   ]
  },
  {
   "cell_type": "code",
   "execution_count": 21,
   "metadata": {},
   "outputs": [
    {
     "name": "stdout",
     "output_type": "stream",
     "text": [
      "[('a', 3), ('b', 8), ('c', 4)]\n"
     ]
    }
   ],
   "source": [
    "l=[['a',2],['a',3],['a',1],['b',8],['b',4],['c',5],['c',4]]\n",
    "max=0\n",
    "d={}\n",
    "for i in range(len(l)):\n",
    "    if l[i][1]>max:\n",
    "        max=l[i][1]\n",
    "        if l[i][0] not in d:\n",
    "            d[l[i][0]]=max\n",
    "        else:\n",
    "            d[l[i][0]]=max\n",
    "    if l[i][0] not in d:\n",
    "        max=0\n",
    "        d[l[i][0]]=max\n",
    "    else:\n",
    "        d[l[i][0]]=max\n",
    "# def one(coll,d,max):\n",
    "#     ch=coll[0][0]\n",
    "#     i=0\n",
    "#     while i<len(coll):\n",
    "#         if ch==coll[i][0]:\n",
    "#             if coll[i][1]>max:\n",
    "#                 max=coll[i][1]\n",
    "#                 if coll[i][0]not in d:\n",
    "#                     d[coll[i][0]]=max\n",
    "#                 else:\n",
    "#                     d[coll[i][0]]=max\n",
    "#         else:\n",
    "#             ch=coll[i][0]\n",
    "#             max=0\n",
    "#             i-=1\n",
    "#         i+=1\n",
    "#     x=[[j,d[j]] for j in d]\n",
    "#     return x\n",
    "\n",
    "# one(l,d,max)\n",
    "\n",
    "        \n",
    "    \n",
    "print(list(d.items())) # type: ignore"
   ]
  },
  {
   "cell_type": "code",
   "execution_count": 26,
   "metadata": {},
   "outputs": [
    {
     "name": "stdout",
     "output_type": "stream",
     "text": [
      "{'a': 5, 's': 1, 'h': 2, 'z': 1, 'j': 2}\n",
      "a 5\n",
      "tshztttjhtj\n"
     ]
    }
   ],
   "source": [
    "s=\"ashzaaajhaj\"\n",
    "d1={}\n",
    "max1=0\n",
    "for i in s:\n",
    "            if i not in d1:\n",
    "                d1[i]=1\n",
    "            else:\n",
    "                d1[i]+=1\n",
    "print(d1)\n",
    "ch1=\"\"\n",
    "res=\"\"\n",
    "for k in d1:\n",
    "    if d1[k]>max1:\n",
    "        max1=d1[k]\n",
    "        ch1=k\n",
    "print(ch1,max1)\n",
    "for i in s:\n",
    "    if i==ch1:\n",
    "            res+=\"t\"\n",
    "    else:\n",
    "          res+=i\n",
    "print(res)"
   ]
  },
  {
   "cell_type": "code",
   "execution_count": 16,
   "metadata": {},
   "outputs": [
    {
     "data": {
      "text/plain": [
       "45"
      ]
     },
     "execution_count": 16,
     "metadata": {},
     "output_type": "execute_result"
    }
   ],
   "source": [
    "l=[1,2,3,4,5,6,7,8,9]\n",
    "def sum(l,sum1=0,i=0):\n",
    "    if i==len(l):\n",
    "        return sum1\n",
    "    sum1+=l[i]\n",
    "    return sum(l,sum1,i+1)\n",
    "sum(l)\n"
   ]
  },
  {
   "cell_type": "code",
   "execution_count": 31,
   "metadata": {},
   "outputs": [
    {
     "name": "stdout",
     "output_type": "stream",
     "text": [
      "d\n"
     ]
    }
   ],
   "source": [
    "count=0\n",
    "st=[\"www.google.com\",\"www.edge.in\",\"www.djnsdj.org\",\"www.dlknc.com.in\"]\n",
    "s=\"\"\n",
    "l=[]\n",
    "for i in range(0,len(st)):\n",
    "    for j in range(0,i+1):\n",
    "        if st[i][j]==\".\":\n",
    "            count+=1\n",
    "            print(st[i][j])\n",
    "\n",
    "            s=\"\"\n",
    "            \n",
    "        # else:\n",
    "        #     s+=st[i][j]\n",
    "        #     if count==2:\n",
    "        #         s=st[i][j:]\n",
    "        #     print(s)\n",
    "          \n",
    "            \n",
    "      \n",
    "    \n",
    "    \n",
    "      "
   ]
  },
  {
   "cell_type": "code",
   "execution_count": 14,
   "metadata": {},
   "outputs": [
    {
     "name": "stdout",
     "output_type": "stream",
     "text": [
      "['hello', 'haii', 'how', 'are', 'you', 'miss', 'gorgeous']\n",
      "haymg\n",
      "[['hello', 'haii', 'how'], ['are'], ['you'], ['miss'], ['gorgeous']]\n",
      "{'h': ['hello', 'haii', 'how'], 'a': ['are'], 'y': ['you'], 'm': ['miss'], 'g': ['gorgeous']}\n"
     ]
    }
   ],
   "source": [
    "st=\"hello haii how are you miss gorgeous\"\n",
    "l=[]\n",
    "s=\"\"\n",
    "for i in st:\n",
    "    if i!=\" \":\n",
    "        s+=i\n",
    "    else:\n",
    "        if len(s)>0:\n",
    "            l.append(s)\n",
    "            s=\"\"\n",
    "if len(s)>0:\n",
    "    l.append(s)\n",
    "print(l)\n",
    "uni=\"\"\n",
    "for i in range(len(l)):\n",
    "    if l[i][0] not in uni:\n",
    "        uni+=l[i][0]\n",
    "print(uni)\n",
    "d=[]\n",
    "# for i in range(len(uni)):\n",
    "#     d+=[[]]\n",
    "#     for j in range(len(l)):\n",
    "#         if l[j][0]==uni[i]:\n",
    "#             d[-1].append(l[j])\n",
    "# for i in range(len(uni)):\n",
    "#     d+=[[]]\n",
    "#     for k in range(len(l)):\n",
    "        \n",
    "#         if uni[i]==l[k][0]:\n",
    "#             d[-1]+=[l[k]]\n",
    "h={}\n",
    "for i in range(len(uni)):\n",
    "    d+=[[]]\n",
    "    for k in range(len(l)):\n",
    "        \n",
    "        if uni[i]==l[k][0]:\n",
    "            d[-1]+=[l[k]]\n",
    "            h[uni[i]]=d[-1]\n",
    "\n",
    "    \n",
    "print(d)\n",
    "print(h)\n"
   ]
  },
  {
   "cell_type": "code",
   "execution_count": 1,
   "metadata": {},
   "outputs": [
    {
     "name": "stdout",
     "output_type": "stream",
     "text": [
      "[1, 2, 3]\n",
      "\n",
      " {'b': 1, 'c': 2, 'a': 3}\n"
     ]
    }
   ],
   "source": [
    "d={\"a\":3,\"b\":1,\"c\":2}\n",
    "\n",
    "l=list(d.values())\n",
    "l.sort()\n",
    "print(l)\n",
    "\n",
    "j={}\n",
    "for i in l:\n",
    "    for k in d:\n",
    "        if i==d[k]:\n",
    "            # print((i,k),end=\" \")\n",
    "            j[k]=i\n",
    "print(\"\\n\",j)\n",
    "\n",
    "\n"
   ]
  },
  {
   "cell_type": "code",
   "execution_count": 4,
   "metadata": {},
   "outputs": [
    {
     "ename": "TypeError",
     "evalue": "map() must have at least two arguments.",
     "output_type": "error",
     "traceback": [
      "\u001b[1;31m---------------------------------------------------------------------------\u001b[0m",
      "\u001b[1;31mTypeError\u001b[0m                                 Traceback (most recent call last)",
      "\u001b[1;32mc:\\Users\\syeda\\OneDrive\\Documents\\GitHub\\python-class\\practice1.ipynb Cell 70\u001b[0m line \u001b[0;36m1\n\u001b[1;32m----> <a href='vscode-notebook-cell:/c%3A/Users/syeda/OneDrive/Documents/GitHub/python-class/practice1.ipynb#Y126sZmlsZQ%3D%3D?line=0'>1</a>\u001b[0m x\u001b[39m=\u001b[39m\u001b[39mlist\u001b[39m(\u001b[39mmap\u001b[39;49m(\u001b[39minput\u001b[39;49m()\u001b[39m.\u001b[39;49msplit()))\n\u001b[0;32m      <a href='vscode-notebook-cell:/c%3A/Users/syeda/OneDrive/Documents/GitHub/python-class/practice1.ipynb#Y126sZmlsZQ%3D%3D?line=1'>2</a>\u001b[0m \u001b[39mprint\u001b[39m(x)\n\u001b[0;32m      <a href='vscode-notebook-cell:/c%3A/Users/syeda/OneDrive/Documents/GitHub/python-class/practice1.ipynb#Y126sZmlsZQ%3D%3D?line=2'>3</a>\u001b[0m ax\u001b[39m=\u001b[39m\u001b[39mtuple\u001b[39m(\u001b[39mmap\u001b[39m(\u001b[39mint\u001b[39m,\u001b[39minput\u001b[39m()\u001b[39m.\u001b[39msplit()))\n",
      "\u001b[1;31mTypeError\u001b[0m: map() must have at least two arguments."
     ]
    }
   ],
   "source": [
    "x=list(map(str,input().split()))\n",
    "print(x)\n",
    "ax=tuple(map(int,input().split()))\n",
    "print(ax)"
   ]
  },
  {
   "cell_type": "code",
   "execution_count": 13,
   "metadata": {},
   "outputs": [
    {
     "name": "stdout",
     "output_type": "stream",
     "text": [
      "[1, 2, 3, 4, 5]\n"
     ]
    }
   ],
   "source": [
    "# Define a function\n",
    "def square(x):\n",
    "    return x ** 2\n",
    "\n",
    "# Create a list of numbers\n",
    "numbers = \"1 2 3 4 5\"\n",
    "\n",
    "# Use map to apply the function to each element of the list\n",
    "result = map(int, numbers.split())\n",
    "\n",
    "# Convert the result to a list (as map returns an iterator)\n",
    "result_list = list(result)\n",
    "\n",
    "# Output the result\n",
    "print(result_list)\n"
   ]
  },
  {
   "cell_type": "code",
   "execution_count": 11,
   "metadata": {},
   "outputs": [
    {
     "name": "stdout",
     "output_type": "stream",
     "text": [
      "11  is prime number \n",
      "16 is not a prime number\n"
     ]
    }
   ],
   "source": [
    "n=11\n",
    "i=2\n",
    "while i<n:\n",
    "    if n%i==0:\n",
    "        print(f\"{n} is not a prime number\")\n",
    "        break\n",
    "    i+=1\n",
    "    print(n,\" is prime number \")\n",
    "    break\n",
    "#-------------------------------------------------------#\n",
    "#-------------------------------------------------------#\n",
    "n=16\n",
    "i=2\n",
    "count=0\n",
    "while i<n:\n",
    "    if n%i==0:\n",
    "        count+=1\n",
    "    i+=1\n",
    "if count==0:\n",
    "    print(f\"{n} is a prime number\")\n",
    "else:\n",
    "    print(f\"{n} is not a prime number\")\n"
   ]
  },
  {
   "cell_type": "code",
   "execution_count": 19,
   "metadata": {},
   "outputs": [
    {
     "name": "stdout",
     "output_type": "stream",
     "text": [
      "1 is a prime number\n",
      "2 is a prime number\n",
      "3 is a prime number\n",
      "5 is a prime number\n",
      "7 is a prime number\n",
      "11 is a prime number\n",
      "13 is a prime number\n",
      "17 is a prime number\n",
      "19 is a prime number\n",
      "23 is a prime number\n",
      "29 is a prime number\n",
      "31 is a prime number\n",
      "37 is a prime number\n",
      "41 is a prime number\n",
      "43 is a prime number\n",
      "47 is a prime number\n",
      "53 is a prime number\n",
      "59 is a prime number\n",
      "61 is a prime number\n",
      "67 is a prime number\n",
      "71 is a prime number\n",
      "73 is a prime number\n",
      "79 is a prime number\n",
      "83 is a prime number\n",
      "89 is a prime number\n",
      "97 is a prime number\n"
     ]
    }
   ],
   "source": [
    "# for n in range(1,101):\n",
    "#     i=2\n",
    "#     while i<n:\n",
    "#         if n%i==0:\n",
    "#             print(f\"{n} is not a prime number\")\n",
    "#             break\n",
    "#         i+=1\n",
    "#     print(n,\" is prime number \")\n",
    "for n in range(1,101):\n",
    "    i=2\n",
    "    count=0\n",
    "    while i<n:\n",
    "        if n%i==0:\n",
    "            count+=1\n",
    "        i+=1\n",
    "    if count==0:\n",
    "        print(f\"{n} is a prime number\")\n",
    "    # else:\n",
    "    #     print(f\"{n} is not a prime number\")\n",
    "        "
   ]
  },
  {
   "cell_type": "code",
   "execution_count": 9,
   "metadata": {},
   "outputs": [
    {
     "name": "stdout",
     "output_type": "stream",
     "text": [
      "ab 3\n"
     ]
    }
   ],
   "source": [
    "st=\"abcabdabe\"\n",
    "d={}\n",
    "max=0\n",
    "def max_ocur(st,d,max):\n",
    "    for i in range(len(st)):\n",
    "        for j in range(i,len(st)+1):\n",
    "            res=st[i:j]\n",
    "            if len(res)>1:\n",
    "                if res not in d:\n",
    "                    d[res]=1\n",
    "                else:\n",
    "                    d[res]+=1\n",
    "    ch=\"\"\n",
    "    for k in d:\n",
    "        if d[k]>max:\n",
    "            max=d[k]\n",
    "            ch=k\n",
    "    print(ch,max)\n",
    "max_ocur(st,d,max)"
   ]
  },
  {
   "cell_type": "code",
   "execution_count": 29,
   "metadata": {},
   "outputs": [],
   "source": [
    "s=\"aahhbbddddeeaa\"\n",
    "res=\"\"\n",
    "for i in range(0,len(s)):\n",
    "    for j in range(i,len(s)+1):\n",
    "        res=s[i:j]\n",
    "        # print(res)"
   ]
  },
  {
   "cell_type": "code",
   "execution_count": 1,
   "metadata": {},
   "outputs": [
    {
     "name": "stdout",
     "output_type": "stream",
     "text": [
      "30\n"
     ]
    }
   ],
   "source": [
    "num1=int(input(\"enter num 1\"))\n",
    "num2=int(input(\"enter num 2\"))\n",
    "sum1=num1+num2\n",
    "print(sum1)"
   ]
  }
 ],
 "metadata": {
  "kernelspec": {
   "display_name": "Python 3",
   "language": "python",
   "name": "python3"
  },
  "language_info": {
   "codemirror_mode": {
    "name": "ipython",
    "version": 3
   },
   "file_extension": ".py",
   "mimetype": "text/x-python",
   "name": "python",
   "nbconvert_exporter": "python",
   "pygments_lexer": "ipython3",
   "version": "3.11.6"
  },
  "orig_nbformat": 4
 },
 "nbformat": 4,
 "nbformat_minor": 2
}
