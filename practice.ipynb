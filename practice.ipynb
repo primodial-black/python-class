{
 "cells": [
  {
   "cell_type": "code",
   "execution_count": null,
   "metadata": {},
   "outputs": [],
   "source": [
    "s={'haii':10,'gopal':45,'pys':'india'}\n",
    "print(str(~(s['gopal']//s['haii']))+s['pys'][ : :-1])"
   ]
  },
  {
   "cell_type": "code",
   "execution_count": null,
   "metadata": {},
   "outputs": [],
   "source": [
    "a=1368\n",
    "print(a//100 and 15<15<85)"
   ]
  },
  {
   "cell_type": "code",
   "execution_count": null,
   "metadata": {},
   "outputs": [],
   "source": [
    "ch='A'\n",
    "print(ch.lower())\n",
    "print(chr(ord(ch)+32))"
   ]
  },
  {
   "cell_type": "code",
   "execution_count": null,
   "metadata": {},
   "outputs": [],
   "source": [
    "#1\n",
    "\n",
    "s=\"AhammadB\"\n",
    "if ord(s[0])==ord(s[-1])-1:\n",
    "    print(len(s))\n",
    "else:\n",
    "    s=s[-1]+s[1:-1]+s[0]\n",
    "    print(s)\n",
    "    \n",
    "s=\"Ahammad\"\n",
    "if ord(s[0])==ord(s[-1])-1:\n",
    "    print(len(s))\n",
    "else:\n",
    "    s=s[-1]+s[1:-1]+s[0]\n",
    "    print(s)"
   ]
  },
  {
   "cell_type": "code",
   "execution_count": null,
   "metadata": {},
   "outputs": [],
   "source": [
    "#2\n",
    "\n",
    "st1=\"hello\"\n",
    "st2=\"mister\"\n",
    "if len(st1)==len(st2):\n",
    "    print(st1+st2)\n",
    "else:\n",
    "    print(st1,len(st1),st2,len(st2))\n",
    "    \n",
    "st1=\"hello\"\n",
    "st2=\"miste\"\n",
    "if len(st1)==len(st2):\n",
    "    print(st1+st2)\n",
    "else:\n",
    "    print(st1,len(st1),st2,len(st2))"
   ]
  },
  {
   "cell_type": "code",
   "execution_count": 1,
   "metadata": {},
   "outputs": [
    {
     "name": "stdout",
     "output_type": "stream",
     "text": [
      "['haii', 2, 3, 4, 5, 'hello', 22, 33, 44, 55]\n",
      "2583210010496 2583210008192\n"
     ]
    }
   ],
   "source": [
    "#3\n",
    "\n",
    "\n",
    "\n",
    "l1=[1,2,3,4,5]\n",
    "l2=[11,22,33,44,55]\n",
    "if type(l1[0])==int and type(l2[0])==int:\n",
    "    l1[0]=\"haii\" # type: ignore\n",
    "    l2[0]=\"hello\" # type: ignore\n",
    "    l1+=l2\n",
    "    print(l1)\n",
    "else:\n",
    "    print(id(l1),id(l2))\n",
    "    \n",
    "    \n",
    "l1=[1.5,2,3,4,5]\n",
    "l2=[11,22,33,44,55]\n",
    "if type(l1[0])==int and type(l2[0])==int:\n",
    "    l1[0]=\"haii\" # type: ignore\n",
    "    l2[0]=\"hello\" # type: ignore\n",
    "    l1+=l2\n",
    "    print(l1)\n",
    "else:\n",
    "    print(id(l1),id(l2))\n",
    "    \n",
    "    "
   ]
  },
  {
   "cell_type": "code",
   "execution_count": null,
   "metadata": {},
   "outputs": [],
   "source": [
    "#4\n",
    "\n",
    "\n",
    "n=66\n",
    "if 0<=n<=127:\n",
    "    print(chr(n))\n",
    "elif n%2==0:\n",
    "    print(\"good morning\")\n",
    "else:\n",
    "    print(\"bye bye qspiders\")\n",
    "    \n",
    "    \n",
    "n=128\n",
    "if 0<=n<=127:\n",
    "    print(chr(n))\n",
    "elif n%2==0:\n",
    "    print(\"good morning\")\n",
    "else:\n",
    "    print(\"bye bye qspiders\")\n",
    "    \n",
    "    \n",
    "n=129\n",
    "if 0<=n<=127:\n",
    "    print(chr(n))\n",
    "elif n%2==0:\n",
    "    print(\"good morning\")\n",
    "else:\n",
    "    print(\"bye bye qspiders\")\n",
    "    "
   ]
  },
  {
   "cell_type": "code",
   "execution_count": null,
   "metadata": {},
   "outputs": [],
   "source": [
    "\n",
    "\n",
    "year = 1900\n",
    "\n",
    "\n",
    "if (year % 4 == 0 and year % 100 != 0) or (year % 400 == 0):\n",
    "    print(year, \"is a leap year.\")\n",
    "else:\n",
    "    print(year, \"is not a leap year.\")"
   ]
  },
  {
   "cell_type": "code",
   "execution_count": null,
   "metadata": {},
   "outputs": [],
   "source": [
    "a=12345\n",
    "d=0\n",
    "while a>0:\n",
    "    c=a%10\n",
    "    d=d+c\n",
    "    a=a//10\n",
    "print(d)\n",
    "\n",
    "\n",
    "a=20\n",
    "while a>0:\n",
    "    print(a**2) \n",
    "    a-=1\n",
    "  \n",
    "    \n",
    "\n",
    "   "
   ]
  },
  {
   "cell_type": "code",
   "execution_count": null,
   "metadata": {},
   "outputs": [],
   "source": [
    "#palindrome\n",
    "a=1223\n",
    "d=0\n",
    "e=a\n",
    "while a>0:\n",
    "    c=a%10\n",
    "    d=d*10+c\n",
    "    a=a//10\n",
    "if d==e:\n",
    "    print(d)\n",
    "else:\n",
    "    print(\"bye\")\n",
    "    \n",
    "    \n",
    "\n",
    "\n",
    "        "
   ]
  },
  {
   "cell_type": "code",
   "execution_count": null,
   "metadata": {},
   "outputs": [],
   "source": [
    "n=5\n",
    "d=1\n",
    "while n>0:\n",
    "    d=d*n\n",
    "    n=n-1\n",
    "print(d)\n",
    "    \n",
    "    "
   ]
  },
  {
   "cell_type": "code",
   "execution_count": null,
   "metadata": {},
   "outputs": [],
   "source": [
    "\n",
    "\n",
    "n=153\n",
    "d=0                     #sum of cube of each digit in the given number is equal to the given number is known as armstrong\n",
    "while n>0:\n",
    "    c=(n%10)**3\n",
    "    d=c+d\n",
    "    n=n//10\n",
    "print(d,\"armstrong\")\n",
    "    \n",
    "    \n",
    "a=23\n",
    "count=0\n",
    "i=2\n",
    "while i<=a :\n",
    "    if a%i==0:\n",
    "        count+=1\n",
    "    i+=1\n",
    "if count==1:\n",
    "    print(\"prime number\")\n",
    "else:\n",
    "    print(\"not\")\n",
    "    "
   ]
  },
  {
   "cell_type": "code",
   "execution_count": null,
   "metadata": {},
   "outputs": [],
   "source": [
    "a=24\n",
    "b=1\n",
    "c=0             #sum of multiples of a number is greater than the given number then it is aboundant number000000\n",
    "while b<a:\n",
    "    if a%b==0:\n",
    "        c=c+b\n",
    "    b+=1\n",
    "print(c,\"aboundant number\")\n",
    "    \n",
    "\n",
    "#factors\n",
    "\n",
    "a=6\n",
    "i=1\n",
    "while i<=a:\n",
    "    if a%i==0:\n",
    "        print(i)\n",
    "    i+=1   \n",
    "    "
   ]
  },
  {
   "cell_type": "code",
   "execution_count": null,
   "metadata": {},
   "outputs": [],
   "source": [
    "#automorphic num (any number square ending with the root  number is known is automorphic)\n",
    "n=76\n",
    "t=pow(n,2)\n",
    "s=pow(10,len(str(n)))\n",
    "if n==t%s:\n",
    "    print(\"automorphic\")\n",
    "else:\n",
    "    print(\"not auto\")\n"
   ]
  },
  {
   "cell_type": "code",
   "execution_count": null,
   "metadata": {},
   "outputs": [],
   "source": [
    "n=6\n",
    "res=1\n",
    "sum=0\n",
    "while res<n:                    #perfect number :sum of factors of a given number is equal to given number\n",
    "    if n%res==0:\n",
    "        sum=sum+res\n",
    "    res+=1\n",
    "if sum==n:\n",
    "    print(sum,\"it is perfect number\")\n",
    "else:\n",
    "    print(\"not perfect num\")"
   ]
  },
  {
   "cell_type": "code",
   "execution_count": null,
   "metadata": {},
   "outputs": [],
   "source": [
    "num=74\n",
    "res=1\n",
    "i=1\n",
    "res1=0\n",
    "while res<=num:                \n",
    "    ld=num%10                          #product of all digits in a num ,final result should be perfect number\n",
    "    res*=ld\n",
    "    num=num//10\n",
    "while res1<res:    \n",
    "    if res%i==0:\n",
    "        res1+=i\n",
    "    i+=1\n",
    "if res1==res:\n",
    "    print(res,\"it is perfect number\")\n",
    "else:\n",
    "    print(res,\"not perfect num\")"
   ]
  },
  {
   "cell_type": "code",
   "execution_count": null,
   "metadata": {},
   "outputs": [],
   "source": [
    "#sum of all the digits  in a given number ,check final result is prime or not\n",
    "num=1244242\n",
    "res=0\n",
    "i=2\n",
    "count=0\n",
    "while num:\n",
    "    ld=num%10\n",
    "    res+=ld\n",
    "    num=num//10\n",
    "print(res)\n",
    "while  res>i:\n",
    "    if res%i==0:\n",
    "        count+=1\n",
    "    i+=1\n",
    "if count==0:\n",
    "    print(res,\"is prime\")\n",
    "else:\n",
    "    print(\"not prime\")\n"
   ]
  },
  {
   "cell_type": "code",
   "execution_count": 1,
   "metadata": {},
   "outputs": [
    {
     "name": "stdout",
     "output_type": "stream",
     "text": [
      "56\n"
     ]
    }
   ],
   "source": [
    "#sum of factors of given number\n",
    "n=28\n",
    "res=1\n",
    "sum=0\n",
    "while res<=n:                   \n",
    "    if n%res==0:\n",
    "        sum=sum+res\n",
    "    res+=1\n",
    "print(sum)"
   ]
  },
  {
   "cell_type": "code",
   "execution_count": null,
   "metadata": {},
   "outputs": [],
   "source": [
    "n=145\n",
    "a=n                             #strong num:sum of factorials of a number is equal to the given number\n",
    "sum=0\n",
    "while n:\n",
    "    ld=n%10\n",
    "    i=1\n",
    "    res=1\n",
    "    while i<=ld:\n",
    "        res*=i\n",
    "        i+=1\n",
    "    n=n//10\n",
    "    sum+=res\n",
    "print(sum)\n",
    "if sum==a:\n",
    "    print(sum,\"strong num\")\n",
    "else:\n",
    "    print(sum,\"not a strong num\")"
   ]
  },
  {
   "cell_type": "code",
   "execution_count": null,
   "metadata": {},
   "outputs": [],
   "source": []
  },
  {
   "cell_type": "code",
   "execution_count": null,
   "metadata": {},
   "outputs": [],
   "source": [
    "#wap to extract each digit from the given num\n",
    "print(\"prog 1\")\n",
    "n=12345\n",
    "while n:\n",
    "    ld=n%10             #right to left\n",
    "    print(ld)\n",
    "    n=n//10\n",
    "    \n",
    "    #or\n",
    "print(\"prog 2\")   \n",
    "n=\"12345\"\n",
    "i=0\n",
    "while i< len(n):\n",
    "    print(n[i])\n",
    "    i+=1\n",
    "    \n",
    "    #or\n",
    "print(\"prog 3\")\n",
    "v=input(\"enter a num\")\n",
    "i=-1\n",
    "while i>=-(len(v)):\n",
    "    print(v[i])\n",
    "    i-=1\n"
   ]
  },
  {
   "cell_type": "code",
   "execution_count": null,
   "metadata": {},
   "outputs": [],
   "source": [
    "n = 1\n",
    "m=50\n",
    "while n <= m:\n",
    "    count=0\n",
    "    i = 2\n",
    "    while i < n:\n",
    "        if n%i== 0:\n",
    "            count+=1  \n",
    "        i+=1\n",
    "    if count==0:\n",
    "        print(n)\n",
    "    n += 1\n",
    "\n"
   ]
  },
  {
   "cell_type": "code",
   "execution_count": null,
   "metadata": {},
   "outputs": [],
   "source": [
    "\n",
    "for n in range(1,51):\n",
    "    i=2\n",
    "    count=0\n",
    "    while i<=n:\n",
    "        if n%i==0:\n",
    "            count+=1\n",
    "        i+=1\n",
    "    if count==1:\n",
    "        print(n)\n",
    "\n",
    "\n",
    "\n",
    "    "
   ]
  },
  {
   "cell_type": "code",
   "execution_count": null,
   "metadata": {},
   "outputs": [],
   "source": [
    "#fiboncci\n",
    "n=5\n",
    "a=0\n",
    "b=1\n",
    "i=1\n",
    "print(a)\n",
    "print(b)\n",
    "while n>=i:\n",
    "    c=a+b\n",
    "    print(c)\n",
    "    a,b=b,c\n",
    "    n-=1\n",
    "    \n"
   ]
  },
  {
   "cell_type": "code",
   "execution_count": null,
   "metadata": {},
   "outputs": [],
   "source": [
    "print(\"prime program\")\n",
    "n=29\n",
    "m=1\n",
    "while m<=n:\n",
    "    count=0\n",
    "    i=2\n",
    "    while i<m:\n",
    "        if m%i==0:\n",
    "            count+=1\n",
    "        i+=1\n",
    "    if count==0:\n",
    "        print(m,\"prime\")\n",
    "    m+=1\n",
    "\n",
    "print(\"fibonocci\")\n",
    "a=0\n",
    "b=1\n",
    "print(a)\n",
    "print(b)\n",
    "i=1\n",
    "n=5\n",
    "while i<=n:\n",
    "    c = a+b\n",
    "    print(c)\n",
    "    a,b=b,c\n",
    "    i+=1    "
   ]
  },
  {
   "cell_type": "code",
   "execution_count": 52,
   "metadata": {},
   "outputs": [
    {
     "ename": "KeyboardInterrupt",
     "evalue": "",
     "output_type": "error",
     "traceback": [
      "\u001b[1;31m---------------------------------------------------------------------------\u001b[0m",
      "\u001b[1;31mKeyboardInterrupt\u001b[0m                         Traceback (most recent call last)",
      "Cell \u001b[1;32mIn[52], line 20\u001b[0m\n\u001b[0;32m     18\u001b[0m a\u001b[39m=\u001b[39mn\n\u001b[0;32m     19\u001b[0m \u001b[39msum\u001b[39m\u001b[39m=\u001b[39m\u001b[39m0\u001b[39m\n\u001b[1;32m---> 20\u001b[0m \u001b[39mwhile\u001b[39;00m n\u001b[39m<\u001b[39;49m\u001b[39m=\u001b[39;49mm:\n\u001b[0;32m     21\u001b[0m     ld\u001b[39m=\u001b[39mn\u001b[39m%\u001b[39m\u001b[39m10\u001b[39m\n\u001b[0;32m     22\u001b[0m     i\u001b[39m=\u001b[39m\u001b[39m1\u001b[39m\n",
      "\u001b[1;31mKeyboardInterrupt\u001b[0m: "
     ]
    }
   ],
   "source": [
    "# n=23\n",
    "# m=1\n",
    "# while m<=n:\n",
    "#     count=0\n",
    "#     i=2\n",
    "#     while i<m:\n",
    "#         if m%i==0:\n",
    "#             count+=1\n",
    "#         i+=1\n",
    "#     if count==0:\n",
    "#         print(m,\" is prime\")\n",
    "#     m+=1\n",
    "    \n",
    "    \n",
    "    \n",
    "n=1\n",
    "a=n\n",
    "sum=0\n",
    "while n:\n",
    "    ld=n%10\n",
    "    i=1\n",
    "    res=1\n",
    "    while i<=ld:\n",
    "        res*=i\n",
    "        i+=1\n",
    "    sum+=res\n",
    "    n=n//10\n",
    "if sum==a:\n",
    "    print(sum,\"strong\")\n",
    "    \n",
    "    "
   ]
  },
  {
   "cell_type": "code",
   "execution_count": null,
   "metadata": {},
   "outputs": [],
   "source": [
    "#wap to count number of digits in a number\n",
    "n=2314567890\n",
    "count=0\n",
    "while n:\n",
    "    count+=1\n",
    "    n=n//10\n",
    "print(\"count is \",count)"
   ]
  },
  {
   "cell_type": "code",
   "execution_count": null,
   "metadata": {},
   "outputs": [],
   "source": [
    "n=9474   #1634,8208,370,371,407\n",
    "e=str(n)\n",
    "d=0                   \n",
    "while n>0:\n",
    "    c=(n%10)**len(e)\n",
    "    d=c+d\n",
    "    n=n//10\n",
    "print(d,\"armstrong\")"
   ]
  },
  {
   "cell_type": "code",
   "execution_count": 46,
   "metadata": {},
   "outputs": [
    {
     "name": "stdout",
     "output_type": "stream",
     "text": [
      "4  is count\n",
      "1634 armstrong\n"
     ]
    }
   ],
   "source": [
    "n=1634\n",
    "a=n\n",
    "i=n\n",
    "sum=0\n",
    "count=0\n",
    "while n:\n",
    "    count+=1\n",
    "    n//=10\n",
    "print(count,\" is count\")\n",
    "while i:\n",
    "    ld=i%10\n",
    "    sum+=ld**count\n",
    "    i//=10\n",
    "if a==sum:\n",
    "    print(sum,\"armstrong\")\n",
    "else:\n",
    "    print(sum,\"armweak\")\n",
    "    "
   ]
  },
  {
   "cell_type": "code",
   "execution_count": null,
   "metadata": {},
   "outputs": [],
   "source": [
    "#spy number\n",
    "n=123\n",
    "sum=0\n",
    "mul=1\n",
    "while n:\n",
    "    ld=n%10\n",
    "    sum+=ld\n",
    "    mul*=ld\n",
    "    n//=10\n",
    "print(sum,mul)\n",
    "if sum==mul:\n",
    "    print(f\"spy number\")\n",
    "else:\n",
    "    print(\"not a spy\")"
   ]
  },
  {
   "cell_type": "code",
   "execution_count": null,
   "metadata": {},
   "outputs": [],
   "source": [
    "#find diff of all digits from number   from right to left\n",
    "n=12345\n",
    "m=n%10\n",
    "n=n//10\n",
    "while n:\n",
    "    ld=n%10\n",
    "    m-=ld\n",
    "    n//=10\n",
    "print(m)"
   ]
  },
  {
   "cell_type": "code",
   "execution_count": null,
   "metadata": {},
   "outputs": [],
   "source": [
    "#find diff of all digits from number   from  left to right\n",
    "n=123456\n",
    "s=str(n)\n",
    "temp=int(s[0])\n",
    "ind=1\n",
    "while ind<len(s):\n",
    "    temp-=int(s[ind])\n",
    "    ind+=1\n",
    "print(\"diff is \",temp)"
   ]
  },
  {
   "cell_type": "code",
   "execution_count": 59,
   "metadata": {},
   "outputs": [
    {
     "ename": "KeyboardInterrupt",
     "evalue": "",
     "output_type": "error",
     "traceback": [
      "\u001b[1;31m---------------------------------------------------------------------------\u001b[0m",
      "\u001b[1;31mKeyboardInterrupt\u001b[0m                         Traceback (most recent call last)",
      "Cell \u001b[1;32mIn[59], line 13\u001b[0m\n\u001b[0;32m     11\u001b[0m     i\u001b[39m+\u001b[39m\u001b[39m=\u001b[39m\u001b[39m1\u001b[39m\n\u001b[0;32m     12\u001b[0m m\u001b[39m/\u001b[39m\u001b[39m/\u001b[39m\u001b[39m=\u001b[39m\u001b[39m10\u001b[39m\n\u001b[1;32m---> 13\u001b[0m \u001b[39mif\u001b[39;00m \u001b[39msum\u001b[39;49m\u001b[39m==\u001b[39;49mm:\n\u001b[0;32m     14\u001b[0m     \u001b[39mprint\u001b[39m(m)\n\u001b[0;32m     15\u001b[0m m\u001b[39m+\u001b[39m\u001b[39m=\u001b[39m\u001b[39m1\u001b[39m\n",
      "\u001b[1;31mKeyboardInterrupt\u001b[0m: "
     ]
    }
   ],
   "source": [
    "m=1\n",
    "n=2000\n",
    "sum=0\n",
    "while m<=n:\n",
    "    ld=m%10\n",
    "    i=1\n",
    "    res=1\n",
    "    while i<=ld:\n",
    "        res*=i\n",
    "        sum+=res\n",
    "        i+=1\n",
    "    m//=10\n",
    "    if sum==m:\n",
    "        print(m)\n",
    "    m+=1"
   ]
  },
  {
   "cell_type": "code",
   "execution_count": 63,
   "metadata": {},
   "outputs": [
    {
     "name": "stdout",
     "output_type": "stream",
     "text": [
      "1 strong\n",
      "2 strong\n",
      "145 strong\n",
      "40585 strong\n"
     ]
    }
   ],
   "source": [
    "n=1\n",
    "m=200000\n",
    "while n<=m:\n",
    "    a=n\n",
    "    temp=a\n",
    "    sum=0\n",
    "    while a:\n",
    "        ld=a%10\n",
    "        i=1\n",
    "        res=1\n",
    "        while i<=ld:\n",
    "            res*=i\n",
    "            i+=1\n",
    "        sum+=res\n",
    "        a=a//10\n",
    "    if sum==temp:\n",
    "        print(temp,\"strong\")\n",
    "    n+=1"
   ]
  },
  {
   "cell_type": "code",
   "execution_count": null,
   "metadata": {},
   "outputs": [],
   "source": [
    "start=1\n",
    "end=100000\n",
    "while start<=end:\n",
    "    temp=start\n",
    "    count=0\n",
    "    sum=0\n",
    "    while temp:\n",
    "        count+=1\n",
    "        temp//=10\n",
    "        res=start\n",
    "    while res:\n",
    "        ld=res%10\n",
    "        sum+=ld**count\n",
    "        res//=10\n",
    "    if start==sum:\n",
    "        print(sum)\n",
    "    start+=1\n",
    "    \n",
    "        \n",
    "        "
   ]
  },
  {
   "cell_type": "code",
   "execution_count": null,
   "metadata": {},
   "outputs": [],
   "source": [
    "start=1\n",
    "end=10000\n",
    "while start<=end:\n",
    "    temp=start\n",
    "    sum=0\n",
    "    mul=1\n",
    "    while temp:\n",
    "        ld=temp%10\n",
    "        sum+=ld\n",
    "        mul*=ld\n",
    "        temp//=10\n",
    "    if sum==mul:\n",
    "        print(start)\n",
    "    start+=1"
   ]
  },
  {
   "cell_type": "code",
   "execution_count": null,
   "metadata": {},
   "outputs": [],
   "source": [
    "start=1\n",
    "end=10000\n",
    "while start<=end:\n",
    "    temp=start\n",
    "    s=0\n",
    "    while temp:\n",
    "        ld=temp%10\n",
    "        s=(s*10)+ld\n",
    "        temp//=10\n",
    "    if s==start:\n",
    "        print(start)\n",
    "    start+=1"
   ]
  },
  {
   "cell_type": "code",
   "execution_count": null,
   "metadata": {},
   "outputs": [],
   "source": [
    "n=19792138814591\n",
    "sum=0\n",
    "while n:\n",
    "    ld=n%10\n",
    "    sum+=ld\n",
    "    n//=10\n",
    "sum1=0\n",
    "while sum:\n",
    "        ld=sum%10\n",
    "        sum1+=ld\n",
    "        sum//=10\n",
    "print(sum1)"
   ]
  },
  {
   "cell_type": "code",
   "execution_count": null,
   "metadata": {},
   "outputs": [],
   "source": [
    "n=197921388145912\n",
    "while n>9:\n",
    "    sum=0\n",
    "    while n:\n",
    "        ld=n%10\n",
    "        sum+=ld\n",
    "        n//=10\n",
    "    n=sum\n",
    "print(sum)"
   ]
  },
  {
   "cell_type": "code",
   "execution_count": null,
   "metadata": {},
   "outputs": [],
   "source": [
    "n=78971\n",
    "count=0\n",
    "temp=n\n",
    "while n:\n",
    "    count+=1\n",
    "    n//=10\n",
    "count=count//2\n",
    "while count:\n",
    "    temp=temp//10\n",
    "    count-=1\n",
    "    ld=temp%10\n",
    "print(ld)\n",
    "    "
   ]
  },
  {
   "cell_type": "code",
   "execution_count": null,
   "metadata": {},
   "outputs": [],
   "source": [
    "n=153\n",
    "temp=n\n",
    "count=0\n",
    "while temp:\n",
    "    count+=1\n",
    "    temp//=10\n",
    "sum=0\n",
    "res=n\n",
    "while res:\n",
    "    ld=res%10\n",
    "    sum+=ld**count\n",
    "    res//=10\n",
    "\n",
    "if sum==n:\n",
    "    m=1\n",
    "    i=1\n",
    "    count1=0\n",
    "    while i<=n:\n",
    "        if n%i==0:\n",
    "            \n",
    "            count1+=1\n",
    "        while \n",
    "        if count>2:\n",
    "             print(i)\n",
    "        i+=1\n",
    "                "
   ]
  },
  {
   "cell_type": "code",
   "execution_count": null,
   "metadata": {},
   "outputs": [],
   "source": [
    "n=153\n",
    "temp=n\n",
    "count=0\n",
    "while temp:\n",
    "    count+=1\n",
    "    temp//=10\n",
    "sum=0\n",
    "res=n\n",
    "while res:\n",
    "    ld=res%10\n",
    "    sum+=ld**count\n",
    "    res//=10\n",
    "if sum==n:\n",
    "    start=1\n",
    "    end=153\n",
    "    while start<=end:\n",
    "        count1=0\n",
    "        i=1\n",
    "        j=start\n",
    "        while i<=j:\n",
    "            if j%i==0:\n",
    "                count1+=1\n",
    "            i+=1\n",
    "        if count1!=2:\n",
    "            print(j,\" is n-prime\")\n",
    "        start+=1\n",
    "    "
   ]
  },
  {
   "cell_type": "code",
   "execution_count": null,
   "metadata": {},
   "outputs": [],
   "source": [
    "\n",
    "start=1\n",
    "end=100000\n",
    "while start<=end:\n",
    "    temp=start\n",
    "    sum=0\n",
    "    mul=1\n",
    "    while temp:\n",
    "        ld=temp%10\n",
    "        sum+=ld\n",
    "        mul*=ld\n",
    "        temp//=10\n",
    "    if sum==mul:\n",
    "        print(sum,mul)\n",
    "    start+=1"
   ]
  },
  {
   "cell_type": "code",
   "execution_count": null,
   "metadata": {},
   "outputs": [],
   "source": [
    "n=152\n",
    "temp=len(str(n))\n",
    "print(temp)\n",
    "a=n\n",
    "sum=0\n",
    "while a:\n",
    "    ld=a%10\n",
    "    sum+=ld**temp\n",
    "    a//=10\n",
    "if sum==n:\n",
    "    print(sum)\n",
    "else:\n",
    "    print(\"not armstrong\")"
   ]
  },
  {
   "cell_type": "code",
   "execution_count": 73,
   "metadata": {},
   "outputs": [
    {
     "name": "stdout",
     "output_type": "stream",
     "text": [
      "1\n"
     ]
    },
    {
     "ename": "KeyboardInterrupt",
     "evalue": "",
     "output_type": "error",
     "traceback": [
      "\u001b[1;31m---------------------------------------------------------------------------\u001b[0m",
      "\u001b[1;31mKeyboardInterrupt\u001b[0m                         Traceback (most recent call last)",
      "Cell \u001b[1;32mIn[73], line 16\u001b[0m\n\u001b[0;32m     14\u001b[0m     i\u001b[39m+\u001b[39m\u001b[39m=\u001b[39m\u001b[39m1\u001b[39m   \n\u001b[0;32m     15\u001b[0m     temp\u001b[39m/\u001b[39m\u001b[39m/\u001b[39m\u001b[39m=\u001b[39m\u001b[39m10\u001b[39m\n\u001b[1;32m---> 16\u001b[0m \u001b[39mif\u001b[39;00m \u001b[39msum\u001b[39;49m\u001b[39m==\u001b[39;49ma:\n\u001b[0;32m     17\u001b[0m     \u001b[39mprint\u001b[39m(\u001b[39msum\u001b[39m)\n\u001b[0;32m     18\u001b[0m m\u001b[39m+\u001b[39m\u001b[39m=\u001b[39m\u001b[39m1\u001b[39m\n",
      "\u001b[1;31mKeyboardInterrupt\u001b[0m: "
     ]
    }
   ],
   "source": [
    "m=1\n",
    "n=2000\n",
    "while m<=n:\n",
    "    temp=m\n",
    "    a=temp\n",
    "    sum=0\n",
    "    while temp:\n",
    "        ld=temp%10\n",
    "        res=1\n",
    "        i=1\n",
    "        while i<=ld:\n",
    "            res*=i\n",
    "            sum+=res\n",
    "            i+=1   \n",
    "            temp//=10\n",
    "        if sum==a:\n",
    "            print(sum)\n",
    "        m+=1\n",
    "# n=1\n",
    "# m=200000\n",
    "# while n<=m:\n",
    "#     a=n\n",
    "#     temp=a\n",
    "#     sum=0\n",
    "#     while a:\n",
    "#         ld=a%10\n",
    "#         i=1\n",
    "#         res=1\n",
    "#         while i<=ld:\n",
    "#             res*=i\n",
    "#             i+=1\n",
    "#         sum+=res\n",
    "#         a=a//10\n",
    "#     if sum==temp:\n",
    "#         print(temp,\"strong\")\n",
    "    # n+=1"
   ]
  },
  {
   "cell_type": "code",
   "execution_count": 1,
   "metadata": {},
   "outputs": [
    {
     "name": "stdout",
     "output_type": "stream",
     "text": [
      "['.com', '.com', '.com', '.com']\n"
     ]
    }
   ],
   "source": [
    "st=\"qspiders@gamil.com pyspiders@pys.com jspiders@ymail.com ramu@outlook.com\"\n",
    "res=\"\"\n",
    "i=0\n",
    "l=[]\n",
    "while i<len(st):\n",
    "    if st[i]==\".\":\n",
    "        res=\"\"\n",
    "        res+=st[i]\n",
    "    elif st[i]==\" \":\n",
    "        if len(res)!=0:\n",
    "            l+=[res]\n",
    "            res=\"\"\n",
    "    else:\n",
    "        res+=st[i]\n",
    "    i+=1\n",
    "if len(res)!=0:\n",
    "    l+=[res]\n",
    "print(l)\n",
    "\n"
   ]
  },
  {
   "cell_type": "code",
   "execution_count": 2,
   "metadata": {},
   "outputs": [
    {
     "name": "stdout",
     "output_type": "stream",
     "text": [
      "['@gamil.com', '@pys.com', '@ymail.com', '@outlook.com']\n"
     ]
    }
   ],
   "source": [
    "st=\"qspiders@gamil.com pyspiders@pys.com jspiders@ymail.com ramu@outlook.com\"\n",
    "res=\"\"\n",
    "i=0\n",
    "l=[]\n",
    "while i<len(st):\n",
    "    if st[i]==\"@\":\n",
    "        res=\"\"\n",
    "        res+=st[i]\n",
    "    elif st[i]==\" \":\n",
    "        if len(res)!=0:\n",
    "            l+=[res]\n",
    "            res=\"\"\n",
    "    else:\n",
    "        res+=st[i]\n",
    "    i+=1\n",
    "if len(res)!=0:\n",
    "    l+=[res]\n",
    "print(l)\n",
    "\n"
   ]
  },
  {
   "cell_type": "code",
   "execution_count": 6,
   "metadata": {},
   "outputs": [
    {
     "name": "stdout",
     "output_type": "stream",
     "text": [
      "['.com', '.org.in.c', '.com', '.com']\n"
     ]
    }
   ],
   "source": [
    "st=\"qspiders@gamil.com pyspiders@pys.org.in.c jspiders@ymail.com ramu@outlook.com\"\n",
    "res=\"\"\n",
    "i=0\n",
    "l=[]\n",
    "while i<len(st):\n",
    "    if st[i]==\".\" and st[i]==\".\" not in res:\n",
    "        res=\"\"\n",
    "        res+=st[i]\n",
    "    elif st[i]==\" \":\n",
    "        if len(res)!=0:\n",
    "            l+=[res]\n",
    "            res=\"\"\n",
    "    else:\n",
    "        res+=st[i]\n",
    "    i+=1\n",
    "if len(res)!=0:\n",
    "    l+=[res]\n",
    "print(l)\n",
    "\n"
   ]
  },
  {
   "cell_type": "code",
   "execution_count": 2,
   "metadata": {},
   "outputs": [
    {
     "name": "stdout",
     "output_type": "stream",
     "text": [
      "67 99\n"
     ]
    }
   ],
   "source": [
    "#{ 'maths':96, 'science':78, 'english':99,'social':95,'hindi':67} find the high marks and low marks \n",
    "d={ 'maths':96, 'science':78, 'english':99,'social':95,'hindi':67}\n",
    "lis=list(d)\n",
    "i=0\n",
    "min=100\n",
    "max=0\n",
    "while i<len(lis):\n",
    "    if max<=d[lis[i]]:\n",
    "        max=d[lis[i]]\n",
    "    if min>=d[lis[i]]:\n",
    "        min=d[lis[i]]  \n",
    "    i+=1  \n",
    "print(min,max)\n"
   ]
  },
  {
   "cell_type": "code",
   "execution_count": 5,
   "metadata": {},
   "outputs": [
    {
     "name": "stdout",
     "output_type": "stream",
     "text": [
      "6\n",
      "15\n",
      "24\n"
     ]
    }
   ],
   "source": [
    "#wap to do sum of values in a collection\n",
    "l=[[1,2,3],[4,5,6],[7,8,9]]\n",
    "i=0\n",
    "while i<len(l):\n",
    "    j=0\n",
    "    sum=0\n",
    "    while j <len(l[i]):\n",
    "        sum+=l[i][j]\n",
    "        j+=1\n",
    "    print(sum)\n",
    "    i+=1\n"
   ]
  },
  {
   "cell_type": "code",
   "execution_count": 2,
   "metadata": {},
   "outputs": [
    {
     "name": "stdout",
     "output_type": "stream",
     "text": [
      "1 X 1 = 1\n",
      "1 X 2 = 2\n",
      "1 X 3 = 3\n",
      "1 X 4 = 4\n",
      "1 X 5 = 5\n",
      "1 X 6 = 6\n",
      "1 X 7 = 7\n",
      "1 X 8 = 8\n",
      "1 X 9 = 9\n",
      "1 X 10 = 10\n",
      "\n",
      "2 X 2 = 4\n",
      "2 X 3 = 6\n",
      "2 X 4 = 8\n",
      "2 X 5 = 10\n",
      "2 X 6 = 12\n",
      "2 X 7 = 14\n",
      "2 X 8 = 16\n",
      "2 X 9 = 18\n",
      "2 X 10 = 20\n",
      "\n",
      "3 X 3 = 9\n",
      "3 X 4 = 12\n",
      "3 X 5 = 15\n",
      "3 X 6 = 18\n",
      "3 X 7 = 21\n",
      "3 X 8 = 24\n",
      "3 X 9 = 27\n",
      "3 X 10 = 30\n",
      "\n",
      "4 X 4 = 16\n",
      "4 X 5 = 20\n",
      "4 X 6 = 24\n",
      "4 X 7 = 28\n",
      "4 X 8 = 32\n",
      "4 X 9 = 36\n",
      "4 X 10 = 40\n",
      "\n",
      "5 X 5 = 25\n",
      "5 X 6 = 30\n",
      "5 X 7 = 35\n",
      "5 X 8 = 40\n",
      "5 X 9 = 45\n",
      "5 X 10 = 50\n",
      "\n",
      "6 X 6 = 36\n",
      "6 X 7 = 42\n",
      "6 X 8 = 48\n",
      "6 X 9 = 54\n",
      "6 X 10 = 60\n",
      "\n",
      "7 X 7 = 49\n",
      "7 X 8 = 56\n",
      "7 X 9 = 63\n",
      "7 X 10 = 70\n",
      "\n",
      "8 X 8 = 64\n",
      "8 X 9 = 72\n",
      "8 X 10 = 80\n",
      "\n",
      "9 X 9 = 81\n",
      "9 X 10 = 90\n",
      "\n",
      "10 X 10 = 100\n",
      "\n"
     ]
    }
   ],
   "source": [
    "\n",
    "def tables(start,end):\n",
    "    for i in range(start,end):\n",
    "        for j in range(i,11):\n",
    "            print(f\"{i} X {j} = {i*j}\")\n",
    "        print()\n",
    "tables(1,11)"
   ]
  },
  {
   "cell_type": "code",
   "execution_count": 4,
   "metadata": {},
   "outputs": [
    {
     "data": {
      "text/plain": [
       "{1: 1, 2: 8, 3: 27, 4: 64, 5: 125, 6: 216, 7: 343, 8: 512, 9: 729}"
      ]
     },
     "execution_count": 4,
     "metadata": {},
     "output_type": "execute_result"
    }
   ],
   "source": [
    "def cubes(n,m):\n",
    "    d={}\n",
    "    for i in range(n,m):\n",
    "        d[i]=i**3\n",
    "    return d\n",
    "cubes(1,10)"
   ]
  },
  {
   "cell_type": "code",
   "execution_count": 31,
   "metadata": {},
   "outputs": [
    {
     "name": "stdout",
     "output_type": "stream",
     "text": [
      "SrEdIpSy\n"
     ]
    }
   ],
   "source": [
    "st=\"PYSPIDERS\"\n",
    "def alt(coll):\n",
    "    res=\"\"\n",
    "    st=\"\"\n",
    "    st1=\"\"\n",
    "    for i in range(len(coll)):\n",
    "        res+=coll[::-2]\n",
    "        st1+=coll[-2::-2]\n",
    "        break\n",
    "    for i in range(4):\n",
    "        st+=res[i]+st1[i].lower()\n",
    "    print(st)\n",
    "alt(st)"
   ]
  },
  {
   "cell_type": "code",
   "execution_count": 34,
   "metadata": {},
   "outputs": [
    {
     "name": "stdout",
     "output_type": "stream",
     "text": [
      "SrEdIpSyP\n"
     ]
    }
   ],
   "source": [
    "st=\"PYSPIDERS\"\n",
    "res=\"\"\n",
    "for i in range(len(st)):\n",
    "    if i%2==0:\n",
    "        res=st[i]+res\n",
    "    else:\n",
    "        res=chr(ord(st[i])+32)+res\n",
    "print(res)"
   ]
  },
  {
   "cell_type": "code",
   "execution_count": 36,
   "metadata": {},
   "outputs": [
    {
     "name": "stdout",
     "output_type": "stream",
     "text": [
      "6\n",
      "28\n",
      "496\n"
     ]
    }
   ],
   "source": [
    "def perfect(n,m):\n",
    "    for i in range(n,m):\n",
    "        temp=i\n",
    "        j=1\n",
    "        sum=0\n",
    "        while j<i:\n",
    "            if i%j==0:\n",
    "                sum+=j\n",
    "            j+=1\n",
    "        if sum==temp:\n",
    "            print(sum)\n",
    "perfect(1,1800)"
   ]
  },
  {
   "cell_type": "code",
   "execution_count": 38,
   "metadata": {},
   "outputs": [
    {
     "name": "stdout",
     "output_type": "stream",
     "text": [
      "8 8\n"
     ]
    }
   ],
   "source": [
    "#spy=1124\n",
    "def spy(n):\n",
    "    sum=0\n",
    "    mul=1\n",
    "    while n:\n",
    "        sum+=n%10\n",
    "        mul*=n%10\n",
    "        n=n//10\n",
    "    if sum==mul:\n",
    "        print(sum,mul)\n",
    "spy(1124)"
   ]
  },
  {
   "cell_type": "code",
   "execution_count": 5,
   "metadata": {},
   "outputs": [
    {
     "name": "stdout",
     "output_type": "stream",
     "text": [
      "1\n",
      "2\n",
      "145\n"
     ]
    }
   ],
   "source": [
    "#strong\n",
    "def strong(n,m):\n",
    "    for i in range(n,m):\n",
    "        sum=0\n",
    "        temp=i\n",
    "        while i:\n",
    "            ld=i%10\n",
    "            j=1\n",
    "            mul=1\n",
    "            while j<=ld:\n",
    "                mul*=j\n",
    "                j+=1\n",
    "            i//=10\n",
    "            sum+=mul\n",
    "        if sum==temp:\n",
    "            print(sum)\n",
    "strong(1,1000)"
   ]
  },
  {
   "cell_type": "code",
   "execution_count": 10,
   "metadata": {},
   "outputs": [
    {
     "name": "stdout",
     "output_type": "stream",
     "text": [
      "153\n",
      "370\n",
      "371\n",
      "407\n",
      "1634\n",
      "8208\n",
      "9474\n"
     ]
    }
   ],
   "source": [
    "#armstrong\n",
    "def armstrong(n,m):\n",
    "    for i in range(n,m):\n",
    "        temp=i\n",
    "        sum=0\n",
    "        lent=len(str(i))\n",
    "        j=1\n",
    "        while j<=lent:\n",
    "            ld=i%10\n",
    "            sum+=ld**lent\n",
    "            j+=1\n",
    "            i//=10\n",
    "        if sum==temp:\n",
    "            print(sum)\n",
    "armstrong(10,20000)"
   ]
  },
  {
   "cell_type": "code",
   "execution_count": 11,
   "metadata": {},
   "outputs": [
    {
     "name": "stdout",
     "output_type": "stream",
     "text": [
      "1\n",
      "2\n",
      "3\n",
      "5\n",
      "8\n",
      "13\n",
      "21\n",
      "34\n",
      "55\n",
      "89\n"
     ]
    }
   ],
   "source": [
    "def fibonocci(i,n):\n",
    "    a=0\n",
    "    b=1\n",
    "    while i<=n:\n",
    "        c=a+b\n",
    "        a,b=b,c\n",
    "        print(c)\n",
    "        i+=1\n",
    "fibonocci(1,10)\n",
    "\n",
    "        "
   ]
  }
 ],
 "metadata": {
  "kernelspec": {
   "display_name": "Python 3",
   "language": "python",
   "name": "python3"
  },
  "language_info": {
   "codemirror_mode": {
    "name": "ipython",
    "version": 3
   },
   "file_extension": ".py",
   "mimetype": "text/x-python",
   "name": "python",
   "nbconvert_exporter": "python",
   "pygments_lexer": "ipython3",
   "version": "3.10.11"
  },
  "orig_nbformat": 4
 },
 "nbformat": 4,
 "nbformat_minor": 2
}
