{
 "cells": [
  {
   "cell_type": "code",
   "execution_count": 1,
   "metadata": {},
   "outputs": [
    {
     "name": "stdout",
     "output_type": "stream",
     "text": [
      "552 ns ± 49.7 ns per loop (mean ± std. dev. of 7 runs, 1,000,000 loops each)\n"
     ]
    }
   ],
   "source": [
    "%timeit [j**4 for j in range(1,9)]"
   ]
  },
  {
   "cell_type": "code",
   "execution_count": null,
   "metadata": {},
   "outputs": [],
   "source": [
    "import numpy as np \n",
    "%timeit np.arange(1,9)**4"
   ]
  },
  {
   "cell_type": "code",
   "execution_count": null,
   "metadata": {},
   "outputs": [],
   "source": [
    "import numpy as np \n",
    "l=[]\n",
    "for i in range(1,5):\n",
    "        l.append(int(input(\"enter : \")))\n",
    "print(np.array(l))\n",
    "# l=[]\n",
    "# for i in range(1,5):\n",
    "#     for j in range(1,5):\n",
    "#         l.append(int(input(\"enter : \")))\n",
    "#     l.append(\" \")\n",
    "# print(np.array(l))"
   ]
  },
  {
   "cell_type": "code",
   "execution_count": null,
   "metadata": {},
   "outputs": [],
   "source": [
    "import numpy as np \n",
    "l=[[1,2,3,4],[1,2,3,4],[1,2,3,4]]\n",
    "print(np.array(l))"
   ]
  },
  {
   "cell_type": "code",
   "execution_count": null,
   "metadata": {},
   "outputs": [],
   "source": [
    "import numpy as np\n",
    "l=[]\n",
    "for i in range(1,4):\n",
    "    l+=[[]]\n",
    "    for j in range(1,4):\n",
    "        l.append(int(input(f\"enter : [{i}][{j}]\")))\n",
    "    \n",
    "print(np.array(l))"
   ]
  },
  {
   "cell_type": "code",
   "execution_count": null,
   "metadata": {},
   "outputs": [],
   "source": [
    "import numpy as np\n",
    "l=[]\n",
    "for i in range(1,3):\n",
    "    l+=[[]]\n",
    "    for j in range(1,4):\n",
    "        l[-1]+=input(f\"enter : [{i}][{j}]\")\n",
    "    \n",
    "print(np.array(l))"
   ]
  },
  {
   "cell_type": "code",
   "execution_count": 4,
   "metadata": {},
   "outputs": [
    {
     "name": "stdout",
     "output_type": "stream",
     "text": [
      "[0. 0. 0. 0. 0.]\n",
      "\n",
      "[[0. 0. 0. 0.]\n",
      " [0. 0. 0. 0.]\n",
      " [0. 0. 0. 0.]]\n"
     ]
    }
   ],
   "source": [
    "# make a numpy array of only zeros\n",
    "import numpy as np\n",
    "ar_zero=np.zeros(5)\n",
    "print(ar_zero)\n",
    "print()\n",
    "# ``multidimensional array of zeros``\n",
    "\n",
    "ar_zero1=np.zeros((3,4))\n",
    "print(ar_zero1)"
   ]
  },
  {
   "cell_type": "code",
   "execution_count": 7,
   "metadata": {},
   "outputs": [
    {
     "name": "stdout",
     "output_type": "stream",
     "text": [
      "[1. 1. 1. 1. 1.]\n",
      "\n",
      "[[1. 1. 1. 1.]\n",
      " [1. 1. 1. 1.]\n",
      " [1. 1. 1. 1.]]\n"
     ]
    }
   ],
   "source": [
    "import numpy as np\n",
    "ar_ones=np.ones(5)\n",
    "\n",
    "print(ar_ones)\n",
    "# ``multidimensional array of ones``\n",
    "print()\n",
    "ar_zero1=np.ones((3,4))\n",
    "print(ar_zero1)"
   ]
  },
  {
   "cell_type": "code",
   "execution_count": 8,
   "metadata": {},
   "outputs": [
    {
     "name": "stdout",
     "output_type": "stream",
     "text": [
      "[1.32714377e-311 0.00000000e+000 4.94065646e-324]\n"
     ]
    }
   ],
   "source": [
    "# empty array of numpy\n",
    "import numpy as np\n",
    "ar_em=np.empty(3)\n",
    "print(ar_em)"
   ]
  }
 ],
 "metadata": {
  "kernelspec": {
   "display_name": "Python 3",
   "language": "python",
   "name": "python3"
  },
  "language_info": {
   "codemirror_mode": {
    "name": "ipython",
    "version": 3
   },
   "file_extension": ".py",
   "mimetype": "text/x-python",
   "name": "python",
   "nbconvert_exporter": "python",
   "pygments_lexer": "ipython3",
   "version": "3.11.6"
  }
 },
 "nbformat": 4,
 "nbformat_minor": 2
}
