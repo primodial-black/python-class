{
 "cells": [
  {
   "cell_type": "code",
   "execution_count": 5,
   "metadata": {},
   "outputs": [
    {
     "name": "stdout",
     "output_type": "stream",
     "text": [
      "given 16 is positive\n"
     ]
    }
   ],
   "source": [
    "#1)WAP to check whether a number is positive. If Positive, print a message Positive.\n",
    "n=16\n",
    "if n>=0:\n",
    "    print(f\"given {n} is positive\")\n",
    "    \n",
    "n=-16\n",
    "if n>=0:\n",
    "    print(f\"given {n} is positive\")"
   ]
  },
  {
   "cell_type": "code",
   "execution_count": 4,
   "metadata": {},
   "outputs": [
    {
     "name": "stdout",
     "output_type": "stream",
     "text": [
      "hello world!\n"
     ]
    }
   ],
   "source": [
    "#2)WAP to display hello world if the number is greater than 1 and lesser than 5.\n",
    "n=3\n",
    "if 1<n<5:\n",
    "    print(\"hello world!\")\n",
    "    \n",
    "n=6\n",
    "if 1<n<5:\n",
    "    print(\"hello world!\")"
   ]
  },
  {
   "cell_type": "code",
   "execution_count": 7,
   "metadata": {},
   "outputs": [
    {
     "name": "stdout",
     "output_type": "stream",
     "text": [
      "fizz\n"
     ]
    }
   ],
   "source": [
    "#3)WAP to check whether the given number is divisible by 3 or not if print fizz.\n",
    "n=9\n",
    "if n%3==0:\n",
    "    print(\"fizz\")\n",
    "    \n",
    "n=10\n",
    "if n%3==0:\n",
    "    print(\"fizz\")"
   ]
  },
  {
   "cell_type": "code",
   "execution_count": 12,
   "metadata": {},
   "outputs": [
    {
     "name": "stdout",
     "output_type": "stream",
     "text": [
      "(60+0j)\n"
     ]
    }
   ],
   "source": [
    "#4)WAP to check whether given input is divisible by 2 and 6. \n",
    "# If the condition is satisfied, convert the given number into a complex number.\n",
    "n=56\n",
    "if n%2==0 and n%6==0:\n",
    "    n=complex(n)\n",
    "    print(n)\n",
    "    \n",
    "n=60\n",
    "if n%2==0 and n%6==0:\n",
    "    n=complex(n)\n",
    "    print(n)"
   ]
  },
  {
   "cell_type": "code",
   "execution_count": 21,
   "metadata": {},
   "outputs": [
    {
     "name": "stdout",
     "output_type": "stream",
     "text": [
      "['3', '0']\n"
     ]
    }
   ],
   "source": [
    "#5)WAP to check whether a given input is divisible by 3 or 5. If the condition is satisfied, \n",
    "# the number is converted to a list. \n",
    "# i/p: 30 o/p:[‘3’,’0’]\n",
    "n=30\n",
    "if n%3==0 and n%5==0:\n",
    "    n=list(str(n))\n",
    "    print(n)\n",
    "    \n",
    "n=33\n",
    "if n%3==0 and n%5==0:\n",
    "    n=list(str(n))\n",
    "    print(n)"
   ]
  },
  {
   "cell_type": "code",
   "execution_count": 26,
   "metadata": {},
   "outputs": [
    {
     "name": "stdout",
     "output_type": "stream",
     "text": [
      "100 is multiple of 5\n"
     ]
    }
   ],
   "source": [
    "#6)Write a program to check whether a given number is multiple of 5 or not.\n",
    "n=100\n",
    "if n%5==0 or n%10==5:\n",
    "    print(f\"{n} is multiple of 5\")\n",
    "    \n",
    "n=102\n",
    "if n%5==0 or n%10==5:\n",
    "    print(f\"{n} is multiple of 5\")"
   ]
  },
  {
   "cell_type": "code",
   "execution_count": 28,
   "metadata": {},
   "outputs": [
    {
     "name": "stdout",
     "output_type": "stream",
     "text": [
      "0\n"
     ]
    }
   ],
   "source": [
    "#7)WAP to check whether the given input is 0 or not if 0 prints 0.\n",
    "n=0\n",
    "if n==0:\n",
    "    print(\"0\")"
   ]
  },
  {
   "cell_type": "code",
   "execution_count": 30,
   "metadata": {},
   "outputs": [
    {
     "name": "stdout",
     "output_type": "stream",
     "text": [
      "given -20 is negative\n"
     ]
    }
   ],
   "source": [
    "#8)WAP to check whether a number is negative. If negative, print a message negative.\n",
    "n=-20\n",
    "if n<0:\n",
    "    print(f\"given {n} is negative\")\n",
    "    \n",
    "n=-20\n",
    "if n<0:\n",
    "    print(f\"given {n} is negative\")"
   ]
  },
  {
   "cell_type": "code",
   "execution_count": 40,
   "metadata": {},
   "outputs": [
    {
     "name": "stdout",
     "output_type": "stream",
     "text": [
      "[1, 2, 46]\n"
     ]
    }
   ],
   "source": [
    "#9)WAP to check whether a number is even or not. If even, store the value inside the list.\n",
    "n=46\n",
    "m=[1,2]\n",
    "if n%2==0:\n",
    "    m.append(n)\n",
    "    print(m)\n",
    "    \n",
    "n=47\n",
    "m=[1,2]\n",
    "if n%2==0:\n",
    "    m.append(n)\n",
    "    print(m)"
   ]
  },
  {
   "cell_type": "code",
   "execution_count": 45,
   "metadata": {},
   "outputs": [
    {
     "name": "stdout",
     "output_type": "stream",
     "text": [
      "(1, 2, 47)\n"
     ]
    }
   ],
   "source": [
    "#10)WAP to check whether a number is odd or not. If odd, store the value inside the tuple.\n",
    "n=47\n",
    "m=(1,2)\n",
    "if n%2!=0:\n",
    "    m+=n,\n",
    "    print(m)"
   ]
  },
  {
   "cell_type": "code",
   "execution_count": 48,
   "metadata": {},
   "outputs": [
    {
     "name": "stdout",
     "output_type": "stream",
     "text": [
      "1296\n"
     ]
    }
   ],
   "source": [
    "#11)WAP to check if the given number is even or not. if it is yes, to print the power of 4 in a given number.\n",
    "n=6\n",
    "if n%2==0:\n",
    "    n=n**4\n",
    "    print(n)\n",
    "    \n",
    "n=7\n",
    "if n%2==0:\n",
    "    n=n**4\n",
    "    print(n)\n"
   ]
  },
  {
   "cell_type": "code",
   "execution_count": 67,
   "metadata": {},
   "outputs": [
    {
     "name": "stdout",
     "output_type": "stream",
     "text": [
      "11\n"
     ]
    }
   ],
   "source": [
    "#12)WAP to take the input from the user as a number and check whether it is a number or not. \n",
    "# if yes. take the number and add some value and print it.\n",
    "n=int(input(\"Enter a number\"))\n",
    "if n<=0 or n>=0:\n",
    "    n=n+10\n",
    "    print(n)\n"
   ]
  },
  {
   "cell_type": "code",
   "execution_count": 68,
   "metadata": {},
   "outputs": [
    {
     "name": "stdout",
     "output_type": "stream",
     "text": [
      "hello world!\n"
     ]
    }
   ],
   "source": [
    "#13)WAP to display hello world if the number is greater than 1 and less than 5.\n",
    "n=3\n",
    "if 1<n<5:\n",
    "    print(\"hello world!\")"
   ]
  },
  {
   "cell_type": "code",
   "execution_count": 69,
   "metadata": {},
   "outputs": [
    {
     "name": "stdout",
     "output_type": "stream",
     "text": [
      "1225\n"
     ]
    }
   ],
   "source": [
    "#14)WAP to check whether a given value is divisible by 5 and 7. If the value is divisible,\n",
    "# to display the square of the values.\n",
    "n=35\n",
    "if n%5==0 and n%7==0:\n",
    "    n=n**2\n",
    "    print(n)\n",
    "    \n",
    "n=37\n",
    "if n%5==0 and n%7==0:\n",
    "    n=n**2\n",
    "    print(n)"
   ]
  },
  {
   "cell_type": "code",
   "execution_count": 70,
   "metadata": {},
   "outputs": [
    {
     "name": "stdout",
     "output_type": "stream",
     "text": [
      "64\n"
     ]
    }
   ],
   "source": [
    "#15)WAP to check whether the given value's last digit is greater than 5 or not.if greater, \n",
    "# to perform the bitwise right shift operator (skipping value is 2)\n",
    "n=257\n",
    "if (n%10)>5:\n",
    "    n=n>>2\n",
    "    print(n)\n",
    "    \n",
    "n=252\n",
    "if (n%10)>5:\n",
    "    n=n>>2\n",
    "    print(n)"
   ]
  },
  {
   "cell_type": "code",
   "execution_count": 72,
   "metadata": {},
   "outputs": [
    {
     "name": "stdout",
     "output_type": "stream",
     "text": [
      "729\n"
     ]
    }
   ],
   "source": [
    "#16)WAP to check whether a given value is divisible by 3 and less than 30. \n",
    "# If the value is divisible,to display the square of the values.\n",
    "n=33\n",
    "if n%3==0 and n<30:\n",
    "    n=n**2\n",
    "    print(n)\n",
    "n=27\n",
    "if n%3==0 and n<30:\n",
    "    n=n**2\n",
    "    print(n)"
   ]
  },
  {
   "cell_type": "code",
   "execution_count": 75,
   "metadata": {},
   "outputs": [
    {
     "name": "stdout",
     "output_type": "stream",
     "text": [
      "64000\n"
     ]
    }
   ],
   "source": [
    "#17)WAP to check whether a given value is an even number and divisible by 4. \n",
    "# If satisfied ,to display the cube of the values.\n",
    "n=40\n",
    "if n%2==0 and n%4==0:\n",
    "    n=n**3\n",
    "    print(n)\n",
    "    \n",
    "n=2\n",
    "if n%2==0 and n%4==0:\n",
    "    n=n**3\n",
    "    print(n)"
   ]
  },
  {
   "cell_type": "code",
   "execution_count": 78,
   "metadata": {},
   "outputs": [
    {
     "name": "stdout",
     "output_type": "stream",
     "text": [
      "[10]\n"
     ]
    }
   ],
   "source": [
    "#18)WAP to check whether a given value is even or not. If the even number stores the value inside the list.\n",
    "n=10\n",
    "m=[]\n",
    "if n%2==0:\n",
    "    m.append(n)\n",
    "    print(m)\n",
    "    \n",
    "n=11\n",
    "m=[]\n",
    "if n%2==0:\n",
    "    m.append(n)\n",
    "    print(m)"
   ]
  },
  {
   "cell_type": "code",
   "execution_count": 83,
   "metadata": {},
   "outputs": [
    {
     "name": "stdout",
     "output_type": "stream",
     "text": [
      "0\n",
      "9\n"
     ]
    }
   ],
   "source": [
    "#19)WAP to check whether a given value is a negative or even number. If satisfied ,to display the last digit of the values.\n",
    "n=20\n",
    "if n<0 or n%2==0:\n",
    "    n=n%10\n",
    "    print(n)\n",
    "    \n",
    "n=-21\n",
    "if n<0 or n%2==0:\n",
    "    n=n%10\n",
    "    print(n)"
   ]
  },
  {
   "cell_type": "code",
   "execution_count": 87,
   "metadata": {},
   "outputs": [
    {
     "name": "stdout",
     "output_type": "stream",
     "text": [
      "-8000\n"
     ]
    }
   ],
   "source": [
    "#20)WAP to check whether a given value is a negative or odd number and divisible by 4. \n",
    "# If satisfied ,to display the cube of the values.\n",
    "n=-20\n",
    "if n<0 or n%2!=0 and n%4==0:\n",
    "    n=n**3\n",
    "    print(n)\n",
    "    \n",
    "n=21\n",
    "if n<0 or n%2!=0 and n%4==0:\n",
    "    n=n**3\n",
    "    print(n)\n",
    "    "
   ]
  },
  {
   "cell_type": "code",
   "execution_count": 99,
   "metadata": {},
   "outputs": [
    {
     "name": "stdout",
     "output_type": "stream",
     "text": [
      "P\n"
     ]
    }
   ],
   "source": [
    "#21)WAP to check whether a given ascii value is divisible by 4 and even value. \n",
    "# If satisfied, to display the ascii character.\n",
    "n=80\n",
    "if n%4==0 and n%2==0:\n",
    "    m=chr(n)\n",
    "    print(m)\n"
   ]
  },
  {
   "cell_type": "code",
   "execution_count": 101,
   "metadata": {},
   "outputs": [
    {
     "name": "stdout",
     "output_type": "stream",
     "text": [
      "<\n"
     ]
    }
   ],
   "source": [
    "#22)WAP to check whether a given value is present in between 45 to 125 and the number should be divisible by 4 and 5 and even value. \n",
    "# If satisfied, to display the ascii character.\n",
    "n=60\n",
    "if 45<n<125 and n%4==0 and n%5==0 and n%2==0:\n",
    "    n=chr(n)\n",
    "    print(n)"
   ]
  },
  {
   "cell_type": "code",
   "execution_count": 102,
   "metadata": {},
   "outputs": [
    {
     "name": "stdout",
     "output_type": "stream",
     "text": [
      "300\n"
     ]
    }
   ],
   "source": [
    "#23)WAP to check whether a given value is present in between 25 to 100 and the number should be divisible by 4 and 5.\n",
    "# If satisfied, to display multiplication of given value with 5.\n",
    "n=60\n",
    "if 45<n<125 and n%4==0 and n%5==0 and n%2==0:\n",
    "    n=n*5\n",
    "    print(n)"
   ]
  },
  {
   "cell_type": "code",
   "execution_count": 109,
   "metadata": {},
   "outputs": [
    {
     "name": "stdout",
     "output_type": "stream",
     "text": [
      "3\n"
     ]
    }
   ],
   "source": [
    "#24)WAP to check whether a given number is an integer and odd number. \n",
    "# If the condition is satisfied, the integer is divisible by 5 and displays the result.\n",
    "n=53\n",
    "if n<=0 or n>=0 and n%2!=0:\n",
    "    n=n%5\n",
    "    print(n)\n",
    "    \n"
   ]
  },
  {
   "cell_type": "code",
   "execution_count": 115,
   "metadata": {},
   "outputs": [
    {
     "name": "stdout",
     "output_type": "stream",
     "text": [
      "532\n"
     ]
    }
   ],
   "source": [
    "#25)WAP to check whether a given value is an integer or not. If integer, \n",
    "# the given value is converted to string and displays the result.\n",
    "n=532\n",
    "if n<=0 or n>=0:\n",
    "    n=str(n)\n",
    "    print(n)"
   ]
  },
  {
   "cell_type": "code",
   "execution_count": 124,
   "metadata": {},
   "outputs": [
    {
     "name": "stdout",
     "output_type": "stream",
     "text": [
      "m\n"
     ]
    }
   ],
   "source": [
    "#26)WAP to check whether a given value is less than 125 and greater than 60 or not. \n",
    "# If the condition is satisfied,take the name and extract the middle character and display it.\n",
    "n=70\n",
    "m=\"ahammad\"\n",
    "if 60<n<125:\n",
    "    m=m[len(m)//2]\n",
    "    print(m)\n",
    "    "
   ]
  },
  {
   "cell_type": "code",
   "execution_count": 125,
   "metadata": {},
   "outputs": [
    {
     "name": "stdout",
     "output_type": "stream",
     "text": [
      "40\n"
     ]
    }
   ],
   "source": [
    "#27)WAP to check whether a given two integers are equal or not. If both are equal, \n",
    "# to perform addition and display the result.\n",
    "n=20\n",
    "m=20\n",
    "if n is m:\n",
    "    print(m+n)\n"
   ]
  },
  {
   "cell_type": "code",
   "execution_count": 129,
   "metadata": {},
   "outputs": [
    {
     "name": "stdout",
     "output_type": "stream",
     "text": [
      "1\n"
     ]
    }
   ],
   "source": [
    "#28)WAP to check whether two values are equal or not. if equal, \n",
    "# to perform multiplication of two numbers and that result is division by 3 and display the value.\n",
    "n=20\n",
    "m=20\n",
    "if n is m:\n",
    "    l=(m*n)%3\n",
    "    print(l)\n",
    "    \n",
    "n=26\n",
    "m=20\n",
    "if n is m:\n",
    "    l=(m*n)%3\n",
    "    print(l)"
   ]
  },
  {
   "cell_type": "code",
   "execution_count": 130,
   "metadata": {},
   "outputs": [
    {
     "name": "stdout",
     "output_type": "stream",
     "text": [
      "{2: 10, 'a': 97}\n"
     ]
    }
   ],
   "source": [
    "#29)WAP to check whether a character is in the alphabet or not. If the alphabet, \n",
    "# store the value inside the dict(key as a character and value as an ascii value).\n",
    "n='a'\n",
    "m={2:10}\n",
    "if 'A'<=n<='Z' or 'a'<=n<='z':\n",
    "    m|={n:ord(n)}\n",
    "    print(m)"
   ]
  },
  {
   "cell_type": "code",
   "execution_count": 134,
   "metadata": {},
   "outputs": [
    {
     "name": "stdout",
     "output_type": "stream",
     "text": [
      "{5: 110, 'K': 75}\n"
     ]
    }
   ],
   "source": [
    "#30)WAP to check whether a character is in the uppercase or not. If the uppercase, \n",
    "# store the value inside the dict(key as a character and value as an ascii value).\n",
    "n='a'\n",
    "m={5:110}\n",
    "if 'A'<=n<='Z':\n",
    "    m|={n:ord(n)}\n",
    "    print(m)\n",
    "    \n",
    "n='K'\n",
    "m={5:110}\n",
    "if 'A'<=n<='Z':\n",
    "    m|={n:ord(n)}\n",
    "    print(m)"
   ]
  },
  {
   "cell_type": "code",
   "execution_count": 139,
   "metadata": {},
   "outputs": [
    {
     "name": "stdout",
     "output_type": "stream",
     "text": [
      "{5: 110, 'c': 99}\n"
     ]
    }
   ],
   "source": [
    "#31)WAP to check whether a character is in the uppercase or not. If the uppercase, \n",
    "# convert to lowercase and store the value inside the dict(character as a key and ascii value as a value).\n",
    "n='a'\n",
    "m={5:110}\n",
    "if  'A'<=n<='Z':\n",
    "    n=n.lower()\n",
    "    m|={n:ord(n)}\n",
    "    print(m)\n",
    "    \n",
    "n='C'\n",
    "m={5:110}\n",
    "if  'A'<=n<='Z':\n",
    "    n=n.lower()\n",
    "    m|={n:ord(n)}\n",
    "    print(m)\n",
    "    \n"
   ]
  },
  {
   "cell_type": "code",
   "execution_count": 140,
   "metadata": {},
   "outputs": [
    {
     "name": "stdout",
     "output_type": "stream",
     "text": [
      "aaaaa\n"
     ]
    }
   ],
   "source": [
    "#32)WAP to check whether a character is in the lowercase or not. If the lowercase, \n",
    "# to perform the replication operation on that character.\n",
    "n='a'\n",
    "if  'a'<=n<='z':\n",
    "    print(n*5)"
   ]
  },
  {
   "cell_type": "code",
   "execution_count": 148,
   "metadata": {},
   "outputs": [
    {
     "name": "stdout",
     "output_type": "stream",
     "text": [
      "9\n"
     ]
    }
   ],
   "source": [
    "#33)WAP to check whether a character is in the ascii number or not. If the ascii number, to convert into integer.\n",
    "n='9'\n",
    "if  chr(0)<=n<=chr(127):\n",
    "    print(int(n))\n",
    "    "
   ]
  },
  {
   "cell_type": "code",
   "execution_count": 151,
   "metadata": {},
   "outputs": [
    {
     "name": "stdout",
     "output_type": "stream",
     "text": [
      "@ 64\n"
     ]
    }
   ],
   "source": [
    "#34)WAP to check whether a character is in the special symbol or not. If the special symbol, \n",
    "# to display a symbol with ascii value.\n",
    "n='@'\n",
    "if 0<=ord(n)<=47 or 58<=ord(n)<=64 or 91<=ord(n)<=96 or 123<=ord(n)<=127:\n",
    "    print(f\"{n} {ord(n)}\")"
   ]
  },
  {
   "cell_type": "code",
   "execution_count": 155,
   "metadata": {},
   "outputs": [
    {
     "name": "stdout",
     "output_type": "stream",
     "text": [
      "104\n"
     ]
    }
   ],
   "source": [
    "#35)WAP to check whether a character is an even number or not. If the even number, to display an even number.\n",
    "n='h'\n",
    "if ord(n)%2==0:\n",
    "    print(ord(n))\n",
    "    \n",
    "n='i'\n",
    "if ord(n)%2==0:\n",
    "    print(ord(n))"
   ]
  }
 ],
 "metadata": {
  "kernelspec": {
   "display_name": "Python 3",
   "language": "python",
   "name": "python3"
  },
  "language_info": {
   "codemirror_mode": {
    "name": "ipython",
    "version": 3
   },
   "file_extension": ".py",
   "mimetype": "text/x-python",
   "name": "python",
   "nbconvert_exporter": "python",
   "pygments_lexer": "ipython3",
   "version": "3.10.11"
  },
  "orig_nbformat": 4
 },
 "nbformat": 4,
 "nbformat_minor": 2
}
