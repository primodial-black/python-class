{
 "cells": [
  {
   "cell_type": "code",
   "execution_count": 1,
   "metadata": {},
   "outputs": [
    {
     "name": "stdout",
     "output_type": "stream",
     "text": [
      "Oneplus {'model': 'oneplus 11', 'ram': '12gb', 'rom': '256gb', 'processor': 'mediatek dimensity 7', 'price': 45000, 'imei': 'on123456'}\n"
     ]
    }
   ],
   "source": [
    "class mobile:\n",
    "    cname=\"Oneplus\"\n",
    "    model=None\n",
    "    ram=None\n",
    "    rom=None\n",
    "    Processor=None\n",
    "    price=None\n",
    "    imei=None\n",
    "obj1=mobile()\n",
    "\n",
    "obj1.model=\"oneplus 11\"\n",
    "obj1.ram=\"12gb\"\n",
    "obj1.rom=\"256gb\"\n",
    "obj1.processor=\"mediatek dimensity 7\"\n",
    "obj1.price=45000\n",
    "obj1.imei=\"on123456\"\n",
    "print(obj1.cname,obj1.__dict__)\n",
    "\n"
   ]
  },
  {
   "cell_type": "code",
   "execution_count": null,
   "metadata": {},
   "outputs": [],
   "source": [
    "class mobile:\n",
    "    cname=\"Oneplus\"\n",
    "    model=None\n",
    "    ram=None\n",
    "    rom=None\n",
    "    Processor=None\n",
    "    price=None\n",
    "    imei=None\n",
    "obj1=mobile()\n",
    "def create(self,self.model,self.ram,self.rom,self.processor,self.price,self.imei)\n",
    "    self.model=\"oneplus 11\"\n",
    "    self.ram=\"12gb\"\n",
    "    self.rom=\"256gb\"\n",
    "    self.processor=\"mediatek dimensity 7\"\n",
    "    self.price=45000\n",
    "    self.imei=\"on123456\"\n",
    "    print(obj1.cname,obj1.__dict__)"
   ]
  },
  {
   "cell_type": "code",
   "execution_count": null,
   "metadata": {},
   "outputs": [],
   "source": [
    "class student:\n",
    "    def _init__(self,name,id,marks):\n",
    "        self.name=name\n",
    "        self.id=id\n",
    "        self.marks=marks\n",
    "    def display(self):\n",
    "        print(self.name,self.id,self.marks)\n",
    "n=int(input(\"num of obj:\"))\n",
    "for i in range(n):\n",
    "    name=input(\"name\")\n",
    "    id=int(input(\"id\"))\n",
    "    marks=int(input(\"marks\"))\n",
    "    s=student()\n",
    "    s.display()"
   ]
  }
 ],
 "metadata": {
  "kernelspec": {
   "display_name": "Python 3",
   "language": "python",
   "name": "python3"
  },
  "language_info": {
   "codemirror_mode": {
    "name": "ipython",
    "version": 3
   },
   "file_extension": ".py",
   "mimetype": "text/x-python",
   "name": "python",
   "nbconvert_exporter": "python",
   "pygments_lexer": "ipython3",
   "version": "3.11.6"
  }
 },
 "nbformat": 4,
 "nbformat_minor": 2
}
