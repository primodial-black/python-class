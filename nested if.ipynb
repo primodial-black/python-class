{
 "cells": [
  {
   "cell_type": "code",
   "execution_count": 97,
   "metadata": {},
   "outputs": [
    {
     "name": "stdout",
     "output_type": "stream",
     "text": [
      "adress before concat of tuple 2452369156640\n",
      "(11, 22, 33, 44, 1, 2, 3, 4) adress after concat of tuple 2452369375680 both adress not are same\n"
     ]
    }
   ],
   "source": [
    "c1=(11,22,33,44)\n",
    "c2=(1,2,3,4)\n",
    "\n",
    "\n",
    "if (type(c1) and type(c2)) in [list,str,dict,tuple,set]:\n",
    "    if type(c1)==type(c2):\n",
    "        if (type(c1) and type(c2))==list:\n",
    "            print(\"adress before concat of lists\",id(c1))\n",
    "            c1+=c2 # type: ignore\n",
    "            print(c1,\"adress after concat of lists\",id(c1),\"both adress are same\")\n",
    "        else:\n",
    "            if (type(c1) and type(c2))==dict:\n",
    "                print(\"adress before concat of dict\",id(c1))\n",
    "                c1|=c2 # type: ignore\n",
    "                print(c1,\"adress after concat of dict\",id(c1),\"both adress are same\")\n",
    "            elif (type(c1) and type(c2))==tuple:\n",
    "                print(\"adress before concat of tuple\",id(c1))\n",
    "                c1+=c2 # type: ignore\n",
    "                print(c1,\"adress after concat of tuple\",id(c1),\"both adress not are same\")\n",
    "            elif (type(c1) and type(c2))==str:\n",
    "                print(\"adress before concat of string\",id(c1))\n",
    "                c1+=c2 # type: ignore\n",
    "                print(c1,\"adress after concat of string\",id(c1),\"both adress are not same\")\n",
    "            else:\n",
    "                print(\"adress before concat of set\",id(c1))\n",
    "                c1|=c2 # type: ignore\n",
    "                print(c1,\"adress after concat of set\",id(c1),\"both adress are  same\")\n",
    "            \n",
    "    else:\n",
    "            res=list(c1)+list(c2)\n",
    "            print(res)\n",
    "               \n",
    "else:\n",
    "    if (type(c1) and type(c2)) in [int,float,complex,bytes]:\n",
    "        if (type(c1) and type(c2))==complex:\n",
    "             y=complex(c1.imag)  # type: ignore\n",
    "             z=complex(c2.imag) # type: ignore\n",
    "             print(y,z)\n",
    "        elif (type(c1) and type(c2))==bytes:\n",
    "            print(\"haii\")\n",
    "                #display ascii values without using ord\n",
    "        else:\n",
    "            c1=c1*c2 # type: ignore\n",
    "            print(\"multiplication of both values is :\",c1) \n",
    "    else:\n",
    "        if (type(c1) and type(c2)) in [bool,None]:\n",
    "            print(str(c2))\n",
    "            print(str(c1))\n",
    "        \n",
    "        "
   ]
  }
 ],
 "metadata": {
  "kernelspec": {
   "display_name": "Python 3",
   "language": "python",
   "name": "python3"
  },
  "language_info": {
   "codemirror_mode": {
    "name": "ipython",
    "version": 3
   },
   "file_extension": ".py",
   "mimetype": "text/x-python",
   "name": "python",
   "nbconvert_exporter": "python",
   "pygments_lexer": "ipython3",
   "version": "3.10.11"
  },
  "orig_nbformat": 4
 },
 "nbformat": 4,
 "nbformat_minor": 2
}
