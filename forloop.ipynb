{
 "cells": [
  {
   "cell_type": "code",
   "execution_count": null,
   "metadata": {},
   "outputs": [],
   "source": [
    "#wap to print uppercase\n",
    "st=\"AhaMaD\"\n",
    "for i in st:\n",
    "    if \"A\"<=i<=\"Z\":\n",
    "        print(i)"
   ]
  },
  {
   "cell_type": "code",
   "execution_count": null,
   "metadata": {},
   "outputs": [],
   "source": [
    "#wap to extract and store the spacial characters and lower case chars from given string\n",
    "st=\"ASDsnkdsn@#$^&\"\n",
    "s=\"\"\n",
    "for i in st:\n",
    "    if \"a\"<=i<=\"z\" and not(\"A\"<=i<=\"Z\" or \"0\"<=i<=\"9\"):\n",
    "        s+=i\n",
    "        print(i)"
   ]
  },
  {
   "cell_type": "code",
   "execution_count": null,
   "metadata": {},
   "outputs": [],
   "source": [
    "#wap to segregate the chars from given string\n",
    "st=\"kdknalsSKN24245@#$^&*\"\n",
    "up,lc,nu,sp=\"\",\"\",\"\",\"\"\n",
    "for i in st:\n",
    "    if \"A\"<=i<=\"Z\":\n",
    "        up+=i\n",
    "    elif \"a\"<=i<=\"z\":\n",
    "        lc+=i\n",
    "    elif \"0\"<=i<=\"9\":\n",
    "        nu+=i\n",
    "    else:\n",
    "        sp+=i\n",
    "print(up,lc,sp,nu)"
   ]
  },
  {
   "cell_type": "code",
   "execution_count": null,
   "metadata": {},
   "outputs": [],
   "source": [
    "#wap to check given password is valid or invalid,min 1 numeric char,min 2 special chars,except\".,(),[],{}, \"\n",
    "#starting char ending char should be uppercase chars ,max 5 lowercase chars and min 1 lowercase.\n",
    "#given input is atring and length of string is ,im 8 max 20.\n",
    "st=\"A1@#esftD\"\n",
    "uc,lc,nc,sc=0,0,0,0\n",
    "for i in st:\n",
    "    if \"A\"<=i<=\"Z\":\n",
    "        uc+=1\n",
    "    elif \"a\"<=i<=\"z\":\n",
    "        lc+=1\n",
    "    elif \"0\"<=i<=\"9\":\n",
    "        nc+=1\n",
    "    elif not(\"A\"<=i<=\"Z\" or \"0\"<=i<=\"9\" or  \". ()[]{}\"):\n",
    "        sc+=1\n",
    "if (\"A\"<=st[0]<=\"Z\" and \"A\"<=st[-1]<=\"Z\") and uc>=2 and 1<=lc<=5 and sc>=2 and nc>=1 and type(st)==str and 8<=len(st)<=20:\n",
    "        print(\"valid\")\n",
    "else:\n",
    "        print(\"inavlid\")\n",
    "    \n",
    "    \n"
   ]
  },
  {
   "cell_type": "code",
   "execution_count": null,
   "metadata": {},
   "outputs": [],
   "source": [
    "#wap to check given password is valid or invalid,min 1 numeric char,min 2 special chars,except\".,(),[],{}, \"\n",
    "#starting char ending char should be uppercase chars ,max 5 lowercase chars and min 1 lowercase.\n",
    "#given input is atring and length of string is ,im 8 max 20.if pswd is invalid display the reason\n",
    "st=\"A1@#esftH\"\n",
    "uc,lc,nc,sc=0,0,0,0\n",
    "for i in st:\n",
    "    if \"A\"<=i<=\"Z\":\n",
    "        uc+=1\n",
    "    elif \"a\"<=i<=\"z\":\n",
    "        lc+=1\n",
    "    elif \"0\"<=i<=\"9\":\n",
    "        nc+=1\n",
    "    elif not(\"A\"<=i<=\"Z\" or \"0\"<=i<=\"9\" or  \". ()[]{}\"):\n",
    "        sc+=1\n",
    "if not(\"A\"<=st[0]<=\"Z\" and \"A\"<=st[-1]<=\"Z\"):\n",
    "    print(\"password should contain uppercase chars in fisrt and last\")\n",
    "if not(uc>=2):\n",
    "    print(\"password shoub have more than or exactly two uppercase chars\")\n",
    "if not(1<=lc<=5):\n",
    "    print(\"password should contain min 1 and max 5 luwercase chars\")\n",
    "if not(sc>=2):\n",
    "    print(\"pasword should not contain . space ( ) [ ] { }\")\n",
    "if not(nc>=1):\n",
    "    print(\"password should contain min 1 numeric char\")\n",
    "if not(type(st)==str):\n",
    "    print(\"password should be in string format\")\n",
    "if not(8<=len(st)<=20):\n",
    "    print(\"password length should be min 8 anmd max 20 chars\")\n",
    "\n",
    "    \n",
    "    \n"
   ]
  },
  {
   "cell_type": "code",
   "execution_count": null,
   "metadata": {},
   "outputs": [],
   "source": [
    "#wap a program to count the number of data items in given collection without length function.\n",
    "var=\"ekfnfhfh\"\n",
    "if type(var) in [list,str,set,dict,tuple]:\n",
    "    count=0\n",
    "    for i in var:\n",
    "        count+=1\n",
    "    print(count)"
   ]
  },
  {
   "cell_type": "code",
   "execution_count": 2,
   "metadata": {},
   "outputs": [
    {
     "name": "stdout",
     "output_type": "stream",
     "text": [
      "3\n"
     ]
    }
   ],
   "source": [
    "#wap to count the specific data item in given collection.\n",
    "st=\"helloworld\"\n",
    "sp=\"l\"\n",
    "count=0\n",
    "if type(st) in [list,tuple,str]:\n",
    "    for i in st:\n",
    "        if sp==i:\n",
    "            count+=1\n",
    "print(count)"
   ]
  },
  {
   "cell_type": "code",
   "execution_count": 4,
   "metadata": {},
   "outputs": [
    {
     "name": "stdout",
     "output_type": "stream",
     "text": [
      "{'h': 1, 'e': 1, 'l': 3, 'o': 2, 'w': 1, 'r': 1, 'd': 1}\n"
     ]
    }
   ],
   "source": [
    "st=\"helloworld\"\n",
    "s={}\n",
    "for i in st:\n",
    "    if i not in s:\n",
    "        s[i]=1\n",
    "    else:\n",
    "        s[i]+=1\n",
    "print(s)"
   ]
  },
  {
   "cell_type": "code",
   "execution_count": 2,
   "metadata": {},
   "outputs": [
    {
     "name": "stdout",
     "output_type": "stream",
     "text": [
      "     1   1   1   1   1   \n",
      "       2   2   2   2   \n",
      "         3   3   3   \n",
      "           4   4   \n",
      "             5   \n"
     ]
    }
   ],
   "source": [
    "n=5\n",
    "for i in range(1,n+1):\n",
    "    print(\"  \"*(i+1),(str(i)+\"   \")*(n+1-i))"
   ]
  },
  {
   "cell_type": "code",
   "execution_count": 4,
   "metadata": {},
   "outputs": [
    {
     "name": "stdout",
     "output_type": "stream",
     "text": [
      "1  1  1  1  1  \n",
      "2  2  2  2  2  \n",
      "3  3  3  3  3  \n",
      "4  4  4  4  4  \n",
      "5  5  5  5  5  \n"
     ]
    }
   ],
   "source": [
    "n=5\n",
    "for i in range(1,n+1):\n",
    "    print((str(i)+\"  \")*n)"
   ]
  },
  {
   "cell_type": "code",
   "execution_count": 8,
   "metadata": {},
   "outputs": [
    {
     "name": "stdout",
     "output_type": "stream",
     "text": [
      "10 20\n",
      "20 10\n",
      "30 40\n",
      "40 30\n"
     ]
    }
   ],
   "source": [
    "a=10\n",
    "b=20\n",
    "temp=None\n",
    "print(a,b)\n",
    "temp=b\n",
    "b=a\n",
    "a=temp\n",
    "print(a,b)\n",
    "c=30\n",
    "d=40\n",
    "print(c,d)\n",
    "c,d=d,c\n",
    "print(c,d)\n",
    "\n"
   ]
  },
  {
   "cell_type": "code",
   "execution_count": null,
   "metadata": {},
   "outputs": [],
   "source": [
    "n=5\n",
    "for i in range(1,n+1):\n",
    "    print(\"  \"*(i),(str(i)+\"   \")*(n+1-i))"
   ]
  },
  {
   "cell_type": "code",
   "execution_count": 9,
   "metadata": {},
   "outputs": [
    {
     "name": "stdout",
     "output_type": "stream",
     "text": [
      "5 5 5 5 \n",
      "5 5 5 \n",
      "5 5 \n",
      "5 \n"
     ]
    }
   ],
   "source": [
    "n=5\n",
    "for i in range(1,n):\n",
    "    print(\"5 \"*(n-i))"
   ]
  },
  {
   "cell_type": "code",
   "execution_count": 15,
   "metadata": {},
   "outputs": [
    {
     "name": "stdout",
     "output_type": "stream",
     "text": [
      "4  4  4  4  \n",
      "3  3  3  \n",
      "2  2  \n",
      "1  \n"
     ]
    }
   ],
   "source": [
    "n=4\n",
    "for i in range(n):\n",
    "    for j in range(n-i):\n",
    "        print((n-i),end=\"  \")\n",
    "    print()"
   ]
  },
  {
   "cell_type": "code",
   "execution_count": 1,
   "metadata": {},
   "outputs": [
    {
     "name": "stdout",
     "output_type": "stream",
     "text": [
      "{6: 5, 8: 6, 4: 2, 5: 2, 7: 3}\n"
     ]
    }
   ],
   "source": [
    "st=[6,8,4,6,5,6,8,7,5,8,7,6,8,7,4,8,6,8]\n",
    "s={}\n",
    "i=0\n",
    "for i in st:\n",
    "    if i not in s:\n",
    "        s[i]=1\n",
    "    else:\n",
    "        s[i]+=1\n",
    "print(s)"
   ]
  },
  {
   "cell_type": "code",
   "execution_count": 19,
   "metadata": {},
   "outputs": [
    {
     "name": "stdout",
     "output_type": "stream",
     "text": [
      "['h', 'e', 'l', 'o', 'w', 'r', 'd']\n"
     ]
    }
   ],
   "source": [
    "st=\"helloworld\"\n",
    "# print(list(st))\n",
    "s=[]\n",
    "for i in st:\n",
    "    if i not in s:\n",
    "        s+=[i]\n",
    "print(s)"
   ]
  },
  {
   "cell_type": "code",
   "execution_count": 2,
   "metadata": {},
   "outputs": [
    {
     "name": "stdout",
     "output_type": "stream",
     "text": [
      "{'s': 2, 'k': 1, 'd': 1, 'v': 3, 'j': 3, 'i': 1}\n",
      "3 v\n",
      "1 k\n"
     ]
    }
   ],
   "source": [
    "#wap to findout the max occurance char in given string.\n",
    "st=\"skdvjsvjivj\"\n",
    "d={}\n",
    "for i in st:\n",
    "    if i not in d:\n",
    "        d[i]=1\n",
    "    else:\n",
    "        d[i]+=1\n",
    "print(d)\n",
    "max=0\n",
    "min=10\n",
    "ch=None\n",
    "ch1=None\n",
    "for j in d:\n",
    "    if max<d[j]:\n",
    "        max=d[j]\n",
    "        ch=j\n",
    "    if min>d[j]:\n",
    "        min=d[j]\n",
    "        ch1=j\n",
    "print(max,ch)   \n",
    "print(min,ch1)   \n",
    "\n",
    "\n",
    "  \n"
   ]
  },
  {
   "cell_type": "code",
   "execution_count": 56,
   "metadata": {},
   "outputs": [
    {
     "name": "stdout",
     "output_type": "stream",
     "text": [
      "{'s': 2, 'k': 1, 'd': 1, 'v': 3, 'j': 3, 'i': 1}\n",
      "3 v\n",
      "1 i\n",
      "[['s', 2], ['k', 1], ['d', 1], ['i', 1]]\n"
     ]
    }
   ],
   "source": [
    "#wap to findout the max occurance char in given string.\n",
    "st=\"skdvjsvjivj\"\n",
    "d={}\n",
    "for i in st:\n",
    "    if i not in d:\n",
    "        d[i]=1\n",
    "    else:\n",
    "        d[i]+=1\n",
    "print(d)\n",
    "max=0\n",
    "min=10\n",
    "u=[]\n",
    "ch=None\n",
    "ch1=None\n",
    "for j in d:\n",
    "    if max<d[j]:\n",
    "        max=d[j]\n",
    "        ch=j\n",
    "    if min>d[j] or min==d[j]:\n",
    "        min=d[j]\n",
    "        ch1=j\n",
    "        u+=[[j,d[j]]]\n",
    "        \n",
    "print(max,ch)   \n",
    "print(min,ch1) \n",
    "print(u)   \n",
    "\n",
    "\n",
    "  \n"
   ]
  },
  {
   "cell_type": "code",
   "execution_count": 55,
   "metadata": {},
   "outputs": [
    {
     "name": "stdout",
     "output_type": "stream",
     "text": [
      "{'s': 2, 'k': 1, 'd': 1, 'v': 3, 'j': 3, 'i': 1}\n",
      "{2: ['s'], 1: ['k', 'd', 'i'], 3: ['v', 'j']}\n"
     ]
    }
   ],
   "source": [
    "#wap to findout the max occurance char in given string.\n",
    "st=\"skdvjsvjivj\"\n",
    "d={}\n",
    "for i in st:\n",
    "    if i not in d:\n",
    "        d[i]=1\n",
    "    else:\n",
    "        d[i]+=1\n",
    "print(d)\n",
    "d1={}\n",
    "for j in d:\n",
    "    if d[j] not in d1:\n",
    "        d1[d[j]]=[j]\n",
    "    else:\n",
    "        d1[d[j]]+=[j]\n",
    "    \n",
    "print(d1)\n",
    "\n",
    "\n",
    "  \n"
   ]
  },
  {
   "cell_type": "code",
   "execution_count": 72,
   "metadata": {},
   "outputs": [
    {
     "name": "stdout",
     "output_type": "stream",
     "text": [
      "{2: ['s'], 1: ['k', 'd', 'i'], 3: ['v', 'j']}\n",
      "1\n",
      "no of chars:  3 ['k', 'd', 'i']\n"
     ]
    }
   ],
   "source": [
    "#wap to count least occurance chars from given string\n",
    "st=\"skdvjsvjivj\"\n",
    "d={}\n",
    "for i in st:\n",
    "    if i not in d:\n",
    "        d[i]=1\n",
    "    else:\n",
    "        d[i]+=1\n",
    "d1={}\n",
    "\n",
    "for j in d:\n",
    "    if d[j] not in d1:\n",
    "        d1[d[j]]=[j]\n",
    "    else:\n",
    "        d1[d[j]]+=[j] \n",
    "   \n",
    "print(d1)\n",
    "min=len(d)\n",
    "for k in d1:\n",
    "    if min>k:\n",
    "        min=k\n",
    "print(min)\n",
    "l=len(d1[min])\n",
    "print(\"no of chars: \",l,d1[min])\n",
    "    \n",
    "    \n"
   ]
  },
  {
   "cell_type": "code",
   "execution_count": 10,
   "metadata": {},
   "outputs": [
    {
     "name": "stdout",
     "output_type": "stream",
     "text": [
      "m\n",
      "mo\n",
      "mob\n",
      "mobi\n",
      "mobil\n",
      "mobile\n",
      "\n",
      "\n",
      "m\n",
      "mo\n",
      "mob\n",
      "mobi\n",
      "mobil\n",
      "mobile\n"
     ]
    }
   ],
   "source": [
    "st=\"mobile\"\n",
    "res=\"\"\n",
    "for i in st:\n",
    "    res+=i\n",
    "    print(res)\n",
    "print()  \n",
    "print()  \n",
    "    \n",
    "st=\"mobile\"\n",
    "pos=1\n",
    "for i in st:\n",
    "    print(st[0:pos])\n",
    "    pos+=1\n",
    "    \n"
   ]
  },
  {
   "cell_type": "markdown",
   "metadata": {},
   "source": [
    "range: it is a predefined function ass well as predefined data type,\n",
    "        it is used to generate the sequence of integer values based on user inputs.\n",
    "        it will accept 3 integer inputs (arguements).\n",
    "        ( starting value ,  ending value ,  step/update )\n",
    "\n",
    "note: whenever the user is passing value ,user follows a condition  i. e. starting index < ending value.\n",
    "        it generates seq of values , all the values stored in a collection and it return range collection address.\n",
    "\n",
    "*it is classified into types:\n",
    "                1.positive range\n",
    "\n",
    "                        range( SI , EI , +UP)\n",
    "\n",
    "                2.negative range\n",
    "                        \n",
    "                        range( SI , EI , -UP)\n",
    "\n",
    "DEFAULT VALUES FOR RANGE:\n",
    "        default for SI is 0\n",
    "        default for UP is 1\n",
    "        ending index value we should assign/mention.\n",
    "\n"
   ]
  },
  {
   "cell_type": "code",
   "execution_count": 32,
   "metadata": {},
   "outputs": [
    {
     "name": "stdout",
     "output_type": "stream",
     "text": [
      "m\n",
      "mo\n",
      "mob\n",
      "mobi\n",
      "mobil\n",
      "mobile\n",
      "\n",
      "o\n",
      "ob\n",
      "obi\n",
      "obil\n",
      "obile\n",
      "\n",
      "\n",
      "b\n",
      "bi\n",
      "bil\n",
      "bile\n",
      "\n",
      "\n",
      "\n",
      "i\n",
      "il\n",
      "ile\n",
      "\n",
      "\n",
      "\n",
      "\n",
      "l\n",
      "le\n",
      "\n",
      "\n",
      "\n",
      "\n",
      "\n",
      "e\n"
     ]
    }
   ],
   "source": [
    "st=\"mobile\"\n",
    "k=0\n",
    "for j in st:\n",
    "    pos=1\n",
    "    for i in st:\n",
    "        print(st[k:pos])\n",
    "        pos+=1\n",
    "    pos=1\n",
    "    k+=1"
   ]
  },
  {
   "cell_type": "code",
   "execution_count": 47,
   "metadata": {},
   "outputs": [
    {
     "name": "stdout",
     "output_type": "stream",
     "text": [
      "m\n",
      "mo\n",
      "mob\n",
      "mobi\n",
      "mobil\n",
      "mobile\n",
      "\n",
      "o\n",
      "ob\n",
      "obi\n",
      "obil\n",
      "obile\n",
      "\n",
      "b\n",
      "bi\n",
      "bil\n",
      "bile\n",
      "\n",
      "i\n",
      "il\n",
      "ile\n",
      "\n",
      "l\n",
      "le\n",
      "\n",
      "e\n",
      "\n"
     ]
    }
   ],
   "source": [
    "st=\"mobile\"\n",
    "k=0\n",
    "for i in st:\n",
    "    s=st[k:]\n",
    "    pos=1\n",
    "    for i in s:\n",
    "        print(s[0:pos])\n",
    "        pos+=1\n",
    "    k+=1\n",
    "    print()"
   ]
  },
  {
   "cell_type": "code",
   "execution_count": 48,
   "metadata": {},
   "outputs": [
    {
     "name": "stdout",
     "output_type": "stream",
     "text": [
      "m\n",
      "mo\n",
      "mob\n",
      "mobi\n",
      "mobil\n",
      "mobile\n",
      "\n",
      "o\n",
      "ob\n",
      "obi\n",
      "obil\n",
      "obile\n",
      "\n",
      "\n",
      "b\n",
      "bi\n",
      "bil\n",
      "bile\n",
      "\n",
      "\n",
      "\n",
      "i\n",
      "il\n",
      "ile\n",
      "\n",
      "\n",
      "\n",
      "\n",
      "l\n",
      "le\n",
      "\n",
      "\n",
      "\n",
      "\n",
      "\n",
      "e\n"
     ]
    }
   ],
   "source": [
    "for i in range(0,len(st)):\n",
    "    for j in range(1,len(st)+1):\n",
    "        print(st[i:j])"
   ]
  },
  {
   "cell_type": "code",
   "execution_count": 38,
   "metadata": {},
   "outputs": [
    {
     "name": "stdout",
     "output_type": "stream",
     "text": [
      "10  9  8  7  6  5  4  3  2  1  "
     ]
    }
   ],
   "source": [
    "for i in range(10,0,-1):\n",
    "    print(i,end=\"  \")"
   ]
  },
  {
   "cell_type": "code",
   "execution_count": 40,
   "metadata": {},
   "outputs": [
    {
     "name": "stdout",
     "output_type": "stream",
     "text": [
      "l -- 0\n",
      "e -- 1\n",
      "v -- 2\n",
      "e -- 3\n",
      "l -- 4\n"
     ]
    }
   ],
   "source": [
    "st=\"level\"\n",
    "for i in range(0,len(st)):\n",
    "    print(st[i],\"--\",i)"
   ]
  },
  {
   "cell_type": "code",
   "execution_count": 46,
   "metadata": {},
   "outputs": [
    {
     "name": "stdout",
     "output_type": "stream",
     "text": [
      "l\n",
      "le\n",
      "lev\n",
      "leve\n",
      "level\n",
      "\n",
      "l\n",
      "le\n",
      "lev\n",
      "leve\n",
      "level\n"
     ]
    }
   ],
   "source": [
    "st=\"level\"\n",
    "for i in range(len(st)):\n",
    "    print(st[0:i+1])\n",
    "    \n",
    "    \n",
    "print()    \n",
    "st=\"level\"\n",
    "res=''\n",
    "for i in range(len(st)):\n",
    "    res+=st[i]\n",
    "    print(res)"
   ]
  },
  {
   "cell_type": "code",
   "execution_count": 1,
   "metadata": {},
   "outputs": [
    {
     "name": "stdout",
     "output_type": "stream",
     "text": [
      "['abcdcba', 'bcdcb', 'cdc', 'xyzzyx', 'yzzy', 'zz', '5445', '44']\n",
      "8\n"
     ]
    }
   ],
   "source": [
    "st=\"abcdcbalifhxyzzyx15445#$5\"\n",
    "l=[]\n",
    "for i in range(0,len(st)):\n",
    "    for j in range(i+1,len(st)+1):\n",
    "        res=st[i:j:1]\n",
    "        if len(res)>1 and res==res[::-1]:\n",
    "            l+=[res]\n",
    "print(l)\n",
    "print(len(l))"
   ]
  },
  {
   "cell_type": "code",
   "execution_count": 7,
   "metadata": {},
   "outputs": [
    {
     "name": "stdout",
     "output_type": "stream",
     "text": [
      "['abcdcba', 'bcdcb', 'cdc', 'xyzzyx', 'yzzy', 'zz', '5445', '44']\n",
      "8\n"
     ]
    }
   ],
   "source": [
    "st=\"abcdcbalifhxyzzyx15445#$5\"\n",
    "li=[]\n",
    "for i in range(0,len(st)):\n",
    "    for j in range(i+1,len(st)+1):\n",
    "        res=\"\"\n",
    "        for k in range(i,j):\n",
    "            res+=st[k]\n",
    "        rev=\"\"\n",
    "        for l in range(0,len(res)):\n",
    "            rev=res[l]+rev\n",
    "        if len(res)>1 and res==rev:\n",
    "            li+=[res]\n",
    "print(li)\n",
    "print(len(li))"
   ]
  },
  {
   "cell_type": "code",
   "execution_count": 17,
   "metadata": {},
   "outputs": [
    {
     "name": "stdout",
     "output_type": "stream",
     "text": [
      "ell\n",
      "ell\n",
      "olleh\n",
      "olleh\n",
      "olleh\n",
      "olleh\n",
      "olle\n"
     ]
    }
   ],
   "source": [
    "st=\"hello\"\n",
    "print(st[1:3+1])\n",
    "\n",
    "\n",
    "res=\"\"\n",
    "for x in range(1,3+1):\n",
    "    res+=st[x]\n",
    "print(res)\n",
    "\n",
    "print(st[-1:-(len(st)+1):-1])\n",
    "print(st[::-1])\n",
    "\n",
    "rev=\"\"\n",
    "for y in range(0,len(st)):\n",
    "    rev=st[y]+rev\n",
    "print(rev)\n",
    "\n",
    "rev=\"\"\n",
    "for y in range(-1,-(len(st)+1),-1):\n",
    "    rev+=st[y]\n",
    "print(rev)\n",
    "\n"
   ]
  },
  {
   "cell_type": "code",
   "execution_count": 52,
   "metadata": {},
   "outputs": [
    {
     "name": "stdout",
     "output_type": "stream",
     "text": [
      "4 9 = 13\n",
      "4 3 = 7\n",
      "4 2 = 6\n",
      "4 1 = 5\n",
      "9 3 = 12\n",
      "9 2 = 11\n",
      "9 1 = 10\n",
      "3 2 = 5\n",
      "3 1 = 4\n",
      "2 1 = 3\n",
      "count of 5 is : 2\n"
     ]
    }
   ],
   "source": [
    "st=\"49321\"\n",
    "li=[]\n",
    "count=0\n",
    "for i in range(0,len(st)):\n",
    "    for j in range(i+1,len(st)):\n",
    "        print(int(st[i]),int(st[j]),\"=\",int(st[i])+int(st[j]))\n",
    "        if int(st[i])+int(st[j])==5:\n",
    "            count+=1\n",
    "print(\"count of 5 is :\",count)"
   ]
  },
  {
   "cell_type": "code",
   "execution_count": 61,
   "metadata": {},
   "outputs": [
    {
     "name": "stdout",
     "output_type": "stream",
     "text": [
      "1 4 = 5\n",
      "4 1 = 5\n",
      "4 1 = 5\n",
      "3 2 = 5\n",
      "3 2 = 5\n",
      "3 2 = 5\n",
      "2 3 = 5\n",
      "3 2 = 5\n",
      "3 2 = 5\n",
      "1 3 1 = 5\n",
      "1 3 1 = 5\n",
      "1 2 2 = 5\n",
      "1 2 2 = 5\n",
      "1 3 1 = 5\n",
      "1 3 1 = 5\n",
      "1 2 2 = 5\n",
      "3 1 1 = 5\n",
      "2 1 2 = 5\n",
      "2 1 2 = 5\n",
      "2 2 1 = 5\n",
      "2 2 1 = 5\n",
      "3 1 1 = 5\n",
      "1 2 2 = 5\n",
      "2 2 1 = 5\n",
      "1 2 1 1 = 5\n",
      "1 1 2 1 = 5\n",
      "1 1 2 1 = 5\n"
     ]
    }
   ],
   "source": [
    "st=\"14323122111\"\n",
    "li=[]\n",
    "count=0\n",
    "for i in range(0,len(st)):\n",
    "    for j in range(i+1,len(st)):\n",
    "        if int(st[i])+int(st[j])==5:\n",
    "            print(int(st[i]),int(st[j]),\"=\",int(st[i])+int(st[j]))\n",
    "              \n",
    "for i in range(0,len(st)):\n",
    "    for j in range(i+1,len(st)):\n",
    "        for k in range(j+1,len(st)):\n",
    "            if int(st[i])+int(st[j])+int(st[k])==5:\n",
    "                print(int(st[i]),int(st[j]),int(st[k]),\"=\",int(st[i])+int(st[j])+int(st[k]))\n",
    "            \n",
    "            \n",
    "for i in range(0,len(st)):\n",
    "    for j in range(i+1,len(st)):\n",
    "        for k in range(j+1,len(st)):\n",
    "            for m in range(k+1,len(st)):\n",
    "                if int(st[i])+int(st[j])+int(st[k])+int(st[m])==5:\n",
    "                    print(int(st[i]),int(st[j]),int(st[k]),int(st[m]),\"=\",int(st[i])+int(st[j])+int(st[k])+int(st[m]))"
   ]
  },
  {
   "cell_type": "code",
   "execution_count": 68,
   "metadata": {},
   "outputs": [
    {
     "name": "stdout",
     "output_type": "stream",
     "text": [
      "1\n",
      "14\n",
      "143\n",
      "1432\n",
      "14323\n",
      "143231\n",
      "1432312\n",
      "14323122\n",
      "143231221\n",
      "4\n",
      "43\n",
      "432\n",
      "4323\n",
      "43231\n",
      "432312\n",
      "4323122\n",
      "43231221\n",
      "3\n",
      "32\n",
      "323\n",
      "3231\n",
      "32312\n",
      "323122\n",
      "3231221\n",
      "2\n",
      "23\n",
      "231\n",
      "2312\n",
      "23122\n",
      "231221\n",
      "3\n",
      "31\n",
      "312\n",
      "3122\n",
      "31221\n",
      "1\n",
      "12\n",
      "122\n",
      "1221\n",
      "2\n",
      "22\n",
      "221\n",
      "2\n",
      "21\n",
      "1\n"
     ]
    }
   ],
   "source": [
    "st=\"143231221\"\n",
    "\n",
    "        \n",
    "for i in range(0,len(st)):\n",
    "    for j in range(i+1,len(st)+1):\n",
    "        print(st[i:j])"
   ]
  },
  {
   "cell_type": "code",
   "execution_count": 74,
   "metadata": {},
   "outputs": [
    {
     "name": "stdout",
     "output_type": "stream",
     "text": [
      "('4', '1') 5\n",
      "('3', '2') 5\n",
      "2\n"
     ]
    }
   ],
   "source": [
    "from itertools import combinations\n",
    "st=\"49321\"\n",
    "count=0\n",
    "for k in range(2,len(st)):\n",
    "    for i in list(combinations(st,k)):\n",
    "        sum1=0\n",
    "        for j in i:\n",
    "            sum1+=int(j)\n",
    "        if sum1==5:\n",
    "            count+=1\n",
    "            print(i,sum1)\n",
    "print(count)"
   ]
  },
  {
   "cell_type": "code",
   "execution_count": 4,
   "metadata": {},
   "outputs": [
    {
     "name": "stdout",
     "output_type": "stream",
     "text": [
      "0 a\n",
      "2 a\n",
      "4 a\n",
      "p 2\n",
      "p 5\n"
     ]
    }
   ],
   "source": [
    "st=\"ahamad\"\n",
    "c=\"a\"\n",
    "for i in range(0,len(st)):\n",
    "    if c==st[i]:\n",
    "        print(i,st[i])\n",
    "        \n",
    "        \n",
    "st=\"laptop\"\n",
    "ch=\"p\"\n",
    "i=0\n",
    "while i<len(st):\n",
    "    if st[i]==ch:\n",
    "        print(st[i],i)\n",
    "    i+=1\n"
   ]
  },
  {
   "cell_type": "code",
   "execution_count": 6,
   "metadata": {},
   "outputs": [
    {
     "name": "stdout",
     "output_type": "stream",
     "text": [
      "p 2\n"
     ]
    }
   ],
   "source": [
    "st=\"laptop\"\n",
    "ch=\"p\"\n",
    "i=0\n",
    "while i<len(st):\n",
    "    if st[i]==ch:\n",
    "        print(st[i],i)\n",
    "        break\n",
    "    i+=1\n"
   ]
  },
  {
   "cell_type": "code",
   "execution_count": 19,
   "metadata": {},
   "outputs": [
    {
     "name": "stdout",
     "output_type": "stream",
     "text": [
      "reqsuested index of char not present\n"
     ]
    }
   ],
   "source": [
    "st=\"syed ahammad basha\"\n",
    "c=\"a\"\n",
    "n=8\n",
    "count=0\n",
    "for i in range(0,len(st)):\n",
    "    if c==st[i]:\n",
    "        count+=1\n",
    "        if count==n:\n",
    "            print(c,i)\n",
    "else:\n",
    "    print(\"reqsuested index of char not present\")\n",
    "    \n",
    "        "
   ]
  },
  {
   "cell_type": "code",
   "execution_count": 54,
   "metadata": {},
   "outputs": [
    {
     "name": "stdout",
     "output_type": "stream",
     "text": [
      "a 1\n",
      "p 2\n",
      "p 5\n"
     ]
    }
   ],
   "source": [
    "st=\"laptop\"\n",
    "c=\"ap\"\n",
    "for i in range(0,len(st)):\n",
    "    for j in range(0,len(c)):\n",
    "        if c[j]==st[i]:\n",
    "            print(st[i],i) \n",
    " "
   ]
  },
  {
   "cell_type": "code",
   "execution_count": 53,
   "metadata": {},
   "outputs": [
    {
     "name": "stdout",
     "output_type": "stream",
     "text": [
      "a 1\n",
      "p 2\n"
     ]
    }
   ],
   "source": [
    "st=\"laptop\"\n",
    "s=\"ap\"\n",
    "for i in range(0,len(s)):\n",
    "    for j in range(0,len(st)):\n",
    "        if st[j]==s[i]:\n",
    "            print(st[j],j) \n",
    "            break"
   ]
  },
  {
   "cell_type": "code",
   "execution_count": 100,
   "metadata": {},
   "outputs": [
    {
     "name": "stdout",
     "output_type": "stream",
     "text": [
      "9 12\n"
     ]
    }
   ],
   "source": [
    "st=\"python programming\"\n",
    "s=\"ogr\"\n",
    "if s in st:\n",
    "    for i in range(0,len(st)):\n",
    "        if s[0]==st[i]:\n",
    "            if st[i:i+len(s)]==s:\n",
    "                print(i,i+len(s))\n",
    "             \n",
    "        "
   ]
  },
  {
   "cell_type": "code",
   "execution_count": 7,
   "metadata": {},
   "outputs": [
    {
     "data": {
      "text/plain": [
       "1"
      ]
     },
     "execution_count": 7,
     "metadata": {},
     "output_type": "execute_result"
    }
   ],
   "source": [
    "def last2(str):\n",
    "  # Screen out too-short string case.\n",
    "  if len(str) < 2:\n",
    "    return 0\n",
    "  \n",
    "  # last 2 chars, can be written as str[-2:]\n",
    "  last2 = str[len(str)-2:]\n",
    "  count = 0\n",
    "  \n",
    "  # Check each substring length 2 starting at i\n",
    "  for i in range(len(str)-2):\n",
    "    sub = str[i:i+2]\n",
    "    if sub == last2:\n",
    "      count = count + 1\n",
    "\n",
    "  return count\n",
    "last2(\"hiaaahi\")"
   ]
  },
  {
   "cell_type": "code",
   "execution_count": 8,
   "metadata": {},
   "outputs": [
    {
     "name": "stdout",
     "output_type": "stream",
     "text": [
      "1848184210240\n",
      "[1, 2, 3, 4, 5, 7, 8]\n",
      "1848184210240\n"
     ]
    }
   ],
   "source": [
    "\n",
    "#wap to eliminate duplicate data items from given collection without changhing collection address(list)\n",
    "\n",
    "l=[1,2,3,4,2,4,5,7,8]\n",
    "id(l)\n",
    "l1=[]\n",
    "print(id (l1))\n",
    "for i in l:\n",
    "    if i  not in l1:\n",
    "        l1+=[i]\n",
    "print(l1)\n",
    "print(id(l1))\n",
    "    "
   ]
  },
  {
   "cell_type": "code",
   "execution_count": 6,
   "metadata": {},
   "outputs": [
    {
     "name": "stdout",
     "output_type": "stream",
     "text": [
      "[1, 2, 3, 1, 6]\n"
     ]
    }
   ],
   "source": [
    "l=[1,2,3,4,1,2,6]\n",
    "u=l.copy()\n",
    "count=0\n",
    "n=2\n",
    "for i in range(len(u)):\n",
    "    if u[i]==n:\n",
    "        count+=1\n",
    "    if count==2:\n",
    "        del l[i-count]\n",
    "    \n",
    "print(l)"
   ]
  },
  {
   "cell_type": "code",
   "execution_count": 5,
   "metadata": {},
   "outputs": [
    {
     "name": "stdout",
     "output_type": "stream",
     "text": [
      "[3, 4, 6]\n"
     ]
    }
   ],
   "source": [
    "l=[1,2,3,4,1,2,6]\n",
    "u=l.copy()\n",
    "count=0\n",
    "for i in range(len(u)):\n",
    "    if u[i] in [1,2]:\n",
    "        del l[i-count]\n",
    "        count+=1\n",
    "print(l)"
   ]
  },
  {
   "cell_type": "code",
   "execution_count": 12,
   "metadata": {},
   "outputs": [
    {
     "name": "stdout",
     "output_type": "stream",
     "text": [
      "1848188680064\n",
      "[1, 2, 3, 4, 6]\n",
      "1848188680064\n"
     ]
    }
   ],
   "source": [
    "l=[1,2,3,4,1,6,2]\n",
    "print(id(l))\n",
    "u=l.copy()\n",
    "count=0\n",
    "t=[]\n",
    "for i in range(len(u)):\n",
    "    if u[i] not in t:\n",
    "        t+=[u[i]]\n",
    "    else:\n",
    "        del l[i-count]\n",
    "        count+=1\n",
    "print(l)\n",
    "print(id(l))"
   ]
  },
  {
   "cell_type": "code",
   "execution_count": 5,
   "metadata": {},
   "outputs": [
    {
     "name": "stdout",
     "output_type": "stream",
     "text": [
      "[6, 1, 4, 2, 3, 5, 8]\n",
      "[6, 1, 4, 2, 3, 4, 1, 2, 6, 5, 8, 2, 3]\n"
     ]
    }
   ],
   "source": [
    "#wap to delete nth occurance value\n",
    "st=[6,1,4,2,3,4,1,4,2,6,1,2,5,6,8,2,3]\n",
    "uni=[]\n",
    "for i in st:\n",
    "    if i not in uni:\n",
    "        uni+=[i]\n",
    "print(uni)\n",
    "\n",
    "n=3\n",
    "for j in uni:\n",
    "    count=0\n",
    "    for k in range(len(st)):\n",
    "        if j==st[k]:\n",
    "            count+=1\n",
    "        if count==n:\n",
    "            del st[k] # type: ignore\n",
    "            break\n",
    "print(st)\n",
    "            "
   ]
  },
  {
   "cell_type": "code",
   "execution_count": 6,
   "metadata": {},
   "outputs": [
    {
     "name": "stdout",
     "output_type": "stream",
     "text": [
      "[6, 1, 4, 2, 3, 4, 1, 4, 2, 6, 1, 2, 5, 8, 2, 3]\n"
     ]
    }
   ],
   "source": [
    "\n",
    "#wap to delete the specific data item nth occurance value\n",
    "st=[6,1,4,2,3,4,1,4,2,6,1,2,5,6,8,2,3]\n",
    "n=3\n",
    "sp=6\n",
    "count=0\n",
    "for k in range(len(st)):\n",
    "    if sp==st[k]:\n",
    "        count+=1\n",
    "    if count==n:\n",
    "        del st[k] # type: ignore\n",
    "        break\n",
    "print(st)"
   ]
  },
  {
   "cell_type": "code",
   "execution_count": 1,
   "metadata": {},
   "outputs": [
    {
     "name": "stdout",
     "output_type": "stream",
     "text": [
      "iphone iwatch pad\n"
     ]
    }
   ],
   "source": [
    "st=\"iphone iwatch ipad\"\n",
    "sp=\"i\"\n",
    "n=3\n",
    "count=0\n",
    "for i in range(len(st)):\n",
    "    if sp==st[i]:\n",
    "        count+=1\n",
    "    if count==n:\n",
    "        st=st[:i]+st[i+1:]\n",
    "        break\n",
    "print(st)\n",
    "        "
   ]
  },
  {
   "cell_type": "code",
   "execution_count": 23,
   "metadata": {},
   "outputs": [
    {
     "name": "stdout",
     "output_type": "stream",
     "text": [
      "(22.2+2j)\n",
      "(22.2+2j)\n",
      "(21.2+2j)\n"
     ]
    }
   ],
   "source": [
    "#wap sum of data items in given collection\n",
    "st=[1,2,\"str\",3+2j,4.2,True,5,6]\n",
    "sum=0\n",
    "if type(st) in [list,tuple,set]:\n",
    "    for i in st:\n",
    "        if type(i) in [int,float,bool,complex]:\n",
    "            sum+=i\n",
    "print(sum)\n",
    "\n",
    "\n",
    "st=(1,2,3+2j,4.2,True,5,6)\n",
    "sum=0\n",
    "if type(st) in [list,tuple,set]:\n",
    "    for i in st:\n",
    "        if type(i) in [int,float,bool,complex]:\n",
    "            sum+=i\n",
    "print(sum)\n",
    "\n",
    "\n",
    "st={1,2,3+2j,4.2,True,5,6}\n",
    "sum=0\n",
    "if type(st) in [list,tuple,set]:\n",
    "    for i in st:\n",
    "        if type(i) in [int,float,bool,complex]:\n",
    "            sum+=i\n",
    "print(sum)"
   ]
  },
  {
   "cell_type": "code",
   "execution_count": 24,
   "metadata": {},
   "outputs": [
    {
     "name": "stdout",
     "output_type": "stream",
     "text": [
      "18\n"
     ]
    }
   ],
   "source": [
    "st=\"abc156cde123\"\n",
    "sum=0\n",
    "for i in st:\n",
    "    if \"0\"<=i<=\"9\":\n",
    "        sum+=int(i)\n",
    "print(sum)"
   ]
  },
  {
   "cell_type": "code",
   "execution_count": 43,
   "metadata": {},
   "outputs": [
    {
     "name": "stdout",
     "output_type": "stream",
     "text": [
      "1\n",
      "5\n",
      "6\n",
      "1\n",
      "2\n",
      "3\n",
      "18\n"
     ]
    }
   ],
   "source": [
    "st=\"abc156cde123\"\n",
    "sum=0\n",
    "for i in st:\n",
    "    if \"0\"<=i<=\"9\":\n",
    "        print(i)\n",
    "        \n",
    "        sum+=int(i)\n",
    "print(sum)"
   ]
  },
  {
   "cell_type": "code",
   "execution_count": 45,
   "metadata": {},
   "outputs": [
    {
     "name": "stdout",
     "output_type": "stream",
     "text": [
      "279\n"
     ]
    }
   ],
   "source": [
    "st='abcd156ab123'\n",
    "sum=0\n",
    "res=\"\"\n",
    "for i in st:\n",
    "    \n",
    "    if \"0\"<=i<=\"9\":\n",
    "        res+=i\n",
    "    else:\n",
    "        if len(res)>0:\n",
    "            sum+=int(res)\n",
    "            res=\"\"\n",
    "if len(res)>0:\n",
    "    sum+=int(res)\n",
    "print(sum)\n",
    "    \n",
    "    "
   ]
  },
  {
   "cell_type": "code",
   "execution_count": 1,
   "metadata": {},
   "outputs": [
    {
     "name": "stdout",
     "output_type": "stream",
     "text": [
      "46\n"
     ]
    }
   ],
   "source": [
    "st=\"abc326cde125efg\"\n",
    "#o/p: 46\n",
    "sum=0\n",
    "res=\"\"\n",
    "mul=1\n",
    "for i in st:\n",
    "    if \"0\"<=i<=\"9\":\n",
    "        res+=i\n",
    "    else:\n",
    "        if len(res)>0:\n",
    "            for j in res:\n",
    "                mul*=int(j)\n",
    "            res=\"\"\n",
    "            sum+=mul\n",
    "            mul=1\n",
    "print(sum)\n",
    "    "
   ]
  },
  {
   "cell_type": "code",
   "execution_count": 5,
   "metadata": {},
   "outputs": [
    {
     "name": "stdout",
     "output_type": "stream",
     "text": [
      "0 1 2 3 4 5 6 7 8 "
     ]
    }
   ],
   "source": [
    "#2 WAP to print all the items present in the string between the range from m to n.\n",
    "for i in range(9):\n",
    "    print(i,end=\" \")"
   ]
  },
  {
   "cell_type": "code",
   "execution_count": 4,
   "metadata": {},
   "outputs": [
    {
     "name": "stdout",
     "output_type": "stream",
     "text": [
      "M F S S K D M S K "
     ]
    }
   ],
   "source": [
    "#3 WAP to print the uppercase characters in a given string.\n",
    "st=\"lfsdMFSmvkdmvSKDMSK\"\n",
    "for i in st:\n",
    "    if \"A\"<=i<=\"Z\":\n",
    "        print(i,end=\" \")"
   ]
  },
  {
   "cell_type": "code",
   "execution_count": 6,
   "metadata": {},
   "outputs": [
    {
     "name": "stdout",
     "output_type": "stream",
     "text": [
      "l f s d m v k d m v "
     ]
    }
   ],
   "source": [
    "#4 WAP to print the lowercase characters in a given string.\n",
    "st=\"lfsdMFSmvkdmvSKDMSK\"\n",
    "for i in st:\n",
    "    if \"a\"<=i<=\"z\":\n",
    "        print(i,end=\" \")"
   ]
  },
  {
   "cell_type": "code",
   "execution_count": 8,
   "metadata": {},
   "outputs": [
    {
     "name": "stdout",
     "output_type": "stream",
     "text": [
      "4 5 3 7 6 9 8 7 6 8 7 8 7 9 8 9 7 "
     ]
    }
   ],
   "source": [
    "#5 WAP to print the ascii numbers(Digits) characters in a given string.\n",
    "st=\"cknaksd45376vcv9v8b7dv6s878sf79sf8s9f7\"\n",
    "for i in st:\n",
    "    if \"0\"<=i<=\"9\":\n",
    "        print(i,end=\" \")"
   ]
  },
  {
   "cell_type": "code",
   "execution_count": 9,
   "metadata": {},
   "outputs": [
    {
     "name": "stdout",
     "output_type": "stream",
     "text": [
      "# @ & ( ) ! ^ "
     ]
    }
   ],
   "source": [
    "#6 WAP to print the special characters in a given string.\n",
    "st=\"cknaksd4#537@6vcv&9v8(b7dv6)s878sf79!sf8s^9f7\"\n",
    "for i in st:\n",
    "    if not(\"0\"<=i<=\"9\" or \"A\"<=i<=\"Z\" or \"a\"<=i<=\"z\"):\n",
    "        print(i,end=\" \")"
   ]
  },
  {
   "cell_type": "code",
   "execution_count": 20,
   "metadata": {},
   "outputs": [
    {
     "name": "stdout",
     "output_type": "stream",
     "text": [
      "e u o i a A I O U E e o a i u o "
     ]
    }
   ],
   "source": [
    "#7)WAP to Print the vowels in a given string.\n",
    "st=\"jcnfdsjkjeuoiakdwAIOUEerpohcasiucsdvdspvldsoqdqnq \"\n",
    "def vowels(coll):\n",
    "    for i in coll:\n",
    "        if i in \"AEIOUaeiou\":\n",
    "            print(i,end=\" \")\n",
    "vowels(st)"
   ]
  },
  {
   "cell_type": "code",
   "execution_count": 23,
   "metadata": {},
   "outputs": [
    {
     "name": "stdout",
     "output_type": "stream",
     "text": [
      "o l b a i d   g n i k   n o m e d "
     ]
    }
   ],
   "source": [
    "#WAP to print the reverse of the characters in a given string.\n",
    "st=\"demon king diablo\"\n",
    "for i in range(len(st)-1,-1,-1):\n",
    "    print(st[i],end=\" \")\n",
    "\n"
   ]
  },
  {
   "cell_type": "code",
   "execution_count": 25,
   "metadata": {},
   "outputs": [
    {
     "name": "stdout",
     "output_type": "stream",
     "text": [
      "17\n",
      "Total number of character is 17 characters\n"
     ]
    }
   ],
   "source": [
    "# WAP to count the total Number of characters in a given string.(with length function)\n",
    "\n",
    "st=\"asklfndskjfhwudfh\"\n",
    "print(len(st))\n",
    "\n",
    "\n",
    "# WAP to count the total Number of characters in a given string.(without length function)\n",
    "count=0\n",
    "for i in st:\n",
    "    count+=1\n",
    "print(\"Total number of character is\",count,\"characters\")\n"
   ]
  },
  {
   "cell_type": "code",
   "execution_count": 27,
   "metadata": {},
   "outputs": [
    {
     "name": "stdout",
     "output_type": "stream",
     "text": [
      "34\n",
      "21\n"
     ]
    }
   ],
   "source": [
    "#WAP to count alphabets in a given string.\n",
    "st=\"sfweufhewiw[;e[;fw8dsf7wdff][.',;]\"\n",
    "print(len(st))\n",
    "count=0\n",
    "for i in st:\n",
    "    if \"A\"<=i<=\"Z\" or \"a\"<=i<=\"z\":\n",
    "        count+=1\n",
    "print(count)\n",
    "\n"
   ]
  },
  {
   "cell_type": "code",
   "execution_count": 28,
   "metadata": {},
   "outputs": [
    {
     "name": "stdout",
     "output_type": "stream",
     "text": [
      "25\n"
     ]
    }
   ],
   "source": [
    "# WAP to sum of digits in a given string.\n",
    "\n",
    "st=\"309058gsdklvmsdklv\"\n",
    "sum=0\n",
    "for i in st:\n",
    "    if \"0\"<=i<=\"9\":\n",
    "        sum+=int(i)\n",
    "print(sum)"
   ]
  },
  {
   "cell_type": "code",
   "execution_count": 32,
   "metadata": {},
   "outputs": [
    {
     "name": "stdout",
     "output_type": "stream",
     "text": [
      "{'3': 0, '0': 1, '9': 2, '5': 4, '8': 5, 'g': 6, 's': 7, 'd': 8, 'k': 9, 'l': 10, 'v': 11, 'm': 12}\n"
     ]
    }
   ],
   "source": [
    "#wAP to Print First Occurrence of a Character in a String.\n",
    "st=\"309058gsdklvmsdklv\"\n",
    "d={}\n",
    "for i in range(len(st)):\n",
    "    if st[i] not in d:\n",
    "        d[st[i]]=i\n",
    "print(d)"
   ]
  },
  {
   "cell_type": "code",
   "execution_count": 5,
   "metadata": {},
   "outputs": [
    {
     "name": "stdout",
     "output_type": "stream",
     "text": [
      "['0', 3]\n",
      "['s', 13]\n",
      "['d', 14]\n",
      "['k', 15]\n",
      "['l', 16]\n",
      "['v', 17]\n",
      "['k', 19]\n",
      "['k', 22]\n",
      "['a', 23]\n",
      "['f', 24]\n",
      "['d', 28]\n",
      "['v', 29]\n",
      "['s', 30]\n",
      "['i', 31]\n",
      "['v', 32]\n"
     ]
    }
   ],
   "source": [
    "#WAP to Print First not Occurrence of a Character in a String.\n",
    "st=\"309058gsdklvmsdklvaknfkafiewdvsiv\"\n",
    "d={}\n",
    "f=[]\n",
    "for i in range(len(st)):\n",
    "    if st[i] not in d:\n",
    "        d[st[i]]=[i]\n",
    "    else:\n",
    "        f=[st[i] , i]\n",
    "        print(f)\n"
   ]
  },
  {
   "cell_type": "code",
   "execution_count": 6,
   "metadata": {},
   "outputs": [
    {
     "name": "stdout",
     "output_type": "stream",
     "text": [
      "SAVEt\n",
      "HEc\n",
      "HANGESi\n",
      "Nt\n",
      "HEe\n",
      "DITOR\n"
     ]
    }
   ],
   "source": [
    "s=\"saveTheChangesInTheEditor\"\n",
    "res=\"\"\n",
    "for i in s:\n",
    "    if \"a\"<=i<=\"z\":\n",
    "        res+=i.upper()\n",
    "    else:\n",
    "        if \"A\"<=i<=\"Z\":\n",
    "            res+=i.lower()\n",
    "        if len(res)!=0:\n",
    "            print(res[:])\n",
    "            res=\"\"\n",
    "if len(res)!=0:\n",
    "    print(res)\n",
    "    \n"
   ]
  },
  {
   "cell_type": "code",
   "execution_count": 65,
   "metadata": {},
   "outputs": [
    {
     "name": "stdout",
     "output_type": "stream",
     "text": [
      "SAVEtHEcHANGESiNtHEeDITOR\n"
     ]
    }
   ],
   "source": [
    "s=\"saveTheChangesInTheEditor\"\n",
    "res=\"\"\n",
    "for i in s:\n",
    "    if \"a\"<=i<=\"z\":\n",
    "        res+=i.upper()\n",
    "    else:\n",
    "        if \"A\"<=i<=\"Z\":\n",
    "            res+=i.lower()\n",
    "print(res)"
   ]
  },
  {
   "cell_type": "code",
   "execution_count": 41,
   "metadata": {},
   "outputs": [
    {
     "name": "stdout",
     "output_type": "stream",
     "text": [
      "SAVE\n",
      "tHE\n",
      "cHANGES\n",
      "iN\n",
      "tHE\n",
      "eDITOR\n"
     ]
    }
   ],
   "source": [
    "st=\"saveTheChangesInTheEditor\"\n",
    "l=''\n",
    "s=''\n",
    "res=''\n",
    "for i in st:\n",
    "    if \"a\"<=i<=\"z\":\n",
    "        s+=chr(ord(i)-32)\n",
    "    elif \"A\"<=i<=\"Z\":\n",
    "        res=chr(ord(i)+32)\n",
    "        l+=s+\"\\n\"\n",
    "        s=res\n",
    "l+=s\n",
    "print(l)"
   ]
  },
  {
   "cell_type": "code",
   "execution_count": 42,
   "metadata": {},
   "outputs": [
    {
     "name": "stdout",
     "output_type": "stream",
     "text": [
      "{3: 3, 4: 2, 523: 1, 545: 1, 34: 1, 5: 6, 345: 2, 354: 1, 52: 1, 53: 4, 45: 1, 35: 4, 535: 1}\n"
     ]
    }
   ],
   "source": [
    "#WAP To Find each element occurs in a List.\n",
    "l=[3,4,523,545,34,5,5,345,354,4,5,52,53,45,345,35,3,535,5,35,3,5,35,53,53,53,5,35,]\n",
    "d={}\n",
    "for i in l:\n",
    "    if i not in d:\n",
    "        d[i]=1\n",
    "    else:\n",
    "        d[i]+=1\n",
    "print(d)\n"
   ]
  },
  {
   "cell_type": "code",
   "execution_count": 43,
   "metadata": {},
   "outputs": [
    {
     "name": "stdout",
     "output_type": "stream",
     "text": [
      "{3: 2, 4: 1, 523: 0, 545: 0, 34: 0, 5: 5, 345: 1, 354: 0, 52: 0, 53: 3, 45: 0, 35: 3, 535: 0}\n"
     ]
    }
   ],
   "source": [
    "#WAP To Find each element repeats in a List.\n",
    "l=[3,4,523,545,34,5,5,345,354,4,5,52,53,45,345,35,3,535,5,35,3,5,35,53,53,53,5,35,]\n",
    "d={}\n",
    "for i in l:\n",
    "    if i not in d:\n",
    "        d[i]=0\n",
    "    else:\n",
    "        d[i]+=1\n",
    "print(d)"
   ]
  },
  {
   "cell_type": "code",
   "execution_count": 51,
   "metadata": {},
   "outputs": [
    {
     "ename": "KeyError",
     "evalue": "'balraj'",
     "output_type": "error",
     "traceback": [
      "\u001b[1;31m---------------------------------------------------------------------------\u001b[0m",
      "\u001b[1;31mKeyError\u001b[0m                                  Traceback (most recent call last)",
      "\u001b[1;32mc:\\Users\\syeda\\OneDrive\\Documents\\GitHub\\python-class\\forloop.ipynb Cell 72\u001b[0m line \u001b[0;36m1\n\u001b[0;32m     <a href='vscode-notebook-cell:/c%3A/Users/syeda/OneDrive/Documents/GitHub/python-class/forloop.ipynb#Y132sZmlsZQ%3D%3D?line=14'>15</a>\u001b[0m     \u001b[39mprint\u001b[39m(s)\n\u001b[0;32m     <a href='vscode-notebook-cell:/c%3A/Users/syeda/OneDrive/Documents/GitHub/python-class/forloop.ipynb#Y132sZmlsZQ%3D%3D?line=15'>16</a>\u001b[0m     \u001b[39mprint\u001b[39m(d)\n\u001b[1;32m---> <a href='vscode-notebook-cell:/c%3A/Users/syeda/OneDrive/Documents/GitHub/python-class/forloop.ipynb#Y132sZmlsZQ%3D%3D?line=17'>18</a>\u001b[0m create_dict(st)\n",
      "\u001b[1;32mc:\\Users\\syeda\\OneDrive\\Documents\\GitHub\\python-class\\forloop.ipynb Cell 72\u001b[0m line \u001b[0;36m1\n\u001b[0;32m     <a href='vscode-notebook-cell:/c%3A/Users/syeda/OneDrive/Documents/GitHub/python-class/forloop.ipynb#Y132sZmlsZQ%3D%3D?line=10'>11</a>\u001b[0m             d[j]\u001b[39m=\u001b[39m[i]\n\u001b[0;32m     <a href='vscode-notebook-cell:/c%3A/Users/syeda/OneDrive/Documents/GitHub/python-class/forloop.ipynb#Y132sZmlsZQ%3D%3D?line=11'>12</a>\u001b[0m         \u001b[39melse\u001b[39;00m:\n\u001b[1;32m---> <a href='vscode-notebook-cell:/c%3A/Users/syeda/OneDrive/Documents/GitHub/python-class/forloop.ipynb#Y132sZmlsZQ%3D%3D?line=12'>13</a>\u001b[0m             l[\u001b[39m-\u001b[39m\u001b[39m1\u001b[39m]\u001b[39m+\u001b[39m\u001b[39m=\u001b[39md[i]\n\u001b[0;32m     <a href='vscode-notebook-cell:/c%3A/Users/syeda/OneDrive/Documents/GitHub/python-class/forloop.ipynb#Y132sZmlsZQ%3D%3D?line=14'>15</a>\u001b[0m \u001b[39mprint\u001b[39m(s)\n\u001b[0;32m     <a href='vscode-notebook-cell:/c%3A/Users/syeda/OneDrive/Documents/GitHub/python-class/forloop.ipynb#Y132sZmlsZQ%3D%3D?line=15'>16</a>\u001b[0m \u001b[39mprint\u001b[39m(d)\n",
      "\u001b[1;31mKeyError\u001b[0m: 'balraj'"
     ]
    }
   ],
   "source": [
    "#WAP Dictionary with Key as First Character and Value as Words Starting with that Character.\n",
    "st=[\"vasu\",\"balraj\",\"venky\",\"syed\",\"sinohara\",\"sataoru gojo\",\"naruto\",\"bruce lee\"]\n",
    "def create_dict(words):\n",
    "    d= {}\n",
    "    s=''\n",
    "    l=[]\n",
    "    for i in words:\n",
    "        s+=i[0]\n",
    "        l+=[[]]\n",
    "        for j in s:\n",
    "            if j not in d:\n",
    "                d[j]=l[-1]\n",
    "            else:\n",
    "                d[j]+=\n",
    "\n",
    "    print(s)\n",
    "    print(d)\n",
    "    \n",
    "create_dict(st)\n",
    "\n"
   ]
  },
  {
   "cell_type": "code",
   "execution_count": null,
   "metadata": {},
   "outputs": [],
   "source": [
    "d=[]\n",
    "a=0\n",
    "while a<len(uni):\n",
    "    b=0\n",
    "    d+=[[]]\n",
    "    while b<len(l):\n",
    "        if uni[a]==l[b][0]:\n",
    "            d[-1]+=[l[b]]\n",
    "        b+=1\n",
    "    a+=1\n",
    "print(d)"
   ]
  },
  {
   "cell_type": "code",
   "execution_count": 79,
   "metadata": {},
   "outputs": [
    {
     "name": "stdout",
     "output_type": "stream",
     "text": [
      "['hello', 'haii', 'how', 'are', 'you', 'good', 'evening', 'good', 'bye']\n",
      "haygeb\n",
      "[5, 4, 3, 7]\n",
      "[['hello', 'haii', 'how'], ['are'], ['you'], ['good', 'good'], ['evening'], ['bye']]\n",
      "[['hello'], ['haii', 'good', 'good'], ['how', 'are', 'you', 'bye'], ['evening']]\n"
     ]
    }
   ],
   "source": [
    "st=\"hello haii how are you good evening good bye\"\n",
    "l=[]\n",
    "res=\"\"\n",
    "for i in st:\n",
    "    if i !=\" \":\n",
    "        res+=i\n",
    "    else:\n",
    "        if len(res)!=0:\n",
    "            l+=[res]\n",
    "            res=\"\"\n",
    "if len(res)!=0:\n",
    "    l+=[res]\n",
    "print(l)\n",
    "\n",
    "res=\"\"\n",
    "r=[]\n",
    "for i in range(len(l)):\n",
    "    if l[i][0] not in res:\n",
    "        res+=l[i][0]\n",
    "    if len(l[i]) not in r:\n",
    "        r+=[len(l[i])]\n",
    "    \n",
    "print(res)\n",
    "print(r)\n",
    "\n",
    "l1=[]\n",
    "for j in res:\n",
    "    l1+=[[]]\n",
    "    for k in range(len(l)):\n",
    "        if j==l[k][0]:\n",
    "            l1[-1]+=[l[k]]\n",
    "print(l1)\n",
    "\n",
    "l2=[]\n",
    "for j in r:\n",
    "    l2+=[[]]\n",
    "    for k in range(len(l)):\n",
    "        if j==len(l[k]):\n",
    "            l2[-1]+=[l[k]]\n",
    "print(l2)\n",
    "\n",
    "\n",
    "\n",
    "\n",
    "\n"
   ]
  },
  {
   "cell_type": "code",
   "execution_count": null,
   "metadata": {},
   "outputs": [],
   "source": [
    "#.wap\n",
    "#li={'google.com','facebook.in','python.edu','youtube.com'}\n",
    "#op:{'6':['google','python'],'7':['youtube'],'8':['facebook']}\n",
    "\n",
    "\n"
   ]
  },
  {
   "cell_type": "code",
   "execution_count": 23,
   "metadata": {},
   "outputs": [
    {
     "name": "stdout",
     "output_type": "stream",
     "text": [
      "['.com', '.in', '.com', '.edu']\n",
      "{'.com': 2, '.in': 1, '.edu': 1}\n"
     ]
    }
   ],
   "source": [
    "l1=[]\n",
    "li=[\"google.com\",\"facebook.in\",\"youtube.com\",\"python.edu\"]\n",
    "for i in li:\n",
    "    res=\"\"\n",
    "    pos=None\n",
    "    l2=[]\n",
    "    for j in range(len(i)):\n",
    "        if i[j]==\".\":\n",
    "            pos=j\n",
    "            # print(i[pos:])\n",
    "            l2+=[i[pos:]]      \n",
    "    l1+=l2\n",
    "print(l1)\n",
    "d={}\n",
    "for i in l1:\n",
    "    if i not in d:\n",
    "        d[i]=1\n",
    "    else:\n",
    "        d[i]+=1\n",
    "print(d)"
   ]
  },
  {
   "cell_type": "code",
   "execution_count": 29,
   "metadata": {},
   "outputs": [
    {
     "name": "stdout",
     "output_type": "stream",
     "text": [
      "['reerac', 'ruoy', 'tseb', 'eht', 'lla', 'sredipsyp', 'ot', 'emoclew']\n"
     ]
    }
   ],
   "source": [
    "#st='welcome to pyspiders all the best your career '\n",
    "#op=('reerac','ruoy','tseb','eth','lla','sredipsys','ot','emoclew')\n",
    "st=\"welcome to pyspiders all the best your career\"\n",
    "l=[]\n",
    "res=\"\"\n",
    "for i in st:\n",
    "    if i !=\" \":\n",
    "        res+=i\n",
    "    else:\n",
    "        if len(res)>0:\n",
    "            l+=[res[::-1]]\n",
    "            res=\"\"\n",
    "if len(res)>0:\n",
    "    l+=[res[::-1]]\n",
    "print(l[::-1])\n",
    "\n"
   ]
  },
  {
   "cell_type": "code",
   "execution_count": 35,
   "metadata": {},
   "outputs": [
    {
     "name": "stdout",
     "output_type": "stream",
     "text": [
      "['welcome', 'ot', 'pyspiders', 'lla', 'the', 'tseb', 'your', 'reerac']\n"
     ]
    }
   ],
   "source": [
    "st=\"welcome to pyspiders all the best your career\"\n",
    "l=[]\n",
    "res=\"\"\n",
    "for i in range(len(st)):\n",
    "    if st[i] !=\" \":\n",
    "        res+=st[i]\n",
    "    else:\n",
    "        if len(res)>0:\n",
    "            l+=[res]\n",
    "            res=\"\"\n",
    "if len(res)>0:\n",
    "    l+=[res]\n",
    "l1=[]\n",
    "for i in range(len(l)):\n",
    "    if i%2!=0:\n",
    "        l1.append(l[i][::-1])\n",
    "    else:\n",
    "        l1.append(l[i])\n",
    "    \n",
    "        \n",
    "        \n",
    "print(l1)"
   ]
  },
  {
   "cell_type": "code",
   "execution_count": 9,
   "metadata": {},
   "outputs": [
    {
     "name": "stdout",
     "output_type": "stream",
     "text": [
      "1 is prime\n",
      "2 is prime\n",
      "3 is prime\n",
      "5 is prime\n",
      "7 is prime\n",
      "11 is prime\n",
      "13 is prime\n",
      "17 is prime\n",
      "19 is prime\n",
      "23 is prime\n",
      "29 is prime\n",
      "31 is prime\n",
      "37 is prime\n",
      "41 is prime\n",
      "43 is prime\n",
      "47 is prime\n",
      "53 is prime\n",
      "59 is prime\n",
      "61 is prime\n",
      "67 is prime\n",
      "71 is prime\n",
      "73 is prime\n",
      "79 is prime\n",
      "83 is prime\n",
      "89 is prime\n",
      "97 is prime\n"
     ]
    }
   ],
   "source": [
    "for i in range(1,101):\n",
    "    a=True\n",
    "    for j in range(2,i):\n",
    "        if i%j==0:\n",
    "            a=False\n",
    "            break\n",
    "    if a:\n",
    "        print(f\"{i} is prime\")\n"
   ]
  }
 ],
 "metadata": {
  "kernelspec": {
   "display_name": "Python 3",
   "language": "python",
   "name": "python3"
  },
  "language_info": {
   "codemirror_mode": {
    "name": "ipython",
    "version": 3
   },
   "file_extension": ".py",
   "mimetype": "text/x-python",
   "name": "python",
   "nbconvert_exporter": "python",
   "pygments_lexer": "ipython3",
   "version": "3.11.6"
  },
  "orig_nbformat": 4
 },
 "nbformat": 4,
 "nbformat_minor": 2
}
