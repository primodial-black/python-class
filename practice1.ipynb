{
 "cells": [
  {
   "cell_type": "code",
   "execution_count": null,
   "metadata": {},
   "outputs": [],
   "source": [
    "#wap to do sumof the digits in given no and final reslut is prime or not\n",
    "n=134\n",
    "sum=0\n",
    "while n:\n",
    "    lastdigit=n%10\n",
    "    sum+=lastdigit    \n",
    "    n=n//10\n",
    "print(sum)\n",
    "i=1\n",
    "count=0\n",
    "while i<=sum:\n",
    "    if sum%i==0:\n",
    "        count+=1\n",
    "    i+=1\n",
    "if count==2:\n",
    "    print('prime number')\n",
    "else:\n",
    "    print('not a prime number')"
   ]
  },
  {
   "cell_type": "code",
   "execution_count": null,
   "metadata": {},
   "outputs": [],
   "source": [
    "#wap for sum of odd values from 25 to 65\n",
    "m=25\n",
    "n=65\n",
    "sum=0\n",
    "while m<=n:\n",
    "    if m%2!=0:\n",
    "        sum+=m\n",
    "    m+=1\n",
    "print(sum)\n",
    "    "
   ]
  },
  {
   "cell_type": "code",
   "execution_count": null,
   "metadata": {},
   "outputs": [],
   "source": [
    "#factorial for1 to n\n",
    "n=1\n",
    "m=10\n",
    "while n<=m:\n",
    "    i=1\n",
    "    p=1\n",
    "    while i<=n:\n",
    "        p*=i\n",
    "        i+=1\n",
    "    print(n,\"--->\",p)\n",
    "    n+=1\n",
    "    "
   ]
  },
  {
   "cell_type": "code",
   "execution_count": null,
   "metadata": {},
   "outputs": [],
   "source": [
    "a=0\n",
    "b=1                 #fibonocci in list\n",
    "i=1\n",
    "list1=[a]\n",
    "while i<=10:\n",
    "    c=a+b\n",
    "    list1.append(c)\n",
    "    a,b=b,c\n",
    "    i+=1\n",
    "print(list1)"
   ]
  },
  {
   "cell_type": "code",
   "execution_count": null,
   "metadata": {},
   "outputs": [],
   "source": [
    "m=1\n",
    "n=50             #prime  in list\n",
    "list=[]\n",
    "while m<=n:\n",
    "    i=2\n",
    "    count=0\n",
    "    while i<m:\n",
    "        if(m%i==0):\n",
    "            count+=1\n",
    "        i+=1\n",
    "    if count==0:\n",
    "        list.append(m)\n",
    "        \n",
    "    m+=1\n",
    "print(list)"
   ]
  },
  {
   "cell_type": "code",
   "execution_count": null,
   "metadata": {},
   "outputs": [],
   "source": [
    "#32\n",
    "def is_prime(n):\n",
    "    if n <= 1:\n",
    "        return False\n",
    "    for i in range(2, int(n**0.5) + 1):\n",
    "        if n % i == 0:\n",
    "            return False\n",
    "    return True\n",
    "def fibonacci(limit):\n",
    "    sequence = [1, 1]\n",
    "    while sequence[-1] + sequence[-2] <= limit:\n",
    "        sequence.append(sequence[-1] + sequence[-2])\n",
    "    return sequence\n",
    "limit = 100\n",
    "fib_sequence = fibonacci(limit)\n",
    "\n",
    "prime_numbers = []\n",
    "for num in fib_sequence:\n",
    "    if is_prime(num):\n",
    "        prime_numbers.append(num)\n",
    "\n",
    "print(prime_numbers)"
   ]
  },
  {
   "cell_type": "code",
   "execution_count": null,
   "metadata": {},
   "outputs": [],
   "source": [
    "st='PYSPIde12r@gmail.co.edu'\n",
    "i=0\n",
    "temp=0\n",
    "while i<len(st):\n",
    "    if not('A'<=st[i]<='Z' or 'a'<=st[i]<='z' or '0'<=st[i]<='9' or st[i] in '@.'):\n",
    "        temp+=1\n",
    "    i+=1\n",
    "if temp==0:\n",
    "    if '@' and '.' in st:\n",
    "        start=0\n",
    "        pos=None\n",
    "        count=0\n",
    "        while start<len(st):\n",
    "            if '@'==st[start]:\n",
    "                pos=start\n",
    "                count+=1\n",
    "            start+=1\n",
    "        if count==1:\n",
    "            print(pos,\"position of the @\")\n",
    "            if '.' in st[pos:]:\n",
    "                count1=0\n",
    "                x=pos\n",
    "                while x<len(st):    # type: ignore\n",
    "                    if '.'==st[x]:  # type: ignore\n",
    "                        count1+=1\n",
    "                    x+=1  # type: ignore\n",
    "                if 1<=count1<=2:\n",
    "                    print(\"valid email id\")\n",
    "                else:\n",
    "                    print(\"invalid email id\")\n",
    "            else:\n",
    "                print(\"invalid email id\")\n",
    "        else:\n",
    "            print(\"invalid email id\")\n",
    "    else:\n",
    "        print(\"invalid\")   \n",
    "else:\n",
    "    print(\"invalid email id\")   \n",
    "                        \n",
    "                    "
   ]
  },
  {
   "cell_type": "code",
   "execution_count": null,
   "metadata": {},
   "outputs": [],
   "source": [
    "st=\"DEATHNOTE123@\"\n",
    "l1=\"\"\n",
    "i=0\n",
    "while i<len(st):\n",
    "    l1+=st[i].lower() # type: ignore\n",
    "    i+=1\n",
    "print(l1)\n",
    "\n",
    "st=\"deathnote123@!#$%\"\n",
    "l1=\"\"\n",
    "i=0\n",
    "while i<len(st):\n",
    "    l1+=st[i].upper() # type: ignore\n",
    "    i+=1\n",
    "print(l1)"
   ]
  },
  {
   "cell_type": "code",
   "execution_count": null,
   "metadata": {},
   "outputs": [],
   "source": [
    "st=\"death note 123 @!#$%\"\n",
    "l1=\"\"\n",
    "i=0\n",
    "while i<len(st):\n",
    "    l1+=st[i].upper() # type: ignore\n",
    "    if st[i]==\" \":\n",
    "        l1+=\"_\"\n",
    "    i+=1\n",
    "print(l1)"
   ]
  },
  {
   "cell_type": "code",
   "execution_count": null,
   "metadata": {},
   "outputs": [],
   "source": [
    "st=\"death note 123 @!#$%\"\n",
    "l1=\"\"\n",
    "i=1\n",
    "if 'a'<=st[0]<='z':\n",
    "    l1+=st[0].upper()  \n",
    "while i<len(st):\n",
    "    l1+=st[i] # type: ignore\n",
    "    if st[i]==\" \":\n",
    "        l1+=\"_\"\n",
    "    i+=1\n",
    "print(l1) \n"
   ]
  },
  {
   "cell_type": "code",
   "execution_count": null,
   "metadata": {},
   "outputs": [],
   "source": [
    "st=\"ATTACK ON TITANS123@#$%\"\n",
    "st1=\"\"\n",
    "i=0\n",
    "while i<len(st):\n",
    "    if \"A\"<=st[i]<=\"Z\":\n",
    "        st1+=st[i].lower()\n",
    "    elif st[i]==\" \":\n",
    "        st1+='_'\n",
    "    elif 'a'<=st[i]<='z':\n",
    "        st1+=st[i]\n",
    "    i+=1\n",
    "st1=\"__\"+st1+\"__\"\n",
    "print(st1)\n"
   ]
  },
  {
   "cell_type": "code",
   "execution_count": null,
   "metadata": {},
   "outputs": [],
   "source": [
    "st=\"death note light yagami\"\n",
    "l1=\"\"\n",
    "i=1\n",
    "if 'a'<=st[0]<='z':\n",
    "    l1+=st[0].upper()  \n",
    "while i<len(st):\n",
    "    l1+=st[i] # type: ignore\n",
    "    if st[i]==\" \":\n",
    "        l1+=\"_\"\n",
    "        l1+=st[i+1].upper()\n",
    "    \n",
    "    elif l1==\"_\":\n",
    "        l1=\n",
    "    i+=1\n",
    "print(l1) "
   ]
  },
  {
   "cell_type": "code",
   "execution_count": null,
   "metadata": {},
   "outputs": [],
   "source": [
    "def capitalize_words(string):\n",
    "    # Split the string into words\n",
    "    words = string.split()\n",
    "\n",
    "    # Initialize an empty list to store the capitalized words\n",
    "    capitalized_words = []\n",
    "\n",
    "    # Iterate through each word and capitalize the first letter\n",
    "    index = 0\n",
    "    while index < len(words):\n",
    "        word = words[index]\n",
    "        capitalized_word = word[0].upper() + word[1:]\n",
    "        capitalized_words.append(capitalized_word)\n",
    "        index += 1\n",
    "        print(capitalized_word)\n",
    "    # Join the capitalized words back into a single string\n",
    "    capitalized_string = ' '.join(capitalized_words)\n",
    "\n",
    "    return capitalized_string\n",
    "\n",
    "\n",
    "# Example usage\n",
    "input_string = \"hello world, how are you?\"\n",
    "output_string = capitalize_words(input_string)\n",
    "print(output_string)  # Output: Hello World, How Are You?\n"
   ]
  },
  {
   "cell_type": "code",
   "execution_count": null,
   "metadata": {},
   "outputs": [],
   "source": [
    "st=\"helloworld\"\n",
    "s={}\n",
    "i=0\n",
    "while i<len(st):\n",
    "    if st[i] not in s:\n",
    "        s[st[i]]=1\n",
    "    else:\n",
    "        s[st[i]]+=1\n",
    "        \n",
    "    i+=1\n",
    "print(s)\n",
    "          "
   ]
  },
  {
   "cell_type": "code",
   "execution_count": null,
   "metadata": {},
   "outputs": [],
   "source": [
    "st=\"helloworld\"\n",
    "j=0\n",
    "count=0\n",
    "s=\"\"\n",
    "while j<len(st):\n",
    "    i=1\n",
    "    while i<len(st):\n",
    "        print(st[j])\n",
    "        if st[j]==st[i]:\n",
    "            count+=1\n",
    "            if count>1:\n",
    "                s+=st[i]\n",
    "        i+=1\n",
    "    j+=1\n",
    "print(s,count)"
   ]
  },
  {
   "cell_type": "code",
   "execution_count": null,
   "metadata": {},
   "outputs": [],
   "source": [
    "st=\"hello haIi WOrld welcome to py$hon clAsS\"\n",
    "l1=\"\"\n",
    "i=1\n",
    "if 'a'<=st[0]<='z':\n",
    "    l1+=st[0].upper()  \n",
    "while i<len(st):\n",
    "    l1+=st[i] # type: ignore\n",
    "    if st[i]==\" \":\n",
    "        l1+=\"_\"\n",
    "        l1+=st[i+1].upper()"
   ]
  },
  {
   "cell_type": "code",
   "execution_count": null,
   "metadata": {},
   "outputs": [],
   "source": [
    "st=\"hello haIi WOrld we1v3coMe to py$hon clAsS\"\n",
    "print(st.title())"
   ]
  },
  {
   "cell_type": "code",
   "execution_count": 2,
   "metadata": {},
   "outputs": [
    {
     "name": "stdout",
     "output_type": "stream",
     "text": [
      "145\n",
      "strong\n"
     ]
    }
   ],
   "source": [
    "n=145\n",
    "temp=n\n",
    "sum=0\n",
    "while n:\n",
    "    i=1\n",
    "    ld=n%10\n",
    "    res=1\n",
    "    while i<=ld:\n",
    "        res*=i\n",
    "        i+=1\n",
    "    n//=10\n",
    "    sum+=res\n",
    "print(sum)\n",
    "if temp==sum:\n",
    "    print(\"strong\")"
   ]
  },
  {
   "cell_type": "code",
   "execution_count": 6,
   "metadata": {},
   "outputs": [
    {
     "name": "stdout",
     "output_type": "stream",
     "text": [
      "153\n",
      "armstrong\n"
     ]
    }
   ],
   "source": [
    "n=153\n",
    "s=len(str(n))\n",
    "temp=n\n",
    "sum=0\n",
    "while n:\n",
    "    ld=n%10\n",
    "    sum+=ld**s\n",
    "    n//=10\n",
    "if sum==temp:\n",
    "    print(sum)\n",
    "    print(\"armstrong\")"
   ]
  },
  {
   "cell_type": "code",
   "execution_count": 14,
   "metadata": {},
   "outputs": [
    {
     "name": "stdout",
     "output_type": "stream",
     "text": [
      "6\n"
     ]
    }
   ],
   "source": [
    "n=6\n",
    "i=1\n",
    "prod=0\n",
    "while i<n:\n",
    "    if n%i==0:\n",
    "        prod+=i\n",
    "    i+=1\n",
    "print(prod)\n",
    "     "
   ]
  },
  {
   "cell_type": "code",
   "execution_count": null,
   "metadata": {},
   "outputs": [],
   "source": []
  }
 ],
 "metadata": {
  "kernelspec": {
   "display_name": "Python 3",
   "language": "python",
   "name": "python3"
  },
  "language_info": {
   "codemirror_mode": {
    "name": "ipython",
    "version": 3
   },
   "file_extension": ".py",
   "mimetype": "text/x-python",
   "name": "python",
   "nbconvert_exporter": "python",
   "pygments_lexer": "ipython3",
   "version": "3.10.11"
  },
  "orig_nbformat": 4
 },
 "nbformat": 4,
 "nbformat_minor": 2
}
