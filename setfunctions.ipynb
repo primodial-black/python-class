{
 "cells": [
  {
   "cell_type": "code",
   "execution_count": 3,
   "metadata": {},
   "outputs": [
    {
     "name": "stdout",
     "output_type": "stream",
     "text": [
      "2742106397088 {'a', 'b', 'c'}\n",
      "2742106397088 {'a', 'b', 'klefih', 'c'}\n",
      "2742106397088 {'a', 'klefih', 'c', 'sys', 'b'}\n"
     ]
    }
   ],
   "source": [
    "#add\n",
    "s={\"a\",\"b\",\"c\"}\n",
    "print(id(s),s)\n",
    "\n",
    "s.add(\"klefih\")\n",
    "print(id(s),s)\n",
    "def u_add(coll,ele):\n",
    "    if type(coll)!=set:\n",
    "        return -1\n",
    "    if type(ele) in [list,set,dict]:\n",
    "        return -1\n",
    "    coll|={ele}\n",
    "u_add(s,\"sys\")\n",
    "print(id(s),s)"
   ]
  },
  {
   "cell_type": "code",
   "execution_count": 6,
   "metadata": {},
   "outputs": [
    {
     "name": "stdout",
     "output_type": "stream",
     "text": [
      "2742106394624 {'a', 'b', 'c'}\n",
      "2742106394624 set()\n"
     ]
    }
   ],
   "source": [
    "#clear\n",
    "s={\"a\",\"b\",\"c\"}\n",
    "print(id(s),s)\n",
    "def u_clear(coll):\n",
    "    if type(coll)!=set:\n",
    "        return -1\n",
    "    coll-=coll\n",
    "u_clear(s)\n",
    "print(id(s),s)\n"
   ]
  }
 ],
 "metadata": {
  "kernelspec": {
   "display_name": "Python 3",
   "language": "python",
   "name": "python3"
  },
  "language_info": {
   "codemirror_mode": {
    "name": "ipython",
    "version": 3
   },
   "file_extension": ".py",
   "mimetype": "text/x-python",
   "name": "python",
   "nbconvert_exporter": "python",
   "pygments_lexer": "ipython3",
   "version": "3.11.6"
  },
  "orig_nbformat": 4
 },
 "nbformat": 4,
 "nbformat_minor": 2
}
