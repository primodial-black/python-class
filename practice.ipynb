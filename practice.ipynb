{
 "cells": [
  {
   "cell_type": "code",
   "execution_count": 2,
   "metadata": {},
   "outputs": [
    {
     "name": "stdout",
     "output_type": "stream",
     "text": [
      "-5aidni\n"
     ]
    }
   ],
   "source": [
    "s={'haii':10,'gopal':45,'pys':'india'}\n",
    "print(str(~(s['gopal']//s['haii']))+s['pys'][ : :-1])"
   ]
  },
  {
   "cell_type": "code",
   "execution_count": 2,
   "metadata": {},
   "outputs": [
    {
     "name": "stdout",
     "output_type": "stream",
     "text": [
      "False\n"
     ]
    }
   ],
   "source": [
    "a=1368\n",
    "print(a//100 and 15<15<85)"
   ]
  },
  {
   "cell_type": "code",
   "execution_count": 8,
   "metadata": {},
   "outputs": [
    {
     "name": "stdout",
     "output_type": "stream",
     "text": [
      "a\n",
      "a\n"
     ]
    }
   ],
   "source": [
    "ch='A'\n",
    "print(ch.lower())\n",
    "print(chr(ord(ch)+32))"
   ]
  },
  {
   "cell_type": "code",
   "execution_count": 4,
   "metadata": {},
   "outputs": [
    {
     "name": "stdout",
     "output_type": "stream",
     "text": [
      "8\n",
      "dhammaA\n"
     ]
    }
   ],
   "source": [
    "#1\n",
    "\n",
    "s=\"AhammadB\"\n",
    "if ord(s[0])==ord(s[-1])-1:\n",
    "    print(len(s))\n",
    "else:\n",
    "    s=s[-1]+s[1:-1]+s[0]\n",
    "    print(s)\n",
    "    \n",
    "s=\"Ahammad\"\n",
    "if ord(s[0])==ord(s[-1])-1:\n",
    "    print(len(s))\n",
    "else:\n",
    "    s=s[-1]+s[1:-1]+s[0]\n",
    "    print(s)"
   ]
  },
  {
   "cell_type": "code",
   "execution_count": 6,
   "metadata": {},
   "outputs": [
    {
     "name": "stdout",
     "output_type": "stream",
     "text": [
      "abcdefghijkl\n",
      "abcdef 6 ghijk 5\n"
     ]
    }
   ],
   "source": [
    "#2\n",
    "\n",
    "st1=\"abcdef\"\n",
    "st2=\"ghijkl\"\n",
    "if len(st1)==len(st2):\n",
    "    print(st1+st2)\n",
    "else:\n",
    "    print(st1,len(st1),st2,len(st2))\n",
    "    \n",
    "st1=\"abcdef\"\n",
    "st2=\"ghijk\"\n",
    "if len(st1)==len(st2):\n",
    "    print(st1+st2)\n",
    "else:\n",
    "    print(st1,len(st1),st2,len(st2))"
   ]
  },
  {
   "cell_type": "code",
   "execution_count": 9,
   "metadata": {},
   "outputs": [
    {
     "name": "stdout",
     "output_type": "stream",
     "text": [
      "['haii', 2, 3, 4, 5, 'hello', 22, 33, 44, 55]\n",
      "2538714464768 2538714466816\n"
     ]
    }
   ],
   "source": [
    "#3\n",
    "\n",
    "\n",
    "\n",
    "l1=[1,2,3,4,5]\n",
    "l2=[11,22,33,44,55]\n",
    "if type(l1[0])==int and type(l2[0])==int:\n",
    "    l1[0]=\"haii\" # type: ignore\n",
    "    l2[0]=\"hello\" # type: ignore\n",
    "    l1+=l2\n",
    "    print(l1)\n",
    "else:\n",
    "    print(id(l1),id(l2))\n",
    "    \n",
    "    \n",
    "l1=[1.5,2,3,4,5]\n",
    "l2=[11,22,33,44,55]\n",
    "if type(l1[0])==int and type(l2[0])==int:\n",
    "    l1[0]=\"haii\" # type: ignore\n",
    "    l2[0]=\"hello\" # type: ignore\n",
    "    l1+=l2\n",
    "    print(l1)\n",
    "else:\n",
    "    print(id(l1),id(l2))\n",
    "    \n",
    "    "
   ]
  },
  {
   "cell_type": "code",
   "execution_count": 13,
   "metadata": {},
   "outputs": [
    {
     "name": "stdout",
     "output_type": "stream",
     "text": [
      "B\n",
      "good morning\n",
      "bye bye qspiders\n"
     ]
    }
   ],
   "source": [
    "#4\n",
    "\n",
    "\n",
    "n=66\n",
    "if 0<=n<=127:\n",
    "    print(chr(n))\n",
    "elif n%2==0:\n",
    "    print(\"good morning\")\n",
    "else:\n",
    "    print(\"bye bye qspiders\")\n",
    "    \n",
    "    \n",
    "n=128\n",
    "if 0<=n<=127:\n",
    "    print(chr(n))\n",
    "elif n%2==0:\n",
    "    print(\"good morning\")\n",
    "else:\n",
    "    print(\"bye bye qspiders\")\n",
    "    \n",
    "    \n",
    "n=129\n",
    "if 0<=n<=127:\n",
    "    print(chr(n))\n",
    "elif n%2==0:\n",
    "    print(\"good morning\")\n",
    "else:\n",
    "    print(\"bye bye qspiders\")\n",
    "    "
   ]
  },
  {
   "cell_type": "code",
   "execution_count": 2,
   "metadata": {},
   "outputs": [
    {
     "name": "stdout",
     "output_type": "stream",
     "text": [
      "1900 is not a leap year.\n"
     ]
    }
   ],
   "source": [
    "\n",
    "\n",
    "year = 1900\n",
    "\n",
    "\n",
    "if (year % 4 == 0 and year % 100 != 0) or (year % 400 == 0):\n",
    "    print(year, \"is a leap year.\")\n",
    "else:\n",
    "    print(year, \"is not a leap year.\")"
   ]
  }
 ],
 "metadata": {
  "kernelspec": {
   "display_name": "Python 3",
   "language": "python",
   "name": "python3"
  },
  "language_info": {
   "codemirror_mode": {
    "name": "ipython",
    "version": 3
   },
   "file_extension": ".py",
   "mimetype": "text/x-python",
   "name": "python",
   "nbconvert_exporter": "python",
   "pygments_lexer": "ipython3",
   "version": "3.10.11"
  },
  "orig_nbformat": 4
 },
 "nbformat": 4,
 "nbformat_minor": 2
}
