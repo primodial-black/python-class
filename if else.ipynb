{
 "cells": [
  {
   "cell_type": "code",
   "execution_count": 1,
   "metadata": {},
   "outputs": [
    {
     "name": "stdout",
     "output_type": "stream",
     "text": [
      "10  is a positive\n"
     ]
    }
   ],
   "source": [
    "#1)WAP to check whether a number is positive or negative. If Positive print positive message or else print Negative Number.\n",
    "n=10\n",
    "if n>=0:\n",
    "    print(n,\" is a positive\")\n",
    "else:\n",
    "    print(n,\" is a positive\")"
   ]
  },
  {
   "cell_type": "code",
   "execution_count": 2,
   "metadata": {},
   "outputs": [
    {
     "name": "stdout",
     "output_type": "stream",
     "text": [
      "5  is odd\n"
     ]
    }
   ],
   "source": [
    "#2)WAP to check whether a number is even or odd. If even, print message an even or else print message as odd.\n",
    "n=5\n",
    "if n%2==0:\n",
    "    print(n,\" is Even\")\n",
    "else:\n",
    "    print(n,\" is odd\")"
   ]
  },
  {
   "cell_type": "code",
   "execution_count": 3,
   "metadata": {},
   "outputs": [
    {
     "name": "stdout",
     "output_type": "stream",
     "text": [
      "greater\n"
     ]
    }
   ],
   "source": [
    "#3)Write a program to check whether a given number is greater than 10 or not. \n",
    "# if it is greater than 10 print message as greater or else print that number with not a greater than.\n",
    "n=36\n",
    "if n>10:\n",
    "    print(\"greater\")\n",
    "else:\n",
    "    print(\"not greater\")"
   ]
  },
  {
   "cell_type": "code",
   "execution_count": 5,
   "metadata": {},
   "outputs": [
    {
     "name": "stdout",
     "output_type": "stream",
     "text": [
      "Good Morning\n",
      "Good Evening\n"
     ]
    }
   ],
   "source": [
    "#4)WAP to check whether the given two input numbers are divisible by 3 and 5. \n",
    "# If it is divisible, print “Good Morning”, if it is not divisible print “Good Evening”.\n",
    "n=45\n",
    "m=30\n",
    "if n%3==0 and n%5==0 and m%3==0 and m%5==0:\n",
    "    print(\"Good Morning\")\n",
    "else:\n",
    "    print(\"Good Evening\")\n",
    "    \n",
    "    \n",
    "n=40\n",
    "m=30\n",
    "if n%3==0 and n%5==0 and m%3==0 and m%5==0:\n",
    "    print(\"Good Morning\")\n",
    "else:\n",
    "    print(\"Good Evening\")"
   ]
  },
  {
   "cell_type": "code",
   "execution_count": 4,
   "metadata": {},
   "outputs": [
    {
     "name": "stdout",
     "output_type": "stream",
     "text": [
      "900\n",
      "\"31\" \"30\"\n"
     ]
    }
   ],
   "source": [
    "#5)WAP to accept two integers and check whether those two values are equal or not. \n",
    "# If equal, multiply to value or else to display the quotation value.\n",
    "n=30\n",
    "m=30\n",
    "if n==m:\n",
    "    print(n*m)\n",
    "else:\n",
    "    print(f'\"{n}\" \"{m}\"')\n",
    "    \n",
    "n=31\n",
    "m=30\n",
    "if n==m:\n",
    "    print(n*m)\n",
    "else:\n",
    "    \n",
    "    print(f'\"{n}\" \"{m}\"')\n"
   ]
  },
  {
   "cell_type": "code",
   "execution_count": 6,
   "metadata": {},
   "outputs": [
    {
     "name": "stdout",
     "output_type": "stream",
     "text": [
      "46 is largest\n",
      "50 is largest\n"
     ]
    }
   ],
   "source": [
    "#6)WAP to find the largest of two numbers.\n",
    "n=30\n",
    "m=46\n",
    "if n>m:\n",
    "    print(n,\"is largest\")\n",
    "else:\n",
    "    print(m,\"is largest\")\n",
    "    \n",
    "n=50    \n",
    "m=46\n",
    "if n>m:\n",
    "    print(n,\"is largest\")\n",
    "else:\n",
    "    print(m,\"is largest\")"
   ]
  },
  {
   "cell_type": "code",
   "execution_count": 8,
   "metadata": {},
   "outputs": [
    {
     "name": "stdout",
     "output_type": "stream",
     "text": [
      "36  is greater\n",
      "3\n"
     ]
    }
   ],
   "source": [
    "#7)WAP to check whether the input number is greater than 10 or not .\n",
    "# if it is greater than 10 print messages as greater with number. if it is not a greater than 10, print that number.\n",
    "n=36\n",
    "if n>10:\n",
    "    print(n,\" is greater\")\n",
    "else:\n",
    "    print(n)\n",
    "    \n",
    "n=3\n",
    "if n>10:\n",
    "    print(n,\" is greater\")\n",
    "else:\n",
    "    print(n)"
   ]
  },
  {
   "cell_type": "code",
   "execution_count": 12,
   "metadata": {},
   "outputs": [
    {
     "name": "stdout",
     "output_type": "stream",
     "text": [
      "12\n",
      "4\n"
     ]
    }
   ],
   "source": [
    "#8)WAP to the given number integer, if n is greater than 21,print the absolute difference between n and 21 otherwise \n",
    "# print twice the absolute difference.\n",
    "n=15\n",
    "if n>21:\n",
    "    n=abs(21-n)\n",
    "    print(n)       #absolute diff\n",
    "else:\n",
    "    n=abs(21-n)*2\n",
    "    print(n)          # twice of absolute diff\n",
    "    \n",
    "n=25\n",
    "if n>21:\n",
    "    n=abs(21-n)\n",
    "    print(n)\n",
    "else:\n",
    "    n=abs(21-n)*2\n",
    "    print(n)"
   ]
  },
  {
   "cell_type": "code",
   "execution_count": 13,
   "metadata": {},
   "outputs": [
    {
     "name": "stdout",
     "output_type": "stream",
     "text": [
      "30 is smallest\n",
      "46 is smallest\n"
     ]
    }
   ],
   "source": [
    "#9)WAP to find the smallest of two numbers.\n",
    "n=30\n",
    "m=46\n",
    "if n<m:\n",
    "    print(n,\"is smallest\")\n",
    "else:\n",
    "    print(m,\"is smallest\")\n",
    "    \n",
    "    \n",
    "n=300\n",
    "m=46\n",
    "if n<m:\n",
    "    print(n,\"is smallest\")\n",
    "else:\n",
    "    print(m,\"is smallest\")"
   ]
  },
  {
   "cell_type": "code",
   "execution_count": 15,
   "metadata": {},
   "outputs": [
    {
     "name": "stdout",
     "output_type": "stream",
     "text": [
      "6\n",
      "9\n"
     ]
    }
   ],
   "source": [
    "#10)WAP to check whether the given number is even or odd. \n",
    "# If it is even then make it as an odd number, if it is an odd number then make it as even number.\n",
    "n=7\n",
    "if n%2==0:\n",
    "    n=n+1\n",
    "else:\n",
    "    n =n-1\n",
    "print(n)\n",
    "\n",
    "n=8\n",
    "if n%2==0:\n",
    "    n=n+1\n",
    "else:\n",
    "    n =n-1\n",
    "print(n)"
   ]
  },
  {
   "cell_type": "code",
   "execution_count": 17,
   "metadata": {},
   "outputs": [
    {
     "name": "stdout",
     "output_type": "stream",
     "text": [
      "The Number 9 is Divisble By Three\n",
      "1000\n"
     ]
    }
   ],
   "source": [
    "#11)WAP to check whether the given number is divisible by 3 or not if yes, \n",
    "# print the number or else print the cube of the numbers.\n",
    "n=9\n",
    "if n%3==0:\n",
    "    print(f\"The Number {n} is Divisble By Three\")\n",
    "else:\n",
    "    n=n**3\n",
    "    print(n)\n",
    "    \n",
    "n=10\n",
    "if n%3==0:\n",
    "    print(f\"The Number {n} is Divisble By Three\")\n",
    "else:\n",
    "    n=n**3\n",
    "    print(n)"
   ]
  },
  {
   "cell_type": "code",
   "execution_count": 22,
   "metadata": {},
   "outputs": [
    {
     "name": "stdout",
     "output_type": "stream",
     "text": [
      "35 <class 'str'>\n",
      "30\n"
     ]
    }
   ],
   "source": [
    "#12)WAP to check whether the given input is divisible by 3 and 5. \n",
    "# If yes print the actual number or else print string of that number.\n",
    "n=35\n",
    "if n%3==0 and n%5==0:\n",
    "    print(n)\n",
    "else:\n",
    "    s=str(n)\n",
    "    print(s,type(s))\n",
    "    \n",
    "n=30\n",
    "if n%3==0 and n%5==0:\n",
    "    print(n)\n",
    "else:\n",
    "    s=str(n)\n",
    "    print(s,type(s))\n"
   ]
  },
  {
   "cell_type": "code",
   "execution_count": 24,
   "metadata": {},
   "outputs": [
    {
     "name": "stdout",
     "output_type": "stream",
     "text": [
      "100\n",
      "27000\n"
     ]
    }
   ],
   "source": [
    "#13)WAP to check whether the given number lies between 1 to 19, \n",
    "# if it is true square that number or else false cube that number and display the number.\n",
    "n=10\n",
    "if 1<=n<=19:\n",
    "    n=n**2\n",
    "else:\n",
    "    n=n**3\n",
    "print(n)\n",
    "\n",
    "n=30\n",
    "if 1<=n<=19:\n",
    "    n=n**2\n",
    "else:\n",
    "    n=n**3\n",
    "print(n)"
   ]
  },
  {
   "cell_type": "code",
   "execution_count": 25,
   "metadata": {},
   "outputs": [
    {
     "name": "stdout",
     "output_type": "stream",
     "text": [
      "pass\n",
      "fail\n"
     ]
    }
   ],
   "source": [
    "#14)WAP to check whether the student has passed or failed. If the student got more than 40 marks, \n",
    "# print ‘PASS’ along with those marks,if it is not printed ‘FAIL’ along with those marks.\n",
    "m=60\n",
    "if m>40:\n",
    "    print(\"pass\")\n",
    "else:\n",
    "    print(\"fail\")\n",
    "    \n",
    "m=30\n",
    "if m>40:\n",
    "    print(\"pass\")\n",
    "else:\n",
    "    print(\"fail\")"
   ]
  },
  {
   "cell_type": "code",
   "execution_count": 32,
   "metadata": {},
   "outputs": [
    {
     "name": "stdout",
     "output_type": "stream",
     "text": [
      "13\n",
      "6\n"
     ]
    }
   ],
   "source": [
    "#15)WAP to check whether a given value is even and in range of 47 to 58 and not in 0 or odd. if condition is True,\n",
    "# to perform display the ascii character. or else to perform floor division with 5 and display it.\n",
    "n=66\n",
    "if 47<=n<58 and (n!=0 or n%2==0):\n",
    "    n=chr(n)\n",
    "else:\n",
    "    n=n//5\n",
    "print(n)\n",
    "\n",
    "n=54\n",
    "if 47<=n<58 and (n!=0 or n%2==0):\n",
    "    n=chr(n)\n",
    "else:\n",
    "    n=n//5\n",
    "print(n)\n",
    "    "
   ]
  },
  {
   "cell_type": "code",
   "execution_count": 41,
   "metadata": {},
   "outputs": [
    {
     "name": "stdout",
     "output_type": "stream",
     "text": [
      "{1: 20, 79: 'O'}\n",
      "[20, 127]\n"
     ]
    }
   ],
   "source": [
    "#16)WAP to check whether a given value is less than 125 and in between 47 to 125 or not. if condition is True, to perform store the given \n",
    "# value as key and value as a character into the dict or else to append the value in list and display it.\n",
    "n=79\n",
    "d={1:20}\n",
    "l=[20]\n",
    "if 47<n<125:\n",
    "    d[n]=chr(n)\n",
    "    print(d)\n",
    "else:\n",
    "    l+=[n]\n",
    "    print(l)\n",
    "    \n",
    "n=127\n",
    "d={}\n",
    "l=[20]\n",
    "if 47<n<125:\n",
    "    d[n]=chr(n)\n",
    "    print(d)\n",
    "else:\n",
    "    l+=[n]\n",
    "    print(l)"
   ]
  },
  {
   "cell_type": "code",
   "execution_count": 45,
   "metadata": {},
   "outputs": [
    {
     "name": "stdout",
     "output_type": "stream",
     "text": [
      "g 103\n"
     ]
    }
   ],
   "source": [
    "#17)WAP to check whether a given character is in the alphabet or not. if alphabet, \n",
    "# display the alphabet with character or else display the not alphabet with character.\n",
    "n=\"g\"\n",
    "if 'A'<=n<='Z' or 'a'<=n<='z':\n",
    "    print(n,ord(n))\n",
    "else:\n",
    "    print()\n"
   ]
  },
  {
   "cell_type": "code",
   "execution_count": 47,
   "metadata": {},
   "outputs": [
    {
     "name": "stdout",
     "output_type": "stream",
     "text": [
      "M uppercase\n",
      "$ other character\n"
     ]
    }
   ],
   "source": [
    "#18)WAP to check whether a given character is uppercase or other character. if uppercase,\n",
    "# display the uppercase with character or else display the 'other character' with character.\n",
    "n=\"M\"\n",
    "if 'A'<=n<='Z':\n",
    "    print(n,\"uppercase\")\n",
    "else:\n",
    "    print(n,\"other character\")\n",
    "    \n",
    "    \n",
    "n=\"$\"\n",
    "if 'A'<=n<='Z':\n",
    "    print(n,\"uppercase\")\n",
    "else:\n",
    "    print(n,\"other character\")"
   ]
  },
  {
   "cell_type": "code",
   "execution_count": 49,
   "metadata": {},
   "outputs": [
    {
     "name": "stdout",
     "output_type": "stream",
     "text": [
      "b lowercase\n",
      "* other character\n"
     ]
    }
   ],
   "source": [
    "#19)WAP to check whether a given character is lowercase or other character. if lowercase, \n",
    "# display the lowercase with character or else display the other character with character.\n",
    "n=\"b\"\n",
    "if 'a'<=n<='z':\n",
    "    print(n,\"lowercase\")\n",
    "else:\n",
    "    print(n,\"other character\")\n",
    "    \n",
    "    \n",
    "n=\"*\"\n",
    "if 'a'<=n<='z':\n",
    "    print(n,\"lowercase\")\n",
    "else:\n",
    "    print(n,\"other character\")\n",
    "    \n",
    "    \n"
   ]
  },
  {
   "cell_type": "code",
   "execution_count": 53,
   "metadata": {},
   "outputs": [
    {
     "name": "stdout",
     "output_type": "stream",
     "text": [
      "h\n",
      "103\n"
     ]
    }
   ],
   "source": [
    "#20)WAP to check whether a given character is uppercase or other character. \n",
    "# if uppercase, convert to lowercase .or else display the ascii number.\n",
    "n=\"H\"\n",
    "if 'A'<=n<='Z':\n",
    "    n=n.lower()\n",
    "    print(n)\n",
    "else:\n",
    "    print(ord(n))\n",
    "    \n",
    "n=\"g\"\n",
    "if 'A'<=n<='Z':\n",
    "    n=n.lower()\n",
    "    print(n)\n",
    "else:\n",
    "    print(ord(n))\n",
    "    "
   ]
  },
  {
   "cell_type": "code",
   "execution_count": null,
   "metadata": {},
   "outputs": [],
   "source": [
    "\n"
   ]
  }
 ],
 "metadata": {
  "kernelspec": {
   "display_name": "Python 3",
   "language": "python",
   "name": "python3"
  },
  "language_info": {
   "codemirror_mode": {
    "name": "ipython",
    "version": 3
   },
   "file_extension": ".py",
   "mimetype": "text/x-python",
   "name": "python",
   "nbconvert_exporter": "python",
   "pygments_lexer": "ipython3",
   "version": "3.10.11"
  },
  "orig_nbformat": 4
 },
 "nbformat": 4,
 "nbformat_minor": 2
}
