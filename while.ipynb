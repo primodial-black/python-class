{
 "cells": [
  {
   "cell_type": "code",
   "execution_count": null,
   "metadata": {},
   "outputs": [],
   "source": [
    "#1)WAP to print the \"hello world\" for 5 times by uiing a while loop.\n",
    "a=1\n",
    "while a<=5:\n",
    "    print(\"hello world\")\n",
    "    a+=1"
   ]
  },
  {
   "cell_type": "code",
   "execution_count": null,
   "metadata": {},
   "outputs": [],
   "source": [
    "#2)WAP to print the number from I to 1O by using a while loop.\n",
    "a=1\n",
    "while a<=10:\n",
    "    print(a)\n",
    "    a+=1"
   ]
  },
  {
   "cell_type": "code",
   "execution_count": null,
   "metadata": {},
   "outputs": [],
   "source": [
    "#3)WAP to print the natural number I to nth tames by using a while loop. \n",
    "a=1\n",
    "b=int(input(\"enter nth number\"))\n",
    "while a<=b:\n",
    "    print(a)\n",
    "    a+=1"
   ]
  },
  {
   "cell_type": "code",
   "execution_count": null,
   "metadata": {},
   "outputs": [],
   "source": [
    "#WAP to print the reverse of the natural number nth to O times by using a While loop.\n",
    "start=int(input(\"enter nth numer\"))\n",
    "end=1\n",
    "while start>=end:\n",
    "    print(start)\n",
    "    start-=1\n",
    "    "
   ]
  },
  {
   "cell_type": "code",
   "execution_count": null,
   "metadata": {},
   "outputs": [],
   "source": [
    "#5)WAP to print the whole number until nth time by using a while loop.\n",
    "start=0\n",
    "end=int(input(\"enter nth numer\"))\n",
    "while start<=end:\n",
    "    print(start)\n",
    "    start+=1\n"
   ]
  },
  {
   "cell_type": "code",
   "execution_count": null,
   "metadata": {},
   "outputs": [],
   "source": [
    "#6)WAP to print the reverse of the whole number until nth times by using a While loop.\n",
    "start=int(input(\"enter nth numer\"))\n",
    "end=0\n",
    "while start>=end:\n",
    "    print(start)\n",
    "    start-=1"
   ]
  },
  {
   "cell_type": "code",
   "execution_count": null,
   "metadata": {},
   "outputs": [],
   "source": [
    "#7)WAP to print the even number until nth times by using a while loop.\n",
    "start=1\n",
    "end=int(input(\"enter nth numer\"))\n",
    "while start<=end:\n",
    "    if start%2==0:\n",
    "        print(start)\n",
    "    start+=1\n"
   ]
  },
  {
   "cell_type": "code",
   "execution_count": null,
   "metadata": {},
   "outputs": [],
   "source": [
    "#8)WAP to print reserve the even number until nthtimes by using While loop.\n",
    "start=int(input(\"enter nth numer\"))\n",
    "end=1\n",
    "while start>=end:\n",
    "    if start%2==0:\n",
    "        print(start)\n",
    "    start-=1"
   ]
  },
  {
   "cell_type": "code",
   "execution_count": null,
   "metadata": {},
   "outputs": [],
   "source": [
    "#9)WAP to print the odd number until nth times by using while loop.\n",
    "start=1\n",
    "end=int(input(\"enter nth numer\"))\n",
    "while start<=end:\n",
    "    if start%2!=0:\n",
    "        print(start)\n",
    "    start+=1\n"
   ]
  },
  {
   "cell_type": "code",
   "execution_count": null,
   "metadata": {},
   "outputs": [],
   "source": [
    "#10)WAP to print reverse the odd number until nth times by using a while loop.\n",
    "start=int(input(\"enter nth numer\"))\n",
    "end=1\n",
    "while start>=end:\n",
    "    if start%2!=0:\n",
    "        print(start)\n",
    "    start-=1\n"
   ]
  },
  {
   "cell_type": "code",
   "execution_count": null,
   "metadata": {},
   "outputs": [],
   "source": [
    "#11)WAP to print the nth table 1 to 20, format ---> 5*1=5 to 5*20=100\n",
    "a=5\n",
    "i=1\n",
    "while i<=20:\n",
    "    t=a*i\n",
    "    print(f\"{a} * {i} = {t}\")\n",
    "    i+=1\n",
    "    "
   ]
  },
  {
   "cell_type": "code",
   "execution_count": null,
   "metadata": {},
   "outputs": [],
   "source": [
    "#12)WAP to print the nth table 20 to 1, format --->  5*20=100 to 5*1=5.\n",
    "a=5\n",
    "i=20\n",
    "while i>=1:\n",
    "    t=a*i\n",
    "    print(f\"{a} * {i} = {t}\")\n",
    "    i-=1"
   ]
  },
  {
   "cell_type": "code",
   "execution_count": null,
   "metadata": {},
   "outputs": [],
   "source": [
    "#13)WAP to print the numbers which are divisible by 3 from 25 to 66.\n",
    "a=25\n",
    "b=66\n",
    "while a<=b:\n",
    "    if a%3==0:\n",
    "        print (a,end=\" \")\n",
    "    a+=1"
   ]
  },
  {
   "cell_type": "code",
   "execution_count": null,
   "metadata": {},
   "outputs": [],
   "source": [
    "#14)WAP to print the numbers which are divisible by 3 and 5 from 15 to 76.\n",
    "a=15\n",
    "b=76\n",
    "while a<=b:\n",
    "    if a%3==0 and a%5==0:\n",
    "        print (a,end=\" \")\n",
    "    a+=1"
   ]
  },
  {
   "cell_type": "code",
   "execution_count": null,
   "metadata": {},
   "outputs": [],
   "source": [
    "#15)WAP to print the numbers which are divisible by 5 and 7 from 77 to 22.\n",
    "a=77\n",
    "b=22\n",
    "while a>=b:\n",
    "    if a%5==0 and a%7==0:\n",
    "        print (a,end=\" \")\n",
    "    a-=1"
   ]
  },
  {
   "cell_type": "code",
   "execution_count": null,
   "metadata": {},
   "outputs": [],
   "source": [
    "#16)WAP to print the 'I love you\" if value is divisible by 3, or print \"hate you\" if value is divisible By 5.\n",
    "# to print \"i like you \" if value  divisible  by 3 and 5 from I Io 30.\n",
    "a=1\n",
    "b=30\n",
    "while a<=b:\n",
    "    if a%3==0 and a%5==0:\n",
    "        print(a,\"i like you\")\n",
    "    elif a%5==0:\n",
    "        print(a,\"i hate you\")\n",
    "    elif a%3==0 :\n",
    "        print(a,\"i love you\")\n",
    "    a+=1"
   ]
  },
  {
   "cell_type": "code",
   "execution_count": null,
   "metadata": {},
   "outputs": [],
   "source": [
    "#17)wap to print sum of the 1 to nth natural numbers\n",
    "a=1\n",
    "sum=0\n",
    "b=int(input(\"enter nth number\"))\n",
    "while a<=b:\n",
    "    sum+=a\n",
    "    a+=1\n",
    "print(sum)\n",
    "    "
   ]
  },
  {
   "cell_type": "code",
   "execution_count": null,
   "metadata": {},
   "outputs": [],
   "source": [
    "#18)wap to print sum of the even numbers from 1 to 20\n",
    "a=1\n",
    "sum=0\n",
    "while a<=20:\n",
    "    if(a%2==0):\n",
    "        sum+=a\n",
    "    a+=1\n",
    "print(sum)"
   ]
  },
  {
   "cell_type": "code",
   "execution_count": null,
   "metadata": {},
   "outputs": [],
   "source": [
    "#19)wap to print product of 1 to 6 numbers\n",
    "a=1\n",
    "prod=1\n",
    "b=6\n",
    "while a<=b:\n",
    "    prod*=a\n",
    "    a+=1\n",
    "print(prod)"
   ]
  },
  {
   "cell_type": "code",
   "execution_count": null,
   "metadata": {},
   "outputs": [],
   "source": [
    "#20)wap to count no of odd values from 1 to 30\n",
    "a=1\n",
    "count=0\n",
    "while a<=30:\n",
    "    if a%2!=0:\n",
    "        count+=1\n",
    "    a+=1\n",
    "print(count)"
   ]
  },
  {
   "cell_type": "code",
   "execution_count": null,
   "metadata": {},
   "outputs": [],
   "source": [
    "#21)wap to print factor of given number\n",
    "n=int(input(\"enter a number to get its factors\"))\n",
    "m=1\n",
    "while m<=n:\n",
    "    if n%m==0:\n",
    "        print(m,end=\" \")\n",
    "    m+=1"
   ]
  },
  {
   "cell_type": "code",
   "execution_count": null,
   "metadata": {},
   "outputs": [],
   "source": [
    "#22)wap to print sum of the factors of the given number\n",
    "n=int(input(\"enter a number to get sum of its factors\"))\n",
    "m=1\n",
    "sum=0\n",
    "while m<=n:\n",
    "    if n%m==0:\n",
    "        sum+=m\n",
    "    m+=1\n",
    "print(sum)"
   ]
  },
  {
   "cell_type": "code",
   "execution_count": null,
   "metadata": {},
   "outputs": [],
   "source": [
    "#23)WAP to prod of the factors ot the given number.\n",
    "n=int(input(\"enter a number to get sum of its factors\"))\n",
    "m=1\n",
    "prod=1\n",
    "while m<=n:\n",
    "    if n%m==0:\n",
    "        prod*=m\n",
    "    m+=1\n",
    "print(prod)"
   ]
  },
  {
   "cell_type": "code",
   "execution_count": null,
   "metadata": {},
   "outputs": [],
   "source": [
    "#24)wap to print fibonocci series from 0 to nth\n",
    "a=0\n",
    "b=1\n",
    "d=10\n",
    "i=1\n",
    "print(a)\n",
    "while i<=d:\n",
    "    c=a+b\n",
    "    print(c,end=\" \")\n",
    "    a,b=b,c\n",
    "    i+=1"
   ]
  },
  {
   "cell_type": "code",
   "execution_count": null,
   "metadata": {},
   "outputs": [],
   "source": [
    "#25)wap to find factorial of given number\n",
    "n=5\n",
    "i=1\n",
    "fact=1\n",
    "while i<=n:\n",
    "    fact=fact*i\n",
    "    i+=1\n",
    "print(fact)\n",
    "    "
   ]
  },
  {
   "cell_type": "code",
   "execution_count": null,
   "metadata": {},
   "outputs": [],
   "source": [
    "#26)wap to print factorial numbers in the given range from m to n\n",
    "m=int(input(\"enter starting num\"))\n",
    "n=int(input(\"enter ending num\"))\n",
    "while m<=n:\n",
    "    fact=1\n",
    "    i=1\n",
    "    while i<=m:\n",
    "        fact=fact*i\n",
    "        i+=1\n",
    "    print (f\"factorial of {m} is :{fact}\")\n",
    "    m+=1\n"
   ]
  },
  {
   "cell_type": "code",
   "execution_count": null,
   "metadata": {},
   "outputs": [],
   "source": [
    "#27)wap to check whether the given number is prime or not.\n",
    "n=int(input(\"enter the number\"))\n",
    "i=2\n",
    "count=0\n",
    "while i<n:\n",
    "    if n%i==0:\n",
    "        count+=1\n",
    "    i+=1\n",
    "if count==0:\n",
    "    print(n,\"prime\")\n",
    "else:\n",
    "    print(\" is not a prime\")"
   ]
  },
  {
   "cell_type": "code",
   "execution_count": null,
   "metadata": {},
   "outputs": [],
   "source": [
    "#28)WAP to print the prime numbers in the given range m to n.\n",
    "m=int(input(\"enter the starting number\"))\n",
    "n=int(input(\"enter the ending number\"))\n",
    "while m<=n:\n",
    "    i=2\n",
    "    count=0\n",
    "    while i<m:\n",
    "        if(m%i==0):\n",
    "            count+=1\n",
    "        i+=1\n",
    "    if count==0:\n",
    "        print (m,end=\" \")\n",
    "    m+=1\n",
    "    "
   ]
  },
  {
   "cell_type": "code",
   "execution_count": null,
   "metadata": {},
   "outputs": [],
   "source": [
    "#29)WAP to check whether a given number an armstrong number or not.\n",
    "n=int(input(\"enter the number\"))\n",
    "temp=n\n",
    "count=0\n",
    "while temp:\n",
    "    ld=temp%10\n",
    "    count+=1\n",
    "    temp//=10\n",
    "res=n\n",
    "sum=0\n",
    "while res:\n",
    "    sum+= (res % 10)**count\n",
    "    res//=10\n",
    "if n==sum:\n",
    "    print(n,\" is armstrong\")\n",
    "else:\n",
    "    print(n,\"armweak\")"
   ]
  },
  {
   "cell_type": "code",
   "execution_count": null,
   "metadata": {},
   "outputs": [],
   "source": [
    "#30) WAP to print the armstrong numbers in the given range m to n.\n",
    "m=1\n",
    "n=1000\n",
    "while m<=n:\n",
    "    temp=m\n",
    "    count=0\n",
    "    while temp:\n",
    "        ld=temp%10\n",
    "        count+=1\n",
    "        temp//=10\n",
    "    res=m\n",
    "    sum=0\n",
    "    while res:\n",
    "        sum+= (res % 10)**count\n",
    "        res//=10\n",
    "    if m==sum:\n",
    "        print(m,\" is armstrong\")\n",
    "    m+=1\n",
    "    "
   ]
  },
  {
   "cell_type": "code",
   "execution_count": null,
   "metadata": {},
   "outputs": [],
   "source": [
    "#31)wap to print prime series from 1 to nth.\n",
    "m=1\n",
    "n=int(input(\"enter the ending number\"))\n",
    "while m<=n:\n",
    "    i=2\n",
    "    count=0\n",
    "    while i<m:\n",
    "        if(m%i==0):\n",
    "            count+=1\n",
    "        i+=1\n",
    "    if count==0:\n",
    "        print (m,end=\" \")\n",
    "    m+=1\n"
   ]
  },
  {
   "cell_type": "code",
   "execution_count": null,
   "metadata": {},
   "outputs": [],
   "source": [
    "#32)wap to print 1 to 100 prime numbers in fibonocci series\n",
    "a=0\n",
    "b=1\n",
    "i=1\n",
    "list1=[]\n",
    "while i<=n:\n",
    "    c=a+b\n",
    "    list1.append(c)\n",
    "    a,b=b,c\n",
    "    i+=1\n",
    "m=1\n",
    "n=100\n",
    "list=[]\n",
    "while m<=n:\n",
    "    i=2\n",
    "    count=0\n",
    "    while i<m:\n",
    "        if(m%i==0):\n",
    "            count+=1\n",
    "        i+=1\n",
    "    if count==0 and m in list1:\n",
    "            list.append(m)\n",
    "    m+=1\n",
    "print(list)\n"
   ]
  },
  {
   "cell_type": "code",
   "execution_count": null,
   "metadata": {},
   "outputs": [],
   "source": [
    "#33)Write a program Sum Of prime numbers in a given collection.\n",
    "m=1\n",
    "n=50\n",
    "list=[]\n",
    "h=0\n",
    "while m<=n:\n",
    "    i=2\n",
    "    count=0\n",
    "    while i<m:\n",
    "        if(m%i==0):\n",
    "            count+=1\n",
    "        i+=1\n",
    "    if count==0:\n",
    "        list.append(m)\n",
    "    m+=1\n",
    "print(list)\n",
    "sum=0\n",
    "while h<len(list):\n",
    "        sum+=list[h] \n",
    "        h+=1 \n",
    "print(sum)\n",
    "        \n",
    "\n",
    "\n",
    "\n"
   ]
  },
  {
   "cell_type": "code",
   "execution_count": null,
   "metadata": {},
   "outputs": [],
   "source": [
    "#34)wap to check given number is palindrome or not\n",
    "n=1221\n",
    "temp=n\n",
    "s=0\n",
    "while n:\n",
    "    ld=n%10\n",
    "    s=(s*10)+ld\n",
    "    n//=10\n",
    "if s==temp:\n",
    "    print(s,\"palindorme\")"
   ]
  },
  {
   "cell_type": "code",
   "execution_count": null,
   "metadata": {},
   "outputs": [],
   "source": [
    "#35)WAP to check whether the len of string is even or odd.if it is even print the string 10 times.if it is not peint 5 times.\n",
    "st=\"deathnot\"\n",
    "a=len(st)\n",
    "print(a)\n",
    "if a%2==0:\n",
    "    j=0\n",
    "    while j<10:\n",
    "        print(st)\n",
    "        j+=1    \n",
    "else:\n",
    "    k=0\n",
    "    while k<5:\n",
    "        print(st)\n",
    "        k+=1\n",
    "    \n"
   ]
  },
  {
   "cell_type": "code",
   "execution_count": null,
   "metadata": {},
   "outputs": [],
   "source": [
    "#36)WAP to print the uppercAse chÄracter from 'A' to 'Z' by usung a while loop\n",
    "a=\"A\"\n",
    "b=ord(a)\n",
    "while b<=ord(\"Z\"):\n",
    "    print(chr(b),end=\" \")\n",
    "    b+=1"
   ]
  },
  {
   "cell_type": "code",
   "execution_count": null,
   "metadata": {},
   "outputs": [],
   "source": [
    "#37)WAP to print the uppercAse chÄracter from 'a' to 'z' by usung a while loop.\n",
    "a=\"a\"\n",
    "b=ord(a)\n",
    "while b<=ord(\"z\"):\n",
    "    print(chr(b),end=\" \")\n",
    "    b+=1"
   ]
  },
  {
   "cell_type": "code",
   "execution_count": null,
   "metadata": {},
   "outputs": [],
   "source": [
    "#38)WAP to print the ascii nurnbers character trom \"0\" to \"9\" by usmq a while loop.\n",
    "a=\"0\"\n",
    "b=ord(a)\n",
    "while b<=ord(\"9\"):\n",
    "    print(chr(b),end=\" \")\n",
    "    b+=1"
   ]
  },
  {
   "cell_type": "code",
   "execution_count": null,
   "metadata": {},
   "outputs": [],
   "source": [
    "#39)wap to print the uppercase character fram 'E' to 'U' by using a while loop.\n",
    "a=\"E\"\n",
    "b=ord(a)\n",
    "while b<=ord(\"U\"):\n",
    "    print(chr(b),end=\" \")\n",
    "    b+=1"
   ]
  },
  {
   "cell_type": "code",
   "execution_count": null,
   "metadata": {},
   "outputs": [],
   "source": [
    "#40)WAP print the uppercase chancter from 'Z' to 'A' by using while loop.\n",
    "a=\"Z\"\n",
    "b=ord(a)\n",
    "while b>=ord(\"A\"):\n",
    "    print(chr(b),end=\" \")\n",
    "    b-=1"
   ]
  },
  {
   "cell_type": "code",
   "execution_count": null,
   "metadata": {},
   "outputs": [],
   "source": [
    "#41)WAP to print the uppercase character from 'U' to 'G' by ugrng a Thile loop.\n",
    "a=\"U\"\n",
    "b=ord(a)\n",
    "while b>=ord(\"G\"):\n",
    "    print(chr(b),end=\" \")\n",
    "    b-=1"
   ]
  },
  {
   "cell_type": "code",
   "execution_count": null,
   "metadata": {},
   "outputs": [],
   "source": [
    "#42)WAP to print the lowercase character from 'i' to 'y' by using while loop.\n",
    "a=\"i\"\n",
    "b=ord(a)\n",
    "while b<=ord(\"y\"):\n",
    "    print(chr(b),end=\" \")\n",
    "    b+=1"
   ]
  },
  {
   "cell_type": "code",
   "execution_count": null,
   "metadata": {},
   "outputs": [],
   "source": [
    "#43)WAP to print the lowercase character from 'z' to 'a' by using while loop.\n",
    "a=\"z\"\n",
    "b=ord(a)\n",
    "while b>=ord(\"a\"):\n",
    "    print(chr(b),end=\" \")\n",
    "    b-=1\n"
   ]
  },
  {
   "cell_type": "code",
   "execution_count": null,
   "metadata": {},
   "outputs": [],
   "source": [
    "#44)WAP to print the lowercase character from 'p' to 'c' by using while loop.\n",
    "a=\"p\"\n",
    "b=ord(a)\n",
    "while b>=ord(\"c\"):\n",
    "    print(chr(b),end=\" \")\n",
    "    b-=1"
   ]
  },
  {
   "cell_type": "code",
   "execution_count": null,
   "metadata": {},
   "outputs": [],
   "source": [
    "#45)wap to print uppercase charscters based on even ascii values\n",
    "a=\"A\"\n",
    "b=ord(a)\n",
    "while b<=ord(\"Z\"):\n",
    "    if b%2==0:\n",
    "        print(chr(b),end=\" \")\n",
    "    b+=1"
   ]
  },
  {
   "cell_type": "code",
   "execution_count": null,
   "metadata": {},
   "outputs": [],
   "source": [
    "#46)wap to print the lowercase based on even ascii value\n",
    "a=\"a\"\n",
    "b=ord(a)\n",
    "while b<=ord(\"z\"):\n",
    "    if b%2==0:\n",
    "        print(chr(b),end=\" \")\n",
    "    b+=1"
   ]
  },
  {
   "cell_type": "code",
   "execution_count": null,
   "metadata": {},
   "outputs": [],
   "source": [
    "#47)wap to print the uppercase based on odd ascii value\n",
    "a=\"A\"\n",
    "b=ord(a)\n",
    "while b<=ord(\"Z\"):\n",
    "    if b%2!=0:\n",
    "        print(chr(b),end=\" \")\n",
    "    b+=1"
   ]
  },
  {
   "cell_type": "code",
   "execution_count": null,
   "metadata": {},
   "outputs": [],
   "source": [
    "#48)wap to print the lowercase based on odd ascii value\n",
    "a=\"a\"\n",
    "b=ord(a)\n",
    "while b<=ord(\"z\"):\n",
    "    if b%2!=0:\n",
    "        print(chr(b),end=\" \")\n",
    "    b+=1"
   ]
  },
  {
   "cell_type": "code",
   "execution_count": null,
   "metadata": {},
   "outputs": [],
   "source": [
    "#49)wap to print all the even characters 'A' to 'z'\n",
    "a=ord(\"A\")\n",
    "b=ord(\"Z\")\n",
    "while a<=b:\n",
    "    if a%2==0:\n",
    "        print(chr(a),end=\" \")\n",
    "    a+=1"
   ]
  },
  {
   "cell_type": "code",
   "execution_count": null,
   "metadata": {},
   "outputs": [],
   "source": [
    "#50)wap to print all the even characters 'a' to 'z'\n",
    "a=ord(\"a\")\n",
    "b=ord(\"z\")\n",
    "while a<=b:\n",
    "    if a%2==0:\n",
    "        print(chr(a),end=\" \")\n",
    "    a+=1"
   ]
  },
  {
   "cell_type": "code",
   "execution_count": null,
   "metadata": {},
   "outputs": [],
   "source": [
    "#51)wap to count number of vowels present in 'D' to 'v'\n",
    "a=ord(\"D\")\n",
    "b=ord(\"V\")\n",
    "count=0\n",
    "while a<=b:\n",
    "    if chr(a) in 'AEIOUaeiou':\n",
    "        count+=1\n",
    "        print(chr(a),count)\n",
    "    a+=1\n"
   ]
  },
  {
   "cell_type": "code",
   "execution_count": null,
   "metadata": {},
   "outputs": [],
   "source": [
    "#52)wap to count number of vowels present in 'u' to 'e'\n",
    "a=ord(\"u\")\n",
    "b=ord(\"e\")\n",
    "count=0\n",
    "while a>=b:\n",
    "    if chr(a) in 'AEIOUaeiou':\n",
    "        count+=1\n",
    "        print(chr(a),count)\n",
    "    a-=1"
   ]
  },
  {
   "cell_type": "code",
   "execution_count": null,
   "metadata": {},
   "outputs": [],
   "source": [
    "#53)wap to print the square of the numer in between the range from m to n \n",
    "# which is multiple of 3.wap to print a number from range m to n which is divisible byb 5.\n",
    "m=2\n",
    "n=10\n",
    "while m<=n:\n",
    "    if m%3==0:\n",
    "        print(m**2,end=' ') \n",
    "    m+=1   \n",
    "print() \n",
    "a=2\n",
    "b=100\n",
    "while a<=b:\n",
    "    if a%5==0:\n",
    "        print(a,end=' ') \n",
    "    a+=1 \n",
    "\n",
    "\n",
    "\n",
    "\n"
   ]
  },
  {
   "cell_type": "code",
   "execution_count": null,
   "metadata": {},
   "outputs": [],
   "source": [
    "#54)Write a program takes an integer number and the sum digits and repeat until \n",
    "# the sum gets a single digit in the end.\n",
    "n=5643\n",
    "\n",
    "while n>9:\n",
    "    sum=0\n",
    "    while n:\n",
    "        ld=n%10\n",
    "        sum+=ld\n",
    "        n//=10\n",
    "    n=sum\n",
    "    print(sum)\n",
    "    "
   ]
  },
  {
   "cell_type": "code",
   "execution_count": null,
   "metadata": {},
   "outputs": [],
   "source": [
    "#55)wap to count number of 2's in between 0 to n\n",
    "start=0\n",
    "end=35\n",
    "list=[]\n",
    "while start<=end:\n",
    "    list.append(start)\n",
    "    start+=1\n",
    "list=str(list)\n",
    "print(list,type(list))\n",
    "i=0\n",
    "count=0\n",
    "print()\n",
    "while i<len(list):\n",
    "    if \"2\" in list[i]:\n",
    "        count+=1\n",
    "    i+=1\n",
    "print(count)\n",
    "    "
   ]
  },
  {
   "cell_type": "code",
   "execution_count": 1,
   "metadata": {},
   "outputs": [
    {
     "name": "stdout",
     "output_type": "stream",
     "text": [
      "[10, 2, 3, 0, 6]\n",
      "[10, 6, 2, 0, 3]\n",
      "[10, 6, 3, 0, 2]\n",
      "180\n"
     ]
    }
   ],
   "source": [
    "#56)wap to find max product of three numbers from given integer array\n",
    "a=[3,2,10,0,6]\n",
    "i=1\n",
    "while i<len(a):\n",
    "    if a[0]<a[i]:\n",
    "        a[0],a[i]=a[i],a[0]   \n",
    "    i+=1\n",
    "print(a)\n",
    "i=2\n",
    "while i<len(a):\n",
    "    if a[1]<a[i]:\n",
    "        a[1],a[i]=a[i],a[1]   \n",
    "    i+=1\n",
    "print(a)\n",
    "i=3\n",
    "while i<len(a):\n",
    "    if a[2]<a[i]:\n",
    "        a[2],a[i]=a[i],a[2]   \n",
    "    i+=1\n",
    "print(a)\n",
    "print(a[0]*a[1]*a[2])\n",
    "    \n",
    "\n"
   ]
  },
  {
   "cell_type": "code",
   "execution_count": null,
   "metadata": {},
   "outputs": [],
   "source": [
    "#59)WAP to print the items present in the string between the range from m to n\n",
    "st=\"hellohiihowareyou\"\n",
    "start=4\n",
    "end=14\n",
    "while start<end:\n",
    "    print(st[start], end=\" \")\n",
    "    start+=1"
   ]
  },
  {
   "cell_type": "code",
   "execution_count": null,
   "metadata": {},
   "outputs": [],
   "source": [
    "#60)WAP to print the uppercase characters in a given string.\n",
    "st=\"heLLoHiihoWareYou\"\n",
    "i=0\n",
    "while i<len(st):\n",
    "    if \"A\"<=st[i]<=\"Z\":\n",
    "        print(st[i],end=\" \")\n",
    "    i+=1\n",
    "       "
   ]
  },
  {
   "cell_type": "code",
   "execution_count": null,
   "metadata": {},
   "outputs": [],
   "source": [
    "#61)WAP to print the lowercase characters tn a given string.\n",
    "st=\"heLLoHiihoWareYou\"\n",
    "i=0\n",
    "while i<len(st):\n",
    "    if \"a\"<=st[i]<=\"z\":\n",
    "        print(st[i],end=\" \")\n",
    "    i+=1"
   ]
  },
  {
   "cell_type": "code",
   "execution_count": null,
   "metadata": {},
   "outputs": [],
   "source": [
    "#62)WAP to print the ascii numbers(Digits) characters in a given string.\n",
    "st=\"he3454LLo123Hii34579hoWar325eYou\"\n",
    "i=0\n",
    "while i<len(st):\n",
    "    if \"0\"<=st[i]<=\"9\":\n",
    "        print(st[i],end=\" \")\n",
    "    i+=1"
   ]
  },
  {
   "cell_type": "code",
   "execution_count": null,
   "metadata": {},
   "outputs": [],
   "source": [
    "#63)WAP to print the special characters in a gtven string.\n",
    "st=\"heLLo@#Hi@#$iho^&WareYou\"\n",
    "i=0\n",
    "while i<len(st):\n",
    "    if not(\"a\"<=st[i]<=\"z\" or \"A\"<=st[i]<=\"Z\" or \"0\"<=st[i]<=\"9\"):\n",
    "        print(st[i],end=\" \")\n",
    "    i+=1"
   ]
  },
  {
   "cell_type": "code",
   "execution_count": null,
   "metadata": {},
   "outputs": [],
   "source": [
    "#64)WAP to Print the vowels in a given string.\n",
    "st=\"heLLoHiihoWareYou\"\n",
    "i=0\n",
    "while i<len(st):\n",
    "    if st[i] in \"AEIOUaeiou\":\n",
    "        print(st[i],end=\" \")\n",
    "    i+=1"
   ]
  },
  {
   "cell_type": "code",
   "execution_count": null,
   "metadata": {},
   "outputs": [],
   "source": [
    "#65)WAP to Print the consonants in a given string.\n",
    "st=\"heLLoHiihoWareYou\"\n",
    "i=0\n",
    "while i<len(st):\n",
    "    if st[i] not in \"AEIOUaeiou\":\n",
    "        print(st[i],end=\" \")\n",
    "    i+=1"
   ]
  },
  {
   "cell_type": "code",
   "execution_count": null,
   "metadata": {},
   "outputs": [],
   "source": [
    "#66)WAP to print the reverse of the characters in a given string.\n",
    "st=\"heLLoHiihoWareYou\"\n",
    "i=len(st)-1\n",
    "while i>=0:\n",
    "    print(st[i],end=\" \")\n",
    "    i-=1\n"
   ]
  },
  {
   "cell_type": "code",
   "execution_count": null,
   "metadata": {},
   "outputs": [],
   "source": [
    "#67)WAP to print even position values characters in a given stringe\n",
    "st=\"heLLoHiihoWareYou\"\n",
    "i=0\n",
    "while i<len(st):\n",
    "    if i%2==0:\n",
    "        print(st[i],end=\" \")\n",
    "    i+=1"
   ]
  },
  {
   "cell_type": "code",
   "execution_count": 3,
   "metadata": {},
   "outputs": [
    {
     "name": "stdout",
     "output_type": "stream",
     "text": [
      "e L H i o a e o "
     ]
    }
   ],
   "source": [
    "#68)WAP to print odd position values characters in a given strtng.\n",
    "st=\"heLLoHiihoWareYou\"\n",
    "i=0\n",
    "while i<len(st):\n",
    "    if i%2!=0:\n",
    "        print(st[i],end=\" \")\n",
    "    i+=1\n"
   ]
  },
  {
   "cell_type": "code",
   "execution_count": 1,
   "metadata": {},
   "outputs": [
    {
     "name": "stdout",
     "output_type": "stream",
     "text": [
      "17 "
     ]
    }
   ],
   "source": [
    "#69)WAP to count the total Number of characters in a given string. (with length function)\n",
    "st=\"heLLoHiihoWareYou\"\n",
    "print(len(st),end=\" \")"
   ]
  },
  {
   "cell_type": "code",
   "execution_count": null,
   "metadata": {},
   "outputs": [],
   "source": [
    "#70)WAP to count the total Number of characters in a given string. (without length function)\n",
    "st=\"heLLoHiihoWareYou\"\n",
    "i=0\n",
    "count=0\n",
    "while i<len(st):\n",
    "    count+=1\n",
    "    i+=1\n",
    "print(count,end=\" \")"
   ]
  },
  {
   "cell_type": "code",
   "execution_count": null,
   "metadata": {},
   "outputs": [],
   "source": [
    "#71)WAP to count alphabets in a given string.\n",
    "st=\"heL6858LoH12iihoWar@$eYou\"\n",
    "i=0\n",
    "count=0\n",
    "while i<len(st):\n",
    "    if \"A\"<=st[i]<=\"Z\" or \"a\"<=st[i]<=\"z\":\n",
    "        count+=1\n",
    "    i+=1\n",
    "print(count,end=\" \")"
   ]
  },
  {
   "cell_type": "code",
   "execution_count": null,
   "metadata": {},
   "outputs": [],
   "source": [
    "#72)WAP to count Number of uppercase in a given string.\n",
    "st=\"heLLoHiihoWareYou\"\n",
    "i=0\n",
    "count=0\n",
    "while i<len(st):\n",
    "    if \"A\"<=st[i]<=\"Z\":\n",
    "        count+=1\n",
    "    i+=1\n",
    "print(count,end=\" \")"
   ]
  },
  {
   "cell_type": "code",
   "execution_count": null,
   "metadata": {},
   "outputs": [],
   "source": [
    "#73)WAP to count lowercase in a given string.\n",
    "st=\"heLLoHi234iho56Ware@!%^&You\"\n",
    "i=0\n",
    "count=0\n",
    "while i<len(st):\n",
    "    if  \"a\"<=st[i]<=\"z\":\n",
    "        count+=1\n",
    "        print(st[i],count)\n",
    "    i+=1\n"
   ]
  },
  {
   "cell_type": "code",
   "execution_count": null,
   "metadata": {},
   "outputs": [],
   "source": [
    "#74)WAP to count Number of special symbols in a given string.\n",
    "st=\"heLLoHi234iho56Ware@!%^&You\"\n",
    "i=0\n",
    "count=0\n",
    "while i<len(st):\n",
    "    if  not(\"a\"<=st[i]<=\"z\" or \"A\"<=st[i]<=\"Z\" or \"0\"<=st[i]<=\"9\"):\n",
    "        count+=1\n",
    "        print(st[i],count)\n",
    "    i+=1\n"
   ]
  },
  {
   "cell_type": "code",
   "execution_count": null,
   "metadata": {},
   "outputs": [],
   "source": [
    "#75)WAP to count uppercase and lowercase in a given string.\n",
    "st=\"heLLoHi234iho56Ware@!%^&You\"\n",
    "i=0\n",
    "count=0\n",
    "while i<len(st):\n",
    "    if  (\"a\"<=st[i]<=\"z\" or \"A\"<=st[i]<=\"Z\"):\n",
    "        count+=1\n",
    "        print(st[i],count,end=\" |\")\n",
    "    i+=1\n"
   ]
  },
  {
   "cell_type": "code",
   "execution_count": null,
   "metadata": {},
   "outputs": [],
   "source": [
    "#76)WAP to count Number of ascii numbers in a gtven string.\n",
    "st=\"heLLoHi234iho56Ware@!%^&You\"\n",
    "i=0\n",
    "count=0\n",
    "while i<len(st):\n",
    "    if  (\"0\"<=st[i]<=\"9\"):\n",
    "        count+=1\n",
    "        \n",
    "    i+=1\n",
    "print(count,end=\" \")"
   ]
  },
  {
   "cell_type": "code",
   "execution_count": null,
   "metadata": {},
   "outputs": [],
   "source": [
    "#77)WAP to Count Total Number or Words in a String.\n",
    "st=\"heLLo Hii 234 how 56are @!%^ &You\"\n",
    "i=0\n",
    "count=1\n",
    "while i<len(st):\n",
    "    if  st[i]==\" \":\n",
    "        count+=1\n",
    "        \n",
    "    i+=1\n",
    "print(count,end=\" \")"
   ]
  },
  {
   "cell_type": "code",
   "execution_count": null,
   "metadata": {},
   "outputs": [],
   "source": [
    "#78)WAP to Count Totål Number Of space in a String.\n",
    "st=\"heLLo Hii 234 how 56are @!%^ &You\"\n",
    "i=0\n",
    "count=0\n",
    "while i<len(st):\n",
    "    if  st[i]==\" \":\n",
    "        count+=1\n",
    "        \n",
    "    i+=1\n",
    "print(count,end=\" \")"
   ]
  },
  {
   "cell_type": "code",
   "execution_count": null,
   "metadata": {},
   "outputs": [],
   "source": [
    "#79)WAP to Count Vowels in a String,\n",
    "st=\"heLLo Hii 234 how 56are @!%^ &You\"\n",
    "i=0\n",
    "count=0\n",
    "while i<len(st):\n",
    "    if  st[i] in \"AEIOUaeiou\":\n",
    "        count+=1\n",
    "        print(st[i])\n",
    "    i+=1\n",
    "print(\"---\")\n",
    "print(count)"
   ]
  },
  {
   "cell_type": "code",
   "execution_count": null,
   "metadata": {},
   "outputs": [],
   "source": [
    "#80)WAP to Count consonants in a String.\n",
    "st=\"heLLo Hii 234 how 56are @!%^ &You\"\n",
    "i=0\n",
    "count=0\n",
    "while i<len(st):\n",
    "    if  st[i] not in \"AEIOUaeiou\":\n",
    "        count+=1\n",
    "    i+=1\n",
    "print(count)"
   ]
  },
  {
   "cell_type": "code",
   "execution_count": null,
   "metadata": {},
   "outputs": [],
   "source": [
    "#81)WAP to Count Vowels and Consonants in a String.\n",
    "st=\"heLLo Hii 234 how 56are @!%^ &You\"\n",
    "i=0\n",
    "count=0\n",
    "while i<len(st):\n",
    "    if  \"A\"<=st[i]<=\"Z\" or \"a\"<=st[i]<=\"z\":\n",
    "        count+=1\n",
    "    i+=1\n",
    "print(count)"
   ]
  },
  {
   "cell_type": "code",
   "execution_count": null,
   "metadata": {},
   "outputs": [],
   "source": [
    "#82)WAP to eotmt Number of new lines in given string,\n",
    "st=\"\"\" Things to Consider During Implementation. \n",
    "At this point you should have API Management.\n",
    "After you implement your API endpoints and decide how Maintenance. \n",
    "While launching your API can be an exciting challenge, keeping Next Steps.\n",
    "As you now understand, developing an API is not limited.\"\"\"\n",
    "i=0\n",
    "count=0\n",
    "while i<len(st):\n",
    "    if  st[i]==\"\\n\":\n",
    "        count+=1\n",
    "    i+=1\n",
    "print(count,\" new lines\")"
   ]
  },
  {
   "cell_type": "code",
   "execution_count": null,
   "metadata": {},
   "outputs": [],
   "source": [
    "#83)WAP to count Number of lines in a given string.\n",
    "st=\"\"\" Things to Consider During Implementation. \n",
    "At this point you should have API Management.\n",
    "After you implement your API endpoints and decide how Maintenance. \n",
    "While launching your API can be an exciting challenge, keeping Next Steps.\n",
    "As you now understand, developing an API is not limited.\"\"\"\n",
    "i=0\n",
    "count=1\n",
    "while i<len(st):\n",
    "    if  st[i]==\"\\n\":\n",
    "        count+=1\n",
    "    i+=1\n",
    "print(count,\"lines\")\n"
   ]
  },
  {
   "cell_type": "code",
   "execution_count": null,
   "metadata": {},
   "outputs": [],
   "source": [
    "#84)WAP to count no of alphabets. numbers. and special characters in a given string.\n",
    "st=\"heLLoHii234how56are@!%^&You\"\n",
    "i=0\n",
    "ac,numc,spc=0,0,0\n",
    "while i<len(st):\n",
    "    if  \"A\"<=st[i]<=\"Z\" or \"a\"<=st[i]<=\"z\":\n",
    "        ac+=1\n",
    "    elif \"0\"<=st[i]<=\"9\":\n",
    "        numc+=1\n",
    "    else:\n",
    "        spc+=1\n",
    "    i+=1\n",
    "print(\"aphabets \",ac)\n",
    "print(\"numbers \",numc)\n",
    "print(\"special chars \",spc)"
   ]
  },
  {
   "cell_type": "code",
   "execution_count": null,
   "metadata": {},
   "outputs": [],
   "source": [
    "#85)WAP to Count Total no of words in a first line of the Doc String.\n",
    "st=\"\"\"Things to Consider During Implementation. \n",
    "At this point you should have API Management.\n",
    "After you implement your API endpoints and decide how Maintenance. \n",
    "While launching your API can be an exciting challenge, keeping Next Steps.\n",
    "As you now understand, developing an API is not limited.\"\"\"\n",
    "i=0\n",
    "count=1\n",
    "while i<len(st):\n",
    "    if  st[i]==\".\":\n",
    "        break\n",
    "    if st[i]==\" \":\n",
    "        count+=1\n",
    "    i+=1\n",
    "print(count,\"words\")"
   ]
  },
  {
   "cell_type": "code",
   "execution_count": null,
   "metadata": {},
   "outputs": [],
   "source": [
    "#86)WAP to sum of digits in a given string.\n",
    "st=\"heLLoHii234how56are@!%^&You\"\n",
    "i=0\n",
    "sum=0\n",
    "while i<len(st):\n",
    "    if \"0\"<=st[i]<=\"9\":\n",
    "        print(st[i])\n",
    "        sum+=int(st[i])\n",
    "    i+=1\n",
    "print(\"---\")\n",
    "print(sum)\n"
   ]
  },
  {
   "cell_type": "code",
   "execution_count": 2,
   "metadata": {},
   "outputs": [
    {
     "name": "stdout",
     "output_type": "stream",
     "text": [
      "{'h': 0, 'e': 1, 'L': 2, 'o': 4, 'H': 5, 'i': 6, 'w': 13, 'a': 16, 'r': 17, 'Y': 24, 'u': 26}\n"
     ]
    }
   ],
   "source": [
    "#87)WAP to Print First Occurrence of a Character in a String.\n",
    "st=\"heLLoHii234how56are@!%^&You\"\n",
    "i=0\n",
    "res={}\n",
    "while i<len(st):\n",
    "    if \"A\"<=st[i]<=\"Z\" or \"a\"<=st[i]<=\"z\":\n",
    "        if st[i] not in res:\n",
    "            res[st[i]]=i\n",
    "    i+=1\n",
    "print(res)\n"
   ]
  },
  {
   "cell_type": "code",
   "execution_count": 1,
   "metadata": {},
   "outputs": [
    {
     "name": "stdout",
     "output_type": "stream",
     "text": [
      "{'L': 3, 'i': 7, 'h': 11, 'o': 25, 'e': 18}\n"
     ]
    }
   ],
   "source": [
    "#88)WAP to Print Last Occurrence of a Character in a String.\n",
    "st=\"heLLoHii234how56are@!%^&You\"\n",
    "i=0\n",
    "string=\"\"\n",
    "res={}\n",
    "while i<len(st):\n",
    "    if \"A\"<=st[i]<=\"Z\" or \"a\"<=st[i]<=\"z\":\n",
    "        if st[i] not in string:\n",
    "            string+=st[i]\n",
    "        else:\n",
    "            res[st[i]]=i\n",
    "    i+=1\n",
    "print(res)\n",
    "        "
   ]
  },
  {
   "cell_type": "code",
   "execution_count": null,
   "metadata": {},
   "outputs": [],
   "source": [
    "#89)WAP to Print first not Occurrence of a Character in a String.\n",
    "st=\"heLLoHii234how56are@!%^&You\"\n",
    "i=0\n",
    "string=\"\"\n",
    "res={}\n",
    "while i<len(st):\n",
    "    if \"A\"<=st[i]<=\"Z\" or \"a\"<=st[i]<=\"z\":\n",
    "        if st[i] not in string:\n",
    "            string+=st[i]\n",
    "        else:\n",
    "            res[st[i]]=i\n",
    "    i+=1\n",
    "print(res)"
   ]
  },
  {
   "cell_type": "code",
   "execution_count": null,
   "metadata": {},
   "outputs": [],
   "source": [
    "#90)WAP to Print last not Occurrence of a Character in a String.\n",
    "st=\"heLLoHii234how56are@!%^&You\"\n",
    "i=0\n",
    "res={}\n",
    "while i<len(st):\n",
    "    if \"A\"<=st[i]<=\"Z\" or \"a\"<=st[i]<=\"z\":\n",
    "        if st[i] not in res:\n",
    "            res[st[i]]=i\n",
    "    i+=1\n",
    "print(res)"
   ]
  },
  {
   "cell_type": "code",
   "execution_count": 5,
   "metadata": {},
   "outputs": [
    {
     "name": "stdout",
     "output_type": "stream",
     "text": [
      "Li234ho56e@!%^&o\n"
     ]
    }
   ],
   "source": [
    "#91)WAP to Remove First Occurrence of a Character in a String.\n",
    "st=\"heLLoHii234how56are@!%^&You\"\n",
    "i=0\n",
    "res={}\n",
    "l=\"\"\n",
    "while i<len(st):\n",
    "    if \"A\"<=st[i]<=\"Z\" or \"a\"<=st[i]<=\"z\":\n",
    "        if st[i] not in res:\n",
    "            res[st[i]]=i\n",
    "        else:\n",
    "            l+=st[i]\n",
    "    else:\n",
    "        l+=st[i]\n",
    "    i+=1\n",
    "print(l)"
   ]
  },
  {
   "cell_type": "code",
   "execution_count": 4,
   "metadata": {},
   "outputs": [
    {
     "name": "stdout",
     "output_type": "stream",
     "text": [
      "{'L': 3, 'i': 7, 'h': 11, 'o': 25, 'e': 18}\n",
      "heLoHi234w56ar@!%^&Yu\n"
     ]
    }
   ],
   "source": [
    "#92)WAP to Remove Last Occurred Character in a String.\n",
    "st=\"heLLoHii234how56are@!%^&You\"\n",
    "i=0\n",
    "l={}\n",
    "res=\"\"\n",
    "while i<len(st):\n",
    "        if st[i] not in res:\n",
    "            res+=st[i]\n",
    "            \n",
    "        else:\n",
    "            l[st[i]]=i\n",
    "    \n",
    "        i+=1\n",
    "print(l)\n",
    "print(res)"
   ]
  },
  {
   "cell_type": "code",
   "execution_count": null,
   "metadata": {},
   "outputs": [],
   "source": [
    "#93)WAP to count the occurrence of a specific character in a given string.\n",
    "st=\"heLLoHii232how56are@!You\"\n",
    "i=0\n",
    "res={}\n",
    "count=0\n",
    "while i<len(st):\n",
    "    if st[i] not in res:\n",
    "        res[st[i]]=1\n",
    "    else:\n",
    "        res[st[i]]+=1\n",
    "    i+=1\n",
    "print(res)\n"
   ]
  },
  {
   "cell_type": "code",
   "execution_count": null,
   "metadata": {},
   "outputs": [],
   "source": [
    "#94)WAP to count the max occurrence of a character in a given string.\n",
    "st=\"heLLoHii232how56are@!You\"\n",
    "i=0\n",
    "res={}\n",
    "count=0\n",
    "while i<len(st):\n",
    "    if st[i] not in res:\n",
    "        res[st[i]]=1\n",
    "    else:\n",
    "        res[st[i]]+=1\n",
    "    i+=1\n",
    "print(res)\n",
    "\n",
    "d=list(res) # type: ignore\n",
    "max=0\n",
    "ch=\"\"\n",
    "j=0\n",
    "while j<len(d):\n",
    "    if max<res[d[j]]:\n",
    "        max=res[d[j]]\n",
    "        ch=d[j]\n",
    "    j+=1\n",
    "print(ch,max)\n"
   ]
  },
  {
   "cell_type": "code",
   "execution_count": null,
   "metadata": {},
   "outputs": [],
   "source": [
    "#95)WAP to count the min occurrence of a character in a given string.\n",
    "st=\"heLLoHii232how56are@!You\"\n",
    "i=0\n",
    "res={}\n",
    "count=0\n",
    "while i<len(st):\n",
    "    if st[i] not in res:\n",
    "        res[st[i]]=1\n",
    "    else:\n",
    "        res[st[i]]+=1\n",
    "    i+=1\n",
    "print(res)\n",
    "\n",
    "d=list(res) # type: ignore\n",
    "min=res[l[0]]\n",
    "ch=\"\"\n",
    "j=1\n",
    "while j<len(d):\n",
    "    if min>res[d[j]]:\n",
    "        min=res[d[j]]\n",
    "        ch=d[j]\n",
    "    j+=1\n",
    "print(ch,min)"
   ]
  },
  {
   "cell_type": "code",
   "execution_count": null,
   "metadata": {},
   "outputs": [],
   "source": [
    "#96)WAP to count the repeats of a specific character in a given string.\n",
    "st=\"heLLoHii232how56are@!You\"\n",
    "i=0\n",
    "res={}\n",
    "count=0\n",
    "while i<len(st):\n",
    "    if st[i] not in res:\n",
    "        res[st[i]]=1\n",
    "    else:\n",
    "        res[st[i]]+=1\n",
    "    i+=1\n",
    "print(res)"
   ]
  },
  {
   "cell_type": "code",
   "execution_count": null,
   "metadata": {},
   "outputs": [],
   "source": [
    "#97)WAP to count the max  repeated character in a gtven string.\n",
    "st=\"heLLoHii232how56are@!You\"\n",
    "i=0\n",
    "res={}\n",
    "count=0\n",
    "while i<len(st):\n",
    "    if st[i] not in res:\n",
    "        res[st[i]]=1\n",
    "    else:\n",
    "        res[st[i]]+=1\n",
    "    i+=1\n",
    "print(res)\n",
    "\n",
    "d=list(res) # type: ignore\n",
    "max=0\n",
    "ch=\"\"\n",
    "j=0\n",
    "while j<len(d):\n",
    "    if max<res[d[j]]:\n",
    "        max=res[d[j]]\n",
    "        ch=d[j]\n",
    "    j+=1\n",
    "print(f\"{ch} character, with count {max}\")\n"
   ]
  },
  {
   "cell_type": "code",
   "execution_count": null,
   "metadata": {},
   "outputs": [],
   "source": [
    "#98)WAP to count the min repeated character in a given string.\n",
    "st=\"heLLoHiiiii232how56are@!You\"\n",
    "i=0\n",
    "res={}\n",
    "count=0\n",
    "while i<len(st):\n",
    "    if st[i] not in res:\n",
    "        res[st[i]]=1\n",
    "    else:\n",
    "        res[st[i]]+=1\n",
    "    i+=1\n",
    "\n",
    "d=list(res) # type: ignore\n",
    "ref=res[l[0]]\n",
    "ch=\"\"\n",
    "min={}\n",
    "j=1\n",
    "while j<len(d):\n",
    "    if ref>res[d[j]]:\n",
    "        min[d[j]]=res[d[j]]\n",
    "        \n",
    "    j+=1\n",
    "print(f\"character, with count {min}\")"
   ]
  },
  {
   "cell_type": "code",
   "execution_count": null,
   "metadata": {},
   "outputs": [],
   "source": [
    "#99)WAP to replace a specific character into a new character.\n",
    "st=\"heLLoHii232how56are@!You\"\n",
    "i=0\n",
    "select=input(\"select char\")\n",
    "replace=input(\"enter char to replace\")\n",
    "res=\"\"\n",
    "while i<len(st):\n",
    "    if st[i]==select:\n",
    "        res+=replace \n",
    "    else:\n",
    "        res+=st[i]\n",
    "    i+=1\n",
    "print(res)"
   ]
  },
  {
   "cell_type": "code",
   "execution_count": null,
   "metadata": {},
   "outputs": [],
   "source": [
    "#100)WAP to convert lowercase to uppercase in a given string.\n",
    "st=\"jfskdfhsidhlsfkld\"\n",
    "res=\"\"\n",
    "i=0\n",
    "while i<len(st):\n",
    "    if \"a\"<=st[i]<=\"z\":\n",
    "        res+=st[i].upper()\n",
    "    else:\n",
    "        res+=st[i]\n",
    "    i+=1\n",
    "print(res)"
   ]
  },
  {
   "cell_type": "code",
   "execution_count": null,
   "metadata": {},
   "outputs": [],
   "source": [
    "#101)WAP to convert uppercase to lowercase in a given string.\n",
    "st=\"LMKGFLKGKLGWEGJEI\"\n",
    "res=\"\"\n",
    "i=0\n",
    "while i<len(st):\n",
    "    if \"A\"<=st[i]<=\"Z\":\n",
    "        res+=st[i].lower()\n",
    "    else:\n",
    "        res+=st[i]\n",
    "    i+=1\n",
    "print(res)"
   ]
  },
  {
   "cell_type": "code",
   "execution_count": null,
   "metadata": {},
   "outputs": [],
   "source": [
    "#102)WAP to convert uppercase to lowercase in eve.n position characters in a given string.\n",
    "st=\"LMKGFLKGKLGWEGJEI\"\n",
    "res=\"\"\n",
    "i=0\n",
    "while i<len(st):\n",
    "    if \"A\"<=st[i]<=\"Z\":\n",
    "        if i%2==0:\n",
    "            res+=st[i].lower()\n",
    "        else:\n",
    "            if i%2==0:\n",
    "                res+=st[i]\n",
    "    i+=1\n",
    "print(res)"
   ]
  },
  {
   "cell_type": "code",
   "execution_count": null,
   "metadata": {},
   "outputs": [],
   "source": [
    "#103)WAP to convert uppercase to lowercase in odd position characters in a given string.\n",
    "st=\"LMKGFLKGKLGWEGJEI\"\n",
    "res=\"\"\n",
    "i=0\n",
    "while i<len(st):\n",
    "    if \"A\"<=st[i]<=\"Z\":\n",
    "        if i%2!=0:\n",
    "            res+=st[i].lower()\n",
    "        else:\n",
    "            if i%2!=0:\n",
    "                res+=st[i]\n",
    "    i+=1\n",
    "print(res)"
   ]
  },
  {
   "cell_type": "code",
   "execution_count": null,
   "metadata": {},
   "outputs": [],
   "source": [
    "#104)WAP to convert the uppercase letter to lowercase letter and lowercase letter to\n",
    "# uppercase letter,if the character is special symbol replace with * for the given input string.\n",
    "st=\"heLL&^!$#oHii232how56are@!You\"\n",
    "i=0\n",
    "res=\"\"\n",
    "while i<len(st):\n",
    "    if \"a\"<=st[i]<=\"z\":\n",
    "        res+=st[i].upper()\n",
    "    elif \"A\"<=st[i]<=\"Z\":\n",
    "        res+=st[i].lower()\n",
    "    elif not(\"A\"<=st[i]<=\"Z\" or \"a\"<=st[i]<=\"z\" or \"0\"<=st[i]<=\"9\"):\n",
    "        res+=\"*\"\n",
    "    else:\n",
    "        res+=st[i]\n",
    "    i+=1\n",
    "print(res)\n",
    "    "
   ]
  },
  {
   "cell_type": "code",
   "execution_count": null,
   "metadata": {},
   "outputs": [],
   "source": [
    "#105)WAP to convert title case in a given string.\n",
    "st=\"hii hello how are you\"\n",
    "i=1\n",
    "res=\"\"\n",
    "res+=st[0].upper()\n",
    "while i<len(st):\n",
    "    if (\"a\"<=st[i]<=\"z\" or \"A\"<=st[i]<=\"Z\") and st[i-1]==\" \":\n",
    "        res+=st[i].upper() \n",
    "    else:\n",
    "        res+=st[i]\n",
    "    i+=1\n",
    "print(res)"
   ]
  },
  {
   "cell_type": "code",
   "execution_count": null,
   "metadata": {},
   "outputs": [],
   "source": [
    "#106)WAP to convert snake_cease in a given stnng.\n",
    "st=\"hii hello how are you\"\n",
    "i=0\n",
    "res=\"\"\n",
    "\n",
    "while i<len(st):\n",
    "    if st[i]==\" \":\n",
    "        res+=\"_\"\n",
    "    else:\n",
    "        res+=st[i]\n",
    "    i+=1\n",
    "print(res)"
   ]
  },
  {
   "cell_type": "code",
   "execution_count": 1,
   "metadata": {},
   "outputs": [
    {
     "name": "stdout",
     "output_type": "stream",
     "text": [
      "hII hELLO hOW aRE yOU\n"
     ]
    }
   ],
   "source": [
    "#107)WAP to Toggle Characters Case in a String.\n",
    "st=\"hii hello how are you\"\n",
    "i=1\n",
    "res=\"\"\n",
    "res+=st[0].lower()\n",
    "while i<len(st):\n",
    "    if (\"a\"<=st[i]<=\"z\" or \"A\"<=st[i]<=\"Z\") and st[i-1]==\" \":\n",
    "        res+=st[i].lower() \n",
    "    else:\n",
    "        res+=st[i].upper()\n",
    "    i+=1\n",
    "print(res)"
   ]
  },
  {
   "cell_type": "code",
   "execution_count": 8,
   "metadata": {},
   "outputs": [
    {
     "name": "stdout",
     "output_type": "stream",
     "text": [
      "h105105 h101ll111 h111w 97r101 y111117\n",
      "h105105 h101ll111 h111w 97r101 y111117\n"
     ]
    }
   ],
   "source": [
    "#108)WAP to replace vowels into ascii values in a given string.(both with and without temp variable)\n",
    "st=\"hii hello how are you\"\n",
    "i=0\n",
    "temp=\"\"\n",
    "while i<len(st):\n",
    "    if st[i] in \"AEIOUaeiou\":\n",
    "        temp+=str(ord(st[i]))\n",
    "    else:\n",
    "        temp+=st[i]\n",
    "    i+=1\n",
    "print(temp)\n",
    "\n",
    "st=\"hii hello how are you\"\n",
    "i=0\n",
    "while i<len(st):\n",
    "    if st[i] in \"AEIOUaeiou\":\n",
    "        st=st[:i]+str(ord(st[i]))+st[i+1:]\n",
    "    i+=1\n",
    "print(st)"
   ]
  },
  {
   "cell_type": "code",
   "execution_count": 16,
   "metadata": {},
   "outputs": [
    {
     "name": "stdout",
     "output_type": "stream",
     "text": [
      "104ii32104e108108o32104o11932a114e32121ou\n"
     ]
    }
   ],
   "source": [
    "#109)WAP to replace consonants into ascii values in a given string. (both with and without temp variable)\n",
    "st=\"hii hello how are you\"\n",
    "i=0\n",
    "temp=\"\"\n",
    "while i<len(st):\n",
    "    if st[i] not in \"AEIOUaeiou\":\n",
    "        temp+=str(ord(st[i]))\n",
    "    else:\n",
    "        temp+=st[i]\n",
    "    i+=1\n",
    "print(temp)"
   ]
  },
  {
   "cell_type": "code",
   "execution_count": 18,
   "metadata": {},
   "outputs": [
    {
     "name": "stdout",
     "output_type": "stream",
     "text": [
      "hi32hl108o32hw32a114e32yu\n"
     ]
    }
   ],
   "source": [
    "#110)WAP to replace consonants to ascii values in Odd position characters in a given(both With and With temp variable)\n",
    "st=\"hii hello how are you\"\n",
    "i=0\n",
    "temp=\"\"\n",
    "while i<len(st):\n",
    "    if i%2!=0:\n",
    "        if st[i] not in \"AEIOUaeiou\":\n",
    "            temp+=str(ord(st[i]))\n",
    "    else:\n",
    "        temp+=st[i]\n",
    "    i+=1\n",
    "print(temp)"
   ]
  },
  {
   "cell_type": "code",
   "execution_count": 22,
   "metadata": {},
   "outputs": [
    {
     "name": "stdout",
     "output_type": "stream",
     "text": [
      "hi105 hell111 how 97r101 yo117\n",
      "hi105 hell111 how 97re y111u\n"
     ]
    }
   ],
   "source": [
    "#111)WAP to replace vowels to aseii values in even position characters in a given string. (both with and with temp variable)\n",
    "st=\"hii hello how are you\"\n",
    "i=0\n",
    "temp=\"\"\n",
    "while i<len(st):\n",
    "    if st[i] in \"AEIOUaeiou\":\n",
    "        if i%2==0:\n",
    "            temp+=str(ord(st[i]))\n",
    "        else:\n",
    "            temp+=st[i]\n",
    "    else:\n",
    "        temp+=st[i]\n",
    "    i+=1\n",
    "print(temp)\n",
    "\n",
    "st=\"hii hello how are you\"\n",
    "i=0\n",
    "while i<len(st):\n",
    "    if st[i] in \"AEIOUaeiou\":\n",
    "        if i%2==0:\n",
    "            st=st[:i]+str(ord(st[i]))+st[i+1:]\n",
    "        \n",
    "    i+=1\n",
    "print(st)"
   ]
  },
  {
   "cell_type": "code",
   "execution_count": 24,
   "metadata": {},
   "outputs": [
    {
     "name": "stdout",
     "output_type": "stream",
     "text": [
      "hii-hello-how-are-you\n",
      "hii-hello-how-are-you\n"
     ]
    }
   ],
   "source": [
    "#112)WAP to Replace white Spaces with Hyphen in a String.(both with and with temp variable)\n",
    "st=\"hii hello how are you\"\n",
    "i=0\n",
    "res=\"\"\n",
    "while i<len(st):\n",
    "    if st[i]==\" \":\n",
    "        res+=\"-\"\n",
    "    else:\n",
    "        res+=st[i]\n",
    "    i+=1\n",
    "print(res)\n",
    "\n",
    "st=\"hii hello how are you\"\n",
    "i=0\n",
    "while i<len(st):\n",
    "    if st[i]==\" \":\n",
    "        st=st[:i]+\"-\"+st[i+1:]\n",
    "    i+=1\n",
    "print(st)"
   ]
  },
  {
   "cell_type": "code",
   "execution_count": 36,
   "metadata": {},
   "outputs": [
    {
     "name": "stdout",
     "output_type": "stream",
     "text": [
      "hihlohwaeyu\n"
     ]
    }
   ],
   "source": [
    "#113)WAP to Remove Odd position Characters in a given String.\n",
    "st=\"hii hello how are you\"\n",
    "i=0\n",
    "temp=\"\"\n",
    "while i<len(st):\n",
    "    if i%2!=0:\n",
    "        temp+=\"\"\n",
    "    else:\n",
    "        temp+=st[i]\n",
    "    i+=1\n",
    "print(temp)"
   ]
  },
  {
   "cell_type": "code",
   "execution_count": 37,
   "metadata": {},
   "outputs": [
    {
     "name": "stdout",
     "output_type": "stream",
     "text": [
      "i el o r o\n"
     ]
    }
   ],
   "source": [
    "#114)WAP to Remove even position Characters in a given String.\n",
    "st=\"hii hello how are you\"\n",
    "i=0\n",
    "temp=\"\"\n",
    "while i<len(st):\n",
    "    if i%2==0:\n",
    "        temp+=\"\"\n",
    "    else:\n",
    "        temp+=st[i]\n",
    "    i+=1\n",
    "print(temp)"
   ]
  },
  {
   "cell_type": "code",
   "execution_count": 38,
   "metadata": {},
   "outputs": [
    {
     "name": "stdout",
     "output_type": "stream",
     "text": [
      "445@$& 11!(& 235 786 464&^$\n"
     ]
    }
   ],
   "source": [
    "#115)WAP to Remove alphabets in a given String.\n",
    "st=\"hi445@$&i he11!(&llo h235ow are786 y464&^$fghfou\"\n",
    "i=0\n",
    "temp=\"\"\n",
    "while i<len(st):\n",
    "    if \"a\"<=st[i]<=\"z\" or \"A\"<=st[i]<=\"Z\":\n",
    "        temp+=\"\"\n",
    "    else:\n",
    "        temp+=st[i]\n",
    "    i+=1\n",
    "print(temp)"
   ]
  },
  {
   "cell_type": "code",
   "execution_count": 39,
   "metadata": {},
   "outputs": [
    {
     "name": "stdout",
     "output_type": "stream",
     "text": [
      "hi@$&i he!(&llo how are y&^$fghfou\n"
     ]
    }
   ],
   "source": [
    "#116)WAP to Remove ascii numbers in a given String.\n",
    "st=\"hi445@$&i he11!(&llo h235ow are786 y464&^$fghfou\"\n",
    "i=0\n",
    "temp=\"\"\n",
    "while i<len(st):\n",
    "    if \"0\"<=st[i]<=\"9\":\n",
    "        temp+=\"\"\n",
    "    else:\n",
    "        temp+=st[i]\n",
    "    i+=1\n",
    "print(temp)"
   ]
  },
  {
   "cell_type": "code",
   "execution_count": 40,
   "metadata": {},
   "outputs": [
    {
     "name": "stdout",
     "output_type": "stream",
     "text": [
      "hi445ihe11lloh235oware786y464fghfou\n"
     ]
    }
   ],
   "source": [
    "#117)WAP to Remove special characters in a given String.\n",
    "st=\"hi445@$&i he11!(&llo h235ow are786 y464&^$fghfou\"\n",
    "i=0\n",
    "temp=\"\"\n",
    "while i<len(st):\n",
    "    if not(\"A\"<=st[i]<=\"Z\" or \"a\"<=st[i]<=\"z\" or \"0\"<=st[i]<=\"9\"):\n",
    "        temp+=\"\"\n",
    "    else:\n",
    "        temp+=st[i]\n",
    "    i+=1\n",
    "print(temp)"
   ]
  },
  {
   "cell_type": "code",
   "execution_count": 42,
   "metadata": {},
   "outputs": [
    {
     "name": "stdout",
     "output_type": "stream",
     "text": [
      "madam is palindrome\n"
     ]
    }
   ],
   "source": [
    "#118)WAP to check if the given string is Palindrome or Not.\n",
    "st=\"madam\"\n",
    "i=0\n",
    "temp=\"\"\n",
    "while i<len(st):\n",
    "    temp+=st[i][-1]\n",
    "    i+=1\n",
    "if temp==st:\n",
    "    print(temp,\"is palindrome\")"
   ]
  },
  {
   "cell_type": "code",
   "execution_count": 46,
   "metadata": {},
   "outputs": [
    {
     "name": "stdout",
     "output_type": "stream",
     "text": [
      "given string is  lowercase\n"
     ]
    }
   ],
   "source": [
    "#119)WAP to check whether the grven string is lowercase or not.\n",
    "st=\"dljosdwofdmvsdnvwlvmdvn\"\n",
    "i=0\n",
    "count=0\n",
    "while i<len(st):\n",
    "    if \"A\"<=st[i]<=\"Z\":\n",
    "        count+=1\n",
    "    i+=1\n",
    "if count==0:\n",
    "    print(\"given string is  lowercase\")\n",
    "else:\n",
    "    print(\"given string is not lowercase\")\n",
    "        \n",
    "        \n"
   ]
  },
  {
   "cell_type": "code",
   "execution_count": 47,
   "metadata": {},
   "outputs": [
    {
     "name": "stdout",
     "output_type": "stream",
     "text": [
      "given number is  string\n"
     ]
    }
   ],
   "source": [
    "#120)WAP to check whether the given number is string or not.\n",
    "st=\"3534552952785\"\n",
    "i=0\n",
    "count=0\n",
    "while i<len(st):\n",
    "    if type(st[i]) is not(str):\n",
    "        count+=1\n",
    "    i+=1\n",
    "if count==0:\n",
    "    print(\"given number is  string\")\n",
    "else:\n",
    "    print(\"given number is not  string\")"
   ]
  },
  {
   "cell_type": "code",
   "execution_count": 1,
   "metadata": {},
   "outputs": [
    {
     "name": "stdout",
     "output_type": "stream",
     "text": [
      "eoo123aii\n"
     ]
    }
   ],
   "source": [
    "#121)i/p: 'hello world 123 haii'\n",
    "#o/p:'eoo123aii\n",
    "st=\"hello world 123 haii\"\n",
    "i=0\n",
    "res=\"\"\n",
    "while i<len(st):\n",
    "    if st[i] in \"AEIOUaeiou\" or \"0\"<=st[i]<=\"9\":\n",
    "        res+=st[i]\n",
    "    i+=1\n",
    "print(res)"
   ]
  },
  {
   "cell_type": "code",
   "execution_count": 2,
   "metadata": {},
   "outputs": [
    {
     "name": "stdout",
     "output_type": "stream",
     "text": [
      "eo o 123 aii\n"
     ]
    }
   ],
   "source": [
    "#122)i/p: 'hello world 123 haii'\n",
    "#o/p :eo o 123 aii\n",
    "st=\"hello world 123 haii\"\n",
    "i=0\n",
    "res=\"\"\n",
    "while i<len(st):\n",
    "    if st[i] in \"AEIOUaeiou\" or \"0\"<=st[i]<=\"9\" or not(\"A\"<=st[i]<=\"Z\" or \"a\"<=st[i]<=\"z\"):\n",
    "        res+=st[i]\n",
    "    i+=1\n",
    "print(res)"
   ]
  },
  {
   "cell_type": "code",
   "execution_count": 4,
   "metadata": {},
   "outputs": [
    {
     "name": "stdout",
     "output_type": "stream",
     "text": [
      "eo o  aii\n"
     ]
    }
   ],
   "source": [
    "#123)i/p: 'hello world 123 haii'\n",
    "#o/p: eo o aii\n",
    "st=\"hello world 123 haii\"\n",
    "i=0\n",
    "res=\"\"\n",
    "while i<len(st):\n",
    "    if st[i] in \"AEIOUaeiou\" or  not(\"a\"<=st[i]<=\"z\" or \"A\"<=st[i]<=\"Z\" or \"0\"<=st[i]<=\"9\"):\n",
    "        res+=st[i]\n",
    "    i+=1\n",
    "print(res)"
   ]
  },
  {
   "cell_type": "code",
   "execution_count": 37,
   "metadata": {},
   "outputs": [
    {
     "name": "stdout",
     "output_type": "stream",
     "text": [
      "5\n",
      "hll  world 123 haii\n"
     ]
    }
   ],
   "source": [
    "#124)i/p: 'hello world 123 haii'\n",
    "#o/p: 'hll world haii\n",
    "st=\"hello world 123 haii\"\n",
    "i=0\n",
    "res=\"\"\n",
    "while i<len(st):\n",
    "    if st[i]==\" \" :\n",
    "        print(i)\n",
    "        break\n",
    "    i+=1\n",
    "j=0\n",
    "while j<=i:\n",
    "    if st[j] not in \"AEIOUaeiou\":\n",
    "            res+=st[j]\n",
    "    j+=1\n",
    "res=res+st[i:]\n",
    "print(res)"
   ]
  },
  {
   "cell_type": "code",
   "execution_count": 42,
   "metadata": {},
   "outputs": [
    {
     "name": "stdout",
     "output_type": "stream",
     "text": [
      "hll wrld\n",
      "eoo\n"
     ]
    }
   ],
   "source": [
    "#125)i/p:'hello world'\n",
    "#o/p: 'hll wrld'\n",
    "#o/p: 'eoo'\n",
    "st=\"hello world\"\n",
    "i=0\n",
    "res=\"\"\n",
    "while i<len(st):\n",
    "    if st[i] not in \"AEIOUaeiou\" :\n",
    "        res+=st[i]\n",
    "    i+=1\n",
    "print(res)\n",
    "\n",
    "st=\"hello world\"\n",
    "i=0\n",
    "res=\"\"\n",
    "while i<len(st):\n",
    "    if st[i] in \"AEIOUaeiou\" :\n",
    "        res+=st[i]\n",
    "    i+=1\n",
    "print(res)"
   ]
  },
  {
   "cell_type": "code",
   "execution_count": 69,
   "metadata": {},
   "outputs": [
    {
     "name": "stdout",
     "output_type": "stream",
     "text": [
      "hll wrld\n",
      "eoo\n",
      "12344\n"
     ]
    }
   ],
   "source": [
    "#126)i/p: '12hello3 4world4'\n",
    "#o/p: 'hll wrld'\n",
    "#o/p: 'eoo'\n",
    "#o/p: '12344'\n",
    "st=\"12hello3 4world4\"\n",
    "i=0\n",
    "res=\"\"\n",
    "while i<len(st):\n",
    "    if st[i] not in \"AEIOUaeiou\" and not(\"0\"<=st[i]<=\"9\") :\n",
    "        res+=st[i]\n",
    "    i+=1\n",
    "print(res)\n",
    "\n",
    "st=\"12hello3 4world4\"\n",
    "i=0\n",
    "res=\"\"\n",
    "while i<len(st):\n",
    "    if st[i] in \"AEIOUaeiou\" :\n",
    "        res+=st[i]\n",
    "    i+=1\n",
    "print(res)\n",
    "\n",
    "st=\"12hello3 4world4\"\n",
    "i=0\n",
    "res=\"\"\n",
    "while i<len(st):\n",
    "    if (\"0\"<=st[i]<=\"9\"):\n",
    "        res+=st[i]\n",
    "    i+=1\n",
    "print(res)"
   ]
  },
  {
   "cell_type": "code",
   "execution_count": 84,
   "metadata": {},
   "outputs": [
    {
     "name": "stdout",
     "output_type": "stream",
     "text": [
      "hllwrld\n",
      "eoo\n",
      "12344\n",
      "(*$ $#*)\n"
     ]
    }
   ],
   "source": [
    "#127)i/p: '(*12hello3$ $4#world4*)'\n",
    "#o/p: 'hllwrld'\n",
    "#o/p: 'eoo'\n",
    "#o/p: '12344'\n",
    "#o/p: '(*$ $#*)'\n",
    "st=\"(*12hello3$ $4#world4*)\"\n",
    "i=0\n",
    "res=\"\"\n",
    "while i<len(st):\n",
    "    if st[i] not in \"AEIOUaeiou\" and ( \"a\"<=st[i]<=\"z\" or \"A\"<=st[i]<=\"Z\"):\n",
    "        res+=st[i]\n",
    "    i+=1\n",
    "print(res)\n",
    "\n",
    "st=\"(*12hello3$ $4#world4*)\"\n",
    "i=0\n",
    "res=\"\"\n",
    "while i<len(st):\n",
    "    if st[i] in \"AEIOUaeiou\" :\n",
    "        res+=st[i]\n",
    "    i+=1\n",
    "print(res)\n",
    "\n",
    "st=\"(*12hello3$ $4#world4*)\"\n",
    "i=0\n",
    "res=\"\"\n",
    "while i<len(st):\n",
    "    if (\"0\"<=st[i]<=\"9\"):\n",
    "        res+=st[i]\n",
    "    i+=1\n",
    "print(res)\n",
    "\n",
    "st=\"(*12hello3$ $4#world4*)\"\n",
    "i=0\n",
    "res=\"\"\n",
    "while i<len(st):\n",
    "    if st[i] not in \"AEIOUaeiou\" and not(\"0\"<=st[i]<=\"9\" or \"a\"<=st[i]<=\"z\" or \"A\"<=st[i]<=\"Z\") :\n",
    "        res+=st[i]\n",
    "    i+=1\n",
    "print(res)\n"
   ]
  },
  {
   "cell_type": "code",
   "execution_count": 91,
   "metadata": {},
   "outputs": [
    {
     "name": "stdout",
     "output_type": "stream",
     "text": [
      "hllwrld\n",
      "eoo\n",
      "12344\n",
      "(*$ $#*)\n",
      ")*#$ $*(,44321,ooe,dlrwllh\n"
     ]
    }
   ],
   "source": [
    "#128)i/p; '(*12hello3$ $4#world4*)\n",
    "#o/p: ')*#$ $*(,44321,ooe,dlrwllh'\n",
    "st=\"(*12hello3$ $4#world4*)\"\n",
    "i=0\n",
    "res=\"\"\n",
    "while i<len(st):\n",
    "    if st[i] not in \"AEIOUaeiou\" and ( \"a\"<=st[i]<=\"z\" or \"A\"<=st[i]<=\"Z\"):\n",
    "        res+=st[i]\n",
    "    i+=1\n",
    "print(res)\n",
    "\n",
    "st=\"(*12hello3$ $4#world4*)\"\n",
    "i=0\n",
    "res1=\"\"\n",
    "while i<len(st):\n",
    "    if st[i] in \"AEIOUaeiou\" :\n",
    "        res1+=st[i]\n",
    "    i+=1\n",
    "print(res1)\n",
    "\n",
    "st=\"(*12hello3$ $4#world4*)\"\n",
    "i=0\n",
    "res2=\"\"\n",
    "while i<len(st):\n",
    "    if (\"0\"<=st[i]<=\"9\"):\n",
    "        res2+=st[i]\n",
    "    i+=1\n",
    "print(res2)\n",
    "\n",
    "st=\"(*12hello3$ $4#world4*)\"\n",
    "i=0\n",
    "res3=\"\"\n",
    "while i<len(st):\n",
    "    if st[i] not in \"AEIOUaeiou\" and not(\"0\"<=st[i]<=\"9\" or \"a\"<=st[i]<=\"z\" or \"A\"<=st[i]<=\"Z\") :\n",
    "        res3+=st[i]\n",
    "    i+=1\n",
    "print(res3)\n",
    "\n",
    "print(f\"{res3[::-1]},{res2[::-1]},{res1[::-1]},{res[::-1]}\")\n"
   ]
  },
  {
   "cell_type": "code",
   "execution_count": 93,
   "metadata": {},
   "outputs": [
    {
     "name": "stdout",
     "output_type": "stream",
     "text": [
      "hllwrld\n",
      "eoo\n",
      "12344\n",
      "(*$ $#*)\n",
      "hllwrld,eoo,12344,(*$ $#*)\n"
     ]
    }
   ],
   "source": [
    "#129)i/p; '(*12hello3$ $4#world4*)\n",
    "#o/p: 'hllwrld,eoo,12344,(*$ $#*)'\n",
    "st=\"(*12hello3$ $4#world4*)\"\n",
    "i=0\n",
    "res=\"\"\n",
    "while i<len(st):\n",
    "    if st[i] not in \"AEIOUaeiou\" and ( \"a\"<=st[i]<=\"z\" or \"A\"<=st[i]<=\"Z\"):\n",
    "        res+=st[i]\n",
    "    i+=1\n",
    "print(res)\n",
    "\n",
    "st=\"(*12hello3$ $4#world4*)\"\n",
    "i=0\n",
    "res1=\"\"\n",
    "while i<len(st):\n",
    "    if st[i] in \"AEIOUaeiou\" :\n",
    "        res1+=st[i]\n",
    "    i+=1\n",
    "print(res1)\n",
    "\n",
    "st=\"(*12hello3$ $4#world4*)\"\n",
    "i=0\n",
    "res2=\"\"\n",
    "while i<len(st):\n",
    "    if (\"0\"<=st[i]<=\"9\"):\n",
    "        res2+=st[i]\n",
    "    i+=1\n",
    "print(res2)\n",
    "\n",
    "st=\"(*12hello3$ $4#world4*)\"\n",
    "i=0\n",
    "res3=\"\"\n",
    "while i<len(st):\n",
    "    if st[i] not in \"AEIOUaeiou\" and not(\"0\"<=st[i]<=\"9\" or \"a\"<=st[i]<=\"z\" or \"A\"<=st[i]<=\"Z\") :\n",
    "        res3+=st[i]\n",
    "    i+=1\n",
    "print(res3)\n",
    "\n",
    "print(f\"{res},{res1},{res2},{res3}\")"
   ]
  },
  {
   "cell_type": "code",
   "execution_count": 98,
   "metadata": {},
   "outputs": [
    {
     "name": "stdout",
     "output_type": "stream",
     "text": [
      "hllwrld\n",
      "eoo\n",
      "12344\n",
      "(*$ $#*)\n",
      ",hllwrld,)*#$ $*(,eoo,44321\n"
     ]
    }
   ],
   "source": [
    "#130)i/p; '(*12hello3$ $4#world4*)\n",
    "#o/p: 'hllwrld,)*#$ $*(,eoo,44321,'\n",
    "st=\"(*12hello3$ $4#world4*)\"\n",
    "i=0\n",
    "res=\"\"\n",
    "while i<len(st):\n",
    "    if st[i] not in \"AEIOUaeiou\" and ( \"a\"<=st[i]<=\"z\" or \"A\"<=st[i]<=\"Z\"):\n",
    "        res+=st[i]\n",
    "    i+=1\n",
    "print(res)\n",
    "\n",
    "st=\"(*12hello3$ $4#world4*)\"\n",
    "i=0\n",
    "res1=\"\"\n",
    "while i<len(st):\n",
    "    if st[i] in \"AEIOUaeiou\" :\n",
    "        res1+=st[i]\n",
    "    i+=1\n",
    "print(res1)\n",
    "\n",
    "st=\"(*12hello3$ $4#world4*)\"\n",
    "i=0\n",
    "res2=\"\"\n",
    "while i<len(st):\n",
    "    if (\"0\"<=st[i]<=\"9\"):\n",
    "        res2+=st[i]\n",
    "    i+=1\n",
    "print(res2)\n",
    "\n",
    "st=\"(*12hello3$ $4#world4*)\"\n",
    "i=0\n",
    "res3=\"\"\n",
    "while i<len(st):\n",
    "    if st[i] not in \"AEIOUaeiou\" and not(\"0\"<=st[i]<=\"9\" or \"a\"<=st[i]<=\"z\" or \"A\"<=st[i]<=\"Z\") :\n",
    "        res3+=st[i]\n",
    "    i+=1\n",
    "print(res3)\n",
    "\n",
    "print(f\",{res},{res3[::-1]},{res1},{res2[::-1]}\")"
   ]
  },
  {
   "cell_type": "code",
   "execution_count": 102,
   "metadata": {},
   "outputs": [
    {
     "name": "stdout",
     "output_type": "stream",
     "text": [
      "hllwrld\n",
      "eoo\n",
      "12344\n",
      "(*$ $#*)\n",
      ")*#$ $*(,44321,ooe,dlrwllh\n"
     ]
    }
   ],
   "source": [
    "#131)i/p; '(*12hello3$ $4#world4*)\n",
    "#o/p: )*#$ $*(,44321,ooe,dlrwllh'\n",
    "st=\"(*12hello3$ $4#world4*)\"\n",
    "i=0\n",
    "res=\"\"\n",
    "while i<len(st):\n",
    "    if st[i] not in \"AEIOUaeiou\" and ( \"a\"<=st[i]<=\"z\" or \"A\"<=st[i]<=\"Z\"):\n",
    "        res+=st[i]\n",
    "    i+=1\n",
    "print(res)\n",
    "\n",
    "st=\"(*12hello3$ $4#world4*)\"\n",
    "i=0\n",
    "res1=\"\"\n",
    "while i<len(st):\n",
    "    if st[i] in \"AEIOUaeiou\" :\n",
    "        res1+=st[i]\n",
    "    i+=1\n",
    "print(res1)\n",
    "\n",
    "st=\"(*12hello3$ $4#world4*)\"\n",
    "i=0\n",
    "res2=\"\"\n",
    "while i<len(st):\n",
    "    if (\"0\"<=st[i]<=\"9\"):\n",
    "        res2+=st[i]\n",
    "    i+=1\n",
    "print(res2)\n",
    "\n",
    "st=\"(*12hello3$ $4#world4*)\"\n",
    "i=0\n",
    "res3=\"\"\n",
    "while i<len(st):\n",
    "    if st[i] not in \"AEIOUaeiou\" and not(\"0\"<=st[i]<=\"9\" or \"a\"<=st[i]<=\"z\" or \"A\"<=st[i]<=\"Z\") :\n",
    "        res3+=st[i]\n",
    "    i+=1\n",
    "print(res3)\n",
    "\n",
    "print(f\"{res3[::-1]},{res2[::-1]},{res1[::-1]},{res[::-1]}\")"
   ]
  },
  {
   "cell_type": "code",
   "execution_count": 107,
   "metadata": {},
   "outputs": [
    {
     "name": "stdout",
     "output_type": "stream",
     "text": [
      "hllwrld\n",
      "eoo\n",
      "12344\n",
      "(*$ $#*)\n",
      "dlrwllh)*#$ $*(ooe44321\n"
     ]
    }
   ],
   "source": [
    "#132)i/p; '(*12hello3$ $4#world4*)\n",
    "#o/p: dlrwllh,)*#$ $*(ooe44321'\n",
    "st=\"(*12hello3$ $4#world4*)\"\n",
    "i=0\n",
    "res=\"\"\n",
    "while i<len(st):\n",
    "    if st[i] not in \"AEIOUaeiou\" and ( \"a\"<=st[i]<=\"z\" or \"A\"<=st[i]<=\"Z\"):\n",
    "        res+=st[i]\n",
    "    i+=1\n",
    "print(res)\n",
    "\n",
    "st=\"(*12hello3$ $4#world4*)\"\n",
    "i=0\n",
    "res1=\"\"\n",
    "while i<len(st):\n",
    "    if st[i] in \"AEIOUaeiou\" :\n",
    "        res1+=st[i]\n",
    "    i+=1\n",
    "print(res1)\n",
    "\n",
    "st=\"(*12hello3$ $4#world4*)\"\n",
    "i=0\n",
    "res2=\"\"\n",
    "while i<len(st):\n",
    "    if (\"0\"<=st[i]<=\"9\"):\n",
    "        res2+=st[i]\n",
    "    i+=1\n",
    "print(res2)\n",
    "\n",
    "st=\"(*12hello3$ $4#world4*)\"\n",
    "i=0\n",
    "res3=\"\"\n",
    "while i<len(st):\n",
    "    if st[i] not in \"AEIOUaeiou\" and not(\"0\"<=st[i]<=\"9\" or \"a\"<=st[i]<=\"z\" or \"A\"<=st[i]<=\"Z\") :\n",
    "        res3+=st[i]\n",
    "    i+=1\n",
    "print(res3)\n",
    "\n",
    "print(f\"{res[::-1]}{res3[::-1]}{res1[::-1]}{res2[::-1]}\")"
   ]
  },
  {
   "cell_type": "code",
   "execution_count": 113,
   "metadata": {},
   "outputs": [
    {
     "name": "stdout",
     "output_type": "stream",
     "text": [
      "h$ll*w*rld\n"
     ]
    }
   ],
   "source": [
    "#133)i/p: 'HELLOWORLD'\n",
    "#o/p:'h$ll*w*rld'\n",
    "st=\"HELLOWORLD\"\n",
    "i=0\n",
    "res=\"\"\n",
    "while i<len(st):\n",
    "    if st[i]==\"E\":\n",
    "        res+=\"$\"\n",
    "    elif st[i]==\"O\":\n",
    "        res+=\"*\"\n",
    "    else:\n",
    "        res+=st[i].lower()\n",
    "    i+=1\n",
    "print(res)\n"
   ]
  },
  {
   "cell_type": "code",
   "execution_count": 163,
   "metadata": {},
   "outputs": [
    {
     "name": "stdout",
     "output_type": "stream",
     "text": [
      "hllwrld21\n"
     ]
    }
   ],
   "source": [
    "#134)i/p: '123HELLO WORLD456'\n",
    "#o/p: 'hllwrld21'\n",
    "st=\"123HELLO WORLD456\"\n",
    "i=0\n",
    "res=\"\"\n",
    "while i<len(st):\n",
    "    if st[i] not in \"AEIOUaeiou\" and ( \"a\"<=st[i]<=\"z\" or \"A\"<=st[i]<=\"Z\"):\n",
    "        res+=st[i].lower()\n",
    "    i+=1\n",
    "res=res+st[1::-1]\n",
    "print(res)\n"
   ]
  },
  {
   "cell_type": "code",
   "execution_count": null,
   "metadata": {},
   "outputs": [],
   "source": [
    "#135)i/p: '123HELLO WORLD456'\n",
    "#o/p: '123hELLO wOrld456'"
   ]
  }
 ],
 "metadata": {
  "kernelspec": {
   "display_name": "Python 3",
   "language": "python",
   "name": "python3"
  },
  "language_info": {
   "codemirror_mode": {
    "name": "ipython",
    "version": 3
   },
   "file_extension": ".py",
   "mimetype": "text/x-python",
   "name": "python",
   "nbconvert_exporter": "python",
   "pygments_lexer": "ipython3",
   "version": "3.10.11"
  },
  "orig_nbformat": 4
 },
 "nbformat": 4,
 "nbformat_minor": 2
}
