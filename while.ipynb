{
 "cells": [
  {
   "cell_type": "code",
   "execution_count": null,
   "metadata": {},
   "outputs": [],
   "source": [
    "#1)WAP to print the \"hello world\" for 5 times by uiing a while loop.\n",
    "a=1\n",
    "while a<=5:\n",
    "    print(\"hello world\")\n",
    "    a+=1"
   ]
  },
  {
   "cell_type": "code",
   "execution_count": null,
   "metadata": {},
   "outputs": [],
   "source": [
    "#2)WAP to print the number from I to 1O by using a while loop.\n",
    "a=1\n",
    "while a<=10:\n",
    "    print(a)\n",
    "    a+=1"
   ]
  },
  {
   "cell_type": "code",
   "execution_count": null,
   "metadata": {},
   "outputs": [],
   "source": [
    "#3)WAP to print the natural number I to nth tames by using a while loop. \n",
    "a=1\n",
    "b=int(input(\"enter nth number\"))\n",
    "while a<=b:\n",
    "    print(a)\n",
    "    a+=1"
   ]
  },
  {
   "cell_type": "code",
   "execution_count": null,
   "metadata": {},
   "outputs": [],
   "source": [
    "#WAP to print the reverse of the natural number nth to O times by using a While loop.\n",
    "start=int(input(\"enter nth numer\"))\n",
    "end=1\n",
    "while start>=end:\n",
    "    print(start)\n",
    "    start-=1\n",
    "    "
   ]
  },
  {
   "cell_type": "code",
   "execution_count": null,
   "metadata": {},
   "outputs": [],
   "source": [
    "#5)WAP to print the whole number until nth time by using a while loop.\n",
    "start=0\n",
    "end=int(input(\"enter nth numer\"))\n",
    "while start<=end:\n",
    "    print(start)\n",
    "    start+=1\n"
   ]
  },
  {
   "cell_type": "code",
   "execution_count": null,
   "metadata": {},
   "outputs": [],
   "source": [
    "#6)WAP to print the reverse of the whole number until nth times by using a While loop.\n",
    "start=int(input(\"enter nth numer\"))\n",
    "end=0\n",
    "while start>=end:\n",
    "    print(start)\n",
    "    start-=1"
   ]
  },
  {
   "cell_type": "code",
   "execution_count": null,
   "metadata": {},
   "outputs": [],
   "source": [
    "#7)WAP to print the even number until nth times by using a while loop.\n",
    "start=1\n",
    "end=int(input(\"enter nth numer\"))\n",
    "while start<=end:\n",
    "    if start%2==0:\n",
    "        print(start)\n",
    "    start+=1\n"
   ]
  },
  {
   "cell_type": "code",
   "execution_count": null,
   "metadata": {},
   "outputs": [],
   "source": [
    "#8)WAP to print reserve the even number until nthtimes by using While loop.\n",
    "start=int(input(\"enter nth numer\"))\n",
    "end=1\n",
    "while start>=end:\n",
    "    if start%2==0:\n",
    "        print(start)\n",
    "    start-=1"
   ]
  },
  {
   "cell_type": "code",
   "execution_count": null,
   "metadata": {},
   "outputs": [],
   "source": [
    "#9)WAP to print the odd number until nth times by using while loop.\n",
    "start=1\n",
    "end=int(input(\"enter nth numer\"))\n",
    "while start<=end:\n",
    "    if start%2!=0:\n",
    "        print(start)\n",
    "    start+=1\n"
   ]
  },
  {
   "cell_type": "code",
   "execution_count": null,
   "metadata": {},
   "outputs": [],
   "source": [
    "#10)WAP to print reverse the odd number until nth times by using a while loop.\n",
    "start=int(input(\"enter nth numer\"))\n",
    "end=1\n",
    "while start>=end:\n",
    "    if start%2!=0:\n",
    "        print(start)\n",
    "    start-=1\n"
   ]
  },
  {
   "cell_type": "code",
   "execution_count": null,
   "metadata": {},
   "outputs": [],
   "source": [
    "#11)WAP to print the nth table 1 to 20, format ---> 5*1=5 to 5*20=100\n",
    "a=5\n",
    "i=1\n",
    "while i<=20:\n",
    "    t=a*i\n",
    "    print(f\"{a} * {i} = {t}\")\n",
    "    i+=1\n",
    "    "
   ]
  },
  {
   "cell_type": "code",
   "execution_count": null,
   "metadata": {},
   "outputs": [],
   "source": [
    "#12)WAP to print the nth table 20 to 1, format --->  5*20=100 to 5*1=5.\n",
    "a=5\n",
    "i=20\n",
    "while i>=1:\n",
    "    t=a*i\n",
    "    print(f\"{a} * {i} = {t}\")\n",
    "    i-=1"
   ]
  },
  {
   "cell_type": "code",
   "execution_count": null,
   "metadata": {},
   "outputs": [],
   "source": [
    "#13)WAP to print the numbers which are divisible by 3 from 25 to 66.\n",
    "a=25\n",
    "b=66\n",
    "while a<=b:\n",
    "    if a%3==0:\n",
    "        print (a,end=\" \")\n",
    "    a+=1"
   ]
  },
  {
   "cell_type": "code",
   "execution_count": null,
   "metadata": {},
   "outputs": [],
   "source": [
    "#14)WAP to print the numbers which are divisible by 3 and 5 from 15 to 76.\n",
    "a=15\n",
    "b=76\n",
    "while a<=b:\n",
    "    if a%3==0 and a%5==0:\n",
    "        print (a,end=\" \")\n",
    "    a+=1"
   ]
  },
  {
   "cell_type": "code",
   "execution_count": null,
   "metadata": {},
   "outputs": [],
   "source": [
    "#15)WAP to print the numbers which are divisible by 5 and 7 from 77 to 22.\n",
    "a=77\n",
    "b=22\n",
    "while a>=b:\n",
    "    if a%5==0 and a%7==0:\n",
    "        print (a,end=\" \")\n",
    "    a-=1"
   ]
  },
  {
   "cell_type": "code",
   "execution_count": null,
   "metadata": {},
   "outputs": [],
   "source": [
    "#16)WAP to print the 'I love you\" if value is divisible by 3, or print \"hate you\" if value is divisible By 5.\n",
    "# to print \"i like you \" if value  divisible  by 3 and 5 from I Io 30.\n",
    "a=1\n",
    "b=30\n",
    "while a<=b:\n",
    "    if a%3==0 and a%5==0:\n",
    "        print(a,\"i like you\")\n",
    "    elif a%5==0:\n",
    "        print(a,\"i hate you\")\n",
    "    elif a%3==0 :\n",
    "        print(a,\"i love you\")\n",
    "    a+=1"
   ]
  },
  {
   "cell_type": "code",
   "execution_count": null,
   "metadata": {},
   "outputs": [],
   "source": [
    "#17)wap to print sum of the 1 to nth natural numbers\n",
    "a=1\n",
    "sum=0\n",
    "b=int(input(\"enter nth number\"))\n",
    "while a<=b:\n",
    "    sum+=a\n",
    "    a+=1\n",
    "print(sum)\n",
    "    "
   ]
  },
  {
   "cell_type": "code",
   "execution_count": null,
   "metadata": {},
   "outputs": [],
   "source": [
    "#18)wap to print sum of the even numbers from 1 to 20\n",
    "a=1\n",
    "sum=0\n",
    "while a<=20:\n",
    "    if(a%2==0):\n",
    "        sum+=a\n",
    "    a+=1\n",
    "print(sum)"
   ]
  },
  {
   "cell_type": "code",
   "execution_count": null,
   "metadata": {},
   "outputs": [],
   "source": [
    "#19)wap to print product of 1 to 6 numbers\n",
    "a=1\n",
    "prod=1\n",
    "b=6\n",
    "while a<=b:\n",
    "    prod*=a\n",
    "    a+=1\n",
    "print(prod)"
   ]
  },
  {
   "cell_type": "code",
   "execution_count": null,
   "metadata": {},
   "outputs": [],
   "source": [
    "#20)wap to count no of odd values from 1 to 30\n",
    "a=1\n",
    "count=0\n",
    "while a<=30:\n",
    "    if a%2!=0:\n",
    "        count+=1\n",
    "    a+=1\n",
    "print(count)"
   ]
  },
  {
   "cell_type": "code",
   "execution_count": null,
   "metadata": {},
   "outputs": [],
   "source": [
    "#21)wap to print factor of given number\n",
    "n=int(input(\"enter a number to get its factors\"))\n",
    "m=1\n",
    "while m<=n:\n",
    "    if n%m==0:\n",
    "        print(m,end=\" \")\n",
    "    m+=1"
   ]
  },
  {
   "cell_type": "code",
   "execution_count": null,
   "metadata": {},
   "outputs": [],
   "source": [
    "#22)wap to print sum of the factors of the given number\n",
    "n=int(input(\"enter a number to get sum of its factors\"))\n",
    "m=1\n",
    "sum=0\n",
    "while m<=n:\n",
    "    if n%m==0:\n",
    "        sum+=m\n",
    "    m+=1\n",
    "print(sum)"
   ]
  },
  {
   "cell_type": "code",
   "execution_count": null,
   "metadata": {},
   "outputs": [],
   "source": [
    "#23)WAP to prod of the factors ot the given number.\n",
    "n=int(input(\"enter a number to get sum of its factors\"))\n",
    "m=1\n",
    "prod=1\n",
    "while m<=n:\n",
    "    if n%m==0:\n",
    "        prod*=m\n",
    "    m+=1\n",
    "print(prod)"
   ]
  },
  {
   "cell_type": "code",
   "execution_count": null,
   "metadata": {},
   "outputs": [],
   "source": [
    "#24)wap to print fibonocci series from 0 to nth\n",
    "a=0\n",
    "b=1\n",
    "d=10\n",
    "i=1\n",
    "print(a)\n",
    "while i<=d:\n",
    "    c=a+b\n",
    "    print(c,end=\" \")\n",
    "    a,b=b,c\n",
    "    i+=1"
   ]
  },
  {
   "cell_type": "code",
   "execution_count": null,
   "metadata": {},
   "outputs": [],
   "source": [
    "#25)wap to find factorial of given number\n",
    "n=5\n",
    "i=1\n",
    "fact=1\n",
    "while i<=n:\n",
    "    fact=fact*i\n",
    "    i+=1\n",
    "print(fact)\n",
    "    "
   ]
  },
  {
   "cell_type": "code",
   "execution_count": null,
   "metadata": {},
   "outputs": [],
   "source": [
    "#26)wap to print factorial numbers in the given range from m to n\n",
    "m=int(input(\"enter starting num\"))\n",
    "n=int(input(\"enter ending num\"))\n",
    "while m<=n:\n",
    "    fact=1\n",
    "    i=1\n",
    "    while i<=m:\n",
    "        fact=fact*i\n",
    "        i+=1\n",
    "    print (f\"factorial of {m} is :{fact}\")\n",
    "    m+=1\n"
   ]
  },
  {
   "cell_type": "code",
   "execution_count": null,
   "metadata": {},
   "outputs": [],
   "source": [
    "#27)wap to check whether the given number is prime or not.\n",
    "n=int(input(\"enter the number\"))\n",
    "i=2\n",
    "count=0\n",
    "while i<n:\n",
    "    if n%i==0:\n",
    "        count+=1\n",
    "    i+=1\n",
    "if count==0:\n",
    "    print(n,\"prime\")\n",
    "else:\n",
    "    print(\" is not a prime\")"
   ]
  },
  {
   "cell_type": "code",
   "execution_count": null,
   "metadata": {},
   "outputs": [],
   "source": [
    "#28)WAP to print the prime numbers in the given range m to n.\n",
    "m=int(input(\"enter the starting number\"))\n",
    "n=int(input(\"enter the ending number\"))\n",
    "while m<=n:\n",
    "    i=2\n",
    "    count=0\n",
    "    while i<m:\n",
    "        if(m%i==0):\n",
    "            count+=1\n",
    "        i+=1\n",
    "    if count==0:\n",
    "        print (m,end=\" \")\n",
    "    m+=1\n",
    "    "
   ]
  },
  {
   "cell_type": "code",
   "execution_count": null,
   "metadata": {},
   "outputs": [],
   "source": [
    "#29)WAP to check whether a given number an armstrong number or not.\n",
    "n=int(input(\"enter the number\"))\n",
    "temp=n\n",
    "count=0\n",
    "while temp:\n",
    "    ld=temp%10\n",
    "    count+=1\n",
    "    temp//=10\n",
    "res=n\n",
    "sum=0\n",
    "while res:\n",
    "    sum+= (res % 10)**count\n",
    "    res//=10\n",
    "if n==sum:\n",
    "    print(n,\" is armstrong\")\n",
    "else:\n",
    "    print(n,\"armweak\")"
   ]
  },
  {
   "cell_type": "code",
   "execution_count": null,
   "metadata": {},
   "outputs": [],
   "source": [
    "#30) WAP to print the armstrong numbers in the given range m to n.\n",
    "m=1\n",
    "n=1000\n",
    "while m<=n:\n",
    "    temp=m\n",
    "    count=0\n",
    "    while temp:\n",
    "        ld=temp%10\n",
    "        count+=1\n",
    "        temp//=10\n",
    "    res=m\n",
    "    sum=0\n",
    "    while res:\n",
    "        sum+= (res % 10)**count\n",
    "        res//=10\n",
    "    if m==sum:\n",
    "        print(m,\" is armstrong\")\n",
    "    m+=1\n",
    "    "
   ]
  },
  {
   "cell_type": "code",
   "execution_count": null,
   "metadata": {},
   "outputs": [],
   "source": [
    "#31)wap to print prime series from 1 to nth.\n",
    "m=1\n",
    "n=int(input(\"enter the ending number\"))\n",
    "while m<=n:\n",
    "    i=2\n",
    "    count=0\n",
    "    while i<m:\n",
    "        if(m%i==0):\n",
    "            count+=1\n",
    "        i+=1\n",
    "    if count==0:\n",
    "        print (m,end=\" \")\n",
    "    m+=1\n"
   ]
  },
  {
   "cell_type": "code",
   "execution_count": null,
   "metadata": {},
   "outputs": [],
   "source": [
    "#32)wap to print 1 to 100 prime numbers in fibonocci series\n",
    "a=0\n",
    "b=1\n",
    "i=1\n",
    "list1=[]\n",
    "while i<=n:\n",
    "    c=a+b\n",
    "    list1.append(c)\n",
    "    a,b=b,c\n",
    "    i+=1\n",
    "m=1\n",
    "n=100\n",
    "list=[]\n",
    "while m<=n:\n",
    "    i=2\n",
    "    count=0\n",
    "    while i<m:\n",
    "        if(m%i==0):\n",
    "            count+=1\n",
    "        i+=1\n",
    "    if count==0 and m in list1:\n",
    "            list.append(m)\n",
    "    m+=1\n",
    "print(list)\n"
   ]
  },
  {
   "cell_type": "code",
   "execution_count": null,
   "metadata": {},
   "outputs": [],
   "source": [
    "#33)Write a program Sum Of prime numbers in a given collection.\n",
    "m=1\n",
    "n=50\n",
    "list=[]\n",
    "h=0\n",
    "while m<=n:\n",
    "    i=2\n",
    "    count=0\n",
    "    while i<m:\n",
    "        if(m%i==0):\n",
    "            count+=1\n",
    "        i+=1\n",
    "    if count==0:\n",
    "        list.append(m)\n",
    "    m+=1\n",
    "print(list)\n",
    "sum=0\n",
    "while h<len(list):\n",
    "        sum+=list[h] \n",
    "        h+=1 \n",
    "print(sum)\n",
    "        \n",
    "\n",
    "\n",
    "\n"
   ]
  },
  {
   "cell_type": "code",
   "execution_count": null,
   "metadata": {},
   "outputs": [],
   "source": [
    "#34)wap to check given number is palindrome or not\n",
    "n=1221\n",
    "temp=n\n",
    "s=0\n",
    "while n:\n",
    "    ld=n%10\n",
    "    s=(s*10)+ld\n",
    "    n//=10\n",
    "if s==temp:\n",
    "    print(s,\"palindorme\")"
   ]
  },
  {
   "cell_type": "code",
   "execution_count": null,
   "metadata": {},
   "outputs": [],
   "source": [
    "#35)WAP to check whether the len of string is even or odd.if it is even print the string 10 times.if it is not peint 5 times.\n",
    "st=\"deathnot\"\n",
    "a=len(st)\n",
    "print(a)\n",
    "if a%2==0:\n",
    "    j=0\n",
    "    while j<10:\n",
    "        print(st)\n",
    "        j+=1    \n",
    "else:\n",
    "    k=0\n",
    "    while k<5:\n",
    "        print(st)\n",
    "        k+=1\n",
    "    \n"
   ]
  },
  {
   "cell_type": "code",
   "execution_count": null,
   "metadata": {},
   "outputs": [],
   "source": [
    "#36)WAP to print the uppercAse chÄracter from 'A' to 'Z' by usung a while loop\n",
    "a=\"A\"\n",
    "b=ord(a)\n",
    "while b<=ord(\"Z\"):\n",
    "    print(chr(b),end=\" \")\n",
    "    b+=1"
   ]
  },
  {
   "cell_type": "code",
   "execution_count": null,
   "metadata": {},
   "outputs": [],
   "source": [
    "#37)WAP to print the uppercAse chÄracter from 'a' to 'z' by usung a while loop.\n",
    "a=\"a\"\n",
    "b=ord(a)\n",
    "while b<=ord(\"z\"):\n",
    "    print(chr(b),end=\" \")\n",
    "    b+=1"
   ]
  },
  {
   "cell_type": "code",
   "execution_count": null,
   "metadata": {},
   "outputs": [],
   "source": [
    "#38)WAP to print the ascii nurnbers character trom \"0\" to \"9\" by usmq a while loop.\n",
    "a=\"0\"\n",
    "b=ord(a)\n",
    "while b<=ord(\"9\"):\n",
    "    print(chr(b),end=\" \")\n",
    "    b+=1"
   ]
  },
  {
   "cell_type": "code",
   "execution_count": null,
   "metadata": {},
   "outputs": [],
   "source": [
    "#39)wap to print the uppercase character fram 'E' to 'U' by using a while loop.\n",
    "a=\"E\"\n",
    "b=ord(a)\n",
    "while b<=ord(\"U\"):\n",
    "    print(chr(b),end=\" \")\n",
    "    b+=1"
   ]
  },
  {
   "cell_type": "code",
   "execution_count": null,
   "metadata": {},
   "outputs": [],
   "source": [
    "#40)WAP print the uppercase chancter from 'Z' to 'A' by using while loop.\n",
    "a=\"Z\"\n",
    "b=ord(a)\n",
    "while b>=ord(\"A\"):\n",
    "    print(chr(b),end=\" \")\n",
    "    b-=1"
   ]
  },
  {
   "cell_type": "code",
   "execution_count": null,
   "metadata": {},
   "outputs": [],
   "source": [
    "#41)WAP to print the uppercase character from 'U' to 'G' by ugrng a Thile loop.\n",
    "a=\"U\"\n",
    "b=ord(a)\n",
    "while b>=ord(\"G\"):\n",
    "    print(chr(b),end=\" \")\n",
    "    b-=1"
   ]
  },
  {
   "cell_type": "code",
   "execution_count": null,
   "metadata": {},
   "outputs": [],
   "source": [
    "#42)WAP to print the lowercase character from 'i' to 'y' by using while loop.\n",
    "a=\"i\"\n",
    "b=ord(a)\n",
    "while b<=ord(\"y\"):\n",
    "    print(chr(b),end=\" \")\n",
    "    b+=1"
   ]
  },
  {
   "cell_type": "code",
   "execution_count": null,
   "metadata": {},
   "outputs": [],
   "source": [
    "#43)WAP to print the lowercase character from 'z' to 'a' by using while loop.\n",
    "a=\"z\"\n",
    "b=ord(a)\n",
    "while b>=ord(\"a\"):\n",
    "    print(chr(b),end=\" \")\n",
    "    b-=1\n"
   ]
  },
  {
   "cell_type": "code",
   "execution_count": null,
   "metadata": {},
   "outputs": [],
   "source": [
    "#44)WAP to print the lowercase character from 'p' to 'c' by using while loop.\n",
    "a=\"p\"\n",
    "b=ord(a)\n",
    "while b>=ord(\"c\"):\n",
    "    print(chr(b),end=\" \")\n",
    "    b-=1"
   ]
  },
  {
   "cell_type": "code",
   "execution_count": null,
   "metadata": {},
   "outputs": [],
   "source": [
    "#45)wap to print uppercase charscters based on even ascii values\n",
    "a=\"A\"\n",
    "b=ord(a)\n",
    "while b<=ord(\"Z\"):\n",
    "    if b%2==0:\n",
    "        print(chr(b),end=\" \")\n",
    "    b+=1"
   ]
  },
  {
   "cell_type": "code",
   "execution_count": null,
   "metadata": {},
   "outputs": [],
   "source": [
    "#46)wap to print the lowercase based on even ascii value\n",
    "a=\"a\"\n",
    "b=ord(a)\n",
    "while b<=ord(\"z\"):\n",
    "    if b%2==0:\n",
    "        print(chr(b),end=\" \")\n",
    "    b+=1"
   ]
  },
  {
   "cell_type": "code",
   "execution_count": null,
   "metadata": {},
   "outputs": [],
   "source": [
    "#47)wap to print the uppercase based on odd ascii value\n",
    "a=\"A\"\n",
    "b=ord(a)\n",
    "while b<=ord(\"Z\"):\n",
    "    if b%2!=0:\n",
    "        print(chr(b),end=\" \")\n",
    "    b+=1"
   ]
  },
  {
   "cell_type": "code",
   "execution_count": null,
   "metadata": {},
   "outputs": [],
   "source": [
    "#48)wap to print the lowercase based on odd ascii value\n",
    "a=\"a\"\n",
    "b=ord(a)\n",
    "while b<=ord(\"z\"):\n",
    "    if b%2!=0:\n",
    "        print(chr(b),end=\" \")\n",
    "    b+=1"
   ]
  },
  {
   "cell_type": "code",
   "execution_count": null,
   "metadata": {},
   "outputs": [],
   "source": [
    "#49)wap to print all the even characters 'A' to 'z'\n",
    "a=ord(\"A\")\n",
    "b=ord(\"Z\")\n",
    "while a<=b:\n",
    "    if a%2==0:\n",
    "        print(chr(a),end=\" \")\n",
    "    a+=1"
   ]
  },
  {
   "cell_type": "code",
   "execution_count": null,
   "metadata": {},
   "outputs": [],
   "source": [
    "#50)wap to print all the even characters 'a' to 'z'\n",
    "a=ord(\"a\")\n",
    "b=ord(\"z\")\n",
    "while a<=b:\n",
    "    if a%2==0:\n",
    "        print(chr(a),end=\" \")\n",
    "    a+=1"
   ]
  },
  {
   "cell_type": "code",
   "execution_count": null,
   "metadata": {},
   "outputs": [],
   "source": [
    "#51)wap to count number of vowels present in 'D' to 'v'\n",
    "a=ord(\"D\")\n",
    "b=ord(\"V\")\n",
    "count=0\n",
    "while a<=b:\n",
    "    if chr(a) in 'AEIOUaeiou':\n",
    "        count+=1\n",
    "        print(chr(a),count)\n",
    "    a+=1\n"
   ]
  },
  {
   "cell_type": "code",
   "execution_count": null,
   "metadata": {},
   "outputs": [],
   "source": [
    "#52)wap to count number of vowels present in 'u' to 'e'\n",
    "a=ord(\"u\")\n",
    "b=ord(\"e\")\n",
    "count=0\n",
    "while a>=b:\n",
    "    if chr(a) in 'AEIOUaeiou':\n",
    "        count+=1\n",
    "        print(chr(a),count)\n",
    "    a-=1"
   ]
  },
  {
   "cell_type": "code",
   "execution_count": null,
   "metadata": {},
   "outputs": [],
   "source": [
    "#53)wap to print the square of the numer in between the range from m to n \n",
    "# which is multiple of 3.wap to print a number from range m to n which is divisible byb 5.\n",
    "m=2\n",
    "n=10\n",
    "while m<=n:\n",
    "    if m%3==0:\n",
    "        print(m**2,end=' ') \n",
    "    m+=1   \n",
    "print() \n",
    "a=2\n",
    "b=100\n",
    "while a<=b:\n",
    "    if a%5==0:\n",
    "        print(a,end=' ') \n",
    "    a+=1 \n",
    "\n",
    "\n",
    "\n",
    "\n"
   ]
  },
  {
   "cell_type": "code",
   "execution_count": null,
   "metadata": {},
   "outputs": [],
   "source": [
    "#54)Write a program takes an integer number and the sum digits and repeat until \n",
    "# the sum gets a single digit in the end.\n",
    "n=5643\n",
    "\n",
    "while n>9:\n",
    "    sum=0\n",
    "    while n:\n",
    "        ld=n%10\n",
    "        sum+=ld\n",
    "        n//=10\n",
    "    n=sum\n",
    "    print(sum)\n",
    "    "
   ]
  },
  {
   "cell_type": "code",
   "execution_count": null,
   "metadata": {},
   "outputs": [],
   "source": [
    "#55)wap to count number of 2's in between 0 to n\n",
    "start=0\n",
    "end=35\n",
    "list=[]\n",
    "while start<=end:\n",
    "    list.append(start)\n",
    "    start+=1\n",
    "list=str(list)\n",
    "print(list,type(list))\n",
    "i=0\n",
    "count=0\n",
    "print()\n",
    "while i<len(list):\n",
    "    if \"2\" in list[i]:\n",
    "        count+=1\n",
    "    i+=1\n",
    "print(count)\n",
    "    "
   ]
  },
  {
   "cell_type": "code",
   "execution_count": null,
   "metadata": {},
   "outputs": [],
   "source": [
    "#56)wap to find max product of three numbers from given integer array\n",
    "a=[3,2,10,0,6]\n",
    "i=1\n",
    "while i<len(a):\n",
    "    if a[0]<a[i]:\n",
    "        a[0],a[i]=a[i],a[0]   \n",
    "    i+=1\n",
    "print(a)\n",
    "i=2\n",
    "while i<len(a):\n",
    "    if a[1]<a[i]:\n",
    "        a[1],a[i]=a[i],a[1]   \n",
    "    i+=1\n",
    "print(a)\n",
    "i=3\n",
    "while i<len(a):\n",
    "    if a[2]<a[i]:\n",
    "        a[2],a[i]=a[i],a[2]   \n",
    "    i+=1\n",
    "print(a)\n",
    "print(a[0]*a[1]*a[2])\n",
    "    \n",
    "\n"
   ]
  },
  {
   "cell_type": "code",
   "execution_count": null,
   "metadata": {},
   "outputs": [],
   "source": [
    "#59)WAP to print the items present in the string between the range from m to n\n",
    "st=\"hellohiihowareyou\"\n",
    "start=4\n",
    "end=14\n",
    "while start<end:\n",
    "    print(st[start], end=\" \")\n",
    "    start+=1"
   ]
  },
  {
   "cell_type": "code",
   "execution_count": null,
   "metadata": {},
   "outputs": [],
   "source": [
    "#60)WAP to print the uppercase characters in a given string.\n",
    "st=\"heLLoHiihoWareYou\"\n",
    "i=0\n",
    "while i<len(st):\n",
    "    if \"A\"<=st[i]<=\"Z\":\n",
    "        print(st[i],end=\" \")\n",
    "    i+=1\n",
    "       "
   ]
  },
  {
   "cell_type": "code",
   "execution_count": null,
   "metadata": {},
   "outputs": [],
   "source": [
    "#61)WAP to print the lowercase characters tn a given string.\n",
    "st=\"heLLoHiihoWareYou\"\n",
    "i=0\n",
    "while i<len(st):\n",
    "    if \"a\"<=st[i]<=\"z\":\n",
    "        print(st[i],end=\" \")\n",
    "    i+=1"
   ]
  },
  {
   "cell_type": "code",
   "execution_count": null,
   "metadata": {},
   "outputs": [],
   "source": [
    "#62)WAP to print the ascii numbers(Digits) characters in a given string.\n",
    "st=\"he3454LLo123Hii34579hoWar325eYou\"\n",
    "i=0\n",
    "while i<len(st):\n",
    "    if \"0\"<=st[i]<=\"9\":\n",
    "        print(st[i],end=\" \")\n",
    "    i+=1"
   ]
  },
  {
   "cell_type": "code",
   "execution_count": null,
   "metadata": {},
   "outputs": [],
   "source": [
    "#63)WAP to print the special characters in a gtven string.\n",
    "st=\"heLLo@#Hi@#$iho^&WareYou\"\n",
    "i=0\n",
    "while i<len(st):\n",
    "    if not(\"a\"<=st[i]<=\"z\" or \"A\"<=st[i]<=\"Z\" or \"0\"<=st[i]<=\"9\"):\n",
    "        print(st[i],end=\" \")\n",
    "    i+=1"
   ]
  },
  {
   "cell_type": "code",
   "execution_count": null,
   "metadata": {},
   "outputs": [],
   "source": [
    "#64)WAP to Print the vowels in a given string.\n",
    "st=\"heLLoHiihoWareYou\"\n",
    "i=0\n",
    "while i<len(st):\n",
    "    if st[i] in \"AEIOUaeiou\":\n",
    "        print(st[i],end=\" \")\n",
    "    i+=1"
   ]
  },
  {
   "cell_type": "code",
   "execution_count": null,
   "metadata": {},
   "outputs": [],
   "source": [
    "#65)WAP to Print the consonants in a given string.\n",
    "st=\"heLLoHiihoWareYou\"\n",
    "i=0\n",
    "while i<len(st):\n",
    "    if st[i] not in \"AEIOUaeiou\":\n",
    "        print(st[i],end=\" \")\n",
    "    i+=1"
   ]
  },
  {
   "cell_type": "code",
   "execution_count": null,
   "metadata": {},
   "outputs": [],
   "source": [
    "#66)WAP to print the reverse of the characters in a given string.\n",
    "st=\"heLLoHiihoWareYou\"\n",
    "i=len(st)-1\n",
    "while i>=0:\n",
    "    print(st[i],end=\" \")\n",
    "    i-=1\n"
   ]
  },
  {
   "cell_type": "code",
   "execution_count": null,
   "metadata": {},
   "outputs": [],
   "source": [
    "#67)WAP to print even position values characters in a given stringe\n",
    "st=\"heLLoHiihoWareYou\"\n",
    "i=0\n",
    "while i<len(st):\n",
    "    if i%2==0:\n",
    "        print(st[i],end=\" \")\n",
    "    i+=1"
   ]
  },
  {
   "cell_type": "code",
   "execution_count": null,
   "metadata": {},
   "outputs": [],
   "source": [
    "#68)WAP to punt odd position values characters in a given strtng.\n",
    "st=\"heLLoHiihoWareYou\"\n",
    "i=0\n",
    "while i<len(st):\n",
    "    if i%2!=0:\n",
    "        print(st[i],end=\" \")\n",
    "    i+=1\n"
   ]
  },
  {
   "cell_type": "code",
   "execution_count": null,
   "metadata": {},
   "outputs": [],
   "source": [
    "#69)WAP to count the total Number of characters in a given string. (with length function)\n",
    "st=\"heLLoHiihoWareYou\"\n",
    "print(len(st),end=\" \")"
   ]
  },
  {
   "cell_type": "code",
   "execution_count": null,
   "metadata": {},
   "outputs": [],
   "source": [
    "#70)WAP to count the total Number of characters in a given string. (without length function)\n",
    "st=\"heLLoHiihoWareYou\"\n",
    "i=0\n",
    "count=0\n",
    "while i<len(st):\n",
    "    count+=1\n",
    "    i+=1\n",
    "print(count,end=\" \")"
   ]
  },
  {
   "cell_type": "code",
   "execution_count": null,
   "metadata": {},
   "outputs": [],
   "source": [
    "#71)WAP to count alphabets in a given string.\n",
    "st=\"heL6858LoH12iihoWar@$eYou\"\n",
    "i=0\n",
    "count=0\n",
    "while i<len(st):\n",
    "    if \"A\"<=st[i]<=\"Z\" or \"a\"<=st[i]<=\"z\":\n",
    "        count+=1\n",
    "    i+=1\n",
    "print(count,end=\" \")"
   ]
  },
  {
   "cell_type": "code",
   "execution_count": null,
   "metadata": {},
   "outputs": [],
   "source": [
    "#72)WAP to count Number of uppercase in a given string.\n",
    "st=\"heLLoHiihoWareYou\"\n",
    "i=0\n",
    "count=0\n",
    "while i<len(st):\n",
    "    if \"A\"<=st[i]<=\"Z\":\n",
    "        count+=1\n",
    "    i+=1\n",
    "print(count,end=\" \")"
   ]
  },
  {
   "cell_type": "code",
   "execution_count": null,
   "metadata": {},
   "outputs": [],
   "source": [
    "#73)WAP to count lowercase in a given string.\n",
    "st=\"heLLoHi234iho56Ware@!%^&You\"\n",
    "i=0\n",
    "count=0\n",
    "while i<len(st):\n",
    "    if  \"a\"<=st[i]<=\"z\":\n",
    "        count+=1\n",
    "        print(st[i],count)\n",
    "    i+=1\n"
   ]
  },
  {
   "cell_type": "code",
   "execution_count": null,
   "metadata": {},
   "outputs": [],
   "source": [
    "#74)WAP to count Number of special symbols in a given string.\n",
    "st=\"heLLoHi234iho56Ware@!%^&You\"\n",
    "i=0\n",
    "count=0\n",
    "while i<len(st):\n",
    "    if  not(\"a\"<=st[i]<=\"z\" or \"A\"<=st[i]<=\"Z\" or \"0\"<=st[i]<=\"9\"):\n",
    "        count+=1\n",
    "        print(st[i],count)\n",
    "    i+=1\n"
   ]
  },
  {
   "cell_type": "code",
   "execution_count": null,
   "metadata": {},
   "outputs": [],
   "source": [
    "#75)WAP to count uppercase and lowercase in a given string.\n",
    "st=\"heLLoHi234iho56Ware@!%^&You\"\n",
    "i=0\n",
    "count=0\n",
    "while i<len(st):\n",
    "    if  (\"a\"<=st[i]<=\"z\" or \"A\"<=st[i]<=\"Z\"):\n",
    "        count+=1\n",
    "        print(st[i],count,end=\" |\")\n",
    "    i+=1\n"
   ]
  },
  {
   "cell_type": "code",
   "execution_count": null,
   "metadata": {},
   "outputs": [],
   "source": [
    "#76)WAP to count Number of ascii numbers in a gtven string.\n",
    "st=\"heLLoHi234iho56Ware@!%^&You\"\n",
    "i=0\n",
    "count=0\n",
    "while i<len(st):\n",
    "    if  (\"0\"<=st[i]<=\"9\"):\n",
    "        count+=1\n",
    "        \n",
    "    i+=1\n",
    "print(count,end=\" \")"
   ]
  },
  {
   "cell_type": "code",
   "execution_count": null,
   "metadata": {},
   "outputs": [],
   "source": [
    "#77)WAP to Count Total Number or Words in a String.\n",
    "st=\"heLLo Hii 234 how 56are @!%^ &You\"\n",
    "i=0\n",
    "count=1\n",
    "while i<len(st):\n",
    "    if  st[i]==\" \":\n",
    "        count+=1\n",
    "        \n",
    "    i+=1\n",
    "print(count,end=\" \")"
   ]
  },
  {
   "cell_type": "code",
   "execution_count": null,
   "metadata": {},
   "outputs": [],
   "source": [
    "#78)WAP to Count Totål Number Of space in a String.\n",
    "st=\"heLLo Hii 234 how 56are @!%^ &You\"\n",
    "i=0\n",
    "count=0\n",
    "while i<len(st):\n",
    "    if  st[i]==\" \":\n",
    "        count+=1\n",
    "        \n",
    "    i+=1\n",
    "print(count,end=\" \")"
   ]
  },
  {
   "cell_type": "code",
   "execution_count": null,
   "metadata": {},
   "outputs": [],
   "source": [
    "#79)WAP to Count Vowels in a String,\n",
    "st=\"heLLo Hii 234 how 56are @!%^ &You\"\n",
    "i=0\n",
    "count=0\n",
    "while i<len(st):\n",
    "    if  st[i] in \"AEIOUaeiou\":\n",
    "        count+=1\n",
    "        print(st[i])\n",
    "    i+=1\n",
    "print(\"---\")\n",
    "print(count)"
   ]
  },
  {
   "cell_type": "code",
   "execution_count": null,
   "metadata": {},
   "outputs": [],
   "source": [
    "#80)WAP to Count consonants in a String.\n",
    "st=\"heLLo Hii 234 how 56are @!%^ &You\"\n",
    "i=0\n",
    "count=0\n",
    "while i<len(st):\n",
    "    if  st[i] not in \"AEIOUaeiou\":\n",
    "        count+=1\n",
    "    i+=1\n",
    "print(count)"
   ]
  },
  {
   "cell_type": "code",
   "execution_count": null,
   "metadata": {},
   "outputs": [],
   "source": [
    "#81)WAP to Count Vowels and Consonants in a String.\n",
    "st=\"heLLo Hii 234 how 56are @!%^ &You\"\n",
    "i=0\n",
    "count=0\n",
    "while i<len(st):\n",
    "    if  \"A\"<=st[i]<=\"Z\" or \"a\"<=st[i]<=\"z\":\n",
    "        count+=1\n",
    "    i+=1\n",
    "print(count)"
   ]
  },
  {
   "cell_type": "code",
   "execution_count": null,
   "metadata": {},
   "outputs": [],
   "source": [
    "#82)WAP to eotmt Number of new lines in given string,\n",
    "st=\"\"\" Things to Consider During Implementation. \n",
    "At this point you should have API Management.\n",
    "After you implement your API endpoints and decide how Maintenance. \n",
    "While launching your API can be an exciting challenge, keeping Next Steps.\n",
    "As you now understand, developing an API is not limited.\"\"\"\n",
    "i=0\n",
    "count=0\n",
    "while i<len(st):\n",
    "    if  st[i]==\"\\n\":\n",
    "        count+=1\n",
    "    i+=1\n",
    "print(count,\" new lines\")"
   ]
  },
  {
   "cell_type": "code",
   "execution_count": null,
   "metadata": {},
   "outputs": [],
   "source": [
    "#83)WAP to count Number of lines in a given string.\n",
    "st=\"\"\" Things to Consider During Implementation. \n",
    "At this point you should have API Management.\n",
    "After you implement your API endpoints and decide how Maintenance. \n",
    "While launching your API can be an exciting challenge, keeping Next Steps.\n",
    "As you now understand, developing an API is not limited.\"\"\"\n",
    "i=0\n",
    "count=1\n",
    "while i<len(st):\n",
    "    if  st[i]==\"\\n\":\n",
    "        count+=1\n",
    "    i+=1\n",
    "print(count,\"lines\")\n"
   ]
  },
  {
   "cell_type": "code",
   "execution_count": null,
   "metadata": {},
   "outputs": [],
   "source": [
    "#84)WAP to count no of alphabets. numbers. and special characters in a given string.\n",
    "st=\"heLLoHii234how56are@!%^&You\"\n",
    "i=0\n",
    "ac,numc,spc=0,0,0\n",
    "while i<len(st):\n",
    "    if  \"A\"<=st[i]<=\"Z\" or \"a\"<=st[i]<=\"z\":\n",
    "        ac+=1\n",
    "    elif \"0\"<=st[i]<=\"9\":\n",
    "        numc+=1\n",
    "    else:\n",
    "        spc+=1\n",
    "    i+=1\n",
    "print(\"aphabets \",ac)\n",
    "print(\"numbers \",numc)\n",
    "print(\"special chars \",spc)"
   ]
  },
  {
   "cell_type": "code",
   "execution_count": null,
   "metadata": {},
   "outputs": [],
   "source": [
    "#85)WAP to Count Total no of words in a first line of the Doc String.\n",
    "st=\"\"\" Things to Consider During Implementation. \n",
    "At this point you should have API Management.\n",
    "After you implement your API endpoints and decide how Maintenance. \n",
    "While launching your API can be an exciting challenge, keeping Next Steps.\n",
    "As you now understand, developing an API is not limited.\"\"\"\n",
    "i=0\n",
    "count=1\n",
    "while i<len(st):\n",
    "    if  st[i]!=\".\":\n",
    "        if st[i]==\" \":\n",
    "            count+=1\n",
    "        i+=1\n",
    "print(count,\"words\")"
   ]
  },
  {
   "cell_type": "code",
   "execution_count": null,
   "metadata": {},
   "outputs": [],
   "source": [
    "#86)WAP to sum of digits in a given string.\n",
    "st=\"heLLoHii234how56are@!%^&You\"\n",
    "i=0\n",
    "sum=0\n",
    "while i<len(st):\n",
    "    if \"0\"<=st[i]<=\"9\":\n",
    "        print(st[i])\n",
    "        sum+=int(st[i])\n",
    "    i+=1\n",
    "print(\"---\")\n",
    "print(sum)\n"
   ]
  },
  {
   "cell_type": "code",
   "execution_count": null,
   "metadata": {},
   "outputs": [],
   "source": [
    "#87)WAP to Print First Occurrence of a Character in a String.\n",
    "st=\"heLLoHii234how56are@!%^&You\"\n",
    "i=0\n",
    "res={}\n",
    "while i<len(st):\n",
    "    if \"A\"<=st[i]<=\"Z\" or \"a\"<=st[i]<=\"z\":\n",
    "        if st[i] not in res:\n",
    "            res[st[i]]=i\n",
    "    i+=1\n",
    "print(res)\n"
   ]
  },
  {
   "cell_type": "code",
   "execution_count": null,
   "metadata": {},
   "outputs": [],
   "source": [
    "#88)WAP to Print Last Occurrence of a Character in a String.\n",
    "st=\"heLLoHii234how56are@!%^&You\"\n",
    "i=0\n",
    "string=\"\"\n",
    "res={}\n",
    "while i<len(st):\n",
    "    if \"A\"<=st[i]<=\"Z\" or \"a\"<=st[i]<=\"z\":\n",
    "        if st[i] not in string:\n",
    "            string+=st[i]\n",
    "        else:\n",
    "            res[st[i]]=i\n",
    "    i+=1\n",
    "print(res)\n",
    "        "
   ]
  },
  {
   "cell_type": "code",
   "execution_count": null,
   "metadata": {},
   "outputs": [],
   "source": [
    "#89)WAP to Print first not Occurrence of a Character in a String.\n",
    "st=\"heLLoHii234how56are@!%^&You\"\n",
    "i=0\n",
    "string=\"\"\n",
    "res={}\n",
    "while i<len(st):\n",
    "    if \"A\"<=st[i]<=\"Z\" or \"a\"<=st[i]<=\"z\":\n",
    "        if st[i] not in string:\n",
    "            string+=st[i]\n",
    "        else:\n",
    "            res[st[i]]=i\n",
    "    i+=1\n",
    "print(res)"
   ]
  },
  {
   "cell_type": "code",
   "execution_count": null,
   "metadata": {},
   "outputs": [],
   "source": [
    "#90)WAP to Print last not Occurrence of a Character in a String.\n",
    "st=\"heLLoHii234how56are@!%^&You\"\n",
    "i=0\n",
    "res={}\n",
    "while i<len(st):\n",
    "    if \"A\"<=st[i]<=\"Z\" or \"a\"<=st[i]<=\"z\":\n",
    "        if st[i] not in res:\n",
    "            res[st[i]]=i\n",
    "    i+=1\n",
    "print(res)"
   ]
  },
  {
   "cell_type": "code",
   "execution_count": null,
   "metadata": {},
   "outputs": [],
   "source": [
    "#91)WAP to Remove First Occurrence of a Character in a String.\n",
    "st=\"heLLoHii234how56are@!%^&You\"\n",
    "i=0\n",
    "res={}\n",
    "l=\"\"\n",
    "while i<len(st):\n",
    "    if \"A\"<=st[i]<=\"Z\" or \"a\"<=st[i]<=\"z\":\n",
    "        if st[i] not in res:\n",
    "            res[st[i]]=i\n",
    "        else:\n",
    "            l+=st[i]\n",
    "    else:\n",
    "        l+=st[i]\n",
    "    i+=1\n",
    "print(l)"
   ]
  },
  {
   "cell_type": "code",
   "execution_count": null,
   "metadata": {},
   "outputs": [],
   "source": [
    "#92)WAP to Remove Last Occurred Character in a String.\n",
    "st=\"heLLoHii234how56are@!%^&You\"\n",
    "i=0\n",
    "l={}\n",
    "res=\"\"\n",
    "while i<len(st):\n",
    "        if st[i] not in res:\n",
    "            res+=st[i]\n",
    "            \n",
    "        else:\n",
    "            l[st[i]]=i\n",
    "    \n",
    "        i+=1\n",
    "print(res)"
   ]
  },
  {
   "cell_type": "code",
   "execution_count": 18,
   "metadata": {},
   "outputs": [
    {
     "name": "stdout",
     "output_type": "stream",
     "text": [
      "{'h': 2, 'e': 2, 'L': 2, 'o': 3, 'H': 1, 'i': 2, '2': 2, '3': 1, 'w': 1, '5': 1, '6': 1, 'a': 1, 'r': 1, '@': 1, '!': 1, 'Y': 1, 'u': 1}\n"
     ]
    }
   ],
   "source": [
    "#93)WAP to count the occurrence of a specific character in a given string.\n",
    "st=\"heLLoHii232how56are@!You\"\n",
    "i=0\n",
    "res={}\n",
    "count=0\n",
    "while i<len(st):\n",
    "    if st[i] not in res:\n",
    "        res[st[i]]=1\n",
    "    else:\n",
    "        res[st[i]]+=1\n",
    "    i+=1\n",
    "print(res)\n"
   ]
  },
  {
   "cell_type": "code",
   "execution_count": 33,
   "metadata": {},
   "outputs": [
    {
     "name": "stdout",
     "output_type": "stream",
     "text": [
      "{'h': 2, 'e': 2, 'L': 2, 'o': 3, 'H': 1, 'i': 2, '2': 2, '3': 1, 'w': 1, '5': 1, '6': 1, 'a': 1, 'r': 1, '@': 1, '!': 1, 'Y': 1, 'u': 1}\n",
      "o 3\n"
     ]
    }
   ],
   "source": [
    "#94)WAP to count the max occurrence of a character in a given string.\n",
    "st=\"heLLoHii232how56are@!You\"\n",
    "i=0\n",
    "res={}\n",
    "count=0\n",
    "while i<len(st):\n",
    "    if st[i] not in res:\n",
    "        res[st[i]]=1\n",
    "    else:\n",
    "        res[st[i]]+=1\n",
    "    i+=1\n",
    "print(res)\n",
    "\n",
    "d=list(res) # type: ignore\n",
    "max=0\n",
    "ch=\"\"\n",
    "j=0\n",
    "while j<len(d):\n",
    "    if max<res[d[j]]:\n",
    "        max=res[d[j]]\n",
    "        ch=d[j]\n",
    "    j+=1\n",
    "print(ch,max)\n"
   ]
  },
  {
   "cell_type": "code",
   "execution_count": 36,
   "metadata": {},
   "outputs": [
    {
     "name": "stdout",
     "output_type": "stream",
     "text": [
      "{'h': 2, 'e': 2, 'L': 2, 'o': 3, 'H': 1, 'i': 2, '2': 2, '3': 1, 'w': 1, '5': 1, '6': 1, 'a': 1, 'r': 1, '@': 1, '!': 1, 'Y': 1, 'u': 1}\n",
      "H 1\n"
     ]
    }
   ],
   "source": [
    "#95)WAP to count the min occurrence of a character in a given string.\n",
    "st=\"heLLoHii232how56are@!You\"\n",
    "i=0\n",
    "res={}\n",
    "count=0\n",
    "while i<len(st):\n",
    "    if st[i] not in res:\n",
    "        res[st[i]]=1\n",
    "    else:\n",
    "        res[st[i]]+=1\n",
    "    i+=1\n",
    "print(res)\n",
    "\n",
    "d=list(res) # type: ignore\n",
    "min=res[l[0]]\n",
    "ch=\"\"\n",
    "j=1\n",
    "while j<len(d):\n",
    "    if min>res[d[j]]:\n",
    "        min=res[d[j]]\n",
    "        ch=d[j]\n",
    "    j+=1\n",
    "print(ch,min)"
   ]
  },
  {
   "cell_type": "code",
   "execution_count": 37,
   "metadata": {},
   "outputs": [
    {
     "name": "stdout",
     "output_type": "stream",
     "text": [
      "{'h': 2, 'e': 2, 'L': 2, 'o': 3, 'H': 1, 'i': 2, '2': 2, '3': 1, 'w': 1, '5': 1, '6': 1, 'a': 1, 'r': 1, '@': 1, '!': 1, 'Y': 1, 'u': 1}\n"
     ]
    }
   ],
   "source": [
    "#96)WAP to count the repeats of a specific character in a given string.\n",
    "st=\"heLLoHii232how56are@!You\"\n",
    "i=0\n",
    "res={}\n",
    "count=0\n",
    "while i<len(st):\n",
    "    if st[i] not in res:\n",
    "        res[st[i]]=1\n",
    "    else:\n",
    "        res[st[i]]+=1\n",
    "    i+=1\n",
    "print(res)"
   ]
  },
  {
   "cell_type": "code",
   "execution_count": 41,
   "metadata": {},
   "outputs": [
    {
     "name": "stdout",
     "output_type": "stream",
     "text": [
      "{'h': 2, 'e': 2, 'L': 2, 'o': 3, 'H': 1, 'i': 2, '2': 2, '3': 1, 'w': 1, '5': 1, '6': 1, 'a': 1, 'r': 1, '@': 1, '!': 1, 'Y': 1, 'u': 1}\n",
      "o character, with count 3\n"
     ]
    }
   ],
   "source": [
    "#97)WAP to count the max  repeated character in a gtven string.\n",
    "st=\"heLLoHii232how56are@!You\"\n",
    "i=0\n",
    "res={}\n",
    "count=0\n",
    "while i<len(st):\n",
    "    if st[i] not in res:\n",
    "        res[st[i]]=1\n",
    "    else:\n",
    "        res[st[i]]+=1\n",
    "    i+=1\n",
    "print(res)\n",
    "\n",
    "d=list(res) # type: ignore\n",
    "max=0\n",
    "ch=\"\"\n",
    "j=0\n",
    "while j<len(d):\n",
    "    if max<res[d[j]]:\n",
    "        max=res[d[j]]\n",
    "        ch=d[j]\n",
    "    j+=1\n",
    "print(f\"{ch} character, with count {max}\")\n"
   ]
  }
 ],
 "metadata": {
  "kernelspec": {
   "display_name": "Python 3",
   "language": "python",
   "name": "python3"
  },
  "language_info": {
   "codemirror_mode": {
    "name": "ipython",
    "version": 3
   },
   "file_extension": ".py",
   "mimetype": "text/x-python",
   "name": "python",
   "nbconvert_exporter": "python",
   "pygments_lexer": "ipython3",
   "version": "3.10.11"
  },
  "orig_nbformat": 4
 },
 "nbformat": 4,
 "nbformat_minor": 2
}
