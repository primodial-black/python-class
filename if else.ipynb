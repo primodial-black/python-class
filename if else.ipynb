{
 "cells": [
  {
   "cell_type": "code",
   "execution_count": 1,
   "metadata": {},
   "outputs": [
    {
     "name": "stdout",
     "output_type": "stream",
     "text": [
      "10  is a positive\n"
     ]
    }
   ],
   "source": [
    "#1)WAP to check whether a number is positive or negative. If Positive print positive message or else print Negative Number.\n",
    "n=10\n",
    "if n>=0:\n",
    "    print(n,\" is a positive\")\n",
    "else:\n",
    "    print(n,\" is a positive\")"
   ]
  },
  {
   "cell_type": "code",
   "execution_count": 2,
   "metadata": {},
   "outputs": [
    {
     "name": "stdout",
     "output_type": "stream",
     "text": [
      "5  is odd\n"
     ]
    }
   ],
   "source": [
    "#2)WAP to check whether a number is even or odd. If even, print message an even or else print message as odd.\n",
    "n=5\n",
    "if n%2==0:\n",
    "    print(n,\" is Even\")\n",
    "else:\n",
    "    print(n,\" is odd\")"
   ]
  },
  {
   "cell_type": "code",
   "execution_count": 3,
   "metadata": {},
   "outputs": [
    {
     "name": "stdout",
     "output_type": "stream",
     "text": [
      "greater\n"
     ]
    }
   ],
   "source": [
    "#3)Write a program to check whether a given number is greater than 10 or not. \n",
    "# if it is greater than 10 print message as greater or else print that number with not a greater than.\n",
    "n=36\n",
    "if n>10:\n",
    "    print(\"greater\")\n",
    "else:\n",
    "    print(\"not greater\")"
   ]
  },
  {
   "cell_type": "code",
   "execution_count": 5,
   "metadata": {},
   "outputs": [
    {
     "name": "stdout",
     "output_type": "stream",
     "text": [
      "Good Morning\n",
      "Good Evening\n"
     ]
    }
   ],
   "source": [
    "#4)WAP to check whether the given two input numbers are divisible by 3 and 5. \n",
    "# If it is divisible, print “Good Morning”, if it is not divisible print “Good Evening”.\n",
    "n=45\n",
    "m=30\n",
    "if n%3==0 and n%5==0 and m%3==0 and m%5==0:\n",
    "    print(\"Good Morning\")\n",
    "else:\n",
    "    print(\"Good Evening\")\n",
    "    \n",
    "    \n",
    "n=40\n",
    "m=30\n",
    "if n%3==0 and n%5==0 and m%3==0 and m%5==0:\n",
    "    print(\"Good Morning\")\n",
    "else:\n",
    "    print(\"Good Evening\")"
   ]
  },
  {
   "cell_type": "code",
   "execution_count": 4,
   "metadata": {},
   "outputs": [
    {
     "name": "stdout",
     "output_type": "stream",
     "text": [
      "900\n",
      "\"31\" \"30\"\n"
     ]
    }
   ],
   "source": [
    "#5)WAP to accept two integers and check whether those two values are equal or not. \n",
    "# If equal, multiply to value or else to display the quotation value.\n",
    "n=30\n",
    "m=30\n",
    "if n==m:\n",
    "    print(n*m)\n",
    "else:\n",
    "    print(f'\"{n}\" \"{m}\"')\n",
    "    \n",
    "n=31\n",
    "m=30\n",
    "if n==m:\n",
    "    print(n*m)\n",
    "else:\n",
    "    \n",
    "    print(f'\"{n}\" \"{m}\"')\n"
   ]
  },
  {
   "cell_type": "code",
   "execution_count": 6,
   "metadata": {},
   "outputs": [
    {
     "name": "stdout",
     "output_type": "stream",
     "text": [
      "46 is largest\n",
      "50 is largest\n"
     ]
    }
   ],
   "source": [
    "#6)WAP to find the largest of two numbers.\n",
    "n=30\n",
    "m=46\n",
    "if n>m:\n",
    "    print(n,\"is largest\")\n",
    "else:\n",
    "    print(m,\"is largest\")\n",
    "    \n",
    "n=50    \n",
    "m=46\n",
    "if n>m:\n",
    "    print(n,\"is largest\")\n",
    "else:\n",
    "    print(m,\"is largest\")"
   ]
  },
  {
   "cell_type": "code",
   "execution_count": 8,
   "metadata": {},
   "outputs": [
    {
     "name": "stdout",
     "output_type": "stream",
     "text": [
      "36  is greater\n",
      "3\n"
     ]
    }
   ],
   "source": [
    "#7)WAP to check whether the input number is greater than 10 or not .\n",
    "# if it is greater than 10 print messages as greater with number. if it is not a greater than 10, print that number.\n",
    "n=36\n",
    "if n>10:\n",
    "    print(n,\" is greater\")\n",
    "else:\n",
    "    print(n)\n",
    "    \n",
    "n=3\n",
    "if n>10:\n",
    "    print(n,\" is greater\")\n",
    "else:\n",
    "    print(n)"
   ]
  },
  {
   "cell_type": "code",
   "execution_count": 12,
   "metadata": {},
   "outputs": [
    {
     "name": "stdout",
     "output_type": "stream",
     "text": [
      "12\n",
      "4\n"
     ]
    }
   ],
   "source": [
    "#8)WAP to the given number integer, if n is greater than 21,print the absolute difference between n and 21 otherwise \n",
    "# print twice the absolute difference.\n",
    "n=15\n",
    "if n>21:\n",
    "    n=abs(21-n)\n",
    "    print(n)       #absolute diff\n",
    "else:\n",
    "    n=abs(21-n)*2\n",
    "    print(n)          # twice of absolute diff\n",
    "    \n",
    "n=25\n",
    "if n>21:\n",
    "    n=abs(21-n)\n",
    "    print(n)\n",
    "else:\n",
    "    n=abs(21-n)*2\n",
    "    print(n)"
   ]
  },
  {
   "cell_type": "code",
   "execution_count": 13,
   "metadata": {},
   "outputs": [
    {
     "name": "stdout",
     "output_type": "stream",
     "text": [
      "30 is smallest\n",
      "46 is smallest\n"
     ]
    }
   ],
   "source": [
    "#9)WAP to find the smallest of two numbers.\n",
    "n=30\n",
    "m=46\n",
    "if n<m:\n",
    "    print(n,\"is smallest\")\n",
    "else:\n",
    "    print(m,\"is smallest\")\n",
    "    \n",
    "    \n",
    "n=300\n",
    "m=46\n",
    "if n<m:\n",
    "    print(n,\"is smallest\")\n",
    "else:\n",
    "    print(m,\"is smallest\")"
   ]
  },
  {
   "cell_type": "code",
   "execution_count": 15,
   "metadata": {},
   "outputs": [
    {
     "name": "stdout",
     "output_type": "stream",
     "text": [
      "6\n",
      "9\n"
     ]
    }
   ],
   "source": [
    "#10)WAP to check whether the given number is even or odd. \n",
    "# If it is even then make it as an odd number, if it is an odd number then make it as even number.\n",
    "n=7\n",
    "if n%2==0:\n",
    "    n=n+1\n",
    "else:\n",
    "    n =n-1\n",
    "print(n)\n",
    "\n",
    "n=8\n",
    "if n%2==0:\n",
    "    n=n+1\n",
    "else:\n",
    "    n =n-1\n",
    "print(n)"
   ]
  },
  {
   "cell_type": "code",
   "execution_count": 17,
   "metadata": {},
   "outputs": [
    {
     "name": "stdout",
     "output_type": "stream",
     "text": [
      "The Number 9 is Divisble By Three\n",
      "1000\n"
     ]
    }
   ],
   "source": [
    "#11)WAP to check whether the given number is divisible by 3 or not if yes, \n",
    "# print the number or else print the cube of the numbers.\n",
    "n=9\n",
    "if n%3==0:\n",
    "    print(f\"The Number {n} is Divisble By Three\")\n",
    "else:\n",
    "    n=n**3\n",
    "    print(n)\n",
    "    \n",
    "n=10\n",
    "if n%3==0:\n",
    "    print(f\"The Number {n} is Divisble By Three\")\n",
    "else:\n",
    "    n=n**3\n",
    "    print(n)"
   ]
  },
  {
   "cell_type": "code",
   "execution_count": 22,
   "metadata": {},
   "outputs": [
    {
     "name": "stdout",
     "output_type": "stream",
     "text": [
      "35 <class 'str'>\n",
      "30\n"
     ]
    }
   ],
   "source": [
    "#12)WAP to check whether the given input is divisible by 3 and 5. \n",
    "# If yes print the actual number or else print string of that number.\n",
    "n=35\n",
    "if n%3==0 and n%5==0:\n",
    "    print(n)\n",
    "else:\n",
    "    s=str(n)\n",
    "    print(s,type(s))\n",
    "    \n",
    "n=30\n",
    "if n%3==0 and n%5==0:\n",
    "    print(n)\n",
    "else:\n",
    "    s=str(n)\n",
    "    print(s,type(s))\n"
   ]
  },
  {
   "cell_type": "code",
   "execution_count": 24,
   "metadata": {},
   "outputs": [
    {
     "name": "stdout",
     "output_type": "stream",
     "text": [
      "100\n",
      "27000\n"
     ]
    }
   ],
   "source": [
    "#13)WAP to check whether the given number lies between 1 to 19, \n",
    "# if it is true square that number or else false cube that number and display the number.\n",
    "n=10\n",
    "if 1<=n<=19:\n",
    "    n=n**2\n",
    "else:\n",
    "    n=n**3\n",
    "print(n)\n",
    "\n",
    "n=30\n",
    "if 1<=n<=19:\n",
    "    n=n**2\n",
    "else:\n",
    "    n=n**3\n",
    "print(n)"
   ]
  },
  {
   "cell_type": "code",
   "execution_count": 25,
   "metadata": {},
   "outputs": [
    {
     "name": "stdout",
     "output_type": "stream",
     "text": [
      "pass\n",
      "fail\n"
     ]
    }
   ],
   "source": [
    "#14)WAP to check whether the student has passed or failed. If the student got more than 40 marks, \n",
    "# print ‘PASS’ along with those marks,if it is not printed ‘FAIL’ along with those marks.\n",
    "m=60\n",
    "if m>40:\n",
    "    print(\"pass\")\n",
    "else:\n",
    "    print(\"fail\")\n",
    "    \n",
    "m=30\n",
    "if m>40:\n",
    "    print(\"pass\")\n",
    "else:\n",
    "    print(\"fail\")"
   ]
  },
  {
   "cell_type": "code",
   "execution_count": 32,
   "metadata": {},
   "outputs": [
    {
     "name": "stdout",
     "output_type": "stream",
     "text": [
      "13\n",
      "6\n"
     ]
    }
   ],
   "source": [
    "#15)WAP to check whether a given value is even and in range of 47 to 58 and not in 0 or odd. if condition is True,\n",
    "# to perform display the ascii character. or else to perform floor division with 5 and display it.\n",
    "n=66\n",
    "if 47<=n<58 and (n!=0 or n%2==0):\n",
    "    n=chr(n)\n",
    "else:\n",
    "    n=n//5\n",
    "print(n)\n",
    "\n",
    "n=54\n",
    "if 47<=n<58 and (n!=0 or n%2==0):\n",
    "    n=chr(n)\n",
    "else:\n",
    "    n=n//5\n",
    "print(n)\n",
    "    "
   ]
  },
  {
   "cell_type": "code",
   "execution_count": 123,
   "metadata": {},
   "outputs": [
    {
     "name": "stdout",
     "output_type": "stream",
     "text": [
      "{1: 20, 79: 'O'}\n",
      "[127]\n"
     ]
    }
   ],
   "source": [
    "#16)WAP to check whether a given value is less than 125 and in between 47 to 125 or not. if condition is True, to perform store the given \n",
    "# value as key and value as a character into the dict or else to append the value in list and display it.\n",
    "n=79\n",
    "d={1:20}\n",
    "l=[20]\n",
    "if 47<n<125:\n",
    "    d[n]=chr(n)\n",
    "    print(d)\n",
    "else:\n",
    "    l+=[n]\n",
    "    print(l)\n",
    "    \n",
    "n=127\n",
    "d={}\n",
    "l=[20]\n",
    "if 47<n<125:\n",
    "    d[n]=chr(n)\n",
    "    print(d)\n",
    "else:\n",
    "    l+=[n]\n",
    "    print(l)"
   ]
  },
  {
   "cell_type": "code",
   "execution_count": 45,
   "metadata": {},
   "outputs": [
    {
     "name": "stdout",
     "output_type": "stream",
     "text": [
      "g 103\n"
     ]
    }
   ],
   "source": [
    "#17)WAP to check whether a given character is in the alphabet or not. if alphabet, \n",
    "# display the alphabet with character or else display the not alphabet with character.\n",
    "n=\"g\"\n",
    "if 'A'<=n<='Z' or 'a'<=n<='z':\n",
    "    print(n,ord(n))\n",
    "else:\n",
    "    print()\n"
   ]
  },
  {
   "cell_type": "code",
   "execution_count": 47,
   "metadata": {},
   "outputs": [
    {
     "name": "stdout",
     "output_type": "stream",
     "text": [
      "M uppercase\n",
      "$ other character\n"
     ]
    }
   ],
   "source": [
    "#18)WAP to check whether a given character is uppercase or other character. if uppercase,\n",
    "# display the uppercase with character or else display the 'other character' with character.\n",
    "n=\"M\"\n",
    "if 'A'<=n<='Z':\n",
    "    print(n,\"uppercase\")\n",
    "else:\n",
    "    print(n,\"other character\")\n",
    "    \n",
    "    \n",
    "n=\"$\"\n",
    "if 'A'<=n<='Z':\n",
    "    print(n,\"uppercase\")\n",
    "else:\n",
    "    print(n,\"other character\")"
   ]
  },
  {
   "cell_type": "code",
   "execution_count": 49,
   "metadata": {},
   "outputs": [
    {
     "name": "stdout",
     "output_type": "stream",
     "text": [
      "b lowercase\n",
      "* other character\n"
     ]
    }
   ],
   "source": [
    "#19)WAP to check whether a given character is lowercase or other character. if lowercase, \n",
    "# display the lowercase with character or else display the other character with character.\n",
    "n=\"b\"\n",
    "if 'a'<=n<='z':\n",
    "    print(n,\"lowercase\")\n",
    "else:\n",
    "    print(n,\"other character\")\n",
    "    \n",
    "    \n",
    "n=\"*\"\n",
    "if 'a'<=n<='z':\n",
    "    print(n,\"lowercase\")\n",
    "else:\n",
    "    print(n,\"other character\")\n",
    "    \n",
    "    \n"
   ]
  },
  {
   "cell_type": "code",
   "execution_count": 53,
   "metadata": {},
   "outputs": [
    {
     "name": "stdout",
     "output_type": "stream",
     "text": [
      "h\n",
      "103\n"
     ]
    }
   ],
   "source": [
    "#20)WAP to check whether a given character is uppercase or other character. \n",
    "# if uppercase, convert to lowercase .or else display the ascii number.\n",
    "n=\"H\"\n",
    "if 'A'<=n<='Z':\n",
    "    n=n.lower()\n",
    "    print(n)\n",
    "else:\n",
    "    print(ord(n))\n",
    "    \n",
    "n=\"g\"\n",
    "if 'A'<=n<='Z':\n",
    "    n=n.lower()\n",
    "    print(n)\n",
    "else:\n",
    "    print(ord(n))\n",
    "    "
   ]
  },
  {
   "cell_type": "code",
   "execution_count": 55,
   "metadata": {},
   "outputs": [
    {
     "name": "stdout",
     "output_type": "stream",
     "text": [
      "u\n",
      "D\n"
     ]
    }
   ],
   "source": [
    "#21)WAP to check whether the given character is in lowercase or uppercase. If it is in lowercase, convert it into uppercase, \n",
    "# or else it is in uppercase and convert it into lowercase. Display the value.\n",
    "n=\"U\"\n",
    "if 'A'<=n<='Z':\n",
    "    n=n.lower()\n",
    "else:\n",
    "    n=n.upper()\n",
    "print(n)\n",
    "\n",
    "n=\"d\"\n",
    "if 'A'<=n<='Z':\n",
    "    n=n.lower()\n",
    "else:\n",
    "    n=n.upper()\n",
    "print(n)\n"
   ]
  },
  {
   "cell_type": "code",
   "execution_count": 59,
   "metadata": {},
   "outputs": [
    {
     "name": "stdout",
     "output_type": "stream",
     "text": [
      "r\n",
      "skcorumma\n",
      "skco\n"
     ]
    }
   ],
   "source": [
    "#22)WAP to check whether the given string of the first character is a special symbol or not. If a special symbol, \n",
    "# to extract and display the middle character or else to reverse the string and display the half of the string.\n",
    "n=\"@mmurocks\"\n",
    "if not('A'<=n[0]<='Z' or 'a'<=n[0]<='z' or '0'<=n[0]<='9'):\n",
    "    print(n[len(n)//2])\n",
    "else:\n",
    "    n=n[::-1]\n",
    "    print(n[:len(n)//2])\n",
    "    \n",
    "n=\"ammurocks\"\n",
    "if not('A'<=n[0]<='Z' or 'a'<=n[0]<='z' or '0'<=n[0]<='9'):\n",
    "    print(n[len(n)//2])\n",
    "else:\n",
    "    n=n[::-1]\n",
    "    print(n)\n",
    "    print(n[:len(n)//2])"
   ]
  },
  {
   "cell_type": "code",
   "execution_count": 60,
   "metadata": {},
   "outputs": [
    {
     "name": "stdout",
     "output_type": "stream",
     "text": [
      "VOWEL\n",
      "CONSTANT\n"
     ]
    }
   ],
   "source": [
    "#23)WAP to check whether the input character is a vowel or not. \n",
    "# If it is vowel print ‘VOWEL’ along with that character, if it is not just print ‘CONSONANT’.\n",
    "n=\"e\"\n",
    "if n in \"aeiouAEIOU\":\n",
    "    print(\"VOWEL\")\n",
    "else:\n",
    "    print(\"CONSTANT\")\n",
    "    \n",
    "n=\"S\"\n",
    "if n in \"aeiouAEIOU\":\n",
    "    print(\"VOWEL\")\n",
    "else:\n",
    "    print(\"CONSTANT\")"
   ]
  },
  {
   "cell_type": "code",
   "execution_count": 62,
   "metadata": {},
   "outputs": [
    {
     "name": "stdout",
     "output_type": "stream",
     "text": [
      "f\n",
      "g\n"
     ]
    }
   ],
   "source": [
    "#24)WAP to check whether a given character is a vowel or consonant. if vowel, \n",
    "# to print the next character of a given character or else print previous characters.\n",
    "n=\"e\"\n",
    "if n in \"aeiouAEIOU\":\n",
    "    print(chr(ord(n)+1))\n",
    "else:\n",
    "    print(chr(ord(n)-1))\n",
    "    \n",
    "n=\"h\"\n",
    "if n in \"aeiouAEIOU\":\n",
    "    print(chr(ord(n)+1))\n",
    "else:\n",
    "    print(chr(ord(n)-1))"
   ]
  },
  {
   "cell_type": "code",
   "execution_count": 64,
   "metadata": {},
   "outputs": [
    {
     "name": "stdout",
     "output_type": "stream",
     "text": [
      "r\n",
      "skcorumma\n"
     ]
    }
   ],
   "source": [
    "#25)WAP to check whether a given string of first character is alphabet or not \n",
    "# if the alphabet prints, reverse the string or else print the middle character.\n",
    "n=\"@mmurocks\"\n",
    "if ('A'<=n[0]<='Z' or 'a'<=n[0]<='z' or '0'<=n[0]<='9'):\n",
    "    print(n[::-1])\n",
    "else:\n",
    "    print(n[len(n)//2])\n",
    "    \n",
    "n=\"ammurocks\"\n",
    "if ('A'<=n[0]<='Z' or 'a'<=n[0]<='z' or '0'<=n[0]<='9'):\n",
    "    print(n[::-1])\n",
    "else:\n",
    "    print(n[len(n)//2])"
   ]
  },
  {
   "cell_type": "code",
   "execution_count": 65,
   "metadata": {},
   "outputs": [
    {
     "name": "stdout",
     "output_type": "stream",
     "text": [
      "u\n"
     ]
    }
   ],
   "source": [
    "#26)WAP to check whether the given input character is uppercase or lowercase. \n",
    "# If the input character is upper case convert into lower case and vice versa.\n",
    "n=\"U\"\n",
    "if 'A'<=n<='Z':\n",
    "    n=n.lower()\n",
    "else:\n",
    "    n=n.upper()\n",
    "print(n)\n",
    "\n",
    "n=\"d\"\n",
    "if 'A'<=n<='Z':\n",
    "    n=n.lower()\n",
    "else:\n",
    "    n=n.upper()\n",
    "print(n)"
   ]
  },
  {
   "cell_type": "code",
   "execution_count": 70,
   "metadata": {},
   "outputs": [
    {
     "name": "stdout",
     "output_type": "stream",
     "text": [
      "uru\n",
      "Ri\n"
     ]
    }
   ],
   "source": [
    "#27)WAP to check whether a given string is less than 3 characters, \n",
    "# to print the entire string otherwise to print after third positions to the remaining string.\n",
    "n=\"Rimuru\"\n",
    "if 1<=len(n)<3:\n",
    "    print(n)\n",
    "else:\n",
    "    n=n[3:]\n",
    "    print(n)\n",
    "    \n",
    "n=\"Ri\"\n",
    "if 1<=len(n)<3:\n",
    "    print(n)\n",
    "else:\n",
    "    n=n[3:]\n",
    "    print(n)"
   ]
  },
  {
   "cell_type": "code",
   "execution_count": 75,
   "metadata": {},
   "outputs": [
    {
     "name": "stdout",
     "output_type": "stream",
     "text": [
      "kirito bye\n",
      "kirigayakazuto bye\n"
     ]
    }
   ],
   "source": [
    "#28)WAP to check whether a given length of the string is even or not. if even, \n",
    "# to append the new string called \"bye\" or else print the first and last characters.\n",
    "n=\"kirito\"\n",
    "if len(n)%2==0:\n",
    "    n+=\" bye\"\n",
    "    print(n)\n",
    "else:\n",
    "    n=n[0]+n[-1]\n",
    "    print(n)\n",
    "    \n",
    "n=\"kirigaya kazuto\"\n",
    "if len(n)%2==0:\n",
    "    n+=\" bye\"\n",
    "    print(n)\n",
    "else:\n",
    "    n=n[0]+n[-1]\n",
    "    print(n)"
   ]
  },
  {
   "cell_type": "code",
   "execution_count": 83,
   "metadata": {},
   "outputs": [
    {
     "name": "stdout",
     "output_type": "stream",
     "text": [
      "ight yagam\n",
      "haii primodial\n"
     ]
    }
   ],
   "source": [
    "#29)WAP to check whether a given length of the string is odd or not. if odd, \n",
    "# to append the new string(\"Haii\") from the starting of the given string, \n",
    "# or else to avoid the starting character and ending character of the given string and to display the remaining characters.\n",
    "n=\"light yagami\"\n",
    "if len(n)%2!=0:\n",
    "    n=\"haii \"+n\n",
    "    \n",
    "else:\n",
    "    n=n[1:len(n)-1]\n",
    "print(n)\n",
    "\n",
    "n=\"primodial\"\n",
    "if len(n)%2!=0:\n",
    "    n=\"haii \"+n\n",
    "    \n",
    "else:\n",
    "    n=n[1:len(n)-1]\n",
    "print(n)"
   ]
  },
  {
   "cell_type": "code",
   "execution_count": 105,
   "metadata": {},
   "outputs": [
    {
     "name": "stdout",
     "output_type": "stream",
     "text": [
      "olbaid!\n",
      "maker\n"
     ]
    }
   ],
   "source": [
    "#30)WAP to check whether the last of the given string is a special character or not, \n",
    "# if the special character prints reverse the string except the last character \n",
    "# or else to check if the length of the string is odd or not,\n",
    "# if odd to extract the middle character to the end of the string.\n",
    "n=\"diablo\"\n",
    "if not('A'<=n[-1]<='Z' or 'a'<=n[-1]<='z' or '0'<=n[-1]<='9'):\n",
    "    n=n[-2::-1]+n[-1]\n",
    "    print(n)\n",
    "elif len(n)%2!=0 :\n",
    "    n=n[len(n)//2:]\n",
    "    print(n)\n",
    "    \n",
    "n=\"diablo!\"\n",
    "if not('A'<=n[-1]<='Z' or 'a'<=n[-1]<='z' or '0'<=n[-1]<='9'):\n",
    "    n=n[-2::-1]+n[-1]\n",
    "    print(n)\n",
    "elif len(n)%2!=0:\n",
    "    n=n[len(n)//2:]\n",
    "    print(n)\n",
    "    \n",
    "n=\"kingmaker\"\n",
    "if not('A'<=n[-1]<='Z' or 'a'<=n[-1]<='z' or '0'<=n[-1]<='9'):\n",
    "    n=n[-2::-1]+n[-1]\n",
    "    print(n)\n",
    "elif len(n)%2!=0:\n",
    "    n=n[len(n)//2:]\n",
    "    print(n)\n",
    "    "
   ]
  },
  {
   "cell_type": "code",
   "execution_count": 120,
   "metadata": {},
   "outputs": [
    {
     "name": "stdout",
     "output_type": "stream",
     "text": [
      "leap year\n",
      "not leap year\n"
     ]
    }
   ],
   "source": [
    "#31)WAP to check whether a given year is a leap year or not. \n",
    "# if leap year, print leap year or else not a leap year.\n",
    "y=1900\n",
    "if (y%100==0 and y%400==0) or y%4==0:\n",
    "    print(\"leap year\")\n",
    "else:\n",
    "    print(\"not leap year\")\n",
    "\n",
    "\n",
    "\n",
    "if y%4==0:\n",
    "    if y%100==0: \n",
    "        if y%400==0:\n",
    "            print(\"leap year\")\n",
    "        else:\n",
    "            print(\"not leap year\")\n",
    "    else:\n",
    "        print(\"leap year\")\n",
    "else:\n",
    "    print(\"not leap year\")"
   ]
  },
  {
   "cell_type": "code",
   "execution_count": 10,
   "metadata": {},
   "outputs": [
    {
     "name": "stdout",
     "output_type": "stream",
     "text": [
      "60 is greatest\n",
      "90 is greatest\n"
     ]
    }
   ],
   "source": [
    "#32)WAP to find out the greatest of two numbers and display the greatest number. \n",
    "# if the greatest number, display the greatest message with value.\n",
    "n=40\n",
    "m=60\n",
    "if n>m:\n",
    "    print(f\"{n} is greatest\")\n",
    "else:\n",
    "    print(f\"{m} is greatest\")\n",
    "    \n",
    "n=90\n",
    "m=60\n",
    "if n>m:\n",
    "    print(f\"{n} is greatest\")\n",
    "else:\n",
    "    print(f\"{m} is greatest\")"
   ]
  },
  {
   "cell_type": "code",
   "execution_count": 128,
   "metadata": {},
   "outputs": [
    {
     "name": "stdout",
     "output_type": "stream",
     "text": [
      "value present\n",
      "not present\n",
      "value present\n"
     ]
    }
   ],
   "source": [
    "#33)WAP to check whether the given value is present inside the given collection or not.\n",
    "# if value is present, display the value is available or else the value is not present.\n",
    "l=[1,2,3,4,5,6,7,8,9,0]\n",
    "n=5\n",
    "if n in l:\n",
    "    print(\"value present\")\n",
    "else:\n",
    "    print('not present')\n",
    "    \n",
    "l=[1,2,3,4,5,6,7,8,9,0]\n",
    "n=11\n",
    "if n in l:\n",
    "    print(\"value present\")\n",
    "else:\n",
    "    print('not present')\n",
    "    \n",
    "l=\"1,2,3,4,5,6,7,8,9,0\"\n",
    "n=\"1,2\"\n",
    "if n in l:\n",
    "    print(\"value present\")\n",
    "else:\n",
    "    print('not present')\n",
    "    "
   ]
  },
  {
   "cell_type": "code",
   "execution_count": 30,
   "metadata": {},
   "outputs": [
    {
     "name": "stdout",
     "output_type": "stream",
     "text": [
      "zragonballd\n",
      "drdrdr\n"
     ]
    }
   ],
   "source": [
    "#34)WAP whether a given string, if string length is more than 2, then \n",
    "# it displays a new string with the first and last characters switched, \n",
    "# otherwise the display the 3 copies of given string.\n",
    "n=\"dragonballz\"\n",
    "if len(n)>2:\n",
    "    print( n[-1]+n[1:len(n)-1]+n[0])\n",
    "else:\n",
    "    print(n*3)\n",
    "    \n",
    "n=\"dr\"\n",
    "if len(n)>2:\n",
    "    print( n[-1]+n[1:len(n)-1]+n[0])\n",
    "else:\n",
    "    print(n*3)\n"
   ]
  },
  {
   "cell_type": "code",
   "execution_count": 37,
   "metadata": {},
   "outputs": [
    {
     "name": "stdout",
     "output_type": "stream",
     "text": [
      "[0.3333333333333333, 2, 3, 4, 5, 6, 7, 8, 9, -11]\n",
      "100\n"
     ]
    }
   ],
   "source": [
    "#35)WAP to check whether a given value is a list and first and last values should be integer \n",
    "# if condition is satisfied first value is True division by 3 and perform the bitwise not \n",
    "# for last value and those result values are stored in same positions in given list or else, \n",
    "# to perform length of the collection power by 2 and display value.\n",
    "l=[1,2,3,4,5,6,7,8,9,10]\n",
    "if type(l)==list and type(l[0])==int and type(l[-1])==int:\n",
    "    l[0]=l[0]/3\n",
    "    l[-1]=~(l[-1])\n",
    "    print(l)\n",
    "else:\n",
    "    print(len(l)**2)\n",
    "    \n",
    "l=[\"a\",2,3,4,5,6,7,8,9,10]\n",
    "if type(l)==list and type(l[0])==int and type(l[-1])==int:\n",
    "    l[0]=l[0]/3\n",
    "    l[-1]=~(l[-1])\n",
    "    print(l)\n",
    "else:\n",
    "    print(len(l)**2)\n",
    "    "
   ]
  },
  {
   "cell_type": "code",
   "execution_count": 47,
   "metadata": {},
   "outputs": [
    {
     "name": "stdout",
     "output_type": "stream",
     "text": [
      "attack o mikasa n titans\n",
      "attack attack attack \n"
     ]
    }
   ],
   "source": [
    "#36)WAP to check whether a given value is a string or not and length of the value should be more than 7, \n",
    "# if condition is satisfied to append the new string in the middle of the given string or else to perform\n",
    "# the replications with 3 and display the result.\n",
    "n=\"attack on titans\"\n",
    "if type(n)==str and len(n)>7:\n",
    "    n=n[:len(n)//2]+\" mikasa \"+n[len(n)//2:]\n",
    "    print(n)\n",
    "else:\n",
    "    print(n*3)\n",
    "    \n",
    "n=\"attack \"\n",
    "if type(n)==str and len(n)>7:\n",
    "    n=n[:len(n)//2]+\" mikasa \"+n[len(n)//2:]\n",
    "    print(n)\n",
    "else:\n",
    "    print(n*3)"
   ]
  },
  {
   "cell_type": "code",
   "execution_count": 133,
   "metadata": {},
   "outputs": [
    {
     "name": "stdout",
     "output_type": "stream",
     "text": [
      "dete\n",
      "ipenoiece\n"
     ]
    }
   ],
   "source": [
    "#37)WAP to check if the given string of first and second character should be sequence or not. \n",
    "# if the sequence prints the first, second and last two characters, \n",
    "# or else the first half string is reversed and the remaining half string should be normal and display it.\n",
    "n=\"deathnote\"\n",
    "if chr(ord(n[0]))==chr(ord(n[1])-1):\n",
    "    n=n[0:2]+n[len(n)-2:]\n",
    "    print(n)\n",
    "else:\n",
    "    n=n[:len(n)//2:-1]+n[len(n)//2:]\n",
    "    print(n)\n",
    "    \n",
    "n=\"onepiece\"\n",
    "if chr(ord(n[0]))==chr(ord(n[1])-1):\n",
    "    n=n[0:2]+n[len(n)-2:]\n",
    "    print(n)\n",
    "else:\n",
    "    n=n[len(n)//2::-1]+n[len(n)//2::1]\n",
    "    print(n)\n",
    "    "
   ]
  },
  {
   "cell_type": "code",
   "execution_count": null,
   "metadata": {},
   "outputs": [],
   "source": [
    "#38)WAP to check whether a given value is present inside the collection or not. \n",
    "# If present, print the value or else print value is not found.\n",
    "l=\"1,2,3,4,5,6,7,8,9,0\"\n",
    "n=\"1,2\"\n",
    "if n in l:\n",
    "    print(n)\n",
    "else:\n",
    "    print('value is not found')"
   ]
  }
 ],
 "metadata": {
  "kernelspec": {
   "display_name": "Python 3",
   "language": "python",
   "name": "python3"
  },
  "language_info": {
   "codemirror_mode": {
    "name": "ipython",
    "version": 3
   },
   "file_extension": ".py",
   "mimetype": "text/x-python",
   "name": "python",
   "nbconvert_exporter": "python",
   "pygments_lexer": "ipython3",
   "version": "3.10.11"
  },
  "orig_nbformat": 4
 },
 "nbformat": 4,
 "nbformat_minor": 2
}
