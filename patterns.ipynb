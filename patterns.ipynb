{
 "cells": [
  {
   "cell_type": "code",
   "execution_count": 16,
   "metadata": {},
   "outputs": [
    {
     "name": "stdout",
     "output_type": "stream",
     "text": [
      "0  1  2  3  4  \n",
      "0  1  2  3  4  \n",
      "0  1  2  3  4  \n",
      "0  1  2  3  4  \n",
      "0  1  2  3  4  \n"
     ]
    }
   ],
   "source": [
    "n=5\n",
    "for i in range(n):\n",
    "    for j in range(n):\n",
    "        print(j,end='  ')\n",
    "    print()"
   ]
  },
  {
   "cell_type": "code",
   "execution_count": 18,
   "metadata": {},
   "outputs": [
    {
     "name": "stdout",
     "output_type": "stream",
     "text": [
      "@  \n",
      "@  @  \n",
      "@  @  @  \n",
      "@  @  @  @  \n",
      "@  @  @  @  @  \n"
     ]
    }
   ],
   "source": [
    "n=5\n",
    "for i in range(n):\n",
    "    for j in range(i+1):\n",
    "        print(\"@\",end=\"  \")\n",
    "    print()\n",
    "        "
   ]
  },
  {
   "cell_type": "code",
   "execution_count": 19,
   "metadata": {},
   "outputs": [
    {
     "name": "stdout",
     "output_type": "stream",
     "text": [
      "*  *  *  *  *  \n",
      "*  *  *  *  \n",
      "*  *  *  \n",
      "*  *  \n",
      "*  \n"
     ]
    }
   ],
   "source": [
    "n=5\n",
    "for i in range(n):\n",
    "    for j in range(i,n):\n",
    "        print(\"*\",end=\"  \")\n",
    "    print()"
   ]
  },
  {
   "cell_type": "code",
   "execution_count": 25,
   "metadata": {},
   "outputs": [
    {
     "name": "stdout",
     "output_type": "stream",
     "text": [
      "               *  \n",
      "            *  *  \n",
      "         *  *  *  \n",
      "      *  *  *  *  \n",
      "   *  *  *  *  *  \n"
     ]
    }
   ],
   "source": [
    "n=5\n",
    "for i in range(n):\n",
    "    for j in range(i,n):\n",
    "        print(\" \",end=\"  \")\n",
    "    for j in range(i+1):\n",
    "        print(\"*\",end=\"  \")\n",
    "    print()"
   ]
  },
  {
   "cell_type": "code",
   "execution_count": 29,
   "metadata": {},
   "outputs": [
    {
     "name": "stdout",
     "output_type": "stream",
     "text": [
      "               *  \n",
      "            *  *  *  \n",
      "         *  *  *  *  *  \n",
      "      *  *  *  *  *  *  *  \n",
      "   *  *  *  *  *  *  *  *  *  \n"
     ]
    }
   ],
   "source": [
    "n=5\n",
    "for i in range(n):\n",
    "    for j in range(i,n):\n",
    "        print(\" \",end=\"  \")\n",
    "    for j in range(i):\n",
    "        print(\"*\",end=\"  \")\n",
    "    for j in range(i+1):\n",
    "        print(\"*\",end=\"  \")\n",
    "    print()"
   ]
  },
  {
   "cell_type": "code",
   "execution_count": 42,
   "metadata": {},
   "outputs": [
    {
     "name": "stdout",
     "output_type": "stream",
     "text": [
      "   *  *  *  *  *  *  *  *  *  \n",
      "      *  *  *  *  *  *  *  \n",
      "         *  *  *  *  *  \n",
      "            *  *  *  \n",
      "               *  \n"
     ]
    }
   ],
   "source": [
    "n=5\n",
    "for i in range(n):\n",
    "    for j in range(i+1):\n",
    "        print(\" \",end=\"  \")\n",
    "    for j in range(i,n):\n",
    "        print(\"*\",end=\"  \")\n",
    "    for j in range(i,n-1):\n",
    "        print(\"*\",end=\"  \")\n",
    "    print()"
   ]
  },
  {
   "cell_type": "code",
   "execution_count": 58,
   "metadata": {},
   "outputs": [
    {
     "name": "stdout",
     "output_type": "stream",
     "text": [
      "               *  \n",
      "            *  *  *  \n",
      "         *  *  *  *  *  \n",
      "      *  *  *  *  *  *  *  \n",
      "   *  *  *  *  *  *  *  *  *  \n",
      "      *  *  *  *  *  *  *  \n",
      "         *  *  *  *  *  \n",
      "            *  *  *  \n",
      "               *  \n"
     ]
    }
   ],
   "source": [
    "n=5\n",
    "for i in range(n-1):\n",
    "    for j in range(i,n):\n",
    "        print(\" \",end=\"  \")\n",
    "    for j in range(i+1):\n",
    "        print(\"*\",end=\"  \")\n",
    "    for j in range(i):\n",
    "        print(\"*\",end=\"  \")\n",
    "    print()\n",
    "for i in range(n):\n",
    "    for j in range(i+1):\n",
    "        print(\" \",end=\"  \")\n",
    "    for j in range(i,n-1):\n",
    "        print(\"*\",end=\"  \")\n",
    "    for j in range(i,n):\n",
    "        print(\"*\",end=\"  \")\n",
    "    print()"
   ]
  },
  {
   "cell_type": "code",
   "execution_count": 3,
   "metadata": {},
   "outputs": [
    {
     "name": "stdout",
     "output_type": "stream",
     "text": [
      "               *  \n",
      "            *  *  *  \n",
      "         *  *  *  *  *  \n",
      "      *  *  *  *  *  *  *  \n",
      "   *  *  *  *  *  *  *  *  *  \n",
      "      *  *  *  *  *  *  *  \n",
      "         *  *  *  *  *  \n",
      "            *  *  *  \n",
      "               *  \n"
     ]
    }
   ],
   "source": [
    "n=5\n",
    "for i in range(n-1):\n",
    "    for j in range(i,n):\n",
    "        print(\" \",end=\"  \")\n",
    "    for j in range(i+1):\n",
    "        print(\"*\",end=\"  \")\n",
    "    for j in range(i):\n",
    "        print(\"*\",end=\"  \")\n",
    "    print()\n",
    "for i in range(n):\n",
    "    for j in range(i+1):\n",
    "        print(\" \",end=\"  \")\n",
    "    for j in range(i,n-1):\n",
    "        print(\"*\",end=\"  \")\n",
    "    for j in range(i,n):\n",
    "        print(\"*\",end=\"  \")\n",
    "    print()"
   ]
  },
  {
   "cell_type": "code",
   "execution_count": 6,
   "metadata": {},
   "outputs": [
    {
     "name": "stdout",
     "output_type": "stream",
     "text": [
      "              *   \n",
      "            *   *   \n",
      "          *   *   *   \n",
      "        *   *   *   *   \n",
      "      *   *   *   *   *   \n",
      "    *   *   *   *   *   *   \n"
     ]
    }
   ],
   "source": [
    "n=6\n",
    "for i in range(n):\n",
    "    print(\"  \"*(n-i),end=\"  \")\n",
    "    for j in range(i+1):\n",
    "        print(\"*\",end=\"   \")\n",
    "    print()\n"
   ]
  },
  {
   "cell_type": "code",
   "execution_count": 18,
   "metadata": {},
   "outputs": [
    {
     "name": "stdout",
     "output_type": "stream",
     "text": [
      "f f f f f \n",
      "f f f f \n",
      "f f f \n",
      "f f \n",
      "f \n"
     ]
    }
   ],
   "source": [
    "n=5\n",
    "for i in range(n):\n",
    "    for j in range(n-i):\n",
    "        print(\"f\",end=\" \")\n",
    "    print()"
   ]
  },
  {
   "cell_type": "code",
   "execution_count": 90,
   "metadata": {},
   "outputs": [
    {
     "name": "stdout",
     "output_type": "stream",
     "text": [
      "*  \n",
      "*  *  \n",
      "*  *  *  \n",
      "*  *  *  *  \n",
      "*  *  *  *  *  \n",
      "*  *  *  *  \n",
      "*  *  *  \n",
      "*  *  \n",
      "*  \n",
      "\n"
     ]
    }
   ],
   "source": [
    "n=5\n",
    "for i in range(n):\n",
    "    for j in range(i+1):\n",
    "        print(\"*\",end=\"  \")\n",
    "    print()\n",
    "for i in range(n):\n",
    "    for j in range(i,n-1):\n",
    "        print(\"*\",end=\"  \")\n",
    "    print()\n",
    "    "
   ]
  },
  {
   "cell_type": "code",
   "execution_count": 96,
   "metadata": {},
   "outputs": [
    {
     "name": "stdout",
     "output_type": "stream",
     "text": [
      "*                          *  \n",
      "*  *                    *  *  \n",
      "*  *  *              *  *  *  \n",
      "*  *  *  *        *  *  *  *  \n",
      "*  *  *  *  *  *  *  *  *  *  \n",
      "*  *  *  *        *  *  *  *  \n",
      "*  *  *              *  *  *  \n",
      "*  *                    *  *  \n",
      "*                          *  \n",
      "                              \n"
     ]
    }
   ],
   "source": [
    "n=5\n",
    "for i in range(n):\n",
    "    for j in range(i+1):\n",
    "        print(\"*\",end=\"  \")\n",
    "    \n",
    "    for j in range(i,n-1):\n",
    "        print(\" \",end=\"  \")\n",
    "    for j in range(i,n-1):\n",
    "        print(\" \",end=\"  \")\n",
    "    for j in range(i+1):\n",
    "        print(\"*\",end=\"  \")\n",
    "    print()\n",
    "for i in range(n):\n",
    "    for j in range(i,n-1):\n",
    "        print(\"*\",end=\"  \")\n",
    "    \n",
    "    for j in range(i+1):\n",
    "        print(\" \",end=\"  \")\n",
    "    for j in range(i+1):\n",
    "        print(\" \",end=\"  \")\n",
    "    for j in range(i,n-1):\n",
    "        print(\"*\",end=\"  \")\n",
    "    print()"
   ]
  }
 ],
 "metadata": {
  "kernelspec": {
   "display_name": "Python 3",
   "language": "python",
   "name": "python3"
  },
  "language_info": {
   "codemirror_mode": {
    "name": "ipython",
    "version": 3
   },
   "file_extension": ".py",
   "mimetype": "text/x-python",
   "name": "python",
   "nbconvert_exporter": "python",
   "pygments_lexer": "ipython3",
   "version": "3.10.11"
  },
  "orig_nbformat": 4
 },
 "nbformat": 4,
 "nbformat_minor": 2
}
